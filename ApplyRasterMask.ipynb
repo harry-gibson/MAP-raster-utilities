{
 "metadata": {
  "name": "",
  "signature": "sha256:f0f034b4d0a96a60a160077b8526ee8e823afc67937cd7c51b3322fcda76f775"
 },
 "nbformat": 3,
 "nbformat_minor": 0,
 "worksheets": [
  {
   "cells": [
    {
     "cell_type": "code",
     "collapsed": false,
     "input": [
      "from osgeo import gdal\n",
      "import numpy as np\n",
      "import os\n",
      "import glob"
     ],
     "language": "python",
     "metadata": {},
     "outputs": [],
     "prompt_number": 1
    },
    {
     "cell_type": "code",
     "collapsed": false,
     "input": [
      "maskRaster = r'G:\\test\\Pf_limits.tif'\n",
      "maskData = gdal.Open(maskRaster)\n",
      "maskBnd = maskData.GetRasterBand(1)\n",
      "maskArr = maskBnd.ReadAsArray()\n",
      "\n",
      "# Stable transmission area = 2\n",
      "maskArr[maskArr!=2]=0\n",
      "maskArr[maskArr==2]=1\n",
      "\n",
      "outFN = r'G:\\test\\Pf_limits_Stable.tif'\n",
      "outDrv = gdal.GetDriverByName('GTiff')\n",
      "creationOpts = [\"COMPRESS=LZW\",\"TILED=YES\",\"SPARSE_OK=TRUE\",\"BIGTIFF=YES\"]\n",
      "outRaster = outDrv.Create(outFN, maskArr.shape[1], maskArr.shape[0], 1, gdal.GDT_Byte,\n",
      "                                  creationOpts)\n",
      "outRaster.SetGeoTransform(maskData.GetGeoTransform())\n",
      "outRaster.SetProjection(maskData.GetProjection())\n",
      "outBand = outRaster.GetRasterBand(1)\n",
      "outBand.SetNoDataValue(0)\n",
      "outBand.WriteArray(maskArr)\n",
      "outRaster = None\n",
      "maskData = None"
     ],
     "language": "python",
     "metadata": {},
     "outputs": []
    },
    {
     "cell_type": "code",
     "collapsed": false,
     "input": [
      "#inFiles = glob.glob(r'\\\\129.67.26.176\\map_data\\ROAD-MAP\\data\\Website_GIS\\Pf_Mapping\\Served_Rasters\\Interventions\\ITN\\*.tif')\n",
      "inFiles = glob.glob(r'\\\\129.67.26.176\\map_data\\ROAD-MAP\\data\\Website_GIS\\Pf_Mapping\\Served_Rasters\\Incidence_actual_annual_means\\*.tif')"
     ],
     "language": "python",
     "metadata": {},
     "outputs": []
    },
    {
     "cell_type": "code",
     "collapsed": false,
     "input": [
      "for f in inFiles:\n",
      "    d = gdal.Open(f)\n",
      "    b = d.GetRasterBand(1)\n",
      "    dt = b.DataType\n",
      "    arr = b.ReadAsArray()\n",
      "    assert arr.shape == maskArr.shape\n",
      "    ndv = b.GetNoDataValue()\n",
      "    if ndv is None:\n",
      "        ndv = -9999\n",
      "        \n",
      "    if np.all(arr==0):\n",
      "        arr[:]=ndv\n",
      "    else:\n",
      "        arr[maskArr!=1]=ndv\n",
      "    \n",
      "    outFN = f.replace(\".tif\", \".stable.tif\")\n",
      "    outRaster = outDrv.Create(outFN, maskArr.shape[1], maskArr.shape[0], 1, b.DataType,\n",
      "                                  creationOpts)\n",
      "    outRaster.SetGeoTransform(d.GetGeoTransform())\n",
      "    outRaster.SetProjection(d.GetProjection())\n",
      "    outBand = outRaster.GetRasterBand(1)\n",
      "    outBand.SetNoDataValue(ndv)\n",
      "    outBand.WriteArray(arr)\n",
      "    d=None\n",
      "    outRaster=None"
     ],
     "language": "python",
     "metadata": {},
     "outputs": []
    }
   ],
   "metadata": {}
  }
 ]
}