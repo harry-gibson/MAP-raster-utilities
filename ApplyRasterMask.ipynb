{
 "cells": [
  {
   "cell_type": "markdown",
   "metadata": {},
   "source": [
    "# Raster masking"
   ]
  },
  {
   "cell_type": "markdown",
   "metadata": {},
   "source": [
    "This notebook contains simple code for applying a limits (clipping) mask to a series of rasters. Effectively it just takes a path to the mask, which must contain values 0 and 1 only, and multiplies all the incoming rasters by it. All the rasters, including the mask, must be of the same size / extent / resolution!"
   ]
  },
  {
   "cell_type": "code",
   "execution_count": 5,
   "metadata": {
    "collapsed": true
   },
   "outputs": [],
   "source": [
    "from osgeo import gdal\n",
    "import numpy as np\n",
    "import os\n",
    "import glob"
   ]
  },
  {
   "cell_type": "code",
   "execution_count": 1,
   "metadata": {
    "collapsed": true
   },
   "outputs": [],
   "source": [
    "from General_Raster_Funcs.TiffManagement import SaveLZWTiff"
   ]
  },
  {
   "cell_type": "code",
   "execution_count": null,
   "metadata": {
    "collapsed": true
   },
   "outputs": [],
   "source": [
    "#inFiles = glob.glob(r'\\\\129.67.26.176\\map_data\\ROAD-MAP\\data\\Website_GIS\\Pf_Mapping\\Served_Rasters\\Interventions\\ITN\\*.tif')\n",
    "inFiles = glob.glob(r'\\\\129.67.26.176\\map_data\\ROAD-MAP\\data\\Website_GIS\\Pf_Mapping\\Served_Rasters\\Incidence_actual_annual_means\\*.tif')"
   ]
  },
  {
   "cell_type": "code",
   "execution_count": 7,
   "metadata": {
    "collapsed": true
   },
   "outputs": [],
   "source": [
    "maskRaster = r'C:\\Temp\\dataprep\\Pf_Limits_2016_NoAPI.tif'\n",
    "maskData = gdal.Open(maskRaster)\n",
    "maskBnd = maskData.GetRasterBand(1)\n",
    "maskArr = maskBnd.ReadAsArray()"
   ]
  },
  {
   "cell_type": "code",
   "execution_count": null,
   "metadata": {
    "collapsed": true
   },
   "outputs": [],
   "source": [
    "for f in inFiles:\n",
    "    d = gdal.Open(f)\n",
    "    b = d.GetRasterBand(1)\n",
    "    dt = b.DataType\n",
    "    arr = b.ReadAsArray()\n",
    "    assert arr.shape == maskArr.shape\n",
    "    ndv = b.GetNoDataValue()\n",
    "    if ndv is None:\n",
    "        ndv = -9999\n",
    "        \n",
    "    if np.all(arr==0):\n",
    "        arr[:]=ndv\n",
    "    else:\n",
    "        arr[maskArr!=1]=ndv\n",
    "    \n",
    "    outFN = f.replace(\".tif\", \".stable.tif\")\n",
    "    \n",
    "    \n",
    "    SaveLZWTiff(arr, ndv, d.GetGeoTransform(), d.GetProjection(), \n",
    "                os.path.dirname(f), \n",
    "                os.path.basename(outFN))"
   ]
  }
 ],
 "metadata": {
  "kernelspec": {
   "display_name": "Python 3",
   "language": "python",
   "name": "python3"
  },
  "language_info": {
   "codemirror_mode": {
    "name": "ipython",
    "version": 3
   },
   "file_extension": ".py",
   "mimetype": "text/x-python",
   "name": "python",
   "nbconvert_exporter": "python",
   "pygments_lexer": "ipython3",
   "version": "3.6.7"
  }
 },
 "nbformat": 4,
 "nbformat_minor": 2
}
