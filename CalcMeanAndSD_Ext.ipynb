{
 "cells": [
  {
   "cell_type": "code",
   "execution_count": 1,
   "metadata": {
    "collapsed": false
   },
   "outputs": [],
   "source": [
    "import glob\n",
    "import rasterio as rio\n",
    "import numpy as np\n",
    "from osgeo import gdal\n",
    "import os\n",
    "from collections import defaultdict"
   ]
  },
  {
   "cell_type": "code",
   "execution_count": 2,
   "metadata": {
    "collapsed": false
   },
   "outputs": [],
   "source": [
    "from General_Raster_Funcs.RasterTiling import getTiles\n",
    "from General_Raster_Funcs.TiffManagement import *"
   ]
  },
  {
   "cell_type": "code",
   "execution_count": 3,
   "metadata": {
    "collapsed": true
   },
   "outputs": [],
   "source": [
    "from MODIS_Raster_Funcs.SynopticData import MonthlyStatCalculator"
   ]
  },
  {
   "cell_type": "markdown",
   "metadata": {},
   "source": [
    "## Set up file locations - edit then run each cell"
   ]
  },
  {
   "cell_type": "code",
   "execution_count": 5,
   "metadata": {
    "collapsed": false
   },
   "outputs": [],
   "source": [
    "inFilePattern = r\"F:\\MOD11A2_Input_Mosaics\\Day\\A2015*.tif\""
   ]
  },
  {
   "cell_type": "code",
   "execution_count": 9,
   "metadata": {
    "collapsed": true
   },
   "outputs": [],
   "source": [
    "tileDir = r\"C:\\temp\\test\\tiles\"\n",
    "outDir = r\"C:\\temp\\test\\merged\"\n",
    "what = \"TestDA\""
   ]
  },
  {
   "cell_type": "code",
   "execution_count": 8,
   "metadata": {
    "collapsed": false
   },
   "outputs": [],
   "source": [
    "# Specify the height of each tile - depends on available memory.\n",
    "# The algorithm needs around idealSlice * fullWidth * 80 bytes of RAM\n",
    "# so with global 1k images (43200px wide), a slice of 7168 needs \n",
    "# around 25Gb RAM.\n",
    "# The rasters have tilesize 256 (or a multiple thereof) so pick a size\n",
    "# that is a multiple of this where possible for most efficient access\n",
    "idealSlice = 7168\n",
    "\n",
    "# alter to suit the images\n",
    "fullWidth = 43200\n",
    "fullHeight = 21600\n",
    "\n",
    "# alter to whatever you want\n",
    "outNdv = -9999\n",
    "\n"
   ]
  },
  {
   "cell_type": "markdown",
   "metadata": {},
   "source": [
    "### Run the following cells unaltered to configure the remaining inputs"
   ]
  },
  {
   "cell_type": "code",
   "execution_count": 4,
   "metadata": {
    "collapsed": false
   },
   "outputs": [],
   "source": [
    "# build a dictionary mapping day of year to month of year, only required for the \n",
    "# day numbers that the 8-daily MODIS data occurs on\n",
    "# generate this in excel with =CONCATENATE(DAYNUM,\":\",MONTH(DAYNUM),\", \")\n",
    "daymonths = {1:1, 9:1, 17:1, 25:1, 33:2, 41:2, 49:2, 57:2, 65:3, 73:3, 81:3, 89:3, 97:4, \n",
    "             105:4, 113:4, 121:4, 129:5, 137:5, 145:5, 153:6, 161:6, 169:6, 177:6, 185:7, \n",
    "             193:7, 201:7, 209:7, 217:8, 225:8, 233:8, 241:8, 249:9, 257:9, 265:9, 273:9, \n",
    "             281:10, 289:10, 297:10, 305:10, 313:11, 321:11, 329:11, 337:12, 345:12, 353:12, \n",
    "             361:12}\n",
    "# swap to build list of days for each month\n",
    "monthDays = defaultdict(list)\n",
    "for d,m in daymonths.iteritems():\n",
    "    monthDays[m].append(d)\n",
    "    "
   ]
  },
  {
   "cell_type": "code",
   "execution_count": 6,
   "metadata": {
    "collapsed": false
   },
   "outputs": [],
   "source": [
    "# build a list of MODIS files available for each day-of-year, based on the \n",
    "# year / julian day that's encoded in the filenames such as \"A2015009_LST_Day.tif\"\n",
    "years = defaultdict(int)\n",
    "days = defaultdict(int)\n",
    "dayfiles = defaultdict(list)\n",
    "for fn in glob.glob(inFilePattern):\n",
    "    datestr = os.path.basename(fn).split('_')[0][1:]\n",
    "    yr = int(datestr[:4])\n",
    "    years[yr] +=1\n",
    "    day = int(datestr[4:])\n",
    "    days[day] +=1\n",
    "    month = daymonths[day]\n",
    "    dayfiles[day].append(fn)\n",
    "\n",
    "    "
   ]
  },
  {
   "cell_type": "code",
   "execution_count": 7,
   "metadata": {
    "collapsed": false
   },
   "outputs": [],
   "source": [
    "globalGT = None\n",
    "globalProj = None\n",
    "stats = ['Count', 'Mean', 'SD']\n",
    "# work out the tiles we'll work in. We'll work with full-width slices for \n",
    "# now. \n",
    "slices = sorted(list(set([s[1] for s in getTiles(fullWidth, fullHeight, idealSlice)])))"
   ]
  },
  {
   "cell_type": "code",
   "execution_count": 10,
   "metadata": {
    "collapsed": true
   },
   "outputs": [],
   "source": [
    "fnGetter = lambda what, when, stat, where:(\n",
    "    str(what) + \"_\" + str(when) + \"_\" + str(stat)\n",
    "    + \"_\" + str(where)+ \".tif\")"
   ]
  },
  {
   "cell_type": "markdown",
   "metadata": {},
   "source": [
    "## Run this cell to calculate the results and save to tiled tiffs"
   ]
  },
  {
   "cell_type": "code",
   "execution_count": 11,
   "metadata": {
    "collapsed": false
   },
   "outputs": [
    {
     "name": "stdout",
     "output_type": "stream",
     "text": [
      "(0, 5400)\n",
      "\tMonth 1\n",
      "\t\tDay 1\n",
      "\t\tDay 9\n",
      "\t\tDay 25\n",
      "\t\tDay 17\n",
      "\tMonth 2\n",
      "\t\tDay 33\n",
      "\t\tDay 49\n",
      "\t\tDay 57\n",
      "\t\tDay 41\n",
      "\tMonth 3\n",
      "\t\tDay 65\n",
      "\t\tDay 81\n",
      "\t\tDay 89\n",
      "\t\tDay 73\n",
      "\tMonth 4\n",
      "\t\tDay 97\n",
      "\t\tDay 105\n",
      "\t\tDay 113\n",
      "\t\tDay 121\n",
      "\tMonth 5\n",
      "\t\tDay 129\n",
      "\t\tDay 137\n",
      "\t\tDay 145\n",
      "\tMonth 6\n",
      "\t\tDay 153\n",
      "\t\tDay 161\n",
      "\t\tDay 169\n",
      "\t\tDay 177\n",
      "\tMonth 7\n",
      "\t\tDay 185\n",
      "\t\tDay 193\n",
      "\t\tDay 201\n",
      "\t\tDay 209\n",
      "\tMonth 8\n",
      "\t\tDay 217\n",
      "\t\tDay 225\n",
      "\t\tDay 233\n",
      "\t\tDay 241\n",
      "\tMonth 9\n",
      "\t\tDay 257\n",
      "\t\tDay 273\n",
      "\t\tDay 265\n",
      "\t\tDay 249\n",
      "\tMonth 10\n",
      "\t\tDay 297\n",
      "\t\tDay 305\n",
      "\t\tDay 281\n",
      "\t\tDay 289\n",
      "\tMonth 11\n",
      "\t\tDay 329\n",
      "\t\tDay 313\n",
      "\t\tDay 321\n",
      "\tMonth 12\n",
      "\t\tDay 345\n",
      "\t\tDay 353\n",
      "\t\tDay 361\n",
      "\t\tDay 337\n",
      "(5400, 10800)\n",
      "\tMonth 1\n",
      "\t\tDay 1\n",
      "\t\tDay 9\n",
      "\t\tDay 25\n",
      "\t\tDay 17\n",
      "\tMonth 2\n",
      "\t\tDay 33\n",
      "\t\tDay 49\n",
      "\t\tDay 57\n",
      "\t\tDay 41\n",
      "\tMonth 3\n",
      "\t\tDay 65\n",
      "\t\tDay 81\n",
      "\t\tDay 89\n",
      "\t\tDay 73\n",
      "\tMonth 4\n",
      "\t\tDay 97\n",
      "\t\tDay 105\n",
      "\t\tDay 113\n",
      "\t\tDay 121\n",
      "\tMonth 5\n",
      "\t\tDay 129\n",
      "\t\tDay 137\n",
      "\t\tDay 145\n",
      "\tMonth 6\n",
      "\t\tDay 153\n",
      "\t\tDay 161\n",
      "\t\tDay 169\n",
      "\t\tDay 177\n",
      "\tMonth 7\n",
      "\t\tDay 185\n",
      "\t\tDay 193\n",
      "\t\tDay 201\n",
      "\t\tDay 209\n",
      "\tMonth 8\n",
      "\t\tDay 217\n",
      "\t\tDay 225\n",
      "\t\tDay 233\n",
      "\t\tDay 241\n",
      "\tMonth 9\n",
      "\t\tDay 257\n",
      "\t\tDay 273\n",
      "\t\tDay 265\n",
      "\t\tDay 249\n",
      "\tMonth 10\n",
      "\t\tDay 297\n",
      "\t\tDay 305\n",
      "\t\tDay 281\n",
      "\t\tDay 289\n",
      "\tMonth 11\n",
      "\t\tDay 329\n",
      "\t\tDay 313\n",
      "\t\tDay 321\n",
      "\tMonth 12\n",
      "\t\tDay 345\n",
      "\t\tDay 353\n",
      "\t\tDay 361\n",
      "\t\tDay 337\n",
      "(10800, 16200)\n",
      "\tMonth 1\n",
      "\t\tDay 1\n",
      "\t\tDay 9\n",
      "\t\tDay 25\n",
      "\t\tDay 17\n",
      "\tMonth 2\n",
      "\t\tDay 33\n",
      "\t\tDay 49\n",
      "\t\tDay 57\n",
      "\t\tDay 41\n",
      "\tMonth 3\n",
      "\t\tDay 65\n",
      "\t\tDay 81\n",
      "\t\tDay 89\n",
      "\t\tDay 73\n",
      "\tMonth 4\n",
      "\t\tDay 97\n",
      "\t\tDay 105\n",
      "\t\tDay 113\n",
      "\t\tDay 121\n",
      "\tMonth 5\n",
      "\t\tDay 129\n",
      "\t\tDay 137\n",
      "\t\tDay 145\n",
      "\tMonth 6\n",
      "\t\tDay 153\n",
      "\t\tDay 161\n",
      "\t\tDay 169\n",
      "\t\tDay 177\n",
      "\tMonth 7\n",
      "\t\tDay 185\n",
      "\t\tDay 193\n",
      "\t\tDay 201\n",
      "\t\tDay 209\n",
      "\tMonth 8\n",
      "\t\tDay 217\n",
      "\t\tDay 225\n",
      "\t\tDay 233\n",
      "\t\tDay 241\n",
      "\tMonth 9\n",
      "\t\tDay 257\n",
      "\t\tDay 273\n",
      "\t\tDay 265\n",
      "\t\tDay 249\n",
      "\tMonth 10\n",
      "\t\tDay 297\n",
      "\t\tDay 305\n",
      "\t\tDay 281\n",
      "\t\tDay 289\n",
      "\tMonth 11\n",
      "\t\tDay 329\n",
      "\t\tDay 313\n",
      "\t\tDay 321\n",
      "\tMonth 12\n",
      "\t\tDay 345\n",
      "\t\tDay 353\n",
      "\t\tDay 361\n",
      "\t\tDay 337\n",
      "(16200, 21600)\n",
      "\tMonth 1\n",
      "\t\tDay 1\n",
      "\t\tDay 9\n",
      "\t\tDay 25\n",
      "\t\tDay 17\n",
      "\tMonth 2\n",
      "\t\tDay 33\n",
      "\t\tDay 49\n",
      "\t\tDay 57\n",
      "\t\tDay 41\n",
      "\tMonth 3\n",
      "\t\tDay 65\n",
      "\t\tDay 81\n",
      "\t\tDay 89\n",
      "\t\tDay 73\n",
      "\tMonth 4\n",
      "\t\tDay 97\n",
      "\t\tDay 105\n",
      "\t\tDay 113\n",
      "\t\tDay 121\n",
      "\tMonth 5\n",
      "\t\tDay 129\n",
      "\t\tDay 137\n",
      "\t\tDay 145\n",
      "\tMonth 6\n",
      "\t\tDay 153\n",
      "\t\tDay 161\n",
      "\t\tDay 169\n",
      "\t\tDay 177\n",
      "\tMonth 7\n",
      "\t\tDay 185\n",
      "\t\tDay 193\n",
      "\t\tDay 201\n",
      "\t\tDay 209\n",
      "\tMonth 8\n",
      "\t\tDay 217\n",
      "\t\tDay 225\n",
      "\t\tDay 233\n",
      "\t\tDay 241\n",
      "\tMonth 9\n",
      "\t\tDay 257\n",
      "\t\tDay 273\n",
      "\t\tDay 265\n",
      "\t\tDay 249\n",
      "\tMonth 10\n",
      "\t\tDay 297\n",
      "\t\tDay 305\n",
      "\t\tDay 281\n",
      "\t\tDay 289\n",
      "\tMonth 11\n",
      "\t\tDay 329\n",
      "\t\tDay 313\n",
      "\t\tDay 321\n",
      "\tMonth 12\n",
      "\t\tDay 345\n",
      "\t\tDay 353\n",
      "\t\tDay 361\n",
      "\t\tDay 337\n"
     ]
    }
   ],
   "source": [
    "\n",
    "for t,b in slices:\n",
    "    # initialise reader\n",
    "    sliceHeight = b-t\n",
    "    \n",
    "    statsCalculator = MonthlyStatCalculator(sliceHeight, width, outNdv)\n",
    "    sliceGT = None\n",
    "    sliceProj = None\n",
    "    \n",
    "    print str((t,b))\n",
    "    for month, days in monthDays.iteritems():\n",
    "        # for each calendar day of this synoptic month \n",
    "        print \"\\tMonth \"+str(month)\n",
    "        for day in days:\n",
    "            # for each file on this calendar day (i.e. one per year)\n",
    "            print\"\\t\\tDay \"+str(day)\n",
    "            for dayfile in dayfiles[day]:\n",
    "                # add slice\n",
    "                data, myGT, myProj, thisNdv = ReadAOI_PixelLims(dayfile, None, (t,b))\n",
    "                if sliceGT is None:\n",
    "                    sliceGT = myGT\n",
    "                    sliceProj = myProj\n",
    "                else:\n",
    "                    assert sliceGT == myGT\n",
    "                    assert sliceProj == myProj\n",
    "                # add the data to the running calculator\n",
    "                statsCalculator.addFile(data, month, thisNdv)\n",
    "        # get and save the results for this synoptic month\n",
    "        monthResults = statsCalculator.emitMonth()\n",
    "        SaveLZWTiff(monthResults['count'], outNdv, sliceGT, sliceProj, tileDir,\n",
    "                   fnGetter(what, \"M\" + str(month).zfill(2), \"Count\", t))\n",
    "        SaveLZWTiff(monthResults['mean'], outNdv, sliceGT, sliceProj, tileDir,\n",
    "                   fnGetter(what, \"M\" + str(month).zfill(2), \"Mean\", t))\n",
    "        SaveLZWTiff(monthResults['sd'], outNdv, sliceGT, sliceProj, tileDir,\n",
    "                   fnGetter(what, \"M\" + str(month).zfill(2), \"SD\", t))\n",
    "    statsCalculator = None\n",
    "    \n",
    "    # get and save the overall synoptic result\n",
    "    overallResults = statsCalculator.emitTotal()\n",
    "    SaveLZWTiff(overallResults['count'], outNdv, sliceGT, sliceProj, tileDir,\n",
    "        fnGetter(what, \"Overall\", \"Count\", t))\n",
    "    SaveLZWTiff(overallResults['mean'], outNdv, sliceGT, sliceProj, tileDir,\n",
    "        fnGetter(what, \"Overall\", \"Mean\", t))\n",
    "    SaveLZWTiff(overallResults['sd'], outNdv, sliceGT, sliceProj, tileDir,\n",
    "        fnGetter(what, \"Overall\", \"SD\", t))\n",
    "        \n",
    "        "
   ]
  },
  {
   "cell_type": "markdown",
   "metadata": {},
   "source": [
    "## Run this cell to merge the tiles to global outputs"
   ]
  },
  {
   "cell_type": "code",
   "execution_count": 17,
   "metadata": {
    "collapsed": false
   },
   "outputs": [
    {
     "name": "stdout",
     "output_type": "stream",
     "text": [
      "gdalbuildvrt C:\\temp\\test\\merged\\Month_01_Count.vrt C:\\temp\\test\\tiles\\TestDA_M01_Count_*.tif\n",
      "gdalbuildvrt C:\\temp\\test\\merged\\Month_02_Count.vrt C:\\temp\\test\\tiles\\TestDA_M02_Count_*.tif\n",
      "gdalbuildvrt C:\\temp\\test\\merged\\Month_03_Count.vrt C:\\temp\\test\\tiles\\TestDA_M03_Count_*.tif\n",
      "gdalbuildvrt C:\\temp\\test\\merged\\Month_04_Count.vrt C:\\temp\\test\\tiles\\TestDA_M04_Count_*.tif\n",
      "gdalbuildvrt C:\\temp\\test\\merged\\Month_05_Count.vrt C:\\temp\\test\\tiles\\TestDA_M05_Count_*.tif\n",
      "gdalbuildvrt C:\\temp\\test\\merged\\Month_06_Count.vrt C:\\temp\\test\\tiles\\TestDA_M06_Count_*.tif\n",
      "gdalbuildvrt C:\\temp\\test\\merged\\Month_07_Count.vrt C:\\temp\\test\\tiles\\TestDA_M07_Count_*.tif\n",
      "gdalbuildvrt C:\\temp\\test\\merged\\Month_08_Count.vrt C:\\temp\\test\\tiles\\TestDA_M08_Count_*.tif\n",
      "gdalbuildvrt C:\\temp\\test\\merged\\Month_09_Count.vrt C:\\temp\\test\\tiles\\TestDA_M09_Count_*.tif\n",
      "gdalbuildvrt C:\\temp\\test\\merged\\Month_10_Count.vrt C:\\temp\\test\\tiles\\TestDA_M10_Count_*.tif\n",
      "gdalbuildvrt C:\\temp\\test\\merged\\Month_11_Count.vrt C:\\temp\\test\\tiles\\TestDA_M11_Count_*.tif\n",
      "gdalbuildvrt C:\\temp\\test\\merged\\Month_12_Count.vrt C:\\temp\\test\\tiles\\TestDA_M12_Count_*.tif\n",
      "gdalbuildvrt C:\\temp\\test\\merged\\Overall_Count.vrt C:\\temp\\test\\tiles\\TestDA_Overall_Count_*.tif\n",
      "gdalbuildvrt C:\\temp\\test\\merged\\Month_01_Mean.vrt C:\\temp\\test\\tiles\\TestDA_M01_Mean_*.tif\n",
      "gdalbuildvrt C:\\temp\\test\\merged\\Month_02_Mean.vrt C:\\temp\\test\\tiles\\TestDA_M02_Mean_*.tif\n",
      "gdalbuildvrt C:\\temp\\test\\merged\\Month_03_Mean.vrt C:\\temp\\test\\tiles\\TestDA_M03_Mean_*.tif\n",
      "gdalbuildvrt C:\\temp\\test\\merged\\Month_04_Mean.vrt C:\\temp\\test\\tiles\\TestDA_M04_Mean_*.tif\n",
      "gdalbuildvrt C:\\temp\\test\\merged\\Month_05_Mean.vrt C:\\temp\\test\\tiles\\TestDA_M05_Mean_*.tif\n",
      "gdalbuildvrt C:\\temp\\test\\merged\\Month_06_Mean.vrt C:\\temp\\test\\tiles\\TestDA_M06_Mean_*.tif\n",
      "gdalbuildvrt C:\\temp\\test\\merged\\Month_07_Mean.vrt C:\\temp\\test\\tiles\\TestDA_M07_Mean_*.tif\n",
      "gdalbuildvrt C:\\temp\\test\\merged\\Month_08_Mean.vrt C:\\temp\\test\\tiles\\TestDA_M08_Mean_*.tif\n",
      "gdalbuildvrt C:\\temp\\test\\merged\\Month_09_Mean.vrt C:\\temp\\test\\tiles\\TestDA_M09_Mean_*.tif\n",
      "gdalbuildvrt C:\\temp\\test\\merged\\Month_10_Mean.vrt C:\\temp\\test\\tiles\\TestDA_M10_Mean_*.tif\n",
      "gdalbuildvrt C:\\temp\\test\\merged\\Month_11_Mean.vrt C:\\temp\\test\\tiles\\TestDA_M11_Mean_*.tif\n",
      "gdalbuildvrt C:\\temp\\test\\merged\\Month_12_Mean.vrt C:\\temp\\test\\tiles\\TestDA_M12_Mean_*.tif\n",
      "gdalbuildvrt C:\\temp\\test\\merged\\Overall_Mean.vrt C:\\temp\\test\\tiles\\TestDA_Overall_Mean_*.tif\n",
      "gdalbuildvrt C:\\temp\\test\\merged\\Month_01_SD.vrt C:\\temp\\test\\tiles\\TestDA_M01_SD_*.tif\n",
      "gdalbuildvrt C:\\temp\\test\\merged\\Month_02_SD.vrt C:\\temp\\test\\tiles\\TestDA_M02_SD_*.tif\n",
      "gdalbuildvrt C:\\temp\\test\\merged\\Month_03_SD.vrt C:\\temp\\test\\tiles\\TestDA_M03_SD_*.tif\n",
      "gdalbuildvrt C:\\temp\\test\\merged\\Month_04_SD.vrt C:\\temp\\test\\tiles\\TestDA_M04_SD_*.tif\n",
      "gdalbuildvrt C:\\temp\\test\\merged\\Month_05_SD.vrt C:\\temp\\test\\tiles\\TestDA_M05_SD_*.tif\n",
      "gdalbuildvrt C:\\temp\\test\\merged\\Month_06_SD.vrt C:\\temp\\test\\tiles\\TestDA_M06_SD_*.tif\n",
      "gdalbuildvrt C:\\temp\\test\\merged\\Month_07_SD.vrt C:\\temp\\test\\tiles\\TestDA_M07_SD_*.tif\n",
      "gdalbuildvrt C:\\temp\\test\\merged\\Month_08_SD.vrt C:\\temp\\test\\tiles\\TestDA_M08_SD_*.tif\n",
      "gdalbuildvrt C:\\temp\\test\\merged\\Month_09_SD.vrt C:\\temp\\test\\tiles\\TestDA_M09_SD_*.tif\n",
      "gdalbuildvrt C:\\temp\\test\\merged\\Month_10_SD.vrt C:\\temp\\test\\tiles\\TestDA_M10_SD_*.tif\n",
      "gdalbuildvrt C:\\temp\\test\\merged\\Month_11_SD.vrt C:\\temp\\test\\tiles\\TestDA_M11_SD_*.tif\n",
      "gdalbuildvrt C:\\temp\\test\\merged\\Month_12_SD.vrt C:\\temp\\test\\tiles\\TestDA_M12_SD_*.tif\n",
      "gdalbuildvrt C:\\temp\\test\\merged\\Overall_SD.vrt C:\\temp\\test\\tiles\\TestDA_Overall_SD_*.tif\n",
      "gdal_translate -of GTiff -co COMPRESS=LZW -co PREDICTOR=2 -co TILED=YES -co SPARSE_OK=TRUE -co BIGTIFF=YES --config GDAL_CACHEMAX 8000 C:\\temp\\test\\merged\\Month_01_Count.vrt C:\\temp\\test\\merged\\Month_01_Count.tif\n",
      "gdal_translate -of GTiff -co COMPRESS=LZW -co PREDICTOR=2 -co TILED=YES -co SPARSE_OK=TRUE -co BIGTIFF=YES --config GDAL_CACHEMAX 8000 C:\\temp\\test\\merged\\Month_02_Count.vrt C:\\temp\\test\\merged\\Month_02_Count.tif\n",
      "gdal_translate -of GTiff -co COMPRESS=LZW -co PREDICTOR=2 -co TILED=YES -co SPARSE_OK=TRUE -co BIGTIFF=YES --config GDAL_CACHEMAX 8000 C:\\temp\\test\\merged\\Month_03_Count.vrt C:\\temp\\test\\merged\\Month_03_Count.tif\n",
      "gdal_translate -of GTiff -co COMPRESS=LZW -co PREDICTOR=2 -co TILED=YES -co SPARSE_OK=TRUE -co BIGTIFF=YES --config GDAL_CACHEMAX 8000 C:\\temp\\test\\merged\\Month_04_Count.vrt C:\\temp\\test\\merged\\Month_04_Count.tif\n",
      "gdal_translate -of GTiff -co COMPRESS=LZW -co PREDICTOR=2 -co TILED=YES -co SPARSE_OK=TRUE -co BIGTIFF=YES --config GDAL_CACHEMAX 8000 C:\\temp\\test\\merged\\Month_05_Count.vrt C:\\temp\\test\\merged\\Month_05_Count.tif\n",
      "gdal_translate -of GTiff -co COMPRESS=LZW -co PREDICTOR=2 -co TILED=YES -co SPARSE_OK=TRUE -co BIGTIFF=YES --config GDAL_CACHEMAX 8000 C:\\temp\\test\\merged\\Month_06_Count.vrt C:\\temp\\test\\merged\\Month_06_Count.tif\n",
      "gdal_translate -of GTiff -co COMPRESS=LZW -co PREDICTOR=2 -co TILED=YES -co SPARSE_OK=TRUE -co BIGTIFF=YES --config GDAL_CACHEMAX 8000 C:\\temp\\test\\merged\\Month_07_Count.vrt C:\\temp\\test\\merged\\Month_07_Count.tif\n",
      "gdal_translate -of GTiff -co COMPRESS=LZW -co PREDICTOR=2 -co TILED=YES -co SPARSE_OK=TRUE -co BIGTIFF=YES --config GDAL_CACHEMAX 8000 C:\\temp\\test\\merged\\Month_08_Count.vrt C:\\temp\\test\\merged\\Month_08_Count.tif\n",
      "gdal_translate -of GTiff -co COMPRESS=LZW -co PREDICTOR=2 -co TILED=YES -co SPARSE_OK=TRUE -co BIGTIFF=YES --config GDAL_CACHEMAX 8000 C:\\temp\\test\\merged\\Month_09_Count.vrt C:\\temp\\test\\merged\\Month_09_Count.tif\n",
      "gdal_translate -of GTiff -co COMPRESS=LZW -co PREDICTOR=2 -co TILED=YES -co SPARSE_OK=TRUE -co BIGTIFF=YES --config GDAL_CACHEMAX 8000 C:\\temp\\test\\merged\\Month_10_Count.vrt C:\\temp\\test\\merged\\Month_10_Count.tif\n",
      "gdal_translate -of GTiff -co COMPRESS=LZW -co PREDICTOR=2 -co TILED=YES -co SPARSE_OK=TRUE -co BIGTIFF=YES --config GDAL_CACHEMAX 8000 C:\\temp\\test\\merged\\Month_11_Count.vrt C:\\temp\\test\\merged\\Month_11_Count.tif\n",
      "gdal_translate -of GTiff -co COMPRESS=LZW -co PREDICTOR=2 -co TILED=YES -co SPARSE_OK=TRUE -co BIGTIFF=YES --config GDAL_CACHEMAX 8000 C:\\temp\\test\\merged\\Month_12_Count.vrt C:\\temp\\test\\merged\\Month_12_Count.tif\n",
      "gdal_translate -of GTiff -co COMPRESS=LZW -co PREDICTOR=2 -co TILED=YES -co SPARSE_OK=TRUE -co BIGTIFF=YES --config GDAL_CACHEMAX 8000 C:\\temp\\test\\merged\\Overall_Count.vrt C:\\temp\\test\\merged\\Overall_Count.tif\n",
      "gdal_translate -of GTiff -co COMPRESS=LZW -co PREDICTOR=2 -co TILED=YES -co SPARSE_OK=TRUE -co BIGTIFF=YES --config GDAL_CACHEMAX 8000 C:\\temp\\test\\merged\\Month_01_Mean.vrt C:\\temp\\test\\merged\\Month_01_Mean.tif\n",
      "gdal_translate -of GTiff -co COMPRESS=LZW -co PREDICTOR=2 -co TILED=YES -co SPARSE_OK=TRUE -co BIGTIFF=YES --config GDAL_CACHEMAX 8000 C:\\temp\\test\\merged\\Month_02_Mean.vrt C:\\temp\\test\\merged\\Month_02_Mean.tif\n",
      "gdal_translate -of GTiff -co COMPRESS=LZW -co PREDICTOR=2 -co TILED=YES -co SPARSE_OK=TRUE -co BIGTIFF=YES --config GDAL_CACHEMAX 8000 C:\\temp\\test\\merged\\Month_03_Mean.vrt C:\\temp\\test\\merged\\Month_03_Mean.tif\n",
      "gdal_translate -of GTiff -co COMPRESS=LZW -co PREDICTOR=2 -co TILED=YES -co SPARSE_OK=TRUE -co BIGTIFF=YES --config GDAL_CACHEMAX 8000 C:\\temp\\test\\merged\\Month_04_Mean.vrt C:\\temp\\test\\merged\\Month_04_Mean.tif\n",
      "gdal_translate -of GTiff -co COMPRESS=LZW -co PREDICTOR=2 -co TILED=YES -co SPARSE_OK=TRUE -co BIGTIFF=YES --config GDAL_CACHEMAX 8000 C:\\temp\\test\\merged\\Month_05_Mean.vrt C:\\temp\\test\\merged\\Month_05_Mean.tif\n",
      "gdal_translate -of GTiff -co COMPRESS=LZW -co PREDICTOR=2 -co TILED=YES -co SPARSE_OK=TRUE -co BIGTIFF=YES --config GDAL_CACHEMAX 8000 C:\\temp\\test\\merged\\Month_06_Mean.vrt C:\\temp\\test\\merged\\Month_06_Mean.tif\n",
      "gdal_translate -of GTiff -co COMPRESS=LZW -co PREDICTOR=2 -co TILED=YES -co SPARSE_OK=TRUE -co BIGTIFF=YES --config GDAL_CACHEMAX 8000 C:\\temp\\test\\merged\\Month_07_Mean.vrt C:\\temp\\test\\merged\\Month_07_Mean.tif\n",
      "gdal_translate -of GTiff -co COMPRESS=LZW -co PREDICTOR=2 -co TILED=YES -co SPARSE_OK=TRUE -co BIGTIFF=YES --config GDAL_CACHEMAX 8000 C:\\temp\\test\\merged\\Month_08_Mean.vrt C:\\temp\\test\\merged\\Month_08_Mean.tif\n",
      "gdal_translate -of GTiff -co COMPRESS=LZW -co PREDICTOR=2 -co TILED=YES -co SPARSE_OK=TRUE -co BIGTIFF=YES --config GDAL_CACHEMAX 8000 C:\\temp\\test\\merged\\Month_09_Mean.vrt C:\\temp\\test\\merged\\Month_09_Mean.tif\n",
      "gdal_translate -of GTiff -co COMPRESS=LZW -co PREDICTOR=2 -co TILED=YES -co SPARSE_OK=TRUE -co BIGTIFF=YES --config GDAL_CACHEMAX 8000 C:\\temp\\test\\merged\\Month_10_Mean.vrt C:\\temp\\test\\merged\\Month_10_Mean.tif\n",
      "gdal_translate -of GTiff -co COMPRESS=LZW -co PREDICTOR=2 -co TILED=YES -co SPARSE_OK=TRUE -co BIGTIFF=YES --config GDAL_CACHEMAX 8000 C:\\temp\\test\\merged\\Month_11_Mean.vrt C:\\temp\\test\\merged\\Month_11_Mean.tif\n",
      "gdal_translate -of GTiff -co COMPRESS=LZW -co PREDICTOR=2 -co TILED=YES -co SPARSE_OK=TRUE -co BIGTIFF=YES --config GDAL_CACHEMAX 8000 C:\\temp\\test\\merged\\Month_12_Mean.vrt C:\\temp\\test\\merged\\Month_12_Mean.tif\n",
      "gdal_translate -of GTiff -co COMPRESS=LZW -co PREDICTOR=2 -co TILED=YES -co SPARSE_OK=TRUE -co BIGTIFF=YES --config GDAL_CACHEMAX 8000 C:\\temp\\test\\merged\\Overall_Mean.vrt C:\\temp\\test\\merged\\Overall_Mean.tif\n",
      "gdal_translate -of GTiff -co COMPRESS=LZW -co PREDICTOR=2 -co TILED=YES -co SPARSE_OK=TRUE -co BIGTIFF=YES --config GDAL_CACHEMAX 8000 C:\\temp\\test\\merged\\Month_01_SD.vrt C:\\temp\\test\\merged\\Month_01_SD.tif\n",
      "gdal_translate -of GTiff -co COMPRESS=LZW -co PREDICTOR=2 -co TILED=YES -co SPARSE_OK=TRUE -co BIGTIFF=YES --config GDAL_CACHEMAX 8000 C:\\temp\\test\\merged\\Month_02_SD.vrt C:\\temp\\test\\merged\\Month_02_SD.tif\n",
      "gdal_translate -of GTiff -co COMPRESS=LZW -co PREDICTOR=2 -co TILED=YES -co SPARSE_OK=TRUE -co BIGTIFF=YES --config GDAL_CACHEMAX 8000 C:\\temp\\test\\merged\\Month_03_SD.vrt C:\\temp\\test\\merged\\Month_03_SD.tif\n",
      "gdal_translate -of GTiff -co COMPRESS=LZW -co PREDICTOR=2 -co TILED=YES -co SPARSE_OK=TRUE -co BIGTIFF=YES --config GDAL_CACHEMAX 8000 C:\\temp\\test\\merged\\Month_04_SD.vrt C:\\temp\\test\\merged\\Month_04_SD.tif\n",
      "gdal_translate -of GTiff -co COMPRESS=LZW -co PREDICTOR=2 -co TILED=YES -co SPARSE_OK=TRUE -co BIGTIFF=YES --config GDAL_CACHEMAX 8000 C:\\temp\\test\\merged\\Month_05_SD.vrt C:\\temp\\test\\merged\\Month_05_SD.tif\n",
      "gdal_translate -of GTiff -co COMPRESS=LZW -co PREDICTOR=2 -co TILED=YES -co SPARSE_OK=TRUE -co BIGTIFF=YES --config GDAL_CACHEMAX 8000 C:\\temp\\test\\merged\\Month_06_SD.vrt C:\\temp\\test\\merged\\Month_06_SD.tif\n",
      "gdal_translate -of GTiff -co COMPRESS=LZW -co PREDICTOR=2 -co TILED=YES -co SPARSE_OK=TRUE -co BIGTIFF=YES --config GDAL_CACHEMAX 8000 C:\\temp\\test\\merged\\Month_07_SD.vrt C:\\temp\\test\\merged\\Month_07_SD.tif\n",
      "gdal_translate -of GTiff -co COMPRESS=LZW -co PREDICTOR=2 -co TILED=YES -co SPARSE_OK=TRUE -co BIGTIFF=YES --config GDAL_CACHEMAX 8000 C:\\temp\\test\\merged\\Month_08_SD.vrt C:\\temp\\test\\merged\\Month_08_SD.tif\n",
      "gdal_translate -of GTiff -co COMPRESS=LZW -co PREDICTOR=2 -co TILED=YES -co SPARSE_OK=TRUE -co BIGTIFF=YES --config GDAL_CACHEMAX 8000 C:\\temp\\test\\merged\\Month_09_SD.vrt C:\\temp\\test\\merged\\Month_09_SD.tif\n",
      "gdal_translate -of GTiff -co COMPRESS=LZW -co PREDICTOR=2 -co TILED=YES -co SPARSE_OK=TRUE -co BIGTIFF=YES --config GDAL_CACHEMAX 8000 C:\\temp\\test\\merged\\Month_10_SD.vrt C:\\temp\\test\\merged\\Month_10_SD.tif\n",
      "gdal_translate -of GTiff -co COMPRESS=LZW -co PREDICTOR=2 -co TILED=YES -co SPARSE_OK=TRUE -co BIGTIFF=YES --config GDAL_CACHEMAX 8000 C:\\temp\\test\\merged\\Month_11_SD.vrt C:\\temp\\test\\merged\\Month_11_SD.tif\n",
      "gdal_translate -of GTiff -co COMPRESS=LZW -co PREDICTOR=2 -co TILED=YES -co SPARSE_OK=TRUE -co BIGTIFF=YES --config GDAL_CACHEMAX 8000 C:\\temp\\test\\merged\\Month_12_SD.vrt C:\\temp\\test\\merged\\Month_12_SD.tif\n",
      "gdal_translate -of GTiff -co COMPRESS=LZW -co PREDICTOR=2 -co TILED=YES -co SPARSE_OK=TRUE -co BIGTIFF=YES --config GDAL_CACHEMAX 8000 C:\\temp\\test\\merged\\Overall_SD.vrt C:\\temp\\test\\merged\\Overall_SD.tif\n"
     ]
    }
   ],
   "source": [
    "import subprocess\n",
    "vrtBuilder = \"gdalbuildvrt {0} {1}\"\n",
    "transBuilder = \"gdal_translate -of GTiff -co COMPRESS=LZW \"+\\\n",
    "    \"-co PREDICTOR=2 -co TILED=YES -co SPARSE_OK=TRUE -co BIGTIFF=YES \"+\\\n",
    "    \"--config GDAL_CACHEMAX 8000 {0} {1}\"\n",
    "\n",
    "vrts = []\n",
    "for stat in stats:\n",
    "    for month in sorted(monthDays.keys()):\n",
    "        tiffWildCard = fnGetter(what, 'M'+str(month).zfill(2), stat, \"*\")\n",
    "        sliceTiffs = os.path.join(tileDir, tiffWildCard)\n",
    "        vrtName = \"Month_\" + str(month).zfill(2) + \"_\" + stat + \".vrt\"\n",
    "        vrtFile = os.path.join(outDir, vrtName)\n",
    "        vrtCommand = vrtBuilder.format(vrtFile, \n",
    "                                      sliceTiffs)\n",
    "        print vrtCommand\n",
    "        vrts.append(vrtFile)\n",
    "        subprocess.call(vrtCommand)\n",
    "    tiffWildCard = fnGetter(what, \"Overall\", stat, \"*\")\n",
    "    sliceTiffs = os.path.join(tileDir, tiffWildCard)\n",
    "    vrtName = \"Overall_\" + stat + \".vrt\"\n",
    "    vrtFile = os.path.join(outDir, vrtName)\n",
    "    vrtCommand = vrtBuilder.format(vrtFile, \n",
    "                                      sliceTiffs)\n",
    "    print vrtCommand\n",
    "    vrts.append(vrtFile)\n",
    "    subprocess.call(vrtCommand)\n",
    "for vrt in vrts:\n",
    "    transCommand = transBuilder.format(vrt, vrt.replace('vrt', 'tif'))\n",
    "    print transCommand\n",
    "    subprocess.call(transCommand)"
   ]
  },
  {
   "cell_type": "code",
   "execution_count": null,
   "metadata": {
    "collapsed": true
   },
   "outputs": [],
   "source": [
    "ovcommand = \"gdaladdo -ro --config COMPRESS_OVERVIEW LZW --config USE_RRD NO \" +\\\n",
    "        \"--config TILED YES {0} 2 4 8 16 32 64 128 256 --config GDAL_CACHEMAX 8000\"\n",
    "statcommand = \"gdalinfo -stats {0} >nul\"\n",
    "subprocess.call(vrtBuilder)\n",
    "import subprocess\n",
    "\n",
    "    for f in dirTileList:\n",
    "        os.remove(f)"
   ]
  },
  {
   "cell_type": "markdown",
   "metadata": {},
   "source": [
    "### Code to run: Generate the statistics as 13-band rasters"
   ]
  },
  {
   "cell_type": "markdown",
   "metadata": {},
   "source": [
    "###### One band for each month, the 13th band is the overall (daily) mean / SD / count"
   ]
  },
  {
   "cell_type": "code",
   "execution_count": null,
   "metadata": {
    "collapsed": false
   },
   "outputs": [],
   "source": [
    "# pick a slice size that aligns to 256 pixel tiff tile size for optimal access.\n",
    "# 5376 gives 4 slices and seems much quicker overall than 10752 (2 slices)\n",
    "calcStats(43200,21600,5376,'EVI',r'E:\\MCD43B4\\MCD43B4_Indices')"
   ]
  },
  {
   "cell_type": "markdown",
   "metadata": {},
   "source": [
    "###### Generate the \"balanced\" mean as the mean of the 12 monthly bands"
   ]
  },
  {
   "cell_type": "code",
   "execution_count": null,
   "metadata": {
    "collapsed": false
   },
   "outputs": [],
   "source": [
    "calcBalancedMeans('EVI_WinterCut_OcclusionMasked_Nbr2')"
   ]
  },
  {
   "cell_type": "markdown",
   "metadata": {},
   "source": [
    "###### Same for all the others..."
   ]
  },
  {
   "cell_type": "code",
   "execution_count": null,
   "metadata": {
    "collapsed": false
   },
   "outputs": [],
   "source": [
    "calcStats(43200,21600,5376,'Day',r'F:\\MOD11A2\\MOD11A2_Data')"
   ]
  },
  {
   "cell_type": "code",
   "execution_count": null,
   "metadata": {
    "collapsed": false
   },
   "outputs": [],
   "source": [
    "calcBalancedMeans('Day')"
   ]
  },
  {
   "cell_type": "code",
   "execution_count": null,
   "metadata": {
    "collapsed": false
   },
   "outputs": [],
   "source": [
    "\n",
    "calcStats(43200,21600,5376,'Night',r'F:\\MOD11A2\\MOD11A2_Data')"
   ]
  },
  {
   "cell_type": "code",
   "execution_count": null,
   "metadata": {
    "collapsed": false
   },
   "outputs": [],
   "source": [
    "calcBalancedMeans('Night')"
   ]
  },
  {
   "cell_type": "code",
   "execution_count": null,
   "metadata": {
    "collapsed": false
   },
   "outputs": [],
   "source": [
    "calcStats(43200,21600,5376,'TCW',r'E:\\MCD43B4\\MCD43B4_Indices')"
   ]
  },
  {
   "cell_type": "code",
   "execution_count": null,
   "metadata": {
    "collapsed": false
   },
   "outputs": [],
   "source": [
    "calcBalancedMeans('TCW')"
   ]
  },
  {
   "cell_type": "code",
   "execution_count": null,
   "metadata": {
    "collapsed": false
   },
   "outputs": [],
   "source": [
    "calcStats(43200,21600,10752,'TCB',r'E:\\MCD43B4\\MCD43B4_Indices')"
   ]
  },
  {
   "cell_type": "code",
   "execution_count": null,
   "metadata": {
    "collapsed": false
   },
   "outputs": [],
   "source": [
    "calcBalancedMeans('TCB')"
   ]
  },
  {
   "cell_type": "code",
   "execution_count": null,
   "metadata": {
    "collapsed": false
   },
   "outputs": [],
   "source": [
    "calcStats(43200,21600,5376,'LST_DiurnalDifference',r'E:\\MOD11A2_DiurnalDiffs_Output\\LST_Diurnal_Diffs\\Output_8day')"
   ]
  },
  {
   "cell_type": "code",
   "execution_count": null,
   "metadata": {
    "collapsed": false
   },
   "outputs": [],
   "source": [
    "calcBalancedMeans('LST_DiurnalDifference')"
   ]
  },
  {
   "cell_type": "markdown",
   "metadata": {},
   "source": [
    "### Now translate the enormous output tiffs into compressed files"
   ]
  },
  {
   "cell_type": "markdown",
   "metadata": {},
   "source": [
    "Translate each in turn with the following commands, run at the command line in the C: temp directory (replace \"TC\\*\" with appropriate pattern)\n",
    "\n",
    "```\n",
    "for /F \"usebackq tokens=1 delims=.\" %f in (`dir /B TC*.tif`) do (\n",
    "gdal_translate -of GTiff -co \"COMPRESS=LZW\" -co \"TILED=YES\" -co \"PREDICTOR=2\" -co \"SPARSE_OK=TRUE\" -co \"BIGTIFF=YES\" -co \"INTERLEAVE=BAND\" %f.tif G:\\StatsOutput\\%f.tif\n",
    ")\n",
    "\n",
    "for /F \"usebackq tokens=1 delims=.\" %f in (`dir /B *Monthly_*`) do (\n",
    "gdal_translate -b 13 -of GTiff -co \"COMPRESS=LZW\" -co \"TILED=YES\" -co \"PREDICTOR=2\" -co \"SPARSE_OK=TRUE\" %f.tif G:\\StatsOutput\\%f_Overall_From_Daily.tif\n",
    ")\n",
    "```"
   ]
  },
  {
   "cell_type": "markdown",
   "metadata": {},
   "source": [
    "Optionally now add overviews at command line to save arcmap the bother\n",
    "\n",
    "```\n",
    "for %f in (*.tif) do (\n",
    "gdaladdo -ro --config COMPRESS_OVERVIEW DEFLATE --config INTERLEAVE_OVERVIEW PIXEL --config BIGTIFF_OVERVIEW YES %f 2 4 8 16 32 64\n",
    ")\n",
    "```"
   ]
  }
 ],
 "metadata": {
  "kernelspec": {
   "display_name": "Python 2",
   "language": "python",
   "name": "python2"
  },
  "language_info": {
   "codemirror_mode": {
    "name": "ipython",
    "version": 2
   },
   "file_extension": ".py",
   "mimetype": "text/x-python",
   "name": "python",
   "nbconvert_exporter": "python",
   "pygments_lexer": "ipython2",
   "version": "2.7.5"
  }
 },
 "nbformat": 4,
 "nbformat_minor": 0
}
