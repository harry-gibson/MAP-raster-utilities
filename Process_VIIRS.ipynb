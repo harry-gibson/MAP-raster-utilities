{
 "cells": [
  {
   "cell_type": "code",
   "execution_count": 1,
   "metadata": {
    "collapsed": false
   },
   "outputs": [],
   "source": [
    "import os"
   ]
  },
  {
   "cell_type": "code",
   "execution_count": 2,
   "metadata": {
    "collapsed": false
   },
   "outputs": [],
   "source": [
    "from osgeo import gdal"
   ]
  },
  {
   "cell_type": "code",
   "execution_count": 3,
   "metadata": {
    "collapsed": false
   },
   "outputs": [],
   "source": [
    "import zipfile\n",
    "import tarfile"
   ]
  },
  {
   "cell_type": "code",
   "execution_count": 4,
   "metadata": {
    "collapsed": false
   },
   "outputs": [],
   "source": [
    "import subprocess"
   ]
  },
  {
   "cell_type": "code",
   "execution_count": 5,
   "metadata": {
    "collapsed": false
   },
   "outputs": [],
   "source": [
    "import glob\n",
    "import shutil"
   ]
  },
  {
   "cell_type": "code",
   "execution_count": 6,
   "metadata": {
    "collapsed": false
   },
   "outputs": [],
   "source": [
    "indir = r'E:\\Temp\\nightlights'\n"
   ]
  },
  {
   "cell_type": "code",
   "execution_count": 7,
   "metadata": {
    "collapsed": false
   },
   "outputs": [],
   "source": [
    "infiles = glob.glob(indir+'\\\\*.tgz')"
   ]
  },
  {
   "cell_type": "code",
   "execution_count": 8,
   "metadata": {
    "collapsed": false
   },
   "outputs": [
    {
     "data": {
      "text/plain": [
       "['E:\\\\Temp\\\\nightlights\\\\SVDNB_npp_20160501-20160531_00N060E_vcmslcfg_v10_c201606281430.tgz',\n",
       " 'E:\\\\Temp\\\\nightlights\\\\SVDNB_npp_20160501-20160531_00N060W_vcmslcfg_v10_c201606281430.tgz',\n",
       " 'E:\\\\Temp\\\\nightlights\\\\SVDNB_npp_20160501-20160531_00N180W_vcmslcfg_v10_c201606281430.tgz',\n",
       " 'E:\\\\Temp\\\\nightlights\\\\SVDNB_npp_20160501-20160531_75N060E_vcmslcfg_v10_c201606281430.tgz',\n",
       " 'E:\\\\Temp\\\\nightlights\\\\SVDNB_npp_20160501-20160531_75N060W_vcmslcfg_v10_c201606281430.tgz',\n",
       " 'E:\\\\Temp\\\\nightlights\\\\SVDNB_npp_20160501-20160531_75N180W_vcmslcfg_v10_c201606281430.tgz',\n",
       " 'E:\\\\Temp\\\\nightlights\\\\SVDNB_npp_20160601-20160630_00N060E_vcmslcfg_v10_c201608101833.tgz',\n",
       " 'E:\\\\Temp\\\\nightlights\\\\SVDNB_npp_20160601-20160630_00N060W_vcmslcfg_v10_c201608101833.tgz',\n",
       " 'E:\\\\Temp\\\\nightlights\\\\SVDNB_npp_20160601-20160630_00N180W_vcmslcfg_v10_c201608101833.tgz',\n",
       " 'E:\\\\Temp\\\\nightlights\\\\SVDNB_npp_20160601-20160630_75N060E_vcmslcfg_v10_c201608101833.tgz',\n",
       " 'E:\\\\Temp\\\\nightlights\\\\SVDNB_npp_20160601-20160630_75N060W_vcmslcfg_v10_c201608101833.tgz',\n",
       " 'E:\\\\Temp\\\\nightlights\\\\SVDNB_npp_20160601-20160630_75N180W_vcmslcfg_v10_c201608101833.tgz',\n",
       " 'E:\\\\Temp\\\\nightlights\\\\SVDNB_npp_20160701-20160731_00N060E_vcmslcfg_v10_c201609121310.tgz',\n",
       " 'E:\\\\Temp\\\\nightlights\\\\SVDNB_npp_20160701-20160731_00N060W_vcmslcfg_v10_c201609121310.tgz',\n",
       " 'E:\\\\Temp\\\\nightlights\\\\SVDNB_npp_20160701-20160731_00N180W_vcmslcfg_v10_c201609121310.tgz',\n",
       " 'E:\\\\Temp\\\\nightlights\\\\SVDNB_npp_20160701-20160731_75N060E_vcmslcfg_v10_c201609121310.tgz',\n",
       " 'E:\\\\Temp\\\\nightlights\\\\SVDNB_npp_20160701-20160731_75N060W_vcmslcfg_v10_c201609121310.tgz',\n",
       " 'E:\\\\Temp\\\\nightlights\\\\SVDNB_npp_20160701-20160731_75N180W_vcmslcfg_v10_c201609121310.tgz',\n",
       " 'E:\\\\Temp\\\\nightlights\\\\SVDNB_npp_20160801-20160831_00N060E_vcmslcfg_v10_c201610041111.tgz',\n",
       " 'E:\\\\Temp\\\\nightlights\\\\SVDNB_npp_20160801-20160831_00N060W_vcmslcfg_v10_c201610041111.tgz',\n",
       " 'E:\\\\Temp\\\\nightlights\\\\SVDNB_npp_20160801-20160831_00N180W_vcmslcfg_v10_c201610041111.tgz',\n",
       " 'E:\\\\Temp\\\\nightlights\\\\SVDNB_npp_20160801-20160831_75N060E_vcmslcfg_v10_c201610041111.tgz',\n",
       " 'E:\\\\Temp\\\\nightlights\\\\SVDNB_npp_20160801-20160831_75N060W_vcmslcfg_v10_c201610041111.tgz',\n",
       " 'E:\\\\Temp\\\\nightlights\\\\SVDNB_npp_20160801-20160831_75N180W_vcmslcfg_v10_c201610041111.tgz',\n",
       " 'E:\\\\Temp\\\\nightlights\\\\SVDNB_npp_20160901-20160930_00N060E_vcmslcfg_v10_c201610280945.tgz',\n",
       " 'E:\\\\Temp\\\\nightlights\\\\SVDNB_npp_20160901-20160930_00N060W_vcmslcfg_v10_c201610280945.tgz',\n",
       " 'E:\\\\Temp\\\\nightlights\\\\SVDNB_npp_20160901-20160930_00N180W_vcmslcfg_v10_c201610280945.tgz',\n",
       " 'E:\\\\Temp\\\\nightlights\\\\SVDNB_npp_20160901-20160930_75N060E_vcmslcfg_v10_c201610280945.tgz',\n",
       " 'E:\\\\Temp\\\\nightlights\\\\SVDNB_npp_20160901-20160930_75N060W_vcmslcfg_v10_c201610280945.tgz',\n",
       " 'E:\\\\Temp\\\\nightlights\\\\SVDNB_npp_20160901-20160930_75N180W_vcmslcfg_v10_c201610280945.tgz']"
      ]
     },
     "execution_count": 8,
     "metadata": {},
     "output_type": "execute_result"
    }
   ],
   "source": [
    "infiles"
   ]
  },
  {
   "cell_type": "code",
   "execution_count": 9,
   "metadata": {
    "collapsed": false
   },
   "outputs": [],
   "source": [
    "for f in infiles:\n",
    "    base = os.path.basename(f)\n",
    "    daterange = base.split('_')[2]\n",
    "    destdir = os.path.join(indir,daterange)\n",
    "    if not os.path.exists(destdir):\n",
    "        os.mkdir(destdir)\n",
    "    shutil.move(f, destdir)\n",
    "    "
   ]
  },
  {
   "cell_type": "code",
   "execution_count": 10,
   "metadata": {
    "collapsed": false
   },
   "outputs": [],
   "source": [
    "indirs = [d for d in glob.glob(indir+\"\\\\*\") if os.path.isdir(d)]\n"
   ]
  },
  {
   "cell_type": "code",
   "execution_count": 11,
   "metadata": {
    "collapsed": false
   },
   "outputs": [],
   "source": [
    "from joblib import Parallel, delayed\n"
   ]
  },
  {
   "cell_type": "code",
   "execution_count": 12,
   "metadata": {
    "collapsed": false
   },
   "outputs": [
    {
     "data": {
      "text/plain": [
       "['E:\\\\Temp\\\\nightlights\\\\20160501-20160531',\n",
       " 'E:\\\\Temp\\\\nightlights\\\\20160601-20160630',\n",
       " 'E:\\\\Temp\\\\nightlights\\\\20160701-20160731',\n",
       " 'E:\\\\Temp\\\\nightlights\\\\20160801-20160831',\n",
       " 'E:\\\\Temp\\\\nightlights\\\\20160901-20160930']"
      ]
     },
     "execution_count": 12,
     "metadata": {},
     "output_type": "execute_result"
    }
   ],
   "source": [
    "sorted(indirs)"
   ]
  },
  {
   "cell_type": "code",
   "execution_count": 16,
   "metadata": {
    "collapsed": false
   },
   "outputs": [],
   "source": [
    "vrtcommand = \"gdalbuildvrt {0} {1}\"\n",
    "transcommand = \"gdal_translate -of GTiff -co COMPRESS=LZW \"+\\\n",
    "    \"-co PREDICTOR=2 -co TILED=YES -co SPARSE_OK=TRUE -co BIGTIFF=YES \"+\\\n",
    "    \"--config GDAL_CACHEMAX 8000 {0} {1}\"\n",
    "ovcommand = \"gdaladdo -ro --config COMPRESS_OVERVIEW LZW --config USE_RRD NO \" +\\\n",
    "        \"--config TILED YES {0} 2 4 8 16 32 64 128 256 --config GDAL_CACHEMAX 8000\"\n",
    "statcommand = \"gdalinfo -stats {0} >nul\"\n",
    "def translateDir(dIn, dOut=None):\n",
    "    if dOut is None:\n",
    "        dOut = dIn\n",
    "    print \"Operating in folder \"+dIn\n",
    "    filetag = 'vcmslcfg' # or vcmcfg for stray-light-excluded\n",
    "    tars = glob.glob(dIn+\"\\\\\"+\"*\"+filetag+\"*.tgz\")\n",
    "    if len(tars)<6:\n",
    "        print \"incomplete folder!\"\n",
    "        return\n",
    "    dirTileList = []\n",
    "    subDirName = os.path.basename(dIn)\n",
    "    outFile = os.path.join(dOut, \"VIIRS.DNB.StrayLightCorrected.\"+subDirName)\n",
    "    \n",
    "    if os.path.exists(outFile + \".tif\"):\n",
    "        print \"Already done! Skipping\"\n",
    "        return\n",
    "    #print outFile + \" doesn't exist: running!\"\n",
    "    #return\n",
    "    for t in tars:\n",
    "        if t.find(filetag) == -1:\n",
    "            continue\n",
    "        tar = tarfile.open(t)\n",
    "        #tardir = os.path.dirname(t)\n",
    "        members = tar.members\n",
    "        for m in members:\n",
    "            if m.name.find('avg_rad') != 1:\n",
    "                if os.path.exists(os.path.join(dIn, m.name)):\n",
    "                    print m.name +\" exists - skipping extraction!\"\n",
    "                    continue\n",
    "                print \"Extracting \"+m.name\n",
    "                \n",
    "                tar.extract(m, dIn)\n",
    "                dirTileList.append(os.path.join(dIn, m.name))\n",
    "    \n",
    "    \n",
    "    vrtBuilder = vrtcommand.format(outFile+\".vrt\", os.path.join(dIn,\"*\"+filetag+\"*.tif\"))\n",
    "    print vrtBuilder\n",
    "    subprocess.call(vrtBuilder)\n",
    "        \n",
    "    transBuilder = transcommand.format(outFile+\".vrt\", outFile+\".tif\")\n",
    "    print transBuilder\n",
    "    subprocess.call(transBuilder)\n",
    "    \n",
    "    ovBuilder = ovcommand.format(outFile+\".tif\")\n",
    "    print ovBuilder\n",
    "    subprocess.call(ovBuilder)\n",
    "    \n",
    "    statBuilder = statcommand.format(outFile+\".tif\")\n",
    "    print statBuilder\n",
    "    subprocess.call(statBuilder)\n",
    "    \n",
    "    for f in dirTileList:\n",
    "        os.remove(f)"
   ]
  },
  {
   "cell_type": "code",
   "execution_count": 15,
   "metadata": {
    "collapsed": false
   },
   "outputs": [
    {
     "name": "stdout",
     "output_type": "stream",
     "text": [
      "Operating in folder E:\\Temp\\nightlights\\20160601-20160630\n",
      "Extracting SVDNB_npp_20160601-20160630_00N060E_vcmslcfg_v10_c201608101833.avg_rade9.tif\n",
      "Extracting SVDNB_npp_20160601-20160630_00N060W_vcmslcfg_v10_c201608101833.avg_rade9.tif\n",
      "Extracting SVDNB_npp_20160601-20160630_00N180W_vcmslcfg_v10_c201608101833.avg_rade9.tif\n",
      "Extracting SVDNB_npp_20160601-20160630_75N060E_vcmslcfg_v10_c201608101833.avg_rade9.tif\n",
      "Extracting SVDNB_npp_20160601-20160630_75N060W_vcmslcfg_v10_c201608101833.avg_rade9.tif\n",
      "Extracting SVDNB_npp_20160601-20160630_75N180W_vcmslcfg_v10_c201608101833.avg_rade9.tif\n",
      "gdalbuildvrt C:\\Temp\\nightlights\\VIIRS.DNB.StrayLightCorrected.20160601-20160630.vrt E:\\Temp\\nightlights\\20160601-20160630\\*vcmslcfg*.tif\n",
      "gdal_translate -of GTiff -co COMPRESS=LZW -co PREDICTOR=2 -co TILED=YES -co SPARSE_OK=TRUE -co BIGTIFF=YES --config GDAL_CACHEMAX 8000 C:\\Temp\\nightlights\\VIIRS.DNB.StrayLightCorrected.20160601-20160630.vrt C:\\Temp\\nightlights\\VIIRS.DNB.StrayLightCorrected.20160601-20160630.tif\n",
      "gdaladdo -ro --config COMPRESS_OVERVIEW LZW --config USE_RRD NO --config TILED YES C:\\Temp\\nightlights\\VIIRS.DNB.StrayLightCorrected.20160601-20160630.tif 2 4 8 16 32 64 128 256 --config GDAL_CACHEMAX 8000\n",
      "gdalinfo -stats C:\\Temp\\nightlights\\VIIRS.DNB.StrayLightCorrected.20160601-20160630.tif>nul\n",
      "Operating in folder E:\\Temp\\nightlights\\20160701-20160731\n",
      "Extracting SVDNB_npp_20160701-20160731_00N060E_vcmslcfg_v10_c201609121310.avg_rade9.tif\n",
      "Extracting SVDNB_npp_20160701-20160731_00N060W_vcmslcfg_v10_c201609121310.avg_rade9.tif\n",
      "Extracting SVDNB_npp_20160701-20160731_00N180W_vcmslcfg_v10_c201609121310.avg_rade9.tif\n",
      "Extracting SVDNB_npp_20160701-20160731_75N060E_vcmslcfg_v10_c201609121310.avg_rade9.tif\n",
      "Extracting SVDNB_npp_20160701-20160731_75N060W_vcmslcfg_v10_c201609121310.avg_rade9.tif\n",
      "Extracting SVDNB_npp_20160701-20160731_75N180W_vcmslcfg_v10_c201609121310.avg_rade9.tif\n",
      "gdalbuildvrt C:\\Temp\\nightlights\\VIIRS.DNB.StrayLightCorrected.20160701-20160731.vrt E:\\Temp\\nightlights\\20160701-20160731\\*vcmslcfg*.tif\n",
      "gdal_translate -of GTiff -co COMPRESS=LZW -co PREDICTOR=2 -co TILED=YES -co SPARSE_OK=TRUE -co BIGTIFF=YES --config GDAL_CACHEMAX 8000 C:\\Temp\\nightlights\\VIIRS.DNB.StrayLightCorrected.20160701-20160731.vrt C:\\Temp\\nightlights\\VIIRS.DNB.StrayLightCorrected.20160701-20160731.tif\n",
      "gdaladdo -ro --config COMPRESS_OVERVIEW LZW --config USE_RRD NO --config TILED YES C:\\Temp\\nightlights\\VIIRS.DNB.StrayLightCorrected.20160701-20160731.tif 2 4 8 16 32 64 128 256 --config GDAL_CACHEMAX 8000\n",
      "gdalinfo -stats C:\\Temp\\nightlights\\VIIRS.DNB.StrayLightCorrected.20160701-20160731.tif>nul\n",
      "Operating in folder E:\\Temp\\nightlights\\20160801-20160831\n",
      "Extracting SVDNB_npp_20160801-20160831_00N060E_vcmslcfg_v10_c201610041111.avg_rade9.tif\n",
      "Extracting SVDNB_npp_20160801-20160831_00N060W_vcmslcfg_v10_c201610041111.avg_rade9.tif\n",
      "Extracting SVDNB_npp_20160801-20160831_00N180W_vcmslcfg_v10_c201610041111.avg_rade9.tif\n",
      "Extracting SVDNB_npp_20160801-20160831_75N060E_vcmslcfg_v10_c201610041111.avg_rade9.tif\n",
      "Extracting SVDNB_npp_20160801-20160831_75N060W_vcmslcfg_v10_c201610041111.avg_rade9.tif\n",
      "Extracting SVDNB_npp_20160801-20160831_75N180W_vcmslcfg_v10_c201610041111.avg_rade9.tif\n",
      "gdalbuildvrt C:\\Temp\\nightlights\\VIIRS.DNB.StrayLightCorrected.20160801-20160831.vrt E:\\Temp\\nightlights\\20160801-20160831\\*vcmslcfg*.tif\n",
      "gdal_translate -of GTiff -co COMPRESS=LZW -co PREDICTOR=2 -co TILED=YES -co SPARSE_OK=TRUE -co BIGTIFF=YES --config GDAL_CACHEMAX 8000 C:\\Temp\\nightlights\\VIIRS.DNB.StrayLightCorrected.20160801-20160831.vrt C:\\Temp\\nightlights\\VIIRS.DNB.StrayLightCorrected.20160801-20160831.tif\n",
      "gdaladdo -ro --config COMPRESS_OVERVIEW LZW --config USE_RRD NO --config TILED YES C:\\Temp\\nightlights\\VIIRS.DNB.StrayLightCorrected.20160801-20160831.tif 2 4 8 16 32 64 128 256 --config GDAL_CACHEMAX 8000\n",
      "gdalinfo -stats C:\\Temp\\nightlights\\VIIRS.DNB.StrayLightCorrected.20160801-20160831.tif>nul\n",
      "Operating in folder E:\\Temp\\nightlights\\20160901-20160930\n",
      "Extracting SVDNB_npp_20160901-20160930_00N060E_vcmslcfg_v10_c201610280945.avg_rade9.tif\n",
      "Extracting SVDNB_npp_20160901-20160930_00N060W_vcmslcfg_v10_c201610280945.avg_rade9.tif\n",
      "Extracting SVDNB_npp_20160901-20160930_00N180W_vcmslcfg_v10_c201610280945.avg_rade9.tif\n",
      "Extracting SVDNB_npp_20160901-20160930_75N060E_vcmslcfg_v10_c201610280945.avg_rade9.tif\n",
      "Extracting SVDNB_npp_20160901-20160930_75N060W_vcmslcfg_v10_c201610280945.avg_rade9.tif\n",
      "Extracting SVDNB_npp_20160901-20160930_75N180W_vcmslcfg_v10_c201610280945.avg_rade9.tif\n",
      "gdalbuildvrt C:\\Temp\\nightlights\\VIIRS.DNB.StrayLightCorrected.20160901-20160930.vrt E:\\Temp\\nightlights\\20160901-20160930\\*vcmslcfg*.tif\n",
      "gdal_translate -of GTiff -co COMPRESS=LZW -co PREDICTOR=2 -co TILED=YES -co SPARSE_OK=TRUE -co BIGTIFF=YES --config GDAL_CACHEMAX 8000 C:\\Temp\\nightlights\\VIIRS.DNB.StrayLightCorrected.20160901-20160930.vrt C:\\Temp\\nightlights\\VIIRS.DNB.StrayLightCorrected.20160901-20160930.tif\n",
      "gdaladdo -ro --config COMPRESS_OVERVIEW LZW --config USE_RRD NO --config TILED YES C:\\Temp\\nightlights\\VIIRS.DNB.StrayLightCorrected.20160901-20160930.tif 2 4 8 16 32 64 128 256 --config GDAL_CACHEMAX 8000\n",
      "gdalinfo -stats C:\\Temp\\nightlights\\VIIRS.DNB.StrayLightCorrected.20160901-20160930.tif>nul\n"
     ]
    }
   ],
   "source": [
    "#Parallel(n_jobs=4)(delayed(translateDir)(d) for d in indirs)\n",
    "outDir = r'\\\\map-fs1.ndph.ox.ac.uk\\map_data\\mastergrids\\Other_Global_Covariates\\NightTimeLights\\VIIRS_DNB_Monthly'\n",
    "outDir = r'C:\\Temp\\nightlights'\n",
    "for d in sorted(indirs[1:]):\n",
    "    translateDir(d, outDir)"
   ]
  },
  {
   "cell_type": "code",
   "execution_count": 14,
   "metadata": {
    "collapsed": false
   },
   "outputs": [
    {
     "data": {
      "text/plain": [
       "'\\\\\\\\129.67.26.176\\\\map_data\\\\hsg\\\\VIIRS\\\\downloads\\\\20151201-20151231'"
      ]
     },
     "execution_count": 14,
     "metadata": {},
     "output_type": "execute_result"
    }
   ],
   "source": [
    "sorted(indirs)[-1]\n"
   ]
  },
  {
   "cell_type": "code",
   "execution_count": 15,
   "metadata": {
    "collapsed": false
   },
   "outputs": [
    {
     "name": "stdout",
     "output_type": "stream",
     "text": [
      "Operating in folder \\\\129.67.26.176\\map_data\\hsg\\VIIRS\\downloads\\20151201-20151231\n",
      "Extracting SVDNB_npp_20151201-20151231_75N060W_vcmslcfg_v10_c201601251413.avg_rade9.tif\n",
      "Extracting SVDNB_npp_20151201-20151231_75N060E_vcmslcfg_v10_c201601251413.avg_rade9.tif\n",
      "Extracting SVDNB_npp_20151201-20151231_00N060W_vcmslcfg_v10_c201601251413.avg_rade9.tif\n",
      "Extracting SVDNB_npp_20151201-20151231_00N180W_vcmslcfg_v10_c201601251413.avg_rade9.tif\n",
      "Extracting SVDNB_npp_20151201-20151231_00N060E_vcmslcfg_v10_c201601251413.avg_rade9.tif\n",
      "Extracting SVDNB_npp_20151201-20151231_75N180W_vcmslcfg_v10_c201601251413.avg_rade9.tif\n",
      "gdalbuildvrt \\\\129.67.26.176\\map_data\\hsg\\VIIRS\\downloads\\20151201-20151231\\VIIRS.DNB.StrayLightCorrected.20151201-20151231.vrt \\\\129.67.26.176\\map_data\\hsg\\VIIRS\\downloads\\20151201-20151231\\*vcmslcfg*.tif\n",
      "gdal_translate -of GTiff -co COMPRESS=LZW -co PREDICTOR=2 -co TILED=YES -co SPARSE_OK=TRUE -co BIGTIFF=YES --config GDAL_CACHEMAX 8000 \\\\129.67.26.176\\map_data\\hsg\\VIIRS\\downloads\\20151201-20151231\\VIIRS.DNB.StrayLightCorrected.20151201-20151231.vrt \\\\129.67.26.176\\map_data\\hsg\\VIIRS\\downloads\\20151201-20151231\\VIIRS.DNB.StrayLightCorrected.20151201-20151231.tif\n",
      "gdaladdo -ro --config COMPRESS_OVERVIEW LZW --config USE_RRD NO --config TILED YES \\\\129.67.26.176\\map_data\\hsg\\VIIRS\\downloads\\20151201-20151231\\VIIRS.DNB.StrayLightCorrected.20151201-20151231.tif 2 4 8 16 32 64 128 256 --config GDAL_CACHEMAX 8000\n",
      "gdalinfo -stats \\\\129.67.26.176\\map_data\\hsg\\VIIRS\\downloads\\20151201-20151231\\VIIRS.DNB.StrayLightCorrected.20151201-20151231.tif>nul\n"
     ]
    }
   ],
   "source": [
    "translateDir(sorted(indirs)[-1])"
   ]
  },
  {
   "cell_type": "code",
   "execution_count": null,
   "metadata": {
    "collapsed": false
   },
   "outputs": [],
   "source": []
  }
 ],
 "metadata": {
  "kernelspec": {
   "display_name": "Python 2",
   "language": "python",
   "name": "python2"
  },
  "language_info": {
   "codemirror_mode": {
    "name": "ipython",
    "version": 2
   },
   "file_extension": ".py",
   "mimetype": "text/x-python",
   "name": "python",
   "nbconvert_exporter": "python",
   "pygments_lexer": "ipython2",
   "version": "2.7.5"
  }
 },
 "nbformat": 4,
 "nbformat_minor": 0
}
