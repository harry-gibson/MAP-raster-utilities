{
 "metadata": {
  "name": "",
  "signature": "sha256:dd7474331251ef2eddd582640d4390c35d3b1784bd66e954c02cae3b46408262"
 },
 "nbformat": 3,
 "nbformat_minor": 0,
 "worksheets": [
  {
   "cells": [
    {
     "cell_type": "code",
     "collapsed": false,
     "input": [
      "import os"
     ],
     "language": "python",
     "metadata": {},
     "outputs": []
    },
    {
     "cell_type": "code",
     "collapsed": false,
     "input": [
      "from osgeo import gdal"
     ],
     "language": "python",
     "metadata": {},
     "outputs": []
    },
    {
     "cell_type": "code",
     "collapsed": false,
     "input": [
      "import zipfile\n",
      "import tarfile"
     ],
     "language": "python",
     "metadata": {},
     "outputs": []
    },
    {
     "cell_type": "code",
     "collapsed": false,
     "input": [
      "import glob\n",
      "import shutil"
     ],
     "language": "python",
     "metadata": {},
     "outputs": []
    },
    {
     "cell_type": "code",
     "collapsed": false,
     "input": [
      "indir = r'G:\\DataPrep\\viirs_ntl'"
     ],
     "language": "python",
     "metadata": {},
     "outputs": []
    },
    {
     "cell_type": "code",
     "collapsed": false,
     "input": [
      "infiles = glob.glob(indir+'\\\\*.tgz')"
     ],
     "language": "python",
     "metadata": {},
     "outputs": []
    },
    {
     "cell_type": "code",
     "collapsed": false,
     "input": [
      "for f in infiles:\n",
      "    base = os.path.basename(f)\n",
      "    daterange = base.split('_')[2]\n",
      "    destdir = os.path.join(indir,daterange)\n",
      "    if not os.path.exists(destdir):\n",
      "        os.mkdir(destdir)\n",
      "    shutil.move(f, destdir)\n",
      "    "
     ],
     "language": "python",
     "metadata": {},
     "outputs": []
    },
    {
     "cell_type": "code",
     "collapsed": false,
     "input": [
      "indirs = [d for d in glob.glob(indir+\"\\\\*\") if os.path.isdir(d)]\n"
     ],
     "language": "python",
     "metadata": {},
     "outputs": []
    },
    {
     "cell_type": "code",
     "collapsed": false,
     "input": [
      "from joblib import Parallel, delayed\n"
     ],
     "language": "python",
     "metadata": {},
     "outputs": []
    },
    {
     "cell_type": "code",
     "collapsed": false,
     "input": [
      "import subprocess"
     ],
     "language": "python",
     "metadata": {},
     "outputs": []
    },
    {
     "cell_type": "code",
     "collapsed": false,
     "input": [
      "indirs"
     ],
     "language": "python",
     "metadata": {},
     "outputs": []
    },
    {
     "cell_type": "code",
     "collapsed": false,
     "input": [
      "vrtcommand = \"gdalbuildvrt {0} {1}\"\n",
      "transcommand = \"gdal_translate -of GTiff -co COMPRESS=LZW \"+\\\n",
      "    \"-co PREDICTOR=2 -co TILED=YES -co SPARSE_OK=TRUE -co BIGTIFF=YES \"+\\\n",
      "    \"--config GDAL_CACHEMAX 8000 {0} {1}\"\n",
      "ovcommand = \"gdaladdo -ro --config COMPRESS_OVERVIEW LZW --config USE_RRD NO \" +\\\n",
      "        \"--config TILED YES {0} 2 4 8 16 32 64 128 256 --config GDAL_CACHEMAX 8000\"\n",
      "def translateDir(d):\n",
      "    print \"Operating in folder \"+d\n",
      "    filetag = 'vcmslcfg' # or vcmcfg for stray-light-excluded\n",
      "    tars = glob.glob(d+\"\\\\\"+\"*\"+filetag+\"*.tgz\")\n",
      "    if len(tars)<6:\n",
      "        print \"incomplete folder!\"\n",
      "        return\n",
      "    dirTileList = []\n",
      "    subDirName = os.path.basename(d)\n",
      "    outFile = os.path.join(d, \"VIIRS.DNB.StrayLightCorrected.\"+subDirName)\n",
      "    if os.path.exists(outFile + \".tif\"):\n",
      "        print \"Already done! Skipping\"\n",
      "        return\n",
      "    for t in tars:\n",
      "        if t.find(filetag) == -1:\n",
      "            continue\n",
      "        tar = tarfile.open(t)\n",
      "        #tardir = os.path.dirname(t)\n",
      "        members = tar.members\n",
      "        for m in members:\n",
      "            if m.name.find('avg_rad') != 1:\n",
      "                if os.path.exists(os.path.join(d, m.name)):\n",
      "                    print m.name +\" exists - skipping extraction!\"\n",
      "                    continue\n",
      "                print \"Extracting \"+m.name\n",
      "                tar.extract(m, d)\n",
      "                dirTileList.append(os.path.join(d, m.name))\n",
      "    \n",
      "    \n",
      "    vrtBuilder = vrtcommand.format(outFile+\".vrt\", os.path.join(d,\"*\"+filetag+\"*.tif\"))\n",
      "    print vrtBuilder\n",
      "    subprocess.call(vrtBuilder)\n",
      "        \n",
      "    transBuilder = transcommand.format(outFile+\".vrt\", outFile+\".tif\")\n",
      "    print transBuilder\n",
      "    subprocess.call(transBuilder)\n",
      "    \n",
      "    ovBuilder = ovcommand.format(outFile+\".tif\")\n",
      "    print ovBuilder\n",
      "    subprocess.call(ovBuilder)\n",
      "    \n",
      "    for f in dirTileList:\n",
      "        os.remove(f)"
     ],
     "language": "python",
     "metadata": {},
     "outputs": []
    },
    {
     "cell_type": "code",
     "collapsed": false,
     "input": [
      "#Parallel(n_jobs=4)(delayed(translateDir)(d) for d in indirs)\n",
      "for d in indirs:\n",
      "    translateDir(d)"
     ],
     "language": "python",
     "metadata": {},
     "outputs": []
    }
   ],
   "metadata": {}
  }
 ]
}