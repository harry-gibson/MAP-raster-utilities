{
 "metadata": {
  "name": "",
  "signature": "sha256:eb355341ae7149fd6dbbc11bed45a371309360adcb2e06d5b0c16a1655f0a1c1"
 },
 "nbformat": 3,
 "nbformat_minor": 0,
 "worksheets": [
  {
   "cells": [
    {
     "cell_type": "code",
     "collapsed": false,
     "input": [
      "from osgeo import gdal\n",
      "import numpy as np\n",
      "import numexpr as ne\n",
      "import os\n",
      "import glob\n",
      "import rasterio"
     ],
     "language": "python",
     "metadata": {},
     "outputs": [],
     "prompt_number": 1
    },
    {
     "cell_type": "code",
     "collapsed": false,
     "input": [
      "DayDir = r'F:\\MOD11A2_Day_Output\\Output_Final_30k_2030pc'\n",
      "NightDir = r'F:\\MOD11A2_Night_Output\\Output_Final_30k_2030pc'\n",
      "DiffDir = r'G:\\DiurnalDiffs'"
     ],
     "language": "python",
     "metadata": {},
     "outputs": [],
     "prompt_number": 2
    },
    {
     "cell_type": "code",
     "collapsed": false,
     "input": [
      "DayFiles = glob.glob(os.path.join(DayDir,'*Data.tif'))\n",
      "NightFiles = glob.glob(os.path.join(NightDir,'*Data.tif'))"
     ],
     "language": "python",
     "metadata": {},
     "outputs": [],
     "prompt_number": 3
    },
    {
     "cell_type": "code",
     "collapsed": false,
     "input": [
      "len(DayFiles)"
     ],
     "language": "python",
     "metadata": {},
     "outputs": [
      {
       "metadata": {},
       "output_type": "pyout",
       "prompt_number": 4,
       "text": [
        "681"
       ]
      }
     ],
     "prompt_number": 4
    },
    {
     "cell_type": "code",
     "collapsed": false,
     "input": [
      "len(NightFiles)"
     ],
     "language": "python",
     "metadata": {},
     "outputs": [
      {
       "metadata": {},
       "output_type": "pyout",
       "prompt_number": 5,
       "text": [
        "681"
       ]
      }
     ],
     "prompt_number": 5
    },
    {
     "cell_type": "code",
     "collapsed": false,
     "input": [
      "for i in range (len(DayFiles)):\n",
      "    dayFile = DayFiles[i]\n",
      "    nightFile = NightFiles[i]\n",
      "    assert dayFile.replace('Day','Night') == nightFile\n",
      "    outBaseName = os.path.basename(dayFile).replace('Day', 'DiurnalDifference').replace('_Filled_Data','')\n",
      "    outFile = os.path.join(DiffDir, outBaseName)\n",
      "    #print outFile\n",
      "    inFile = gdal.Open(dayFile)\n",
      "    inBand = inFile.GetRasterBand(1)\n",
      "    dayData = inBand.ReadAsArray()\n",
      "    NDV = inBand.GetNoDataValue()\n",
      "    inGT = inFile.GetGeoTransform()\n",
      "    inProj = inFile.GetProjection()\n",
      "    \n",
      "    inFile = gdal.Open(nightFile)\n",
      "    inBand = inFile.GetRasterBand(1)\n",
      "    nightData = inBand.ReadAsArray()\n",
      "   # where ((dayData == NDV) or (nightData == NDV), NDV)\n",
      "    diffData = ne.evaluate(\"where (((dayData == NDV) | (nightData == NDV)), NDV, dayData - nightData)\")\n",
      "    \n",
      "    outDrv = gdal.GetDriverByName(\"GTiff\")\n",
      "    outDS = outDrv.Create(outFile, diffData.shape[1], diffData.shape[0], 1, gdal.GDT_Float32,\n",
      "                              [\"TILED=YES\",\"SPARSE_OK=TRUE\",\"BIGTIFF=YES\",\"COMPRESS=LZW\",\"PREDICTOR=2\"])\n",
      "    outDS.SetGeoTransform(inGT)\n",
      "    outDS.SetProjection(inProj)\n",
      "    outBand = outDS.GetRasterBand(1)\n",
      "    outBand.WriteArray(diffData)\n",
      "    outBand.SetNoDataValue(NDV)\n",
      "    outDS = None\n",
      "    inFile = None\n",
      "    #templateDS = None\n",
      "    del diffData\n",
      "    del dayData\n",
      "    del nightData\n"
     ],
     "language": "python",
     "metadata": {},
     "outputs": [],
     "prompt_number": 6
    }
   ],
   "metadata": {}
  }
 ]
}