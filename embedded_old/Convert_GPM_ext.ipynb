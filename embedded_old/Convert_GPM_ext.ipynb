{
 "cells": [
  {
   "cell_type": "code",
   "execution_count": 1,
   "metadata": {
    "collapsed": false
   },
   "outputs": [],
   "source": [
    "import numpy as np\n",
    "from osgeo import gdal\n",
    "import tables\n",
    "import os\n",
    "import glob"
   ]
  },
  {
   "cell_type": "code",
   "execution_count": 1,
   "metadata": {
    "collapsed": true
   },
   "outputs": [],
   "source": [
    "from General_Raster_Funcs.TiffManagement import SaveLZWTiff"
   ]
  },
  {
   "cell_type": "code",
   "execution_count": null,
   "metadata": {
    "collapsed": false
   },
   "outputs": [],
   "source": [
    "#nDir = r'C:\\Users\\zool1301\\Documents\\Other_Data\\Rainfall\\GPMM_Imerg\\new'\n",
    "inDir = r'\\\\129.67.26.176\\map_data\\hsg\\GPMM\\Downloaded'\n",
    "#rmmInDir = r'C:\\Users\\zool1301\\Documents\\Other_Data\\Rainfall\\TRMM_3B43_All_Monthly'\n",
    "#outDir = r'C:\\Users\\zool1301\\Documents\\Other_Data\\Rainfall\\GPMM_Imerg\\Tif'\n",
    "outDir = r'\\\\129.67.26.176\\map_data\\hsg\\GPMM\\tif'\n",
    "#trmmOutDir = r'C:\\Users\\zool1301\\Documents\\Other_Data\\Rainfall\\TRMM_3B43_All_Monthly'"
   ]
  },
  {
   "cell_type": "code",
   "execution_count": null,
   "metadata": {
    "collapsed": false
   },
   "outputs": [],
   "source": [
    "inFiles = glob.glob(os.path.join(inDir,'*.HDF5'))\n",
    "#trmmInFiles = glob.glob(os.path.join(trmmInDir,'*.HDF'))"
   ]
  },
  {
   "cell_type": "code",
   "execution_count": null,
   "metadata": {
    "collapsed": false
   },
   "outputs": [],
   "source": [
    "globalProj = 'GEOGCS[\"WGS 84\",DATUM[\"WGS_1984\",SPHEROID[\"WGS 84\",6378137,298.257223563,AUTHORITY[\"EPSG\",\"7030\"]],AUTHORITY[\"EPSG\",\"6326\"]],PRIMEM[\"Greenwich\",0],UNIT[\"degree\",0.0174532925199433],AUTHORITY[\"EPSG\",\"4326\"]]'\n",
    "globalGT = (-180.0, 0.1, 0.0, 90, 0.0, -0.1)\n",
    "trmmGT = (-180.0, 0.25, 0.0, 50, 0.0, -0.25)"
   ]
  },
  {
   "cell_type": "code",
   "execution_count": null,
   "metadata": {
    "collapsed": false
   },
   "outputs": [],
   "source": [
    "hrsPerMonth = [i*24 for i in [31,28,31,30,31,30,31,31,30,31,30,31]]"
   ]
  },
  {
   "cell_type": "code",
   "execution_count": null,
   "metadata": {
    "collapsed": false
   },
   "outputs": [],
   "source": [
    "hrsPerMonth"
   ]
  },
  {
   "cell_type": "code",
   "execution_count": null,
   "metadata": {
    "collapsed": false
   },
   "outputs": [],
   "source": [
    "outDrv = gdal.GetDriverByName('GTiff')\n",
    "outFNBaseTemplate = \"GPMM.IMerg.Monthly.{0}.{1}.{2}.tif\"\n",
    "outFNTemplate = os.path.join(outDir,outFNBaseTemplate)\n",
    "# the no data value is prob supposed to be =9999.9 but FP error actually makes it\n",
    "dodgyNDV = -9999.90039062\n",
    "       \n",
    "for fn in inFiles:\n",
    "    \n",
    "    gpmmFileDate = os.path.basename(fn).split('.')[4][:8]\n",
    "    gpmmFileVer = os.path.basename(fn).split('.')[6]                                \n",
    "    gpmmFileMonthNum = int(gpmmFileDate[4:6]) - 1\n",
    "    \n",
    "    if int(gpmmFileDate) < 20150400:\n",
    "        continue\n",
    "        \n",
    "    outFNAvg = outFNTemplate.format(gpmmFileDate, gpmmFileVer, \"MM_Per_Hr\")\n",
    "    outFNTot = outFNTemplate.format(gpmmFileDate, gpmmFileVer, \"MM_Total\")\n",
    "    \n",
    "    if os.path.exists(outFNAvg):\n",
    "        continue\n",
    "    print fn\n",
    "    t = tables.openFile(fn)\n",
    "    precipFile = t.root.Grid.precipitation\n",
    "    precipMem = np.copy(precipFile)\n",
    "    t.close()\n",
    "    t = None\n",
    "    \n",
    "    # the HDFs are in a weird order, columns and rows are transposed and columns are backwards\n",
    "    outArr = precipMem.T[::-1, ::1]\n",
    "    SaveLZWTiff(outArr, dodgyNDV, globalGT, globalProj, )\n",
    "    outRaster = outDrv.Create(outFNAvg,\n",
    "                          precipMem.shape[0],precipMem.shape[1],1,gdal.GDT_Float32,\n",
    "                          [\"COMPRESS=LZW\",\"TILED=YES\",\"SPARSE_OK=TRUE\",\"BIGTIFF=YES\"])\n",
    "    outRaster.SetGeoTransform(globalGT)\n",
    "    outRaster.SetProjection(globalProj)\n",
    "    outBand = outRaster.GetRasterBand(1)\n",
    "    outBand.SetNoDataValue(dodgyNDV)\n",
    "    outBand.WriteArray(precipMem.T[::-1,::1])\n",
    "    outBand.FlushCache()\n",
    "    outBand = None\n",
    "    outRaster = None\n",
    "    \n",
    "    precipMem[precipMem!=dodgyNDV] *= hrsPerMonth[gpmmFileMonthNum]\n",
    "    outRaster = outDrv.Create(outFNTot,\n",
    "                          precipMem.shape[0],precipMem.shape[1],1,gdal.GDT_Float32,\n",
    "                          [\"COMPRESS=LZW\",\"TILED=YES\",\"SPARSE_OK=TRUE\",\"BIGTIFF=YES\"])\n",
    "    outRaster.SetGeoTransform(globalGT)\n",
    "    outRaster.SetProjection(globalProj)\n",
    "    outBand = outRaster.GetRasterBand(1)\n",
    "    outBand.SetNoDataValue(dodgyNDV)\n",
    "    # the HDFs are in a weird order, columns and rows are transposed and columns are backwards\n",
    "    outBand.WriteArray(precipMem.T[::-1,::1])\n",
    "    outBand.FlushCache()\n",
    "    outBand = None\n",
    "    outRaster = None\n",
    "    "
   ]
  },
  {
   "cell_type": "code",
   "execution_count": null,
   "metadata": {
    "collapsed": false
   },
   "outputs": [],
   "source": [
    "outFNBaseTemplate = \"TRMM_3B43_Monthly_{0}_{1}.tif\"\n",
    "outFNTemplate = os.path.join(trmmOutDir,outFNBaseTemplate)\n",
    "outDrv = gdal.GetDriverByName('GTiff')\n",
    "for fn in trmmInFiles:\n",
    "    dsRef = \"\".join([\"HDF4_SDS:UNKNOWN:\",\n",
    "                     fn,\n",
    "                     \":0\"])\n",
    "    \n",
    "    d = gdal.Open(dsRef)\n",
    "    b = d.GetRasterBand(1)\n",
    "    precipMem = b.ReadAsArray()\n",
    "    gpmmFileDate = os.path.basename(fn).split('.')[1]                                \n",
    "    gpmmFileVer = os.path.basename(fn).split('.')[2]                                \n",
    "    \n",
    "    outFN = outFNTemplate.format(gpmmFileDate, gpmmFileVer)\n",
    "    outRaster = outDrv.Create(outFN,\n",
    "                          precipMem.shape[0],precipMem.shape[1],1,gdal.GDT_Float32,\n",
    "                          [\"COMPRESS=LZW\",\"TILED=YES\",\"SPARSE_OK=TRUE\",\"BIGTIFF=YES\"])\n",
    "    outRaster.SetGeoTransform(trmmGT)\n",
    "    outRaster.SetProjection(globalProj)\n",
    "    outBand = outRaster.GetRasterBand(1)\n",
    "    # the no data value is prob supposed to be =9999.9 but FP error actually makes it\n",
    "    outBand.SetNoDataValue(-9999.90039062)\n",
    "    # the HDFs are in a weird order, columns and rows are transposed and columns are backwards\n",
    "    outBand.WriteArray(precipMem.T[::-1,::1])\n",
    "    outBand.FlushCache()\n",
    "    outBand = None\n",
    "    outRaster = None"
   ]
  }
 ],
 "metadata": {
  "kernelspec": {
   "display_name": "Python 2",
   "language": "python",
   "name": "python2"
  },
  "language_info": {
   "codemirror_mode": {
    "name": "ipython",
    "version": 2
   },
   "file_extension": ".py",
   "mimetype": "text/x-python",
   "name": "python",
   "nbconvert_exporter": "python",
   "pygments_lexer": "ipython2",
   "version": "2.7.5"
  }
 },
 "nbformat": 4,
 "nbformat_minor": 0
}
