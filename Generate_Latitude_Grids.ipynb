{
 "metadata": {
  "name": "",
  "signature": "sha256:90636b97dac99c7928fd6a11202569919796a2cb82e6d6a59f289b3109420b12"
 },
 "nbformat": 3,
 "nbformat_minor": 0,
 "worksheets": [
  {
   "cells": [
    {
     "cell_type": "code",
     "collapsed": false,
     "input": [
      "import numpy as np\n",
      "from osgeo import gdal"
     ],
     "language": "python",
     "metadata": {},
     "outputs": []
    },
    {
     "cell_type": "code",
     "collapsed": false,
     "input": [
      "lats = np.arange(90,-90, -0.008333333333333)[:,np.newaxis]"
     ],
     "language": "python",
     "metadata": {},
     "outputs": []
    },
    {
     "cell_type": "code",
     "collapsed": false,
     "input": [
      "lats = lats[:-1]"
     ],
     "language": "python",
     "metadata": {},
     "outputs": []
    },
    {
     "cell_type": "code",
     "collapsed": false,
     "input": [
      "out = np.empty((21600,43200),np.float32)"
     ],
     "language": "python",
     "metadata": {},
     "outputs": []
    },
    {
     "cell_type": "code",
     "collapsed": false,
     "input": [
      "out[:] = lats"
     ],
     "language": "python",
     "metadata": {},
     "outputs": []
    },
    {
     "cell_type": "code",
     "collapsed": false,
     "input": [
      "outCos = np.cos(np.deg2rad(out))"
     ],
     "language": "python",
     "metadata": {},
     "outputs": []
    },
    {
     "cell_type": "code",
     "collapsed": false,
     "input": [
      "outFile = r'C:\\temp\\latCosGrid1k.tif'\n",
      "outGTFull = (-180.0, 0.008333333333333, 0.0, 90.000000000000, 0.0, -0.008333333333333)"
     ],
     "language": "python",
     "metadata": {},
     "outputs": []
    },
    {
     "cell_type": "code",
     "collapsed": false,
     "input": [
      "outDrv = gdal.GetDriverByName('GTiff')\n",
      "dataRaster = outDrv.Create(outFile, out.shape[1], out.shape[0], 1, gdal.GDT_Float32,\n",
      "                                       [\"COMPRESS=LZW\", \"TILED=YES\", \"SPARSE_OK=TRUE\", \"BIGTIFF=YES\"])\n",
      "\n",
      "dataRaster.SetGeoTransform(outGTFull)\n",
      "#dataRaster.SetProjection(projPop)\n",
      "bnd = dataRaster.GetRasterBand(1)\n",
      "assert bnd is not None\n",
      "bnd.WriteArray(outCos) \n",
      "bnd = None\n",
      "dataRaster = None"
     ],
     "language": "python",
     "metadata": {},
     "outputs": []
    }
   ],
   "metadata": {}
  }
 ]
}