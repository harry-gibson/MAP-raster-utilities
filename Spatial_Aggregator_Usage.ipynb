{
 "cells": [
  {
   "cell_type": "code",
   "execution_count": 1,
   "metadata": {
    "collapsed": true
   },
   "outputs": [],
   "source": [
    "from raster_utilities.io.tiff_management import ReadAOI_PixelLims_Inplace"
   ]
  },
  {
   "cell_type": "code",
   "execution_count": 2,
   "metadata": {
    "collapsed": false
   },
   "outputs": [],
   "source": [
    "from raster_utilities.aggregation.spatial.spatial_aggregation_runner import SpatialAggregator"
   ]
  },
  {
   "cell_type": "code",
   "execution_count": 3,
   "metadata": {
    "collapsed": true
   },
   "outputs": [],
   "source": [
    "import glob"
   ]
  },
  {
   "cell_type": "code",
   "execution_count": 4,
   "metadata": {
    "collapsed": true
   },
   "outputs": [],
   "source": [
    "from raster_utilities.aggregation.aggregation_values import *"
   ]
  },
  {
   "cell_type": "markdown",
   "metadata": {},
   "source": [
    "### Run a categorical aggregation across a series of files in a folder\n",
    "\n",
    "### Code not currently functional"
   ]
  },
  {
   "cell_type": "code",
   "execution_count": 4,
   "metadata": {
    "collapsed": false
   },
   "outputs": [],
   "source": [
    "inCatFiles = glob.glob(r'\\\\map-fs1.ndph.ox.ac.uk\\map_data\\mastergrids\\MODIS_Global\\MCD12Q1_Annual_Landcover\\500m_Raw\\A20*.tif')\n",
    "outDir = r'C:\\temp\\testagg_categorical_output'\n",
    "ndvOut = -9999\n",
    "stats = CategoricalAggregationStats.ALL\n",
    "aggArgs = {\"categories\":range(0,2),\n",
    "          \"resolution\":\"5km\"}"
   ]
  },
  {
   "cell_type": "code",
   "execution_count": 5,
   "metadata": {
    "collapsed": false
   },
   "outputs": [],
   "source": [
    "inCatFiles = glob.glob(r'E:\\Data\\Harry\\Documents\\dataprep\\GUF04_v2\\00011_all_files.vrt')\n",
    "inCatFiles = [r'E:\\Data\\Harry\\Documents\\dataprep\\GUF04_v2\\000111111112346\\GUF04_DLR_v02_e020_n55_e025_n50_OGR04.tif']\n",
    "outDir = r'E:\\Data\\Harry\\Documents\\dataprep\\GUF04_v2\\aggregated_1ktest'\n",
    "ndvOut = -9999\n",
    "stats = CategoricalAggregationStats.ALL\n",
    "aggArgs = {\"categories\":[0,255],\n",
    "          \"resolution\":\"1km\"}"
   ]
  },
  {
   "cell_type": "code",
   "execution_count": 6,
   "metadata": {
    "collapsed": false
   },
   "outputs": [],
   "source": [
    "agg = SpatialAggregator(inCatFiles, outDir, ndvOut, stats, aggArgs)"
   ]
  },
  {
   "cell_type": "code",
   "execution_count": null,
   "metadata": {
    "collapsed": false,
    "scrolled": true
   },
   "outputs": [],
   "source": [
    "agg.RunAggregation()"
   ]
  },
  {
   "cell_type": "markdown",
   "metadata": {},
   "source": [
    "### Run a continuous aggregation across a series of files in a folder"
   ]
  },
  {
   "cell_type": "code",
   "execution_count": 5,
   "metadata": {
    "collapsed": false
   },
   "outputs": [],
   "source": [
    "#inContFiles = glob.glob(r'J:\\MOD11A2_Gapfilled_Output\\LST_Day\\Output_Final_30k_2030pc\\A20162??_LST_Day_Filled_Data.tif')\n",
    "#outDir = r'C:\\temp\\testagg_cont_output'\n",
    "inContFiles = glob.glob(r'J:\\MOD11A2_Gapfilled_Output\\LST_Day\\Output_Monthly_Means\\1km\\*.Data.tif')\n",
    "outDir = r'E:\\Data\\Harry\\Documents\\dataprep\\modis\\lst_day_5k_monthly_reagg'\n",
    "ndvOut = -9999\n",
    "stats = [ContinuousAggregationStats.ALL][0]"
   ]
  },
  {
   "cell_type": "code",
   "execution_count": 6,
   "metadata": {
    "collapsed": true
   },
   "outputs": [],
   "source": [
    "aggArgs = {\"resolution\":\"5km\", \"resolution_name\":\"5km\"}"
   ]
  },
  {
   "cell_type": "code",
   "execution_count": 7,
   "metadata": {
    "collapsed": false
   },
   "outputs": [],
   "source": [
    "agg = SpatialAggregator(inContFiles, outDir, ndvOut, stats, aggArgs)"
   ]
  },
  {
   "cell_type": "code",
   "execution_count": null,
   "metadata": {
    "collapsed": false
   },
   "outputs": [],
   "source": [
    "agg.RunAggregation()"
   ]
  },
  {
   "cell_type": "code",
   "execution_count": null,
   "metadata": {
    "collapsed": true
   },
   "outputs": [],
   "source": []
  }
 ],
 "metadata": {
  "kernelspec": {
   "display_name": "Python 2",
   "language": "python",
   "name": "python2"
  },
  "language_info": {
   "codemirror_mode": {
    "name": "ipython",
    "version": 2
   },
   "file_extension": ".py",
   "mimetype": "text/x-python",
   "name": "python",
   "nbconvert_exporter": "python",
   "pygments_lexer": "ipython2",
   "version": "2.7.5"
  }
 },
 "nbformat": 4,
 "nbformat_minor": 2
}
