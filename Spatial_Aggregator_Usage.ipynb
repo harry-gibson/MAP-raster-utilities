{
 "cells": [
  {
   "cell_type": "code",
   "execution_count": 38,
   "metadata": {
    "collapsed": true
   },
   "outputs": [],
   "source": [
    "from raster_utilities.io.tiff_management import ReadAOI_PixelLims_Inplace"
   ]
  },
  {
   "cell_type": "code",
   "execution_count": 39,
   "metadata": {
    "collapsed": false
   },
   "outputs": [],
   "source": [
    "from raster_utilities.aggregation.spatial.spatial_aggregation_runner import SpatialAggregator"
   ]
  },
  {
   "cell_type": "code",
   "execution_count": 40,
   "metadata": {
    "collapsed": true
   },
   "outputs": [],
   "source": [
    "import glob"
   ]
  },
  {
   "cell_type": "code",
   "execution_count": 41,
   "metadata": {
    "collapsed": true
   },
   "outputs": [],
   "source": [
    "from raster_utilities.aggregation.aggregation_values import *"
   ]
  },
  {
   "cell_type": "markdown",
   "metadata": {},
   "source": [
    "### Run a categorical aggregation across a series of files in a folder"
   ]
  },
  {
   "cell_type": "code",
   "execution_count": 4,
   "metadata": {
    "collapsed": false
   },
   "outputs": [],
   "source": [
    "inCatFiles = glob.glob(r'\\\\map-fs1.ndph.ox.ac.uk\\map_data\\mastergrids\\MODIS_Global\\MCD12Q1_Annual_Landcover\\500m_Raw\\A20*.tif')\n",
    "outDir = r'C:\\temp\\testagg_categorical_output'\n",
    "ndvOut = -9999\n",
    "stats = CategoricalAggregationStats.ALL\n",
    "aggArgs = {\"categories\":range(0,2),\n",
    "          \"resolution\":\"5km\"}"
   ]
  },
  {
   "cell_type": "code",
   "execution_count": 5,
   "metadata": {
    "collapsed": false
   },
   "outputs": [],
   "source": [
    "inCatFiles = glob.glob(r'E:\\Data\\Harry\\Documents\\dataprep\\GUF04_v2\\00011_all_files.vrt')\n",
    "inCatFiles = [r'E:\\Data\\Harry\\Documents\\dataprep\\GUF04_v2\\000111111112346\\GUF04_DLR_v02_e020_n55_e025_n50_OGR04.tif']\n",
    "outDir = r'E:\\Data\\Harry\\Documents\\dataprep\\GUF04_v2\\aggregated_1ktest'\n",
    "ndvOut = -9999\n",
    "stats = CategoricalAggregationStats.ALL\n",
    "aggArgs = {\"categories\":[0,255],\n",
    "          \"resolution\":\"1km\"}"
   ]
  },
  {
   "cell_type": "code",
   "execution_count": 6,
   "metadata": {
    "collapsed": false
   },
   "outputs": [],
   "source": [
    "agg = SpatialAggregator(inCatFiles, outDir, ndvOut, stats, aggArgs)"
   ]
  },
  {
   "cell_type": "code",
   "execution_count": 7,
   "metadata": {
    "collapsed": false,
    "scrolled": false
   },
   "outputs": [
    {
     "name": "stdout",
     "output_type": "stream",
     "text": [
      "Processing file E:\\Data\\Harry\\Documents\\dataprep\\GUF04_v2\\000111111112346\\GUF04_DLR_v02_e020_n55_e025_n50_OGR04.tif\n",
      "estimated GB: 7.55812973157\n",
      "Processing in 1 tiles of 45001 pixels\n",
      "Incoming nodata value is 128.0\n",
      "Using provided category list of 2 values: [  0 255]\n",
      "Input nodata value is 128\n",
      "."
     ]
    },
    {
     "ename": "Exception",
     "evalue": "Encountered unexpected category value of 0",
     "output_type": "error",
     "traceback": [
      "\u001b[0;31m---------------------------------------------------------------------------\u001b[0m",
      "\u001b[0;31mException\u001b[0m                                 Traceback (most recent call last)",
      "\u001b[0;32m<ipython-input-7-366b62a8127b>\u001b[0m in \u001b[0;36m<module>\u001b[0;34m()\u001b[0m\n\u001b[0;32m----> 1\u001b[0;31m \u001b[0magg\u001b[0m\u001b[1;33m.\u001b[0m\u001b[0mRunAggregation\u001b[0m\u001b[1;33m(\u001b[0m\u001b[1;33m)\u001b[0m\u001b[1;33m\u001b[0m\u001b[0m\n\u001b[0m",
      "\u001b[0;32mC:\\Users\\zool1301.NDPH\\Documents\\Code_General\\MAP-raster-utilities\\raster_utilities\\aggregation\\spatial\\spatial_aggregation_runner.pyc\u001b[0m in \u001b[0;36mRunAggregation\u001b[0;34m(self)\u001b[0m\n\u001b[1;32m    181\u001b[0m     \u001b[1;32mdef\u001b[0m \u001b[0mRunAggregation\u001b[0m\u001b[1;33m(\u001b[0m\u001b[0mself\u001b[0m\u001b[1;33m)\u001b[0m\u001b[1;33m:\u001b[0m\u001b[1;33m\u001b[0m\u001b[0m\n\u001b[1;32m    182\u001b[0m         \u001b[1;32mfor\u001b[0m \u001b[0mf\u001b[0m \u001b[1;32min\u001b[0m \u001b[0mself\u001b[0m\u001b[1;33m.\u001b[0m\u001b[0mfilesList\u001b[0m\u001b[1;33m:\u001b[0m\u001b[1;33m\u001b[0m\u001b[0m\n\u001b[0;32m--> 183\u001b[0;31m             \u001b[0mself\u001b[0m\u001b[1;33m.\u001b[0m\u001b[0m_aggregateFile\u001b[0m\u001b[1;33m(\u001b[0m\u001b[0mf\u001b[0m\u001b[1;33m)\u001b[0m\u001b[1;33m\u001b[0m\u001b[0m\n\u001b[0m\u001b[1;32m    184\u001b[0m \u001b[1;33m\u001b[0m\u001b[0m\n\u001b[1;32m    185\u001b[0m     \u001b[1;32mdef\u001b[0m \u001b[0m_aggregateFile\u001b[0m\u001b[1;33m(\u001b[0m\u001b[0mself\u001b[0m\u001b[1;33m,\u001b[0m \u001b[0mfilename\u001b[0m\u001b[1;33m)\u001b[0m\u001b[1;33m:\u001b[0m\u001b[1;33m\u001b[0m\u001b[0m\n",
      "\u001b[0;32mC:\\Users\\zool1301.NDPH\\Documents\\Code_General\\MAP-raster-utilities\\raster_utilities\\aggregation\\spatial\\spatial_aggregation_runner.pyc\u001b[0m in \u001b[0;36m_aggregateFile\u001b[0;34m(self, filename)\u001b[0m\n\u001b[1;32m    261\u001b[0m             \u001b[1;32melse\u001b[0m\u001b[1;33m:\u001b[0m\u001b[1;33m\u001b[0m\u001b[0m\n\u001b[1;32m    262\u001b[0m                 aggregator.addTile(inArr#.astype(np.uint8)\n\u001b[0;32m--> 263\u001b[0;31m                                    , xOff, yOff)\n\u001b[0m\u001b[1;32m    264\u001b[0m             \u001b[0minArr\u001b[0m \u001b[1;33m=\u001b[0m \u001b[0mNone\u001b[0m\u001b[1;33m\u001b[0m\u001b[0m\n\u001b[1;32m    265\u001b[0m \u001b[1;33m\u001b[0m\u001b[0m\n",
      "\u001b[0;32mspatial\\core\\categorical.pyx\u001b[0m in \u001b[0;36mspatial.core.categorical.Categorical_Aggregator.addTile (spatial\\core\\categorical.c:4419)\u001b[0;34m()\u001b[0m\n",
      "\u001b[0;32mspatial\\core\\categorical.pyx\u001b[0m in \u001b[0;36mspatial.core.categorical.Categorical_Aggregator.addTile (spatial\\core\\categorical.c:4233)\u001b[0;34m()\u001b[0m\n",
      "\u001b[0;31mException\u001b[0m: Encountered unexpected category value of 0"
     ]
    }
   ],
   "source": [
    "agg.RunAggregation()"
   ]
  },
  {
   "cell_type": "markdown",
   "metadata": {},
   "source": [
    "### Run a continuous aggregation across a series of files in a folder"
   ]
  },
  {
   "cell_type": "code",
   "execution_count": 46,
   "metadata": {
    "collapsed": false
   },
   "outputs": [],
   "source": [
    "#inContFiles = glob.glob(r'J:\\MOD11A2_Gapfilled_Output\\LST_Day\\Output_Final_30k_2030pc\\A20162??_LST_Day_Filled_Data.tif')\n",
    "#outDir = r'C:\\temp\\testagg_cont_output'\n",
    "inContFiles = glob.glob(r'E:\\Data\\Harry\\Documents\\dataprep\\xiao-rice\\africa\\*.tif')\n",
    "outDir = r'E:\\Data\\Harry\\Documents\\dataprep\\xiao-rice\\africa\\10k'\n",
    "ndvOut = -9999\n",
    "stats = [ContinuousAggregationStats.MEAN]"
   ]
  },
  {
   "cell_type": "code",
   "execution_count": 47,
   "metadata": {
    "collapsed": true
   },
   "outputs": [],
   "source": [
    "aggArgs = {\"resolution\":\"10km\"}"
   ]
  },
  {
   "cell_type": "code",
   "execution_count": 48,
   "metadata": {
    "collapsed": false
   },
   "outputs": [],
   "source": [
    "agg = SpatialAggregator(inContFiles, outDir, ndvOut, stats, aggArgs)"
   ]
  },
  {
   "cell_type": "code",
   "execution_count": null,
   "metadata": {
    "collapsed": false
   },
   "outputs": [],
   "source": [
    "agg.RunAggregation()"
   ]
  },
  {
   "cell_type": "code",
   "execution_count": null,
   "metadata": {
    "collapsed": true
   },
   "outputs": [],
   "source": []
  }
 ],
 "metadata": {
  "kernelspec": {
   "display_name": "Python 2",
   "language": "python",
   "name": "python2"
  },
  "language_info": {
   "codemirror_mode": {
    "name": "ipython",
    "version": 2
   },
   "file_extension": ".py",
   "mimetype": "text/x-python",
   "name": "python",
   "nbconvert_exporter": "python",
   "pygments_lexer": "ipython2",
   "version": "2.7.5"
  }
 },
 "nbformat": 4,
 "nbformat_minor": 2
}
