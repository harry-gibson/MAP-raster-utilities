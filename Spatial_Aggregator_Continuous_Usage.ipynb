{
 "cells": [
  {
   "cell_type": "markdown",
   "metadata": {},
   "source": [
    "# Aggregation (spatial downsampling)\n",
    "\n",
    "### Continuous aggregation\n",
    "\n",
    "The core aggregation code is written in Cython, in raster_utilities.aggregation.spatial.core.continuous.pyx. \n",
    "\n",
    "A helper class raster_utilities.aggregation.spatial.SpatialAggregator is provided to manage calling the Cython code.\n",
    "\n",
    "This notebook demonstrates using the helper class to aggregate a series of continuous-type raster files.\n",
    "\n",
    "The code has been written to read input rasters of theoreticlly unlimited size, which are read in tiles to build up the output coarser / smaller grids; memory use is determined by the size of the output files (and the number of categories, i.e. output files that are created)."
   ]
  },
  {
   "cell_type": "code",
   "execution_count": 2,
   "metadata": {
    "collapsed": false
   },
   "outputs": [],
   "source": [
    "# The helper class\n",
    "import raster_utilities.aggregation.spatial.SpatialAggregator"
   ]
  },
  {
   "cell_type": "code",
   "execution_count": 3,
   "metadata": {
    "collapsed": true
   },
   "outputs": [],
   "source": [
    "# Enumerations to provide acceptable values for the aggregation parameters,\n",
    "# avoid having to remember strings\n",
    "from raster_utilities.aggregation.aggregation_values import *"
   ]
  },
  {
   "cell_type": "code",
   "execution_count": 4,
   "metadata": {
    "collapsed": true
   },
   "outputs": [],
   "source": [
    "import glob"
   ]
  },
  {
   "cell_type": "markdown",
   "metadata": {},
   "source": [
    "### Run a continuous aggregation across a series of files in a folder"
   ]
  },
  {
   "cell_type": "code",
   "execution_count": 5,
   "metadata": {
    "collapsed": false
   },
   "outputs": [],
   "source": [
    "# The files to be aggregated should be provided as a list of filepaths. \n",
    "# (Just make a single-item list for one file)\n",
    "inContFiles = glob.glob(r'J:\\MOD11A2_DiurnalDiffs\\1km\\Synoptic\\*.Synoptic.*.*.1km.Data.tif')\n",
    "\n",
    "# Also provide the output folder\n",
    "outDir = r'J:\\MOD11A2_DiurnalDiffs\\5km\\Synoptic'"
   ]
  },
  {
   "cell_type": "markdown",
   "metadata": {},
   "source": [
    "Specify the output nodata value (it doesn't have to be the same as the input, incoming NDV will be read from the files (better be set properly!)"
   ]
  },
  {
   "cell_type": "code",
   "execution_count": null,
   "metadata": {
    "collapsed": true
   },
   "outputs": [],
   "source": [
    "ndvOut = -9999"
   ]
  },
  {
   "cell_type": "markdown",
   "metadata": {},
   "source": [
    "Specify the aggregation statistics to create. This must be a list of items from the ContinuousAggregationStats enumeration, or their string representations."
   ]
  },
  {
   "cell_type": "code",
   "execution_count": 6,
   "metadata": {
    "collapsed": true
   },
   "outputs": [],
   "source": [
    "# e.g.\n",
    "# stats = [ContinuousAggregationStats.MEAN, ContinuousAggregationStats.MAX]\n",
    "\n",
    "# or do do all of them use this convenience: \n",
    "stats = ContinuousAggregationStats.ALL.value"
   ]
  },
  {
   "cell_type": "markdown",
   "metadata": {},
   "source": [
    "Finally configure the aggregation. The final parameter for the SpatialAggregator constructor should be a dictionary that configures how the aggregation will run. \n",
    "\n",
    "* This should have a key that is a member of the AggregationTypes enumeration, i.e. AggregationTypes.RESOLUTION, AggregationTypes.FACTOR, or AggregationTypes.SIZE. This key determines the resolution of the output files in one of three ways.\n",
    "* The value of this key should be as follows:\n",
    "    * AggregationTypes.RESOLUTION: (Float value, or string \"1km\", \"5km\" or \"10km\")\n",
    "    * AggregationTypes.FACTOR: Int value (e.g. 5 to go from 1k rasters to 5k rasters\n",
    "    * AggregationTypes.SIZE: 2-tuple specifying the (height,width) of the output rasters\n",
    "\n",
    "* A key \"resolution_name\" may be provided, which provides the name for the output resolution to be used as the fifth token of the 6-token output filenames (e.g. \"5km\")\n",
    "\n",
    "* A key \"mem_limit_gb\" may be provided, to limit the memory use (if not, 30GB will be the default). Note that it's not very accurate so be conservative!\n"
   ]
  },
  {
   "cell_type": "code",
   "execution_count": 8,
   "metadata": {
    "collapsed": true
   },
   "outputs": [],
   "source": [
    "# e.g.\n",
    "# Resolution can be a floating point number, or a string representing \n",
    "# one of the core mastergrid resolutions \"1km\", \"5km\", or \"10km\".\n",
    "aggArgs = {AggregationTypes.RESOLUTION:\"5km\", \"resolution_name\":\"5km\"}"
   ]
  },
  {
   "cell_type": "markdown",
   "metadata": {},
   "source": [
    "Now just instantiate and run the aggregation:"
   ]
  },
  {
   "cell_type": "code",
   "execution_count": 7,
   "metadata": {
    "collapsed": false
   },
   "outputs": [],
   "source": [
    "agg = SpatialAggregator(inContFiles, outDir, ndvOut, stats, aggArgs)"
   ]
  },
  {
   "cell_type": "code",
   "execution_count": null,
   "metadata": {
    "collapsed": false,
    "scrolled": true
   },
   "outputs": [],
   "source": [
    "agg.RunAggregation()"
   ]
  }
 ],
 "metadata": {
  "kernelspec": {
   "display_name": "Python 2",
   "language": "python",
   "name": "python2"
  },
  "language_info": {
   "codemirror_mode": {
    "name": "ipython",
    "version": 2
   },
   "file_extension": ".py",
   "mimetype": "text/x-python",
   "name": "python",
   "nbconvert_exporter": "python",
   "pygments_lexer": "ipython2",
   "version": "2.7.5"
  }
 },
 "nbformat": 4,
 "nbformat_minor": 2
}
