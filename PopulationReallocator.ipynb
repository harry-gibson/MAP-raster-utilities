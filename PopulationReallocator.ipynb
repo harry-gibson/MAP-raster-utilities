{
 "cells": [
  {
   "cell_type": "markdown",
   "metadata": {},
   "source": [
    "# Population Reallocator"
   ]
  },
  {
   "cell_type": "markdown",
   "metadata": {},
   "source": [
    "Contains code to match population or similar \"count\" datasets to a fixed coastline. With data of this type we cannot simply discard any input data values that do not fall within the land template file that we are using, in case of mismatch. Those values represent population, who must be reallocated to another \"land\" pixel to maintain totals."
   ]
  },
  {
   "cell_type": "code",
   "execution_count": 1,
   "metadata": {
    "collapsed": true
   },
   "outputs": [],
   "source": [
    "from osgeo import gdal, gdal_array\n",
    "import numpy as np\n",
    "import rasterio\n",
    "import glob\n",
    "import os"
   ]
  },
  {
   "cell_type": "code",
   "execution_count": 13,
   "metadata": {
    "collapsed": true
   },
   "outputs": [],
   "source": [
    "from raster_utilities.io.TiffFile import SingleBandTiffFile, RasterProps\n",
    "from raster_utilities.io.tiff_management import SaveLZWTiff"
   ]
  },
  {
   "cell_type": "code",
   "execution_count": 3,
   "metadata": {
    "collapsed": true
   },
   "outputs": [],
   "source": [
    "from raster_utilities.template_matching.coastline_matching import MatchToCoastline_Population"
   ]
  },
  {
   "cell_type": "markdown",
   "metadata": {},
   "source": [
    "# Basic usage"
   ]
  },
  {
   "cell_type": "markdown",
   "metadata": {},
   "source": [
    "### Reallocate population from one or more files to the MAP template"
   ]
  },
  {
   "cell_type": "markdown",
   "metadata": {},
   "source": [
    "#### Configure files here"
   ]
  },
  {
   "cell_type": "code",
   "execution_count": 4,
   "metadata": {
    "collapsed": true
   },
   "outputs": [],
   "source": [
    "# files in true (accurate) coords (resolution = 0.008333333333333 or multiple thereof)\n",
    "coastlineFile = r'G:\\Supporting\\CoastGlobal.tiff'\n",
    "#coastlineFile = r'G:\\Supporting\\CoastGlobal_5k.tif'"
   ]
  },
  {
   "cell_type": "code",
   "execution_count": 5,
   "metadata": {
    "collapsed": true
   },
   "outputs": [],
   "source": [
    "\n",
    "inFiles = [r'F:\\My Drive\\Data_Preparation\\population\\Facebook_HRSL_Population\\Continent_From_HDX\\FB_HRSL_Pop.Synoptic.Overall.Data.1km.sum.tif']\n",
    "#inFiles = glob.glob(r'C:\\Temp\\testagg\\mos\\guf_5km_*.tif')\n",
    "outDir = r'C:\\Temp'"
   ]
  },
  {
   "cell_type": "code",
   "execution_count": 4,
   "metadata": {
    "collapsed": true
   },
   "outputs": [],
   "source": [
    "inFiles = glob.glob(r'C:\\Temp\\dataprep\\pop_2016\\Americas-POP-1KM\\*.tif')\n",
    "inFiles = glob.glob(r'C:\\Temp\\dataprep\\pop_2016\\frankenpop_2017_creation\\*.tif')\n",
    "#inFiles = glob.glob(r'C:\\Temp\\dataprep\\pop_2016\\GPWv4\\*.tif')\n",
    "outDir = r'C:\\Temp\\dataprep\\pop_2016\\Asia-POP-1KM'"
   ]
  },
  {
   "cell_type": "markdown",
   "metadata": {},
   "source": [
    "#### Configure the clip and reallocation parameters"
   ]
  },
  {
   "cell_type": "markdown",
   "metadata": {},
   "source": [
    "Should no-data cells in land be replaced with zero?"
   ]
  },
  {
   "cell_type": "code",
   "execution_count": 6,
   "metadata": {
    "collapsed": true
   },
   "outputs": [],
   "source": [
    "fillLandWithZero = 0"
   ]
  },
  {
   "cell_type": "markdown",
   "metadata": {},
   "source": [
    "Should zeros occurring at sea be clipped out (replaced with nodata), as opposed to ignored?"
   ]
  },
  {
   "cell_type": "code",
   "execution_count": 7,
   "metadata": {
    "collapsed": true
   },
   "outputs": [],
   "source": [
    "clipZerosAtSea = 1"
   ]
  },
  {
   "cell_type": "markdown",
   "metadata": {},
   "source": [
    "When seeking to reallocate population / data from a sea pixel to the nearest land, how far should we search to find a land pixel before giving up?"
   ]
  },
  {
   "cell_type": "code",
   "execution_count": 8,
   "metadata": {
    "collapsed": true
   },
   "outputs": [],
   "source": [
    "searchPixelRadius = 100"
   ]
  },
  {
   "cell_type": "markdown",
   "metadata": {},
   "source": [
    "If we fail to reallocate population to the nearest land, due to none being in range, should we delete them anyway or leave them in the sea?"
   ]
  },
  {
   "cell_type": "code",
   "execution_count": 9,
   "metadata": {
    "collapsed": true
   },
   "outputs": [],
   "source": [
    "deleteUnmoveableData = 0"
   ]
  },
  {
   "cell_type": "markdown",
   "metadata": {},
   "source": [
    "Note that with the following settings the effect will be a straightforward clip to the land mask with no reallocation or filling:\n",
    "\n",
    "searchPixelRadius = 0\n",
    "\n",
    "deleteUnmoveableData = 1\n",
    "\n",
    "clipZerosAtSea = 1\n",
    "\n",
    "fillLandWithZero = 0"
   ]
  },
  {
   "cell_type": "markdown",
   "metadata": {},
   "source": [
    "### Match multiple files to mastergrids (GPWv4, GPWv3, GRUMP, Worldpop series)"
   ]
  },
  {
   "cell_type": "code",
   "execution_count": null,
   "metadata": {
    "collapsed": true
   },
   "outputs": [],
   "source": [
    "landFile = SingleBandTiffFile(coastlineFile, shouldCache=True)\n",
    "landProps = landFile.GetProperties()\n",
    "\n",
    "for inFileName in inFiles:\n",
    "    print(inFileName)\n",
    "    existingParts = os.path.basename(inFileName).split(\".\")\n",
    "    if len(existingParts)==7:\n",
    "        # assume it's a 6-token mastergrid format name\n",
    "        varTag = existingParts[0]\n",
    "        \n",
    "        odf = varTag + \"-MG_Matched\" + \".\".join(existingParts[1:])\n",
    "        off = varTag + \"-MG_Errors\" + \".\".join(existingParts[1:])\n",
    "    else:\n",
    "        odf = os.path.basename(inFileName) + \"-MG_Matched.tif\"\n",
    "        off = os.path.basename(inFileName) + \"-MG_Errors.tif\"\n",
    "    outDataFile = os.path.join(outDir, odf)\n",
    "    outFailFile = os.path.join(outDir, off)\n",
    "    inFile = SingleBandTiffFile(inFileName)\n",
    "    inProps = inFile.GetProperties()\n",
    "    incomingGDType = inProps.datatype\n",
    "    incomingNPType = gdal_array.GDALTypeCodeToNumericTypeCode(incomingGDType)\n",
    "    popData = inFile.ReadAll()\n",
    "    wasRecast = 0\n",
    "    if not incomingNPType == np.float32 or incomingNPType == np.float64:\n",
    "        print (\"Raster is not a float - recasting\")\n",
    "        print (incomingNPType)\n",
    "        popData = popData.astype(np.float32)\n",
    "        wasRecast = 1\n",
    "    \n",
    "    \n",
    "    # Check that the resolutions are the same\n",
    "    # (If the rounding issue has not first been corrected then the assertion will\n",
    "    # fail: in this case comment them out and satisfy yourself first that the pixel \n",
    "    # coordinates do match i.e. that the rounding doesn't lead to > 0.5 cell error)\n",
    "    assert round(inProps.gt[1], 12) == round(landProps.gt[1], 12) \n",
    "    assert round(inProps.gt[5], 12) == round(landProps.gt[5], 12)\n",
    "    \n",
    "    # the population dataset is not global; where does it sit in the global image?\n",
    "    landOffsetW = int(round((inProps.gt[0] - gtLand[0]) / gtLand[1]))\n",
    "    landOffsetN = int(round((inProps.gt[3]-gtLand[3]) / gtLand[5]))\n",
    "    \n",
    "    #print (landOffsetN, landOffsetW)\n",
    "        "
   ]
  },
  {
   "cell_type": "code",
   "execution_count": 14,
   "metadata": {
    "collapsed": false
   },
   "outputs": [
    {
     "name": "stdout",
     "output_type": "stream",
     "text": [
      "F:\\My Drive\\Data_Preparation\\population\\Facebook_HRSL_Population\\Continent_From_HDX\\FB_HRSL_Pop.Synoptic.Overall.Data.1km.sum.tif\n",
      "Nodata incoming is -3.40282346639e+38\n",
      "Reallocated 11554607.0 total pop from 7755 cells to nearby land cell\n",
      "Clipped (set to nodata) 0 zero-value cells in the sea\n",
      "Failed to reallocate 37.0304603577 total pop from 2 cells to nearby land cell\n"
     ]
    }
   ],
   "source": [
    "for inFileName in inFiles:\n",
    "    print inFileName\n",
    "    outDataFile = os.path.splitext(inFileName)[0] + \".MG_Matched.tif\"\n",
    "    outFailFile = os.path.splitext(inFileName)[0] + \".MG_Errors.tif\"\n",
    "    \n",
    "    inDS = gdal.Open(inFileName)\n",
    "    bData = inDS.GetRasterBand(1)\n",
    "    ndvIn = bData.GetNoDataValue()\n",
    "    if ndvIn:\n",
    "        print \"Nodata incoming is \" + str(ndvIn)\n",
    "    gtIn = inDS.GetGeoTransform()\n",
    "    projIn = inDS.GetProjection()\n",
    "    \n",
    "    dTypeIn = bData.DataType\n",
    "    incomingNPType = gdal_array.GDALTypeCodeToNumericTypeCode(dTypeIn)\n",
    "    wasRecast = 0\n",
    "    if not incomingNPType == np.float32 or incomingNPType == np.float64:\n",
    "        print \"Raster is not a float - recasting\"\n",
    "        print incomingNPType\n",
    "       # assert False\n",
    "        popData = bData.ReadAsArray().astype(np.float32)\n",
    "        wasRecast = 1\n",
    "    else:\n",
    "        popData = bData.ReadAsArray()\n",
    "    popDS = None\n",
    "    \n",
    "    landDS = gdal.Open(coastlineFile)\n",
    "    b = landDS.GetRasterBand(1)\n",
    "    ndvMask = b.GetNoDataValue()\n",
    "    gtLand = landDS.GetGeoTransform()\n",
    "    \n",
    "    # Check that the resolutions are the same\n",
    "    # (If the rounding issue has not first been corrected then the assertion will\n",
    "    # fail: in this case comment them out and satisfy yourself first that the pixel \n",
    "    # coordinates do match i.e. that the rounding doesn't lead to > 0.5 cell error)\n",
    "    assert round(gtIn[1], 12) == round(gtLand[1], 12) \n",
    "    assert round(gtIn[5], 12) == round(gtLand[5], 12)\n",
    "    \n",
    "    # the population dataset is not global; where does it sit in the global image?\n",
    "    landOffsetW = int(round((gtIn[0] - gtLand[0]) / gtLand[1]))\n",
    "    landOffsetN = int(round((gtIn[3]-gtLand[3]) / gtLand[5]))\n",
    "    \n",
    "    #print (landOffsetN, landOffsetW)\n",
    "    landData= b.ReadAsArray(landOffsetW, landOffsetN, \n",
    "                            popData.shape[1], popData.shape[0])\n",
    "    \n",
    "    popData[popData == ndvIn] = -9999\n",
    "    ndvIn = -9999\n",
    "    failedLocs = MatchToCoastline_Population(popData, landData, ndvIn, \n",
    "                                    fillLandWithZero = fillLandWithZero, \n",
    "                                    clipZerosAtSea = clipZerosAtSea, \n",
    "                                    searchPixelRadius = searchPixelRadius,\n",
    "                                    deleteDespiteFailure = deleteUnmoveableData)\n",
    "    #popData[popData > 1]=1\n",
    "    incomingNPType = np.int16\n",
    "    if wasRecast:\n",
    "        SaveLZWTiff(popData.astype(incomingNPType), ndvIn, gtIn, projIn,\n",
    "                   outDir, outDataFile)\n",
    "    else:\n",
    "        SaveLZWTiff(popData, ndvIn, gtIn, projIn, outDir, outDataFile)\n",
    "    \n",
    "    SaveLZWTiff(np.asarray(failedLocs), None, gtIn, projIn, \n",
    "                outDir, outFailFile)\n",
    "    "
   ]
  },
  {
   "cell_type": "code",
   "execution_count": 11,
   "metadata": {
    "collapsed": true,
    "scrolled": true
   },
   "outputs": [],
   "source": [
    "MatchToCoastline_Population?"
   ]
  },
  {
   "cell_type": "code",
   "execution_count": 16,
   "metadata": {
    "collapsed": false
   },
   "outputs": [
    {
     "data": {
      "text/plain": [
       "'F:\\\\My Drive\\\\Data_Preparation\\\\population\\\\Facebook_HRSL_Population\\\\Continent_From_HDX\\\\FB_HRSL_Pop.Synoptic.Overall.Data.1km.sum.MG_Matched.tif'"
      ]
     },
     "execution_count": 16,
     "metadata": {},
     "output_type": "execute_result"
    }
   ],
   "source": [
    "outDataFile"
   ]
  },
  {
   "cell_type": "code",
   "execution_count": 16,
   "metadata": {
    "collapsed": false
   },
   "outputs": [
    {
     "data": {
      "text/plain": [
       "(17452L, 43201L)"
      ]
     },
     "execution_count": 16,
     "metadata": {},
     "output_type": "execute_result"
    }
   ],
   "source": [
    "popData.shape"
   ]
  },
  {
   "cell_type": "code",
   "execution_count": null,
   "metadata": {
    "collapsed": true
   },
   "outputs": [],
   "source": [
    "#popDir = r'C:\\Users\\zool1301\\Documents\\Other_Data\\Population\\WorldPop\\WholeContinentPop2010\\WorldPop-Africa'\n",
    "popDir = r'G:\\DataPrep\\population\\GRUMP\\tif'\n",
    "#r'C:\\Users\\zool1301\\Documents\\Other_Data\\Population\\WorldPop\\AgeStructuresAsia'\n",
    "popFiles = glob.glob(os.path.join(popDir, \"*.tif\"))\n",
    "for inFN in popFiles:\n",
    "    outFN = os.path.join(popDir, \n",
    "                         #\"MG_Matched\", \n",
    "                         os.path.basename(os.path.splitext(inFN)[0])\n",
    "                             +\"_MG_Matched.tif\"\n",
    "                         )\n",
    "    outFailFN = outFN.replace(\"_MG_Matched.tif\", \"_MG_Failures.tif\")\n",
    "    if os.path.exists(outFN):\n",
    "        print \"Already done \"+inFN\n",
    "        continue\n",
    "    print inFN\n",
    "    popDS = gdal.Open(inFN)\n",
    "    b = popDS.GetRasterBand(1)\n",
    "    ndvPop = b.GetNoDataValue()\n",
    "    gtPop = popDS.GetGeoTransform()\n",
    "    projPop = popDS.GetProjection()\n",
    "    \n",
    "    popData = b.ReadAsArray()\n",
    "    popDS = None\n",
    "    \n",
    "    landDS = gdal.Open(ls_Accurate_1kFile)\n",
    "    b = landDS.GetRasterBand(1)\n",
    "    ndvMask = b.GetNoDataValue()\n",
    "    gtLand = landDS.GetGeoTransform()\n",
    "    \n",
    "    # Check that the resolutions are the same\n",
    "    # (If the rounding issue has not first been corrected then the assertion will\n",
    "    # fail: in this case comment them out and satisfy yourself first that the pixel \n",
    "    # coordinates do match i.e. that the rounding doesn't lead to > 0.5 cell error)\n",
    "    assert round(gtPop[1], 15) == round(gtLand[1], 15) \n",
    "    assert round(gtPop[5], 15) == round(gtLand[5], 15)\n",
    "    \n",
    "    # the population dataset is not global; where does it sit in the global image?\n",
    "    landOffsetW = int(round((gtPop[0] - gtLand[0]) / gtLand[1]))\n",
    "    landOffsetN = int(round((gtPop[3]-gtLand[3]) / gtLand[5]))\n",
    "    \n",
    "    #print (landOffsetN, landOffsetW)\n",
    "    landData= b.ReadAsArray(landOffsetW, landOffsetN, popData.shape[1], popData.shape[0])\n",
    "    \n",
    "    failedLocs = reallocateToUnmasked(popData, landData, ndvPop)\n",
    "    \n",
    "    writeTiffFile(popData, outFN, gtPop, projPop, ndvPop)\n",
    "    writeTiffFile(np.asarray(failedLocs), outFailFN, gtPop, projPop, None, gdal.GDT_Byte)\n",
    "    "
   ]
  },
  {
   "cell_type": "code",
   "execution_count": null,
   "metadata": {
    "collapsed": true
   },
   "outputs": [],
   "source": []
  },
  {
   "cell_type": "code",
   "execution_count": 21,
   "metadata": {
    "collapsed": true
   },
   "outputs": [],
   "source": [
    "inDirStack = r'C:\\Users\\zool1301\\Documents\\Other_Data\\Population\\WorldPop\\AgeStructures\\AgeStructuresAfrica\\MG_Matched'\n",
    "fnFormat = 'ap{0}v4_A*_MG_Matched.tif'\n",
    "for yr in ['00','05','10','15']:\n",
    "    inPattern = fnFormat.format(yr)\n",
    "    inStack = glob.glob(os.path.join(inDirStack, inPattern))\n",
    "    first = True\n",
    "    for inFN in inStack:\n",
    "        ds = gdal.Open(inFN)\n",
    "        b = ds.GetRasterBand(1)\n",
    "        arr = b.ReadAsArray()\n",
    "        if first:\n",
    "            first = False\n",
    "            ndvPop = b.GetNoDataValue()\n",
    "            gtPop = ds.GetGeoTransform()\n",
    "            projPop = ds.GetProjection()\n",
    "            sumArr = arr\n",
    "        else:\n",
    "            assert ndvPop == b.GetNoDataValue()\n",
    "            assert gtPop == ds.GetGeoTransform()\n",
    "            assert projPop == ds.GetProjection()\n",
    "            assert arr.shape == sumArr.shape\n",
    "            sumArr[arr != ndvPop] += arr[arr != ndvPop]\n",
    "    outFN = \"Africa{0}_ManualTotal.tif\".format(yr)\n",
    "    writeTiffFile(sumArr, os.path.join(inDirStack,outFN), gtPop, projPop, ndvPop)\n",
    "    "
   ]
  },
  {
   "cell_type": "markdown",
   "metadata": {},
   "source": [
    "### Or do a single file manually"
   ]
  },
  {
   "cell_type": "code",
   "execution_count": null,
   "metadata": {
    "collapsed": true
   },
   "outputs": [],
   "source": [
    "popDS = gdal.Open(inPopFile)\n",
    "b = popDS.GetRasterBand(1)\n",
    "ndvPop = b.GetNoDataValue()\n",
    "gtPop = popDS.GetGeoTransform()\n",
    "projPop = popDS.GetProjection()\n",
    "\n",
    "#popData = b.ReadAsArray()\n",
    "popOffsetN = int((50 - gtPop[3]) / gtLand[5])\n",
    "popHeight = int((50 - -60) / gtPop[1])\n",
    "popData = b.ReadAsArray(0, popOffsetN, 8640, popHeight)"
   ]
  },
  {
   "cell_type": "code",
   "execution_count": 29,
   "metadata": {
    "collapsed": false
   },
   "outputs": [
    {
     "data": {
      "text/plain": [
       "(-17.533398320000007, 0.00833333, 0.0, 37.54996098, 0.0, -0.00833333)"
      ]
     },
     "execution_count": 29,
     "metadata": {},
     "output_type": "execute_result"
    }
   ],
   "source": [
    "gtPop"
   ]
  },
  {
   "cell_type": "code",
   "execution_count": 27,
   "metadata": {
    "collapsed": false
   },
   "outputs": [
    {
     "data": {
      "text/plain": [
       "(-180.0, 0.041666666666665, 0.0, 90.0, 0.0, -0.041666666666665)"
      ]
     },
     "execution_count": 27,
     "metadata": {},
     "output_type": "execute_result"
    }
   ],
   "source": [
    "landDS = gdal.Open(ls_Accurate_5kFile)\n",
    "b = landDS.GetRasterBand(1)\n",
    "ndvMask = b.GetNoDataValue()\n",
    "gtLand = landDS.GetGeoTransform()\n",
    "gtLand"
   ]
  },
  {
   "cell_type": "code",
   "execution_count": null,
   "metadata": {
    "collapsed": true
   },
   "outputs": [],
   "source": [
    "# Are the resolutions the same?\n",
    "assert gtPop[1] == gtLand[1]\n",
    "assert gtPop[5] == gtLand[5]"
   ]
  },
  {
   "cell_type": "code",
   "execution_count": 30,
   "metadata": {
    "collapsed": false
   },
   "outputs": [
    {
     "data": {
      "text/plain": [
       "(960, 3899)"
      ]
     },
     "execution_count": 30,
     "metadata": {},
     "output_type": "execute_result"
    }
   ],
   "source": [
    "# the population dataset is not global; where does it sit in the global image?\n",
    "landOffsetW = int(round((gtPop[0] - gtLand[0]) / gtLand[1]))\n",
    "#landOffsetN = int((gtPop[3]-gtLand[3]) / gtLand[5])\n",
    "landOffsetN = int(round((50-gtLand[3]) / gtLand[5]))\n",
    "landOffsetN, landOffsetW"
   ]
  },
  {
   "cell_type": "code",
   "execution_count": null,
   "metadata": {
    "collapsed": true
   },
   "outputs": [],
   "source": [
    "landHeight = (50 - -60) / gtLand[1]"
   ]
  },
  {
   "cell_type": "code",
   "execution_count": null,
   "metadata": {
    "collapsed": true
   },
   "outputs": [],
   "source": [
    "landHeight"
   ]
  },
  {
   "cell_type": "code",
   "execution_count": null,
   "metadata": {
    "collapsed": true
   },
   "outputs": [],
   "source": [
    "# read the required portion of the land data\n",
    "landData= b.ReadAsArray(landOffsetW, landOffsetN, popData.shape[1], popData.shape[0])\n",
    "#landData= b.ReadAsArray(landOffsetW, landOffsetN, 8640, 2640)"
   ]
  },
  {
   "cell_type": "code",
   "execution_count": null,
   "metadata": {
    "collapsed": true
   },
   "outputs": [],
   "source": [
    "# check the totals match - do this before and after\n",
    "np.logical_and(np.not_equal(popData,ndvPop), np.not_equal(popData,0)).sum()"
   ]
  },
  {
   "cell_type": "code",
   "execution_count": null,
   "metadata": {
    "collapsed": true
   },
   "outputs": [],
   "source": [
    "# perform the reallocation\n",
    "failedLocs = reallocateToUnmasked(popData, landData, ndvPop)"
   ]
  },
  {
   "cell_type": "code",
   "execution_count": null,
   "metadata": {
    "collapsed": true
   },
   "outputs": [],
   "source": [
    "# check the totals match - do this before and after\n",
    "np.logical_and(np.not_equal(popData,ndvPop), np.not_equal(popData,0)).sum()"
   ]
  },
  {
   "cell_type": "code",
   "execution_count": null,
   "metadata": {
    "collapsed": true
   },
   "outputs": [],
   "source": [
    "# write the outputs\n",
    "writeTiffFile(popData, outPopFile, gtPop, projPop, ndvPop)\n",
    "writeTiffFile(failedLocs, outFailFile, gtPop, projPop, None, gdal.GDT_Byte)"
   ]
  },
  {
   "cell_type": "markdown",
   "metadata": {},
   "source": [
    "#### Linear interpolate 5-yearly grids to annual"
   ]
  },
  {
   "cell_type": "code",
   "execution_count": null,
   "metadata": {
    "collapsed": true
   },
   "outputs": [],
   "source": [
    "pop2005File = r'C:\\Users\\zool1301\\Documents\\Other_Data\\Population\\GPWv3\\Futures\\GPWv3_FE_2005_MGMatched.tif'\n",
    "pop2010File = r'C:\\Users\\zool1301\\Documents\\Other_Data\\Population\\GPWv3\\Futures\\GPWv3_FE_2010_MGMatched.tif'\n",
    "pop2015File = r'C:\\Users\\zool1301\\Documents\\Other_Data\\Population\\GPWv3\\Futures\\GPWv3_FE_2015_MGMatched.tif'\n",
    "d = gdal.Open(pop2005File)\n",
    "pop2005 = d.GetRasterBand(1).ReadAsArray()\n",
    "d = gdal.Open(pop2010File)\n",
    "pop2010 = d.GetRasterBand(1).ReadAsArray()\n",
    "d = gdal.Open(pop2015File)\n",
    "pop2015 = d.GetRasterBand(1).ReadAsArray()\n"
   ]
  },
  {
   "cell_type": "code",
   "execution_count": 4,
   "metadata": {
    "collapsed": true
   },
   "outputs": [],
   "source": [
    "popDir = r'\\\\map-fs1.ndph.ox.ac.uk\\map_data\\mastergrids\\Other_Global_Covariates\\Population\\Worldpop_GPWv4_Hybrid_201601'\n",
    "\n",
    "pop2000File = os.path.join(popDir, 'Global_Pop_1km_Adj_MGMatched_2000_Hybrid.tif')\n",
    "pop2005File = os.path.join(popDir, 'Global_Pop_1km_Adj_MGMatched_2005_Hybrid.tif')\n",
    "pop2010File = os.path.join(popDir, 'Global_Pop_1km_Adj_MGMatched_2010_Hybrid.tif')\n",
    "pop2015File = os.path.join(popDir, 'Global_Pop_1km_Adj_MGMatched_2015_Hybrid.tif')\n",
    "\n",
    "d = gdal.Open(pop2000File)\n",
    "pop2000 = d.GetRasterBand(1).ReadAsArray()\n",
    "d = gdal.Open(pop2005File)\n",
    "pop2005 = d.GetRasterBand(1).ReadAsArray()\n",
    "d = gdal.Open(pop2010File)\n",
    "pop2010 = d.GetRasterBand(1).ReadAsArray()\n",
    "d = gdal.Open(pop2015File)\n",
    "pop2015 = d.GetRasterBand(1).ReadAsArray()\n"
   ]
  },
  {
   "cell_type": "code",
   "execution_count": 18,
   "metadata": {
    "collapsed": true
   },
   "outputs": [],
   "source": [
    "globalGT = d.GetGeoTransform()\n",
    "globalProj = d.GetProjection()\n",
    "ndv = d.GetRasterBand(1).GetNoDataValue()"
   ]
  },
  {
   "cell_type": "code",
   "execution_count": 5,
   "metadata": {
    "collapsed": false
   },
   "outputs": [
    {
     "data": {
      "text/plain": [
       "(17400L, 43200L)"
      ]
     },
     "execution_count": 5,
     "metadata": {},
     "output_type": "execute_result"
    }
   ],
   "source": [
    "pop2015.shape"
   ]
  },
  {
   "cell_type": "code",
   "execution_count": 8,
   "metadata": {
    "collapsed": false
   },
   "outputs": [
    {
     "ename": "MemoryError",
     "evalue": "",
     "output_type": "error",
     "traceback": [
      "\u001b[1;31m---------------------------------------------------------------------------\u001b[0m\n\u001b[1;31mMemoryError\u001b[0m                               Traceback (most recent call last)",
      "\u001b[1;32m<ipython-input-8-6f6d1f5009b9>\u001b[0m in \u001b[0;36m<module>\u001b[1;34m()\u001b[0m\n\u001b[1;32m----> 1\u001b[1;33m \u001b[0mstack\u001b[0m \u001b[1;33m=\u001b[0m \u001b[0mnp\u001b[0m\u001b[1;33m.\u001b[0m\u001b[0mempty\u001b[0m\u001b[1;33m(\u001b[0m\u001b[0mshape\u001b[0m\u001b[1;33m=\u001b[0m\u001b[1;33m(\u001b[0m\u001b[1;36m16\u001b[0m\u001b[1;33m,\u001b[0m\u001b[1;36m17400\u001b[0m\u001b[1;33m,\u001b[0m\u001b[1;36m43200\u001b[0m\u001b[1;33m)\u001b[0m\u001b[1;33m,\u001b[0m \u001b[0mdtype\u001b[0m\u001b[1;33m=\u001b[0m\u001b[0mnp\u001b[0m\u001b[1;33m.\u001b[0m\u001b[0mfloat32\u001b[0m\u001b[1;33m)\u001b[0m\u001b[1;33m\u001b[0m\u001b[0m\n\u001b[0m",
      "\u001b[1;31mMemoryError\u001b[0m: "
     ]
    }
   ],
   "source": [
    "stack = np.empty(shape=(16,17400,43200), dtype=np.float32)"
   ]
  },
  {
   "cell_type": "code",
   "execution_count": 9,
   "metadata": {
    "collapsed": true
   },
   "outputs": [],
   "source": [
    "del(stack)"
   ]
  },
  {
   "cell_type": "code",
   "execution_count": 7,
   "metadata": {
    "collapsed": false
   },
   "outputs": [
    {
     "ename": "ValueError",
     "evalue": "could not broadcast input array from shape (17400,43200) into shape (3480,8640)",
     "output_type": "error",
     "traceback": [
      "\u001b[1;31m---------------------------------------------------------------------------\u001b[0m\n\u001b[1;31mValueError\u001b[0m                                Traceback (most recent call last)",
      "\u001b[1;32m<ipython-input-7-f661c6b98256>\u001b[0m in \u001b[0;36m<module>\u001b[1;34m()\u001b[0m\n\u001b[1;32m----> 1\u001b[1;33m \u001b[0mstack\u001b[0m\u001b[1;33m[\u001b[0m\u001b[1;36m0\u001b[0m\u001b[1;33m]\u001b[0m \u001b[1;33m=\u001b[0m \u001b[0mnp\u001b[0m\u001b[1;33m.\u001b[0m\u001b[0mcopy\u001b[0m\u001b[1;33m(\u001b[0m\u001b[0mpop2000\u001b[0m\u001b[1;33m)\u001b[0m\u001b[1;33m\u001b[0m\u001b[0m\n\u001b[0m\u001b[0;32m      2\u001b[0m \u001b[0mstack\u001b[0m\u001b[1;33m[\u001b[0m\u001b[1;36m5\u001b[0m\u001b[1;33m]\u001b[0m \u001b[1;33m=\u001b[0m \u001b[0mnp\u001b[0m\u001b[1;33m.\u001b[0m\u001b[0mcopy\u001b[0m\u001b[1;33m(\u001b[0m\u001b[0mpop2005\u001b[0m\u001b[1;33m)\u001b[0m\u001b[1;33m\u001b[0m\u001b[0m\n\u001b[0;32m      3\u001b[0m \u001b[0mstack\u001b[0m\u001b[1;33m[\u001b[0m\u001b[1;36m10\u001b[0m\u001b[1;33m]\u001b[0m \u001b[1;33m=\u001b[0m \u001b[0mnp\u001b[0m\u001b[1;33m.\u001b[0m\u001b[0mcopy\u001b[0m\u001b[1;33m(\u001b[0m\u001b[0mpop2010\u001b[0m\u001b[1;33m)\u001b[0m\u001b[1;33m\u001b[0m\u001b[0m\n\u001b[0;32m      4\u001b[0m \u001b[0mstack\u001b[0m\u001b[1;33m[\u001b[0m\u001b[1;36m15\u001b[0m\u001b[1;33m]\u001b[0m \u001b[1;33m=\u001b[0m \u001b[0mnp\u001b[0m\u001b[1;33m.\u001b[0m\u001b[0mcopy\u001b[0m\u001b[1;33m(\u001b[0m\u001b[0mpop2015\u001b[0m\u001b[1;33m)\u001b[0m\u001b[1;33m\u001b[0m\u001b[0m\n\u001b[0;32m      5\u001b[0m \u001b[0mgotYrs\u001b[0m \u001b[1;33m=\u001b[0m \u001b[1;33m[\u001b[0m\u001b[1;36m2000\u001b[0m\u001b[1;33m,\u001b[0m\u001b[1;36m2005\u001b[0m\u001b[1;33m,\u001b[0m\u001b[1;36m2010\u001b[0m\u001b[1;33m,\u001b[0m\u001b[1;36m2015\u001b[0m\u001b[1;33m]\u001b[0m\u001b[1;33m\u001b[0m\u001b[0m\n",
      "\u001b[1;31mValueError\u001b[0m: could not broadcast input array from shape (17400,43200) into shape (3480,8640)"
     ]
    }
   ],
   "source": [
    "stack[0] = np.copy(pop2000)\n",
    "stack[5] = np.copy(pop2005)\n",
    "stack[10] = np.copy(pop2010)\n",
    "stack[15] = np.copy(pop2015)\n",
    "gotYrs = [2000,2005,2010,2015]\n",
    "baseYr = 2000\n",
    "popDiff = stack[5] - stack[0]\n",
    "for i in range(1,16):\n",
    "    #print i\n",
    "    yr = i + baseYr\n",
    "    if yr in gotYrs:\n",
    "        print yr\n",
    "        prevYr = yr\n",
    "        nextYr = gotYrs[gotYrs.index(yr)+1]\n",
    "        popDiff = stack\n",
    "    else:\n",
    "        thisYrOffset = yr-prevYr\n",
    "        "
   ]
  },
  {
   "cell_type": "code",
   "execution_count": 10,
   "metadata": {
    "collapsed": true
   },
   "outputs": [],
   "source": [
    "outDir = r'E:\\Temp\\pop'\n",
    "fnTemplate = 'Global_Pop_1km_Adj_MGMatched_{0!s}-Interp_Hybrid.tif'"
   ]
  },
  {
   "cell_type": "code",
   "execution_count": null,
   "metadata": {
    "collapsed": true
   },
   "outputs": [],
   "source": [
    "os.path.j"
   ]
  },
  {
   "cell_type": "code",
   "execution_count": 27,
   "metadata": {
    "collapsed": false
   },
   "outputs": [
    {
     "name": "stdout",
     "output_type": "stream",
     "text": [
      "2001\n",
      "2002\n",
      "2003\n",
      "2004\n"
     ]
    }
   ],
   "source": [
    "end = pop2005\n",
    "start = pop2000\n",
    "base = 2000\n",
    "\n",
    "popDiffPerYr = (end - start) / 5.0\n",
    "popShape = popDiffPerYr.shape\n",
    "grubby = np.logical_or(start==ndv, end==ndv)\n",
    "\n",
    "for i in range (base+1,base+5):\n",
    "    offset = i - base\n",
    "    print i\n",
    "    thisYr = (offset*popDiffPerYr) + start\n",
    "    thisYr[grubby] = ndv\n",
    "    outDrv = gdal.GetDriverByName('GTiff')\n",
    "    outPopFile = os.path.join(outDir, fnTemplate.format(i) )\n",
    "    dataRaster = outDrv.Create(outPopFile, popShape[1], popShape[0], 1, gdal.GDT_Float32,\n",
    "                                           [\"COMPRESS=LZW\", \"TILED=YES\", \"SPARSE_OK=TRUE\", \"BIGTIFF=YES\"])\n",
    "   # failRaster = outDrv.Create(outFailFN, popShape[1], popShape[0], 1, gdal.GDT_Byte,\n",
    "   #                                        [\"COMPRESS=LZW\", \"TILED=YES\", \"SPARSE_OK=TRUE\", \"BIGTIFF=YES\"])\n",
    "\n",
    "    dataRaster.SetGeoTransform(globalGT)\n",
    "    dataRaster.SetProjection(globalProj)\n",
    "    #failRaster.SetGeoTransform(globalGT)\n",
    "    #failRaster.SetProjection(globalProj)\n",
    "\n",
    "    bnd = dataRaster.GetRasterBand(1)\n",
    "    assert bnd is not None\n",
    "    bnd.SetNoDataValue(ndv)\n",
    "    bnd.WriteArray(thisYr)\n",
    "    bnd = None\n",
    "    dataRaster = None"
   ]
  },
  {
   "cell_type": "markdown",
   "metadata": {},
   "source": [
    "### Worldpop / GRUMP combination work"
   ]
  },
  {
   "cell_type": "markdown",
   "metadata": {},
   "source": [
    "Aggregate worldpop age-structures data for a year into three age bins"
   ]
  },
  {
   "cell_type": "code",
   "execution_count": null,
   "metadata": {
    "collapsed": true
   },
   "outputs": [],
   "source": [
    "ap2kFiles = glob.glob(r'\\\\map-fs1.ndph.ox.ac.uk\\map_data\\mastergrids\\Other_Global_Covariates\\Population\\WorldPop\\AgeStructures\\Africa\\2000\\*.tif')\n",
    "outDir = r'C:\\Users\\zool1301.NDPH\\Documents\\Dial-A-Map\\pop-1990-invention'\n",
    "\n",
    "import re\n",
    "# we'll be creating three age-bin datasets for this one worldpop year\n",
    "ap0005 = None\n",
    "ap0515 = None\n",
    "ap1599 = None\n",
    "everData = None\n",
    "for f in ap2kFiles:\n",
    "    fnParts = os.path.basename(f).split('_')\n",
    "    maybeAge = fnParts[1]\n",
    "    if re.match('A\\d', maybeAge):\n",
    "        print maybeAge\n",
    "        d = gdal.Open(f)\n",
    "        b = d.GetRasterBand(1)\n",
    "        arr = b.ReadAsArray()\n",
    "        ndv = b.GetNoDataValue()\n",
    "        startage = maybeAge[1:3]\n",
    "        if everData is None:\n",
    "            everData = np.zeros(arr.shape,np.bool)\n",
    "            gt = d.GetGeoTransform()\n",
    "            proj = d.GetProjection()\n",
    "        everData = np.logical_or(everData, arr != ndv)\n",
    "        \n",
    "        if startage == '00':\n",
    "            if ap0005 is None:\n",
    "                ap0005 = np.zeros_like(arr)\n",
    "            ap0005[arr != ndv] += arr[arr != ndv]\n",
    "        if startage == '05':\n",
    "            if ap0515 is None:\n",
    "                ap0515 = np.zeros_like(arr)\n",
    "            ap0515[arr != ndv] += arr[arr != ndv]\n",
    "        else:\n",
    "            if ap1599 is None:\n",
    "                ap1599 = np.zeros_like(arr)\n",
    "            ap1599[arr != ndv] += arr[arr != ndv]\n",
    "\n",
    "# calculate the proportions            \n",
    "apTot = ap0005+ap0515+ap1599\n",
    "# will give runtime warning due to divide by zero if there's permanent nodata anywhere\n",
    "ap0005_prop = ap0005 / apTot\n",
    "ap0515_prop = ap0515 / apTot\n",
    "ap1599_prop = ap1599 / apTot\n",
    "# make sure those places are set to nodata \n",
    "ap0005_prop[everData == False] = ndv\n",
    "ap0515_prop[everData == False] = ndv\n",
    "ap1599_prop[everData == False] = ndv\n",
    "\n",
    "writeTiffFile(ap0005_prop, os.path.join(outDir, 'ap2000_0005_prop.tif'), gt, proj, ndv)\n",
    "writeTiffFile(ap0515_prop, os.path.join(outDir, 'ap2000_0515_prop.tif'), gt, proj, ndv)\n",
    "writeTiffFile(ap1599_prop, os.path.join(outDir, 'ap2000_1599_prop.tif'), gt, proj, ndv)\n",
    "\n",
    "writeTiffFile(ap0005, os.path.join(outDir, r'ap2000_0005.tif') , gt, proj, ndv)\n",
    "writeTiffFile(ap0515, os.path.join(outDir, r'ap2000_0515.tif'), gt, proj, ndv)\n",
    "writeTiffFile(ap1599, os.path.join(outDir, r'ap2000_1599.tif'), gt, proj, ndv)\n",
    "\n",
    "writeTiffFile(apTot, os.path.join(outDir, r'ap2000_Tot.tif'), gt, proj, ndv)"
   ]
  },
  {
   "cell_type": "markdown",
   "metadata": {},
   "source": [
    "Calculate just the proportions based on Dan's aggregations of the same"
   ]
  },
  {
   "cell_type": "code",
   "execution_count": 57,
   "metadata": {
    "collapsed": true
   },
   "outputs": [],
   "source": [
    "dan0005_fn = r'\\\\map-fs1.ndph.ox.ac.uk\\map_data\\cubes\\5km\\AfriPop\\population_surfaces_for_Pf_incidence\\00-05\\2000_00-05.tif'\n",
    "dan0515_fn = r'\\\\map-fs1.ndph.ox.ac.uk\\map_data\\cubes\\5km\\AfriPop\\population_surfaces_for_Pf_incidence\\05-15\\2000_05-15.tif'\n",
    "dan15pl_fn = r'\\\\map-fs1.ndph.ox.ac.uk\\map_data\\cubes\\5km\\AfriPop\\population_surfaces_for_Pf_incidence\\15+\\2000_15+.tif'\n",
    "\n",
    "d = gdal.Open(dan0005_fn)\n",
    "b = d.GetRasterBand(1)\n",
    "gt = d.GetGeoTransform()\n",
    "proj = d.GetProjection()\n",
    "ndv = b.GetNoDataValue()\n",
    "\n",
    "dan0005 = b.ReadAsArray()\n",
    "\n",
    "d = gdal.Open(dan0515_fn)\n",
    "b = d.GetRasterBand(1)\n",
    "dan0515 = b.ReadAsArray()\n",
    "\n",
    "d = gdal.Open(dan15pl_fn)\n",
    "b = d.GetRasterBand(1)\n",
    "dan15pl = b.ReadAsArray()\n",
    "\n",
    "danTot = dan0005+dan0515+dan15pl\n",
    "dan0005_prop = dan0005 / danTot\n",
    "dan0515_prop = dan0515 / danTot\n",
    "dan15pl_prop = dan15pl / danTot\n",
    "\n",
    "writeTiffFile(dan0005_prop, r'C:\\Users\\zool1301.NDPH\\Documents\\Dial-A-Map\\pop-1990-invention\\dan2000_0005_prop.tif', gt, proj, ndv)\n",
    "writeTiffFile(dan0515_prop, r'C:\\Users\\zool1301.NDPH\\Documents\\Dial-A-Map\\pop-1990-invention\\dan2000_0515_prop.tif', gt, proj, ndv)\n",
    "writeTiffFile(dan15pl_prop, r'C:\\Users\\zool1301.NDPH\\Documents\\Dial-A-Map\\pop-1990-invention\\dan2000_15pl_prop.tif', gt, proj, ndv)\n",
    "\n",
    "writeTiffFile(danTot, r'C:\\Users\\zool1301.NDPH\\Documents\\Dial-A-Map\\pop-1990-invention\\dan2000_total.tif', gt, proj, ndv)"
   ]
  }
 ],
 "metadata": {
  "kernelspec": {
   "display_name": "Python 2",
   "language": "python",
   "name": "python2"
  },
  "language_info": {
   "codemirror_mode": {
    "name": "ipython",
    "version": 2
   },
   "file_extension": ".py",
   "mimetype": "text/x-python",
   "name": "python",
   "nbconvert_exporter": "python",
   "pygments_lexer": "ipython2",
   "version": "2.7.14"
  }
 },
 "nbformat": 4,
 "nbformat_minor": 1
}
