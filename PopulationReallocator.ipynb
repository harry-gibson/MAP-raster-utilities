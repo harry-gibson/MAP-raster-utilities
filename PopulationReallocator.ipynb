{
 "metadata": {
  "name": "",
  "signature": "sha256:6d1347bd6bae720e548109dfb3e63dcf109bf4bf84612b4220bbbf5473f4fd4f"
 },
 "nbformat": 3,
 "nbformat_minor": 0,
 "worksheets": [
  {
   "cells": [
    {
     "cell_type": "code",
     "collapsed": false,
     "input": [
      "from osgeo import gdal\n",
      "import numpy as np\n",
      "import rasterio\n",
      "import glob\n",
      "import os\n"
     ],
     "language": "python",
     "metadata": {},
     "outputs": []
    },
    {
     "cell_type": "code",
     "collapsed": false,
     "input": [
      "%load_ext cython"
     ],
     "language": "python",
     "metadata": {},
     "outputs": []
    },
    {
     "cell_type": "code",
     "collapsed": false,
     "input": [
      "# file in mastergrids coords\n",
      "lsTemplateFile = r'C:\\Users\\zool1301\\Documents\\MODIS\\Supporting_Data\\ls1k'\n",
      "\n",
      "# files in true (accurate) coords\n",
      "ls_Accurate_1kFile = r'G:\\Supporting\\CoastGlobal.tiff'\n",
      "ls_Accurate_5kFile = r'G:\\Supporting\\CoastGlobal_5k.tif'\n",
      "ls_Accurate_10kFile = r'G:\\Supporting\\CoastGlobal_10k.tif'"
     ],
     "language": "python",
     "metadata": {},
     "outputs": []
    },
    {
     "cell_type": "code",
     "collapsed": false,
     "input": [
      "popDir = r'C:\\Users\\zool1301\\Documents\\Other_Data\\Population\\Worldpop_GPWv4_Comb_201507'\n",
      "\n",
      "inPopFN = 'worldpop_gpwv4_mosaic_export_5k.tif'\n",
      "outPopFN = 'worldpop_gpwv4_mosaic_export_5k_MG_Reallocated.tif'\n",
      "outFailFN = 'worldpop_gpwv4_mosaic_export_5k_MG_ReallocationFailures.tif'\n",
      "\n",
      "inPopFile = os.path.join(popDir, inPopFN)\n",
      "outPopFile = os.path.join(popDir, outPopFN)\n",
      "outFailFile = os.path.join(popDir, outFailFN)\n"
     ],
     "language": "python",
     "metadata": {},
     "outputs": []
    },
    {
     "cell_type": "code",
     "collapsed": false,
     "input": [
      "popDS = gdal.Open(inPopFile)\n",
      "b = popDS.GetRasterBand(1)\n",
      "ndvPop = b.GetNoDataValue()\n",
      "gtPop = popDS.GetGeoTransform()\n",
      "projPop = popDS.GetProjection()\n",
      "#popData = b.ReadAsArray()\n",
      "popOffsetN = int((50-gtPop[3]) / gtLand[5])\n",
      "popHeight = int((50 - -60)/gtPop[1])\n",
      "popData = b.ReadAsArray(0, popOffsetN, 8640, popHeight)"
     ],
     "language": "python",
     "metadata": {},
     "outputs": []
    },
    {
     "cell_type": "code",
     "collapsed": false,
     "input": [
      "landDS = gdal.Open(ls_Accurate_5kFile)\n",
      "b = landDS.GetRasterBand(1)\n",
      "ndvMask = b.GetNoDataValue()\n",
      "gtLand = landDS.GetGeoTransform()"
     ],
     "language": "python",
     "metadata": {},
     "outputs": []
    },
    {
     "cell_type": "code",
     "collapsed": false,
     "input": [
      "assert gtPop[1] == gtLand[1]\n",
      "assert gtPop[5] == gtLand[5]"
     ],
     "language": "python",
     "metadata": {},
     "outputs": []
    },
    {
     "cell_type": "code",
     "collapsed": false,
     "input": [
      "# the population dataset is not global; where does it sit in the global image?\n",
      "landOffsetW = int((gtPop[0]-gtLand[0]) / gtLand[1])\n",
      "#landOffsetN = int((gtPop[3]-gtLand[3]) / gtLand[5])\n",
      "landOffsetN = int((50-gtLand[3]) / gtLand[5])\n",
      "landOffsetN, landOffsetW"
     ],
     "language": "python",
     "metadata": {},
     "outputs": []
    },
    {
     "cell_type": "code",
     "collapsed": false,
     "input": [
      "landOffsetN = 600 # (was there some rounding issue here?)"
     ],
     "language": "python",
     "metadata": {},
     "outputs": []
    },
    {
     "cell_type": "code",
     "collapsed": false,
     "input": [
      "landHeight = (50 - -60) / gtLand[1]"
     ],
     "language": "python",
     "metadata": {},
     "outputs": []
    },
    {
     "cell_type": "code",
     "collapsed": false,
     "input": [
      "landHeight"
     ],
     "language": "python",
     "metadata": {},
     "outputs": []
    },
    {
     "cell_type": "code",
     "collapsed": false,
     "input": [
      "# read the required portion of the land data\n",
      "landData= b.ReadAsArray(landOffsetW, landOffsetN, popData.shape[1], popData.shape[0])\n",
      "#landData= b.ReadAsArray(landOffsetW, landOffsetN, 8640, 2640)"
     ],
     "language": "python",
     "metadata": {},
     "outputs": []
    },
    {
     "cell_type": "code",
     "collapsed": true,
     "input": [
      "#or do it the other way round; read the pop data into a global array padded by zeros\n",
      "#popData = np.zeros(shape=lsMask.shape, dtype = np.float32)\n",
      "#popData[600:600+d.RasterYSize] = b.ReadAsArray()\n",
      "#popData[0:d.RasterYSize] = b.ReadAsArray()"
     ],
     "language": "python",
     "metadata": {},
     "outputs": []
    },
    {
     "cell_type": "code",
     "collapsed": false,
     "input": [
      "failedLocs = reallocateToUnmasked(popData, landData, ndvPop)"
     ],
     "language": "python",
     "metadata": {},
     "outputs": []
    },
    {
     "cell_type": "code",
     "collapsed": false,
     "input": [
      "np.logical_and(np.not_equal(popData,ndvPop), np.not_equal(popData,0)).sum()"
     ],
     "language": "python",
     "metadata": {},
     "outputs": []
    },
    {
     "cell_type": "code",
     "collapsed": false,
     "input": [
      "outDrv = gdal.GetDriverByName('GTiff')\n",
      "dataRaster = outDrv.Create(outPopFile, popData.shape[1], popData.shape[0], 1, gdal.GDT_Float32,\n",
      "                                       [\"COMPRESS=LZW\", \"TILED=YES\", \"SPARSE_OK=TRUE\", \"BIGTIFF=YES\"])\n",
      "failRaster = outDrv.Create(outFailFile, popData.shape[1], popData.shape[0], 1, gdal.GDT_Byte,\n",
      "                                       [\"COMPRESS=LZW\", \"TILED=YES\", \"SPARSE_OK=TRUE\", \"BIGTIFF=YES\"])\n",
      "\n",
      "dataRaster.SetGeoTransform(gtPop)\n",
      "dataRaster.SetProjection(projPop)\n",
      "failRaster.SetGeoTransform(gtPop)\n",
      "failRaster.SetProjection(projPop)\n",
      "\n",
      "bnd = dataRaster.GetRasterBand(1)\n",
      "assert bnd is not None\n",
      "bnd.SetNoDataValue(ndvPop)\n",
      "bnd.WriteArray(popData) \n",
      "bnd = None\n",
      "dataRaster = None\n",
      "\n",
      "bnd = failRaster.GetRasterBand(1)\n",
      "assert bnd is not None\n",
      "assert failRaster is not None\n",
      "bnd.WriteArray(np.asarray(failedLocs))\n",
      "bnd = None\n",
      "failRaster = None\n"
     ],
     "language": "python",
     "metadata": {},
     "outputs": []
    },
    {
     "cell_type": "code",
     "collapsed": false,
     "input": [
      "%%cython --compile-args=/openmp --link-args=/openmp --force --annotate\n",
      "cimport cython\n",
      "import numpy as np\n",
      "cimport openmp\n",
      "from cython.parallel import parallel, prange\n",
      "from libc.math cimport sqrt\n",
      "\n",
      "\n",
      "cpdef reallocateToUnmasked(float[:,::1] data, char[:,::1] lsMask, float _NDV = np.inf):\n",
      "    ''' \n",
      "    Reallocates data falling in masked area to nearest non-masked pixel\n",
      "    \n",
      "    For use in preparing population datasets for MAP use with standardised land-sea template.\n",
      "    \n",
      "    Rather than just clipping popupation datasets to MAP's One True Coastline (TM), any population\n",
      "    falling in pixels that are \"sea\" according to MAP's One True Coastline (TM)\n",
      "    must be forcibly relocated Bikini-Atoll-style to the nearest \"land\" pixel according to MAP's\n",
      "    One True Coastline (TM), in order to maintain population counts.\n",
      "    '''\n",
      "    \n",
      "    cdef:\n",
      "        Py_ssize_t xShapeIn, yShapeIn #, xShapeOut, yShapeOut\n",
      "        Py_ssize_t xIn, yIn, xNbr, yNbr, nbrIndex_prv\n",
      "        float localValue\n",
      "        int[:,::1] nbrIntCoords\n",
      "        char[:,::1] failedLocs\n",
      "        int reallocatedCells, failedReallocations \n",
      "        float failedReallocationPop,  reallocatedTotalPop\n",
      "        char reallocatedOK\n",
      "        int _MAX_NEIGHBOURS_TO_CHECK = 31400\n",
      "        \n",
      "    yShapeIn = data.shape[0]\n",
      "    xShapeIn = data.shape[1]\n",
      "    assert lsMask.shape[0] == yShapeIn\n",
      "    assert lsMask.shape[1] == xShapeIn\n",
      "    \n",
      "     # Generate the neighbour spiral search table out to \"a bit\" further than needed\n",
      "    _SEARCH_RADIUS = 100 # <int> ((sqrt(_MAX_NEIGHBOURS_TO_CHECK / 3.14)) + 5)\n",
      "    diam = _SEARCH_RADIUS * 2 + 1\n",
      "    inds = np.indices([diam,diam]) - _SEARCH_RADIUS\n",
      "    distTmp = np.sqrt((inds ** 2).sum(0))\n",
      "    npTmpTable = ((inds.T).reshape(diam**2, 2))\n",
      "    npTmpTable = np.append(npTmpTable, distTmp.ravel()[:,None],axis=1)\n",
      "    # sort the table by distance then x then y (the arguments are last-sort-first)\n",
      "    order = np.lexsort((npTmpTable[:,1],npTmpTable[:,0],npTmpTable[:,2]))\n",
      "    npTmpTable = np.take(npTmpTable,order,axis=0)\n",
      "    # transfer to a C-side object transposed to have three rows and many columns and in \n",
      "    # C-contiguous layout, so that cython can access individual nbr coord sets more quickly\n",
      "    nbrTable = np.copy((npTmpTable[npTmpTable[:,2] <= _SEARCH_RADIUS]).T,order='c')\n",
      "    # cast the columns that will be used as array indices to int type once here, rather \n",
      "    # than casting repeatedly inside the inner loop\n",
      "    nbrIntCoords = np.asarray(nbrTable[0:2,:]).astype(np.int32)\n",
      "    \n",
      "    reallocatedCells = 0\n",
      "    reallocatedTotalPop = 0\n",
      "    failedReallocations = 0\n",
      "    failedReallocationPop = 0\n",
      "    \n",
      "    failedLocs = np.zeros_like(lsMask)\n",
      "    \n",
      "    for yIn in range (yShapeIn):\n",
      "        for xIn in range (xShapeIn):\n",
      "            if lsMask[yIn,xIn] == 1:\n",
      "                # we are on land so no need to do anything\n",
      "                continue\n",
      "            if data[yIn,xIn] == 0 or data[yIn,xIn] == _NDV:\n",
      "                # there is nothing to reallocate\n",
      "                continue\n",
      "            # otherwise we are in sea but have data. Find nearest land to reallocate it\n",
      "            reallocatedOK = 0\n",
      "            for nbrIndex_prv in range(1, _MAX_NEIGHBOURS_TO_CHECK):\n",
      "                # use int-type coords array to avoid cast op in tight loop\n",
      "                xNbr = xIn + nbrIntCoords[0, nbrIndex_prv]\n",
      "                yNbr = yIn + nbrIntCoords[1, nbrIndex_prv]\n",
      "                if (xNbr >= 0 and xNbr < xShapeIn and \n",
      "                    yNbr >= 0 and yNbr < yShapeIn and\n",
      "                    lsMask[yNbr, xNbr] == 1):\n",
      "                    if data[yNbr, xNbr] == _NDV or data[yNbr, xNbr] < 0:\n",
      "                        data[yNbr, xNbr] = data[yIn, xIn]\n",
      "                    else:\n",
      "                        data[yNbr, xNbr] += data[yIn, xIn]\n",
      "                    data[yIn, xIn] = 0\n",
      "                    reallocatedOK = 1\n",
      "                    reallocatedCells += 1\n",
      "                    reallocatedTotalPop += data[yNbr, xNbr]\n",
      "                    break\n",
      "            if reallocatedOK == 0:\n",
      "                failedReallocations += 1\n",
      "                failedReallocationPop += data[yIn, xIn]\n",
      "                failedLocs[yIn, xIn] = 1\n",
      "    print (\"Reallocated {0!s} total pop from {1!s} cells to nearby land cell\".format(\n",
      "        reallocatedTotalPop,reallocatedCells))\n",
      "    print (\"Failed to reallocate {0!s} total pop from {1!s} cells to nearby land cell\".format(\n",
      "        failedReallocationPop, failedReallocations))\n",
      "    return failedLocs\n",
      "    "
     ],
     "language": "python",
     "metadata": {},
     "outputs": []
    },
    {
     "cell_type": "heading",
     "level": 4,
     "metadata": {},
     "source": [
      "Linear interpolate 5-yearly grids to annual"
     ]
    },
    {
     "cell_type": "code",
     "collapsed": false,
     "input": [
      "pop2005File = r'C:\\Users\\zool1301\\Documents\\Other_Data\\Population\\GPWv3\\Futures\\GPWv3_FE_2005_MGMatched.tif'\n",
      "pop2010File = r'C:\\Users\\zool1301\\Documents\\Other_Data\\Population\\GPWv3\\Futures\\GPWv3_FE_2010_MGMatched.tif'\n",
      "pop2015File = r'C:\\Users\\zool1301\\Documents\\Other_Data\\Population\\GPWv3\\Futures\\GPWv3_FE_2015_MGMatched.tif'\n",
      "d = gdal.Open(pop2005File)\n",
      "pop2005 = d.GetRasterBand(1).ReadAsArray()\n",
      "d = gdal.Open(pop2010File)\n",
      "pop2010 = d.GetRasterBand(1).ReadAsArray()\n",
      "d = gdal.Open(pop2015File)\n",
      "pop2015 = d.GetRasterBand(1).ReadAsArray()\n"
     ],
     "language": "python",
     "metadata": {},
     "outputs": []
    },
    {
     "cell_type": "code",
     "collapsed": false,
     "input": [
      "pop2015.shape"
     ],
     "language": "python",
     "metadata": {},
     "outputs": []
    },
    {
     "cell_type": "code",
     "collapsed": false,
     "input": [
      "stack = np.empty(shape=(11,3480,8640), dtype=np.float32)"
     ],
     "language": "python",
     "metadata": {},
     "outputs": []
    },
    {
     "cell_type": "code",
     "collapsed": false,
     "input": [
      "stack[0] = np.copy(pop2005)\n",
      "stack[5] = np.copy(pop2010)\n",
      "stack[10] = np.copy(pop2015)\n",
      "\n",
      "gotYrs = [2005,2010,2015]\n",
      "baseYr = 2005\n",
      "popDiff = stack[5] - stack[0]\n",
      "for i in range(1,11):\n",
      "    #print i\n",
      "    yr = i + baseYr\n",
      "    if yr in gotYrs:\n",
      "        print yr\n",
      "        prevYr = yr\n",
      "        nextYr = gotYrs[gotYrs.index(yr)+1]\n",
      "        popDiff = stack\n",
      "    else:\n",
      "        thisYrOffset = yr-prevYr\n",
      "        "
     ],
     "language": "python",
     "metadata": {},
     "outputs": []
    },
    {
     "cell_type": "code",
     "collapsed": false,
     "input": [
      "popDiffPerYr = (pop2010 - pop2005) / 5.0\n",
      "base = 2005\n",
      "for i in range (2006,2010):\n",
      "    offset = i - base\n",
      "    print i\n",
      "    thisYr = (offset*popDiffPerYr) + pop2005\n",
      "    outDrv = gdal.GetDriverByName('GTiff')\n",
      "    \n",
      "    outPopFile = r'C:\\Users\\zool1301\\Documents\\Other_Data\\Population\\GPWv3\\Futures\\GPWv3_FE_{0!s}_Interp_MGMatched.tif'.format(i)\n",
      "    dataRaster = outDrv.Create(outPopFile, popData.shape[1], popData.shape[0], 1, gdal.GDT_Float32,\n",
      "                                           [\"COMPRESS=LZW\", \"TILED=YES\", \"SPARSE_OK=TRUE\", \"BIGTIFF=YES\"])\n",
      "    failRaster = outDrv.Create(outFailFN, popData.shape[1], popData.shape[0], 1, gdal.GDT_Byte,\n",
      "                                           [\"COMPRESS=LZW\", \"TILED=YES\", \"SPARSE_OK=TRUE\", \"BIGTIFF=YES\"])\n",
      "\n",
      "    dataRaster.SetGeoTransform(globalGT)\n",
      "    dataRaster.SetProjection(globalProj)\n",
      "    failRaster.SetGeoTransform(globalGT)\n",
      "    failRaster.SetProjection(globalProj)\n",
      "\n",
      "    bnd = dataRaster.GetRasterBand(1)\n",
      "    assert bnd is not None\n",
      "    bnd.SetNoDataValue(ndv)\n",
      "    bnd.WriteArray(thisYr)\n",
      "    bnd = None\n",
      "    dataRaster = None"
     ],
     "language": "python",
     "metadata": {},
     "outputs": []
    }
   ],
   "metadata": {}
  }
 ]
}