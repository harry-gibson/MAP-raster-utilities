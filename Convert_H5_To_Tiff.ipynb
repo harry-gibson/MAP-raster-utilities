{
 "metadata": {
  "name": "",
  "signature": "sha256:f5b8f5a46fd14912ab1db526424915f884e0f1a87f3e1cf8efd4bc05bd30dcf4"
 },
 "nbformat": 3,
 "nbformat_minor": 0,
 "worksheets": [
  {
   "cells": [
    {
     "cell_type": "code",
     "collapsed": false,
     "input": [
      "import tables\n",
      "import numpy as np\n",
      "from osgeo import gdal"
     ],
     "language": "python",
     "metadata": {},
     "outputs": [],
     "prompt_number": 12
    },
    {
     "cell_type": "code",
     "collapsed": false,
     "input": [
      "tbl = tables.open_file(r'\\\\129.67.26.176\\map_data\\temp\\h5\\pf_limits_2010.h5')"
     ],
     "language": "python",
     "metadata": {},
     "outputs": [],
     "prompt_number": 2
    },
    {
     "cell_type": "code",
     "collapsed": false,
     "input": [
      "tbl.root.data.data"
     ],
     "language": "python",
     "metadata": {},
     "outputs": [
      {
       "metadata": {},
       "output_type": "pyout",
       "prompt_number": 3,
       "text": [
        "/data/data (CArray(17400, 43200), zlib(1)) ''\n",
        "  atom := Int32Atom(shape=(), dflt=0)\n",
        "  maindim := 0\n",
        "  flavor := 'numpy'\n",
        "  byteorder := 'little'\n",
        "  chunkshape := (1024, 1024)"
       ]
      }
     ],
     "prompt_number": 3
    },
    {
     "cell_type": "code",
     "collapsed": false,
     "input": [
      "latarr = np.array(tbl.root.data.lat)"
     ],
     "language": "python",
     "metadata": {},
     "outputs": [],
     "prompt_number": 4
    },
    {
     "cell_type": "code",
     "collapsed": false,
     "input": [
      "latarr"
     ],
     "language": "python",
     "metadata": {},
     "outputs": [
      {
       "metadata": {},
       "output_type": "pyout",
       "prompt_number": 5,
       "text": [
        "array([[ 84.999942  ,  84.99160867,  84.98327534, ..., -59.97500001,\n",
        "        -59.98333334, -59.99166667]])"
       ]
      }
     ],
     "prompt_number": 5
    },
    {
     "cell_type": "code",
     "collapsed": false,
     "input": [
      "lonarr = np.array(tbl.root.data.lon)"
     ],
     "language": "python",
     "metadata": {},
     "outputs": [],
     "prompt_number": 6
    },
    {
     "cell_type": "code",
     "collapsed": false,
     "input": [
      "lonarr"
     ],
     "language": "python",
     "metadata": {},
     "outputs": [
      {
       "metadata": {},
       "output_type": "pyout",
       "prompt_number": 7,
       "text": [
        "array([[-180.        , -179.99166667, -179.98333334, ...,  179.97485601,\n",
        "         179.98318934,  179.99152267]])"
       ]
      }
     ],
     "prompt_number": 7
    },
    {
     "cell_type": "code",
     "collapsed": false,
     "input": [
      "data = np.array(tbl.root.data.data)"
     ],
     "language": "python",
     "metadata": {},
     "outputs": [],
     "prompt_number": 8
    },
    {
     "cell_type": "code",
     "collapsed": false,
     "input": [
      "outGT = (-180.0, 0.008333333333333, 0.0, 85.000000000000, 0.0, -0.008333333333333)"
     ],
     "language": "python",
     "metadata": {},
     "outputs": [],
     "prompt_number": 9
    },
    {
     "cell_type": "code",
     "collapsed": false,
     "input": [
      "data.min()"
     ],
     "language": "python",
     "metadata": {},
     "outputs": [
      {
       "metadata": {},
       "output_type": "pyout",
       "prompt_number": 10,
       "text": [
        "-9999"
       ]
      }
     ],
     "prompt_number": 10
    },
    {
     "cell_type": "code",
     "collapsed": false,
     "input": [
      "outFile = r'C:\\temp\\pf_limits_2010_fromh5.tif'"
     ],
     "language": "python",
     "metadata": {},
     "outputs": [],
     "prompt_number": 11
    },
    {
     "cell_type": "code",
     "collapsed": false,
     "input": [
      "outDrv = gdal.GetDriverByName('GTiff')\n",
      "dataRaster = outDrv.Create(outFile, data.shape[1], data.shape[0], 1, gdal.GDT_Int16,\n",
      "                                       [\"COMPRESS=LZW\", \"TILED=YES\", \"SPARSE_OK=TRUE\", \"BIGTIFF=YES\"])\n",
      "\n",
      "dataRaster.SetGeoTransform(outGT)\n",
      "#dataRaster.SetProjection(projPop)\n",
      "bnd = dataRaster.GetRasterBand(1)\n",
      "assert bnd is not None\n",
      "bnd.SetNoDataValue(-9999)\n",
      "bnd.WriteArray(data) \n",
      "bnd = None\n",
      "dataRaster = None"
     ],
     "language": "python",
     "metadata": {},
     "outputs": [],
     "prompt_number": 13
    }
   ],
   "metadata": {}
  }
 ]
}