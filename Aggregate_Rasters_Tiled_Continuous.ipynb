{
 "cells": [
  {
   "cell_type": "markdown",
   "metadata": {},
   "source": [
    "# Raster aggregation"
   ]
  },
  {
   "cell_type": "markdown",
   "metadata": {},
   "source": [
    "This notebook contains code for aggregating (resampling down) rasters, for example to convert the MODIS 30 arcsecond (~1km) grids into 2.5 arcminute (~5km) grids.\n",
    "\n",
    "Code is provided for aggregating continuous rasters, along with various example input commands. Continuous rasters can be aggregated to produce any/all of count, max, mean, min, range, sum, or std dev of the input cells. (Code for aggregating categorical rasters to produce class proportions, majority, and like-adjacency outputs is in a separate notebook.)\n",
    "\n",
    "The actual aggregation code is in the Cython_Raster_Funcs/RasterAggregator_float.pxd file. This is, or needs to be, translated to C using the Cython translation / compilation tools. This notebook provides a demonstration of how to run the cythonized code."
   ]
  },
  {
   "cell_type": "code",
   "execution_count": 14,
   "metadata": {
    "collapsed": false
   },
   "outputs": [],
   "source": [
    "from osgeo import gdal, gdal_array\n",
    "import numpy as np\n",
    "\n",
    "import glob\n",
    "import os\n"
   ]
  },
  {
   "cell_type": "markdown",
   "metadata": {},
   "source": [
    "### Import / build the aggregation function"
   ]
  },
  {
   "cell_type": "code",
   "execution_count": 20,
   "metadata": {
    "collapsed": false
   },
   "outputs": [
    {
     "data": {
      "text/plain": [
       "(None, None)"
      ]
     },
     "execution_count": 20,
     "metadata": {},
     "output_type": "execute_result"
    }
   ],
   "source": [
    "# aggregation code is in cython. \n",
    "\n",
    "# If this has not already been translated to c and built then this must be done first \n",
    "# with setuptools. Change to the directory containing the .pxd file and run \n",
    "# python setup.py build_ext --inplace\n",
    "\n",
    "# OR to avoid the separate compilation step we can use pyximport as shown here.\n",
    "# Note though that using pyximport doesn't allow for the openmp \n",
    "# parallelisation flag. That's not required for the continuous aggregation library used here.\n",
    "# import pyximport\n",
    "# pyximport.install()"
   ]
  },
  {
   "cell_type": "code",
   "execution_count": 4,
   "metadata": {
    "collapsed": false
   },
   "outputs": [],
   "source": [
    "from Cython_Raster_Funcs.RasterAggregator_float import RasterAggregator_float"
   ]
  },
  {
   "cell_type": "markdown",
   "metadata": {},
   "source": [
    "### Import other common functions"
   ]
  },
  {
   "cell_type": "code",
   "execution_count": 1,
   "metadata": {
    "collapsed": false
   },
   "outputs": [],
   "source": [
    "from General_Raster_Funcs.GeotransformCalcs import calcAggregatedProperties\n",
    "from General_Raster_Funcs.RasterTiling import getTiles\n",
    "from General_Raster_Funcs.TiffManagement import SaveLZWTiff\n"
   ]
  },
  {
   "cell_type": "markdown",
   "metadata": {},
   "source": [
    "# Helper functions to run aggregation"
   ]
  },
  {
   "cell_type": "markdown",
   "metadata": {},
   "source": [
    "This function demonstrates splitting the incoming file(s) into tiles if necessary, loading the data, running the cython-based aggregation function, and saving the results. It's based on configuring a few global variables in the notebook just for simplicity."
   ]
  },
  {
   "cell_type": "code",
   "execution_count": 12,
   "metadata": {
    "collapsed": false
   },
   "outputs": [],
   "source": [
    "def continuousAggregationRunner(dataPaths):\n",
    "    '''Run the aggregation code for each file specifed in dataPaths which should be a list of tiff files.\n",
    "    \n",
    "    The global notebook variables outDir, method, minMaxRangeSumOnly, itemsToSave, \n",
    "    (aggregationFactor OR resolution OR requiredXSize and requiredYSize), and tileSize\n",
    "    should be set first, along with the fnGetter function for producing output filenames.\n",
    "    '''\n",
    "    for f in dataPaths:\n",
    "        print f\n",
    "        ds = gdal.Open(f)\n",
    "        b = ds.GetRasterBand(1)\n",
    "        ndv = b.GetNoDataValue()\n",
    "        if ndv is None:\n",
    "            print \"no ndv\"\n",
    "            ndv = -9999\n",
    "        inputGT = ds.GetGeoTransform()\n",
    "        inputProj = ds.GetProjection()\n",
    "        \n",
    "        # not used, but for checking if required:\n",
    "        nBytesRequired = ds.RasterXSize * ds.RasterYSize * gdalBytesPerPx[b.DataType]\n",
    "\n",
    "        outGT, outShape = calcAggregatedProperties(method, (ds.RasterYSize, ds.RasterXSize), \n",
    "                                                   inputGT, aggregationFactor, \n",
    "                                                   (requiredYSize, requiredXSize), \n",
    "                                                   resolution)\n",
    "        outYSize, outXSize = outShape    \n",
    "        tiles = getTiles(ds.RasterXSize, ds.RasterYSize, tileSize)\n",
    "        \n",
    "        aggregator = RasterAggregator_float(ds.RasterXSize, ds.RasterYSize, \n",
    "                                            outXSize, outYSize,\n",
    "                                            float(ndv), \n",
    "                                            minMaxRangeSumOnly)\n",
    "        \n",
    "        print \"Running {0!s} tiles\".format(len(tiles)),\n",
    "        for tile in tiles:\n",
    "            print \".\",\n",
    "            xoff = tile[0][0]\n",
    "            yoff = tile[1][0]\n",
    "            xsize = tile[0][1] - xoff\n",
    "            ysize = tile[1][1] - yoff\n",
    "            inArr = b.ReadAsArray(xoff, yoff, xsize, ysize).astype(np.float32)\n",
    "            aggregator.addTile(inArr, xoff, yoff)\n",
    "        r = aggregator.GetResults()\n",
    "        for i in itemstosave:\n",
    "            fnOut = fnGetter(os.path.basename(f), i)\n",
    "            print fnOut\n",
    "            # the file-saving function will save to a tiff of datatype matching the array\n",
    "            # it receives.\n",
    "            if i in ['min','max','range']:\n",
    "                # if the input was some integer type then save as this, even though the \n",
    "                # aggregation code always outputs float32\n",
    "                nptype = gdal_array.GDALTypeCodeToNumericTypeCode(b.DataType)\n",
    "                SaveLZWTiff(r[i].astype(nptype), ndv, outGT, inputProj, outDir, fnOut)\n",
    "            elif i in ['mean','sd', 'sum']:\n",
    "                # sum might be integer but potentially of larger type than the input, don't bother\n",
    "                # dealing with conversion for now\n",
    "                SaveLZWTiff(r[i], ndv, outGT, inputProj, outDir, fnOut)\n",
    "            elif i in ['count']:\n",
    "                SaveLZWTiff(r[i].astype(np.int32), ndv, outGT, inputProj, outDir, fnOut)\n",
    "            else:\n",
    "                assert False\n",
    "                \n",
    "# For reference:        \n",
    "gdalBytesPerPx = {\n",
    "0:1, # UNKNOWN\n",
    "1:1, # GDT_Byte\n",
    "2:2, # GDT_Uint16\n",
    "3:2, # GDT_Int16\n",
    "4:4, # GDT_UIint32\n",
    "5:4, # GDT_Int32\n",
    "6:4, # GDT_Float32\n",
    "7:8  # GDT_Float64\n",
    "}\n",
    "        "
   ]
  },
  {
   "cell_type": "markdown",
   "metadata": {},
   "source": [
    "### Define the globals to configure the data we want to use in the aggregation runner"
   ]
  },
  {
   "cell_type": "code",
   "execution_count": 10,
   "metadata": {
    "collapsed": false
   },
   "outputs": [],
   "source": [
    "# All of the items in this cell are required by the continuousAggregationRunner function:\n",
    "\n",
    "# 1. Specify the method by which the aggregation will be described\n",
    "method = \"size\" # \"factor\" or \"size\" or \"resolution\"\n",
    "\n",
    "# and whichever one of these is relevant\n",
    "# if method = 'factor' then\n",
    "aggregationFactor = 5\n",
    "# OR if method = 'size' then\n",
    "requiredXSize = 4320\n",
    "requiredYSize = 2160\n",
    "# OR if method = 'resolution' then\n",
    "resolution = 0.25\n",
    "\n",
    "# 2. Should we calculate only min, max, range sum, (count)? \n",
    "# If that's all we need, then it's quicker to set this flag as \n",
    "# average / sd are more computationally demanding\n",
    "minMaxRangeSumOnly = 0\n",
    "\n",
    "# 3. itemstosave are the stats produced by the cython code.\n",
    "# choices are count, max, mean, min, range, sum, sd.\n",
    "# mean and sd are produced only if the minMaxRangeSumOnly flag is not set\n",
    "itemstosave = [\"mean\", \"max\", \"min\", \"sum\", \"count\"]\n",
    "\n",
    "# 4. specify the folder where the outputs should be saved\n",
    "outDir = r\"C:\\temp\\testagg\"\n",
    "\n",
    "# 5. specify a function called fnGetter, to get the output filename \n",
    "# (excluding folder), given an input filename and statistic type \n",
    "# (as in the itemstosave above)\n",
    "fnGetter = lambda filename, stat:(os.path.splitext(os.path.basename(filename))[0]\n",
    "                        + \"_\" + stat + \"_1k.tif\")\n",
    "\n",
    "# 6. Specify a maximum tilesize for data to read in\n",
    "# for the global 1km grids use 43200 to run untiled\n",
    "tileSize = 43200"
   ]
  },
  {
   "cell_type": "markdown",
   "metadata": {},
   "source": [
    "### Create a list of file(s) to aggregate"
   ]
  },
  {
   "cell_type": "code",
   "execution_count": 8,
   "metadata": {
    "collapsed": false
   },
   "outputs": [],
   "source": [
    "dataPaths = [r'E:\\Temp\\water\\occurrence.vrt']\n",
    "dataPaths = [r'G:\\GapfillingOutputs\\EVI_Africa_1\\A2000065_EVI_Filled_Data.tif']"
   ]
  },
  {
   "cell_type": "markdown",
   "metadata": {},
   "source": [
    "## Run the code"
   ]
  },
  {
   "cell_type": "code",
   "execution_count": 15,
   "metadata": {
    "collapsed": false
   },
   "outputs": [
    {
     "name": "stdout",
     "output_type": "stream",
     "text": [
      "G:\\GapfillingOutputs\\EVI_Africa_1\\A2000065_EVI_Filled_Data.tif\n",
      "warning, output size is different proportion to input, cells will change shape\n",
      "Running 1 tiles . A2000065_EVI_Filled_Data_mean_1k.tif\n",
      "A2000065_EVI_Filled_Data_max_1k.tif\n",
      "A2000065_EVI_Filled_Data_min_1k.tif\n",
      "A2000065_EVI_Filled_Data_sum_1k.tif\n",
      "A2000065_EVI_Filled_Data_count_1k.tif\n"
     ]
    }
   ],
   "source": [
    "continuousAggregationRunner(dataPaths)"
   ]
  },
  {
   "cell_type": "code",
   "execution_count": null,
   "metadata": {
    "collapsed": false
   },
   "outputs": [],
   "source": []
  }
 ],
 "metadata": {
  "kernelspec": {
   "display_name": "Python 2",
   "language": "python",
   "name": "python2"
  },
  "language_info": {
   "codemirror_mode": {
    "name": "ipython",
    "version": 2
   },
   "file_extension": ".py",
   "mimetype": "text/x-python",
   "name": "python",
   "nbconvert_exporter": "python",
   "pygments_lexer": "ipython2",
   "version": "2.7.5"
  }
 },
 "nbformat": 4,
 "nbformat_minor": 0
}
