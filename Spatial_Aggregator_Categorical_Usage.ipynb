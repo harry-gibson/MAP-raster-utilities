{
 "cells": [
  {
   "cell_type": "markdown",
   "metadata": {},
   "source": [
    "# Aggregation (spatial downsampling)\n",
    "\n",
    "### Categorical aggregation\n",
    "\n",
    "The core aggregation code is written in Cython, in raster_utilities.aggregation.spatial.core.categorical.pyx. \n",
    "\n",
    "A helper class raster_utilities.aggregation.spatial.SpatialAggregator is provided to manage calling the Cython code.\n",
    "\n",
    "This notebook demonstrates using the helper class to aggregate a series of categorical-type raster files, for example to convert the MODIS 30 arcsecond (~1km) grids into 2.5 arcminute (~5km) grids.\n",
    "\n",
    "Categorical rasters can be aggregated to produce one class proportion and one like adjacency grid for each of the input values, and a single majority grid. This assumes (requires) that the input grids have a small-ish number of unique values, and are in unsigned 8 bit integer format (it was written for the MCD12Q1 BRDF landcover data).\n",
    "\n",
    "The code has been written to read input rasters of theoreticlly unlimited size, which are read in tiles to build up the output coarser / smaller grids; memory use is determined by the size of the output files (and the number of categories, i.e. output files that are created)."
   ]
  },
  {
   "cell_type": "code",
   "execution_count": 2,
   "metadata": {
    "collapsed": false
   },
   "outputs": [],
   "source": [
    "# The helper class\n",
    "import raster_utilities.aggregation.spatial.SpatialAggregator"
   ]
  },
  {
   "cell_type": "code",
   "execution_count": 5,
   "metadata": {
    "collapsed": true
   },
   "outputs": [],
   "source": [
    "# Enumerations to provide acceptable values for the aggregation parameters,\n",
    "# avoid having to remember strings\n",
    "from raster_utilities.aggregation.aggregation_values import *"
   ]
  },
  {
   "cell_type": "code",
   "execution_count": 2,
   "metadata": {
    "collapsed": true
   },
   "outputs": [],
   "source": [
    "import glob"
   ]
  },
  {
   "cell_type": "markdown",
   "metadata": {},
   "source": [
    "### Run a categorical aggregation across a series of files in a folder\n",
    "\n",
    "### Code not currently functional"
   ]
  },
  {
   "cell_type": "code",
   "execution_count": 3,
   "metadata": {
    "collapsed": false
   },
   "outputs": [],
   "source": [
    "# The files to be aggregated should be provided as a list of filepaths. \n",
    "# (Just make a single-item list for one file)\n",
    "inCatFiles = glob.glob(r'\\\\map-fs1.ndph.ox.ac.uk\\map_data\\mastergrids\\MODIS_Global\\MCD12Q1_Annual_Landcover\\500m_Raw\\A20*.tif')\n",
    "\n",
    "# Also provide the output folder\n",
    "outDir = r'C:\\temp\\testagg_categorical_output'"
   ]
  },
  {
   "cell_type": "markdown",
   "metadata": {},
   "source": [
    "Specify the output nodata value (it doesn't have to be the same as the input, incoming NDV will be read from the files (better be set properly!)"
   ]
  },
  {
   "cell_type": "code",
   "execution_count": 4,
   "metadata": {
    "collapsed": true
   },
   "outputs": [],
   "source": [
    "ndvOut = -9999"
   ]
  },
  {
   "cell_type": "markdown",
   "metadata": {},
   "source": [
    "Specify the aggregation statistics to create. This must be a list of items from the ContinuousAggregationStats enumeration, or their string representations."
   ]
  },
  {
   "cell_type": "code",
   "execution_count": 4,
   "metadata": {
    "collapsed": false
   },
   "outputs": [],
   "source": [
    "#e.g.\n",
    "# stats = [CategoricalAggregationStats.FRACTIONS]\n",
    "\n",
    "# or to do all of them use this convenienct:\n",
    "stats = CategoricalAggregationStats.ALL\n",
    "aggArgs = {\"categories\":range(0,2),\n",
    "          \"resolution\":\"5km\"}"
   ]
  },
  {
   "cell_type": "markdown",
   "metadata": {},
   "source": [
    "Finally configure the aggregation. The final parameter for the SpatialAggregator constructor should be a dictionary that configures how the aggregation will run. \n",
    "\n",
    "* This must have a key \"categories\" the value of which is a list of 8-bit integer values, giving the values that are expected to occur in the categorical raster input files. For fractional or like-adjacency outputs, one output file will be generated from each input file for each of these values.\n",
    "\n",
    "* This must have a key that is a member of the AggregationTypes enumeration, i.e. AggregationTypes.RESOLUTION, AggregationTypes.FACTOR, or AggregationTypes.SIZE. This key determines the resolution of the output files in one of three ways.\n",
    "* The value of this key should be as follows:\n",
    "    * AggregationTypes.RESOLUTION: (Float value, or string \"1km\", \"5km\" or \"10km\")\n",
    "    * AggregationTypes.FACTOR: Int value (e.g. 5 to go from 1k rasters to 5k rasters\n",
    "    * AggregationTypes.SIZE: 2-tuple specifying the (height,width) of the output rasters\n",
    "\n",
    "* A key \"resolution_name\" may be provided, which provides the name for the output resolution to be used as the fifth token of the 6-token output filenames (e.g. \"5km\")\n",
    "\n",
    "* A key \"mem_limit_gb\" may be provided, to limit the memory use (if not, 30GB will be the default). Note that it's not very accurate so be conservative!\n",
    "\n",
    "\n"
   ]
  },
  {
   "cell_type": "code",
   "execution_count": 5,
   "metadata": {
    "collapsed": false
   },
   "outputs": [],
   "source": [
    "aggArgs = {\"categories\":[0,255],\n",
    "           AggregationTypes.RESOLUTION:\"1km\".\n",
    "          \"resolution_name\":\"1km\"}"
   ]
  },
  {
   "cell_type": "markdown",
   "metadata": {},
   "source": [
    "Now just instantiate and run the aggregation:"
   ]
  },
  {
   "cell_type": "code",
   "execution_count": 6,
   "metadata": {
    "collapsed": false
   },
   "outputs": [],
   "source": [
    "agg = SpatialAggregator(inCatFiles, outDir, ndvOut, stats, aggArgs)"
   ]
  },
  {
   "cell_type": "code",
   "execution_count": null,
   "metadata": {
    "collapsed": false,
    "scrolled": true
   },
   "outputs": [],
   "source": [
    "agg.RunAggregation()"
   ]
  }
 ],
 "metadata": {
  "kernelspec": {
   "display_name": "Python 2",
   "language": "python",
   "name": "python2"
  },
  "language_info": {
   "codemirror_mode": {
    "name": "ipython",
    "version": 2
   },
   "file_extension": ".py",
   "mimetype": "text/x-python",
   "name": "python",
   "nbconvert_exporter": "python",
   "pygments_lexer": "ipython2",
   "version": "2.7.5"
  }
 },
 "nbformat": 4,
 "nbformat_minor": 2
}
