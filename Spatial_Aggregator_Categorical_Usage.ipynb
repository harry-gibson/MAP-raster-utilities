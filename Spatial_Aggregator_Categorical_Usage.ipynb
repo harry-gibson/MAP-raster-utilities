{
 "cells": [
  {
   "cell_type": "markdown",
   "metadata": {},
   "source": [
    "# Aggregation (spatial downsampling)\n",
    "\n",
    "### Categorical aggregation\n",
    "\n",
    "The core aggregation code is written in Cython, in raster_utilities.aggregation.spatial.core.categorical.pyx. \n",
    "\n",
    "A helper class raster_utilities.aggregation.spatial.SpatialAggregator is provided to manage calling the Cython code.\n",
    "\n",
    "This notebook demonstrates using the helper class to aggregate a series of categorical-type raster files, for example to convert the MODIS 30 arcsecond (~1km) grids into 2.5 arcminute (~5km) grids.\n",
    "\n",
    "Categorical rasters can be aggregated to produce one class proportion and one like adjacency grid for each of the input values, and a single majority grid. This assumes (requires) that the input grids have a small-ish number of unique values, and are in unsigned 8 bit integer format (it was written for the MCD12Q1 BRDF landcover data).\n",
    "\n",
    "The code has been written to read input rasters of theoreticlly unlimited size, which are read in tiles to build up the output coarser / smaller grids; memory use is determined by the size of the output files (and the number of categories, i.e. output files that are created)."
   ]
  },
  {
   "cell_type": "code",
   "execution_count": 1,
   "metadata": {
    "collapsed": true
   },
   "outputs": [],
   "source": [
    "# The helper class\n",
    "from raster_utilities.aggregation.spatial.SpatialAggregator import SpatialAggregator"
   ]
  },
  {
   "cell_type": "code",
   "execution_count": 2,
   "metadata": {
    "collapsed": true
   },
   "outputs": [],
   "source": [
    "# Enumerations to provide acceptable values for the aggregation parameters,\n",
    "# avoid having to remember strings\n",
    "from raster_utilities.aggregation.aggregation_values import *\n",
    "from raster_utilities.utils.logger import LogLevels"
   ]
  },
  {
   "cell_type": "code",
   "execution_count": 3,
   "metadata": {
    "collapsed": true
   },
   "outputs": [],
   "source": [
    "import glob"
   ]
  },
  {
   "cell_type": "markdown",
   "metadata": {},
   "source": [
    "### Run a categorical aggregation across a series of files in a folder\n"
   ]
  },
  {
   "cell_type": "code",
   "execution_count": 4,
   "metadata": {
    "collapsed": true
   },
   "outputs": [],
   "source": [
    "# The files to be aggregated should be provided as a list of filepaths. \n",
    "# (Just make a single-item list for one file)\n",
    "inCatFiles = glob.glob(r'C:/Temp/dataprep/IGBP/500m/IGBP_Landcover.*.Annual.Data.500m.Data.tif')\n",
    "\n",
    "# Also provide the output folder\n",
    "outDir = r'C:\\Temp\\dataprep\\IGBP\\5km_nopar'"
   ]
  },
  {
   "cell_type": "markdown",
   "metadata": {},
   "source": [
    "Specify the output nodata value (it doesn't have to be the same as the input, incoming NDV will be read from the files (better be set properly!)"
   ]
  },
  {
   "cell_type": "code",
   "execution_count": 5,
   "metadata": {
    "collapsed": true
   },
   "outputs": [],
   "source": [
    "ndvOut = -9999"
   ]
  },
  {
   "cell_type": "markdown",
   "metadata": {},
   "source": [
    "Specify the aggregation statistics to create. This must be a list of items from the ContinuousAggregationStats enumeration, or their string representations."
   ]
  },
  {
   "cell_type": "code",
   "execution_count": 9,
   "metadata": {
    "collapsed": true
   },
   "outputs": [],
   "source": [
    "#e.g.\n",
    "# stats = [CategoricalAggregationStats.FRACTIONS]\n",
    "\n",
    "# or to do all of them use this convenienct:\n",
    "stats = CategoricalAggregationStats.ALL.value\n",
    "#aggArgs = {\"categories\":range(0,3),\n",
    "#          \"resolution\":100.0}"
   ]
  },
  {
   "cell_type": "markdown",
   "metadata": {},
   "source": [
    "Finally configure the aggregation. The final parameter for the SpatialAggregator constructor should be a dictionary that configures how the aggregation will run. \n",
    "\n",
    "* This must have a key \"`categories`\". The value of this key is either:\n",
    "    * A list of 8-bit integer values, giving the values that are expected to occur in the categorical raster input files. \n",
    "    * A dictionary with keys that are 8-bit integer values and values that are labels for these values, for hte output filenames.\n",
    "    * For fractional or like-adjacency outputs, one output file will be generated from each input file for each of these values.\n",
    "\n",
    "* There should be a key '`aggregation_type`' that is a member of the AggregationTypes enumeration, i.e. `AggregationTypes.RESOLUTION`, `AggregationTypes.FACTOR`, or `AggregationTypes.SIZE`. \n",
    "* There should be a key 'aggregation_specifier' that determines the output cell size in a manner dependent on the \n",
    "value of aggregation_type as follows:\n",
    "    * `aggregation_type==AggregationTypes.RESOLUTION`: (Float value, or string \"1km\", \"5km\" or \"10km\")\n",
    "    * `aggregation_type==AggregationTypes.FACTOR`: Int value (e.g. 5 to go from 1k rasters to 5k rasters\n",
    "    * `aggregation_type==AggregationTypes.SIZE`: 2-tuple of positive ints specifying the (height,width) of the output rasters\n",
    "* A key \"`resolution_name`\" may be provided, which provides the \"friendly name\" for the output resolution to be used as the fifth token of the 6-token output filenames (e.g. \"5km\")\n",
    "* A key \"`mem_limit_gb`\" may be provided, to limit the memory use (if not provided, 30GB will be the default). Note that it's not very accurate so be conservative!\n",
    "* A key \"`assume_correct_input`\" may be provided; if this is \"`False`\" (by default if not provided) then the input data will be snapped and aligned to a mastergrid template first, before calculating the properties of the output raster\n",
    "* A key \"`sanitise_resolution`\" may be provided; if this is \"`True`\" (by default if not provided) then the output resolution (whether provided numerically or calculated) will be \"sanitised\" to a mastergrid resolution i.e. a value that divides cleanly into 1.0. For example 0.0083334 would become 0.008333333333333 (1/120)).\n",
    "* A key \"`snap_alignment`\" may be provided; if this is `SnapTypes.NEAREST` (the default if not provided) or `SnapTypes.TOWARDS_ORIGIN` then the origin point of the output will be positioned precisely at the top left corner of a cell in a global grid of the requested resolution. Because this potentially moves the extreme (bottom right) point of the output towards the origin such that it is inside the bottom right of the input data, an extra cell will be added if necessary to the output extent to accommodate the full input extent.\n"
   ]
  },
  {
   "cell_type": "markdown",
   "metadata": {},
   "source": [
    "Now just instantiate and run the aggregation:"
   ]
  },
  {
   "cell_type": "code",
   "execution_count": 1,
   "metadata": {
    "collapsed": false
   },
   "outputs": [],
   "source": [
    "# The values that the input raster has, with names: (here the MODIS IGBP landcover values)\n",
    "ibgpCats = {\n",
    "    0:'Unclassified',\n",
    "    1:'Evergreen_Needleleaf_Forest',\n",
    "    2:'Evergreen_Broadleaf_Forest',\n",
    "    3:'Deciduous_Needleleaf_Forest',\n",
    "    4:'Deciduous_Broadleaf_Forest',\n",
    "    5:'Mixed_Forest',\n",
    "    6:'Closed_Shrublands',\n",
    "    7:'Open_Shrublands',\n",
    "    8:'Woody_Savannas',\n",
    "    9:'Savannas',\n",
    "    10:'Grasslands',\n",
    "    11:'Permanent_Wetlands',\n",
    "    12:'Croplands',\n",
    "    13:'Urban_And_Built_Up',\n",
    "    14:'Cropland_Natural_Vegetation_Mosaic',\n",
    "    15:'Snow_And_Ice',\n",
    "    16:'Barren_Or_Sparsely_Populated',\n",
    "    17:'Water'\n",
    "}\n",
    "# or just numbers (here the values from the GUF data)\n",
    "sampleBinaryCats = [0, 255]"
   ]
  },
  {
   "cell_type": "code",
   "execution_count": 7,
   "metadata": {
    "collapsed": false
   },
   "outputs": [],
   "source": [
    "args = {\"categories\": ibgpCats, #sampleBinaryCats\n",
    "        'aggregation_type' : AggregationTypes.RESOLUTION,\n",
    "        'aggregation_specifier' : \"5km\",\n",
    "        'resolution_name' : '5km',\n",
    "        'sanitise_resolution' : True,\n",
    "        'snap_alignment' : SnapTypes.NEAREST,\n",
    "        'assume_correct_input' : True,\n",
    "        'mem_limit_gb' : 20\n",
    "        }\n"
   ]
  },
  {
   "cell_type": "code",
   "execution_count": 10,
   "metadata": {
    "collapsed": false
   },
   "outputs": [],
   "source": [
    "\n",
    "agg = SpatialAggregator(inCatFiles, outDir, ndvOut, stats, args,loggingLevel=LogLevels.DEBUG)"
   ]
  },
  {
   "cell_type": "code",
   "execution_count": null,
   "metadata": {
    "collapsed": false,
    "scrolled": true
   },
   "outputs": [],
   "source": [
    "agg.RunAggregation()"
   ]
  }
 ],
 "metadata": {
  "kernelspec": {
   "display_name": "Python 3",
   "language": "python",
   "name": "python3"
  },
  "language_info": {
   "codemirror_mode": {
    "name": "ipython",
    "version": 3
   },
   "file_extension": ".py",
   "mimetype": "text/x-python",
   "name": "python",
   "nbconvert_exporter": "python",
   "pygments_lexer": "ipython3",
   "version": "3.6.7"
  }
 },
 "nbformat": 4,
 "nbformat_minor": 2
}
