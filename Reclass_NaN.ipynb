{
 "cells": [
  {
   "cell_type": "markdown",
   "metadata": {},
   "source": [
    "## Reclass NaN values in rasters\n",
    "\n",
    "Some sources provide rasters with NaN instead of a numeric NoData value. Although this seems a perfectly logical thing to do, these rasters are difficult to work with in most programs. The basic reason for this is that mathematically NaN != NaN so the areas which should be shown as not having data tend not to be, but are instead shown as the true numeric value of NaN which is somewhat implementation specific. \n",
    "\n",
    "So we want to re-class all NaNs in the data to a numeric NoData value which can then be successfully used as a mask. For the same reason, this is slightly tricky but at least working directly with the arrays we can take a bit more control. (whereas the Reclass tool in Arc doesn't really work, for example). \n",
    "\n",
    "One example of where we've had to do this was with the Facebook HRSL population grids as downloaded from HDX."
   ]
  },
  {
   "cell_type": "code",
   "execution_count": 1,
   "metadata": {
    "collapsed": true
   },
   "outputs": [],
   "source": [
    "from raster_utilities.io.TiffFile import SingleBandTiffFile, RasterProps\n",
    "from raster_utilities.utils.raster_tiling import getTiles"
   ]
  },
  {
   "cell_type": "code",
   "execution_count": 2,
   "metadata": {
    "collapsed": true
   },
   "outputs": [],
   "source": [
    "import os, glob"
   ]
  },
  {
   "cell_type": "code",
   "execution_count": 3,
   "metadata": {
    "collapsed": true
   },
   "outputs": [],
   "source": [
    "import numpy as np"
   ]
  },
  {
   "cell_type": "code",
   "execution_count": 4,
   "metadata": {
    "collapsed": true
   },
   "outputs": [],
   "source": [
    "files = glob.glob(r'C:\\Temp\\dataprep\\population_af_2018-10-01\\*.tif')\n",
    "newNDV = -9999"
   ]
  },
  {
   "cell_type": "code",
   "execution_count": 7,
   "metadata": {
    "collapsed": false
   },
   "outputs": [
    {
     "data": {
      "text/plain": [
       "['C:\\\\Temp\\\\dataprep\\\\population_af_2018-10-01\\\\population_AF27_2018-10-01.tif',\n",
       " 'C:\\\\Temp\\\\dataprep\\\\population_af_2018-10-01\\\\population_AF28_2018-10-01.tif']"
      ]
     },
     "execution_count": 7,
     "metadata": {},
     "output_type": "execute_result"
    }
   ],
   "source": [
    "files[26:]"
   ]
  },
  {
   "cell_type": "code",
   "execution_count": 15,
   "metadata": {
    "collapsed": false
   },
   "outputs": [
    {
     "name": "stdout",
     "output_type": "stream",
     "text": [
      "C:\\Temp\\dataprep\\population_af_2018-10-01\\population_AF26_2018-10-01.tif\n",
      "C:\\Temp\\dataprep\\population_af_2018-10-01\\population_AF27_2018-10-01.tif\n",
      "C:\\Temp\\dataprep\\population_af_2018-10-01\\population_AF28_2018-10-01.tif\n"
     ]
    }
   ],
   "source": [
    "for f in files[25:]:\n",
    "    fOut = (os.path.join(os.path.dirname(os.path.dirname(f)), \"reclassed\", os.path.basename(f)))\n",
    "    if os.path.exists(fOut):\n",
    "        continue\n",
    "    t = SingleBandTiffFile(f)\n",
    "    shape = t.GetShape()\n",
    "    tiles = getTiles(shape[1], shape[0], 40000)\n",
    "    tOut = SingleBandTiffFile(fOut)\n",
    "    pIn =t.GetProperties()\n",
    "    pOut = RasterProps(pIn[0], pIn[1], newNDV, pIn[3], pIn[4], pIn[5], pIn[6])\n",
    "    tOut.SetProperties(pOut)\n",
    "    for tile in tiles:\n",
    "        arrIn = t.ReadForPixelLims(xLims=tile[0], yLims=tile[1])[0]\n",
    "        #arrIn = t.ReadAll()[0]\n",
    "        arrIn[np.isnan(arrIn)]=newNDV\n",
    "        tOut.SavePart(data=arrIn, \n",
    "                     outOffsetYX=(tile[1][0], tile[0][0]),\n",
    "                     cOpts=[\"COMPRESS=DEFLATE\", \"BIGTIFF=YES\", \"TILED=YES\", \"NUM_THREADS=ALL_CPUS\"])\n",
    "        del(arrIn)\n",
    "    print(f)"
   ]
  }
 ],
 "metadata": {
  "kernelspec": {
   "display_name": "Python 2",
   "language": "python",
   "name": "python2"
  },
  "language_info": {
   "codemirror_mode": {
    "name": "ipython",
    "version": 2
   },
   "file_extension": ".py",
   "mimetype": "text/x-python",
   "name": "python",
   "nbconvert_exporter": "python",
   "pygments_lexer": "ipython2",
   "version": "2.7.14"
  }
 },
 "nbformat": 4,
 "nbformat_minor": 2
}
