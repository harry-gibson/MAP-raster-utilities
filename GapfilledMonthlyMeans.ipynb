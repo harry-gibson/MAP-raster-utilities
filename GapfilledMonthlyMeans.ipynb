{
 "cells": [
  {
   "cell_type": "code",
   "execution_count": null,
   "metadata": {
    "collapsed": false
   },
   "outputs": [],
   "source": [
    "import numpy as np\n",
    "import glob\n",
    "from collections import defaultdict\n",
    "import os\n",
    "import bottleneck as bn\n",
    "from osgeo import gdal\n",
    "import rasterio\n",
    "import numexpr as ne"
   ]
  },
  {
   "cell_type": "code",
   "execution_count": null,
   "metadata": {
    "collapsed": false
   },
   "outputs": [],
   "source": [
    "# generate this in excel with =CONCATENATE(DAYNUM,\":\",MONTH(DAYNUM),\", \")\n",
    "#daymonths = {1:1, 9:1, 17:1, 25:1, 33:2, 41:2, 49:2, 57:2, 65:3, 73:3, 81:3, 89:3, 97:4, 105:4, 113:4, 121:4, 129:5, 137:5, 145:5, 153:6, 161:6, 169:6, 177:6, 185:7, 193:7, 201:7, 209:7, 217:8, 225:8, 233:8, 241:8, 249:9, 257:9, 265:9, 273:9, 281:10, 289:10, 297:10, 305:10, 313:11, 321:11, 329:11, 337:12, 345:12, 353:12, 361:12}\n",
    "daymonths = {1:1, 9:1, 17:1, 25:1, 33:2, 41:2, 49:2, 57:2, 65:3, 73:3, 81:3, 89:3, 97:4, 105:4, 113:4, 121:5, 129:5, 137:5, 145:5, 153:6, 161:6, 169:6, 177:6, 185:7, 193:7, 201:7, 209:7, 217:8, 225:8, 233:8, 241:8, 249:9, 257:9, 265:9, 273:9, 281:10, 289:10, 297:10, 305:10, 313:11, 321:11, 329:11, 337:12, 345:12, 353:12, 361:12}\n",
    "fillDataFiles = defaultdict(lambda: defaultdict(list))\n",
    "fillFlagFiles = defaultdict(lambda: defaultdict(list))\n",
    "\n",
    "#baseDir = r'F:\\MOD11A2_Night_Output\\Output_Final_30k_2030pc'\n",
    "#baseDir = r'E:\\MCD43B4\\MCD43B4_Gapfilled_Output\\EVI\\Output_Final_30k_2030pc_FixedMean'\n",
    "#baseDir = r'E:\\MOD11A2_DiurnalDiffs_Output\\LST_Diurnal_Diffs\\Output_8day'\n",
    "baseDir = r'G:\\Extra\\Output\\TCW'\n",
    "\n",
    "genericFilePattern = r\"{0}\\*_{1}.tif\"\n",
    "#tag = \"LST_DiurnalDifference\"#\"TCB_Filled_Data\"\n",
    "tag = 'Filled_Data'\n",
    "\n",
    "for fn in glob.glob(genericFilePattern.format(baseDir,tag)):\n",
    "    print fn\n",
    "    datestr = os.path.basename(fn).split('_')[0][1:]\n",
    "    yr = int(datestr[:4])\n",
    "    day = int(datestr[4:])\n",
    "    month = daymonths[day]\n",
    "    fillDataFiles[yr][month].append(fn)\n",
    "    fillFlagFiles[yr][month].append(fn.replace('Filled_Data','Fill_Flags'))\n"
   ]
  },
  {
   "cell_type": "code",
   "execution_count": null,
   "metadata": {
    "collapsed": false
   },
   "outputs": [],
   "source": [
    "def calculateTemporalMean(inFiles):\n",
    "    n = len(inFiles)\n",
    "    global NDV\n",
    "    with rasterio.open(inFiles[0]) as src:\n",
    "        xSize = src.width\n",
    "        ySize = src.height\n",
    "        NDV = src.nodatavals[0]\n",
    "    \n",
    "    allData = np.empty(shape=(n, ySize, xSize), dtype = np.float32)\n",
    "    \n",
    "    for i in range(n):\n",
    "        with rasterio.open(inFiles[i]) as src:\n",
    "            assert src.width == xSize\n",
    "            assert src.height == ySize\n",
    "            assert src.nodatavals[0] == NDV\n",
    "            allData[i] = src.read_band(1, masked=False)\n",
    "    \n",
    "    allData[allData == NDV] = np.nan\n",
    "    #nanVal = np.nan\n",
    "    #ne.evaluate(\"where(allData == NDV, nanVal, 1)\",out=allData)\n",
    "    meanData = bn.nanmean(allData, axis=0)\n",
    "    meanData[np.isnan(meanData)] = NDV\n",
    "    #ne.evaluate(\"where(meanData==nanVal,NDV,meanData)\", out=meanData)\n",
    "    \n",
    "    return meanData\n",
    "\n",
    "\n",
    "def calculateFillProportions(inFiles):\n",
    "    \n",
    "    anyFillFlag = 16 + 32 + 64\n",
    "    n = len(inFiles)\n",
    "    \n",
    "    with rasterio.open(inFiles[0]) as src:\n",
    "        xSize = src.width\n",
    "        ySize = src.height\n",
    "    \n",
    "    allFlags = np.empty(shape=(n,ySize,xSize), dtype = np.uint8 )\n",
    "    \n",
    "    for i in range(n):\n",
    "        with rasterio.open(inFiles[i]) as src:\n",
    "            assert src.width == xSize\n",
    "            assert src.height == ySize\n",
    "           # assert src.nodatavals[0] == NDV\n",
    "            allFlags[i] = src.read_band(1, masked=False)\n",
    "        \n",
    "    allFlags = np.bitwise_and(allFlags, anyFillFlag) != 0\n",
    "    propFilled = bn.nanmean(allFlags, axis=0)\n",
    "    \n",
    "    return propFilled * 100"
   ]
  },
  {
   "cell_type": "code",
   "execution_count": null,
   "metadata": {
    "collapsed": false
   },
   "outputs": [],
   "source": [
    "#outDir = r'F:\\MOD11A2_Night_Output\\Output_Monthly_Means\\1km'\n",
    "#outDir = r'E:\\MCD43B4\\MCD43B4_Gapfilled_Output\\EVI\\Output_Monthly_Means\\1km'\n",
    "#outDir = r'F:\\MOD11A2_DiurnalDiffs_Output\\Output_Monthly_Means\\1km'\n",
    "#outDir = r'H:\\MCD43B4_Gapfilled_Output\\TCB\\Output_Monthly_Means\\1km'\n",
    "outDir = r'G:\\Extra\\Output\\Aggregated\\1km'\n",
    "xSize = 43200\n",
    "ySize = 21600\n"
   ]
  },
  {
   "cell_type": "code",
   "execution_count": null,
   "metadata": {
    "collapsed": false
   },
   "outputs": [],
   "source": [
    "aFlag = gdal.Open(fillDataFiles[2015][1][0])"
   ]
  },
  {
   "cell_type": "code",
   "execution_count": null,
   "metadata": {
    "collapsed": false
   },
   "outputs": [],
   "source": [
    "globalGT = aFlag.GetGeoTransform()"
   ]
  },
  {
   "cell_type": "code",
   "execution_count": null,
   "metadata": {
    "collapsed": false
   },
   "outputs": [],
   "source": [
    "globalProj = aFlag.GetProjection()"
   ]
  },
  {
   "cell_type": "code",
   "execution_count": null,
   "metadata": {
    "collapsed": false
   },
   "outputs": [],
   "source": [
    "aFlag = None"
   ]
  },
  {
   "cell_type": "code",
   "execution_count": null,
   "metadata": {
    "collapsed": false
   },
   "outputs": [],
   "source": [
    "\n",
    "#LST_Day.2000.09.5km.Mean.tif\n",
    "outputFNTemplate = r\"{0!s}\\{1!s}.{2!s}.{3!s}.1km.{4!s}.tif\"\n",
    "#metric = \"LST_DiurnalDiff\"#\"EVI\"\n",
    "metric = \"TCW\"\n",
    "#i = 0\n",
    "outDrv = gdal.GetDriverByName('GTiff')\n",
    "for yr, yrinfo in fillDataFiles.iteritems():\n",
    "    print yr\n",
    "    for monthNum, monthDataFiles in yrinfo.iteritems():\n",
    " #       assert i == 0\n",
    "    \n",
    "        monthFlagFiles = fillFlagFiles[yr][monthNum]\n",
    "        outDataFN = outputFNTemplate.format(\n",
    "            outDir, metric, yr, str(monthNum).zfill(2), \"Data\")\n",
    "        outFlagFN = outputFNTemplate.format(\n",
    "            outDir, metric, yr, str(monthNum).zfill(2), \"FilledProportion\")\n",
    "        # create file\n",
    "        \n",
    "        outputDataArr = calculateTemporalMean(monthDataFiles)\n",
    "        \n",
    "        #templateDS = gdal.Open(monthDataFiles[0])\n",
    "        outDS = outDrv.Create(outDataFN, xSize, ySize, 1, gdal.GDT_Float32,\n",
    "                              [\"TILED=YES\",\"SPARSE_OK=TRUE\",\"BIGTIFF=YES\",\"COMPRESS=LZW\",\"PREDICTOR=2\"])\n",
    "        outDS.SetGeoTransform(globalGT)\n",
    "        outDS.SetProjection(globalProj)\n",
    "        outBand = outDS.GetRasterBand(1)\n",
    "        outBand.WriteArray(outputDataArr)\n",
    "        outBand.SetNoDataValue(NDV)\n",
    "        outDS = None\n",
    "        #templateDS = None\n",
    "        del outputDataArr\n",
    "        \n",
    "        outputFlagArr = calculateFillProportions(monthFlagFiles)\n",
    "        \n",
    "        outDS = outDrv.Create(outFlagFN, xSize, ySize, 1, gdal.GDT_Byte,\n",
    "                              [\"TILED=YES\",\"SPARSE_OK=TRUE\",\"BIGTIFF=YES\",\"COMPRESS=LZW\",\"PREDICTOR=2\"])\n",
    "        outDS.SetGeoTransform(globalGT)\n",
    "        outDS.SetProjection(globalProj)\n",
    "       \n",
    "        outBand = outDS.GetRasterBand(1)\n",
    "        outBand.WriteArray(outputFlagArr)\n",
    "        outDS = None\n",
    "        del outputFlagArr\n",
    "        \n",
    "#        i += 1"
   ]
  }
 ],
 "metadata": {
  "kernelspec": {
   "display_name": "Python 2",
   "language": "python",
   "name": "python2"
  },
  "language_info": {
   "codemirror_mode": {
    "name": "ipython",
    "version": 2
   },
   "file_extension": ".py",
   "mimetype": "text/x-python",
   "name": "python",
   "nbconvert_exporter": "python",
   "pygments_lexer": "ipython2",
   "version": "2.7.5"
  }
 },
 "nbformat": 4,
 "nbformat_minor": 0
}
