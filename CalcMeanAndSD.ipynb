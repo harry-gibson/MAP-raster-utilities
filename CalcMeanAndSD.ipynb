{
 "cells": [
  {
   "cell_type": "markdown",
   "metadata": {},
   "source": [
    "## Introduction\n",
    "\n",
    "This notebook contains code written to calculate \"synoptic\" i.e. across-time summary statistic rasters (mean, s.d. and count) from a set of time-series rasters. \n",
    "\n",
    "It outputs a grid for each calendar month and an overall grid, for each statistic.\n",
    "\n",
    "It was primarily written to calculate summaries from MODIS 8-daily files where the timestamp of each file is embedded in the filename as a year and julian day. The code can be modified easily enough to work with timestamps in other formats.\n",
    "\n",
    "The actual heavy-lifting code is in a Cython module that should be available and compiled first.\n",
    "\n",
    "The advantages of using this code over just doing it in ArcMap are that it should be quicker, calculations are multithreaded, and a numerically-robust method is used for calculating the statistics."
   ]
  },
  {
   "cell_type": "code",
   "execution_count": 98,
   "metadata": {
    "collapsed": false
   },
   "outputs": [],
   "source": [
    "import glob\n",
    "import numpy as np\n",
    "from osgeo import gdal\n",
    "import os\n",
    "from collections import defaultdict"
   ]
  },
  {
   "cell_type": "code",
   "execution_count": 99,
   "metadata": {
    "collapsed": false
   },
   "outputs": [],
   "source": [
    "from General_Raster_Funcs.RasterTiling import getTiles\n",
    "from General_Raster_Funcs.TiffManagement import *"
   ]
  },
  {
   "cell_type": "markdown",
   "metadata": {},
   "source": [
    "The calculation code is implemented in an external class written in Cython. It processes data in parallel and tracks both data for a given month (or other subset) as well as an overall value. You will need to compile and install this first by running the following command in the MODIS_Raster_Funcs folder:\n",
    "\n",
    "`python setup.py build_ext --inplace`\n",
    "\n",
    "This assumes that you have Cython installed and also a suitable C compiler, which can be a slight mission on windows."
   ]
  },
  {
   "cell_type": "code",
   "execution_count": 100,
   "metadata": {
    "collapsed": true
   },
   "outputs": [],
   "source": [
    "from MODIS_Raster_Funcs.SynopticData import MonthlyStatCalculator"
   ]
  },
  {
   "cell_type": "markdown",
   "metadata": {},
   "source": [
    "## Set up file locations - edit then run each cell"
   ]
  },
  {
   "cell_type": "markdown",
   "metadata": {},
   "source": [
    "e.g."
   ]
  },
  {
   "cell_type": "code",
   "execution_count": 8,
   "metadata": {
    "collapsed": false
   },
   "outputs": [],
   "source": [
    "inBaseDir = r'F:\\MCD43B4_Gapfilled_Output\\EVI\\Output_Final_30k_2030pc_FixedMean'\n",
    "genericFilePattern = r\"{0}\\*_{1}.tif\"\n",
    "tag = \"Filled_Data\"\n",
    "what = \"EVI\""
   ]
  },
  {
   "cell_type": "markdown",
   "metadata": {},
   "source": [
    "or"
   ]
  },
  {
   "cell_type": "code",
   "execution_count": 101,
   "metadata": {
    "collapsed": true
   },
   "outputs": [],
   "source": [
    "#inBaseDir = r'E:\\Temp\\tsmodel\\5km\\runs\\-180W-180E-60N--60S-1024px-martens2\\mosaic'\n",
    "inBaseDir = r'E:\\Temp\\tsmodel\\1km\\ts_1k_global_martens2\\global_mosaic'\n",
    "genericFilePattern = r\"{0}\\*_{1}.tif\"\n",
    "#tag = \"5km_global_martens2\"\n",
    "tag = \"1km_global_martens2\"\n",
    "what = \"TS_New_1km_Martens2\""
   ]
  },
  {
   "cell_type": "code",
   "execution_count": 102,
   "metadata": {
    "collapsed": true
   },
   "outputs": [],
   "source": [
    "tileDir = r\"C:\\temp\\test\\tiles_1k\"\n",
    "outDir = r\"C:\\temp\\test\\merged_1k\""
   ]
  },
  {
   "cell_type": "code",
   "execution_count": 103,
   "metadata": {
    "collapsed": false
   },
   "outputs": [],
   "source": [
    "# Specify the height of each tile - depends on available memory.\n",
    "# The algorithm will work in slices that are this height and full-width,\n",
    "# so the algorithm needs around idealSlice * fullWidth * 80 bytes of RAM\n",
    "# Thus with global 1k images (43200px wide), a slice of 7168 (high) needs \n",
    "# around 25Gb RAM. Choose based on your PC's RAM.\n",
    "\n",
    "# The rasters have tilesize 256 (or a multiple thereof) so pick a size\n",
    "# that is a multiple of this where possible for most efficient access\n",
    "# (not a big deal, though)\n",
    "idealSlice = 7200\n",
    "\n",
    "# alter to suit the images\n",
    "fullWidth = 43200\n",
    "fullHeight = 14400\n",
    "\n",
    "# alter output no data value to whatever you want: not required to be the same as the inputs\n",
    "outNdv = -9999\n"
   ]
  },
  {
   "cell_type": "markdown",
   "metadata": {},
   "source": [
    "### Run the following cells unaltered to configure the remaining inputs\n",
    "\n",
    "The code will iterate over a dictionary called monthDays where the key is a month number and the value is a list of the julian day numbers (in the case of MODIS data or other data numbered by Julian day) or other day-identifiers (specifically monthnum-daynum) for which there is data in that month. \n",
    "\n",
    "#### For MODIS specifically:\n",
    "\n",
    "For example {1:[1,9,17,25],...,12:[337,345,353,361]} for MODIS data with filenames like A2009165.tif\n"
   ]
  },
  {
   "cell_type": "markdown",
   "metadata": {},
   "source": [
    "For aggregating the MODIS 8-daily files, the filenames are coded with year and julian day. We need to map the julian day to the month:"
   ]
  },
  {
   "cell_type": "code",
   "execution_count": 25,
   "metadata": {
    "collapsed": false
   },
   "outputs": [],
   "source": [
    "# build a dictionary mapping day of year to month of year, only required for the \n",
    "# day numbers that the 8-daily MODIS data occurs on\n",
    "# generate this in excel with =CONCATENATE(DAYNUM,\":\",MONTH(DAYNUM),\", \")\n",
    "daymonths = {1:1, 9:1, 17:1, 25:1, 33:2, 41:2, 49:2, 57:2, 65:3, 73:3, 81:3, 89:3, 97:4, \n",
    "             105:4, 113:4, 121:4, 129:5, 137:5, 145:5, 153:6, 161:6, 169:6, 177:6, 185:7, \n",
    "             193:7, 201:7, 209:7, 217:8, 225:8, 233:8, 241:8, 249:9, 257:9, 265:9, 273:9, \n",
    "             281:10, 289:10, 297:10, 305:10, 313:11, 321:11, 329:11, 337:12, 345:12, 353:12, \n",
    "             361:12}\n",
    "\n",
    "    "
   ]
  },
  {
   "cell_type": "markdown",
   "metadata": {},
   "source": [
    "Build a dictionary to map a julian day-of-year to all the filenames available (across years) for that julian day.\n",
    "\n",
    "For the MODIS data we will do this based on month and then day i.e. the summary code will iterate over monthDays created above and then read the day files for each day in each month:"
   ]
  },
  {
   "cell_type": "code",
   "execution_count": 9,
   "metadata": {
    "collapsed": false
   },
   "outputs": [],
   "source": [
    "# build a list of MODIS files available for each day-of-year, based on the \n",
    "# year / julian day that's encoded in the filenames such as \"A2015009_LST_Day.tif\"\n",
    "years = defaultdict(int)\n",
    "days = defaultdict(int)\n",
    "dayfiles = defaultdict(list)\n",
    "\n",
    "# swap to build list of days for each month\n",
    "monthDays = defaultdict(list)\n",
    "for d,m in daymonths.iteritems():\n",
    "    monthDays[m].append(d)\n",
    "    \n",
    "allFilesDict = defaultdict(list)\n",
    "#for fn in glob.glob(inFilePattern):\n",
    "for fn in glob.glob(genericFilePattern.format(inBaseDir, tag)):\n",
    "    datestr = os.path.basename(fn).split('_')[0][1:]\n",
    "    yr = int(datestr[:4])\n",
    "    years[yr] +=1\n",
    "    day = int(datestr[4:])\n",
    "    days[day] +=1\n",
    "    month = daymonths[day]\n",
    "    dayfiles[day].append(fn)\n",
    "    allFilesDict[str(yr)].append(fn)  "
   ]
  },
  {
   "cell_type": "markdown",
   "metadata": {},
   "source": [
    "#### For other data: build similar data structures\n",
    "\n",
    "For example {1:['1-1','1-15'],...12:['12-1','12-15']} for some other data with filenames like TSI_20091215.tif\n"
   ]
  },
  {
   "cell_type": "code",
   "execution_count": 104,
   "metadata": {
    "collapsed": true
   },
   "outputs": [],
   "source": [
    "# build a list of MODIS files available for each day-of-year, based on the \n",
    "# year / julian day that's encoded in the filenames such as \"A2015009_LST_Day.tif\"\n",
    "years = defaultdict(int)\n",
    "days = defaultdict(int)\n",
    "dayfiles = defaultdict(list)\n",
    "\n",
    "# swap to build list of days for each month\n",
    "monthDays = defaultdict(list)\n",
    "for m in range(1,13):\n",
    "    for d in range(1,2):\n",
    "        monthDays[m].append(str(m)+'-'+str(d))\n",
    "    \n",
    "allFilesDict = defaultdict(list)\n",
    "for fn in glob.glob(genericFilePattern.format(inBaseDir, tag)):\n",
    "    datestr = os.path.basename(fn).split('_')[0]\n",
    "    yr = int(datestr[:4])\n",
    "    years[yr] +=1\n",
    "    #day = int(datestr[4:])\n",
    "    month = int(datestr[4:6])\n",
    "    day = int(datestr[6:])\n",
    "    monthday = str(month)+\"-\"+str(day)\n",
    "    days[monthday] +=1\n",
    "    #month = daymonths[day]\n",
    "    dayfiles[monthday].append(fn)\n",
    "    allFilesDict[str(yr)].append(fn)"
   ]
  },
  {
   "cell_type": "markdown",
   "metadata": {},
   "source": [
    "### configure how the processing will run"
   ]
  },
  {
   "cell_type": "code",
   "execution_count": 106,
   "metadata": {
    "collapsed": false
   },
   "outputs": [],
   "source": [
    "globalGT = None\n",
    "globalProj = None\n",
    "stats = ['Count', 'Mean', 'SD']\n",
    "stats = ['Mean']\n",
    "# work out the tiles we'll work in. We'll work with full-width slices for \n",
    "# now. \n",
    "slices = sorted(list(set([s[1] for s in getTiles(fullWidth, fullHeight, idealSlice)])))"
   ]
  },
  {
   "cell_type": "markdown",
   "metadata": {},
   "source": [
    "write a function called fnGetter that will return the required output file name for the given descriptor (what), timespan (when), summary type (stat) and where (global, africa, top coordinate of slice, etc)"
   ]
  },
  {
   "cell_type": "code",
   "execution_count": 95,
   "metadata": {
    "collapsed": true
   },
   "outputs": [],
   "source": [
    "fnGetter = lambda what, when, stat, where:(\n",
    "    \"_\".join([str(what), str(when), str(stat), str(where)]) + \".tif\")"
   ]
  },
  {
   "cell_type": "markdown",
   "metadata": {},
   "source": [
    "#### run the next two cells to define the functions that actually read the source data and call the summarisation code"
   ]
  },
  {
   "cell_type": "code",
   "execution_count": 89,
   "metadata": {
    "collapsed": true
   },
   "outputs": [],
   "source": [
    "def synopticSliceRunner(top, bottom, width, outputNDV):\n",
    "    assert (isinstance(bottom,int) and isinstance(top,int)\n",
    "        and bottom > top)\n",
    "    \n",
    "    if not monthDays or not dayfiles or not fnGetter:\n",
    "        print \"Notebook globals monthDays, dayfiles, and fnGetter must be defined first\"\n",
    "        return False\n",
    "    sliceHeight = bottom - top\n",
    "    statsCalculator = MonthlyStatCalculator(sliceHeight, width, outputNDV)\n",
    "    sliceGT = None\n",
    "    sliceProj = None\n",
    "    print str((top,bottom))\n",
    "    for month, days in monthDays.iteritems():\n",
    "        # for each calendar day of this synoptic month \n",
    "        print \"\\tMonth \"+str(month)\n",
    "        for day in days:\n",
    "            # for each file on this calendar day (i.e. one per year)\n",
    "            print\"\\t\\tDay \"+str(day)\n",
    "            for dayfile in dayfiles[day]:\n",
    "                # add slice\n",
    "                data, myGT, myProj, thisNdv = ReadAOI_PixelLims(dayfile, None, (top, bottom))\n",
    "                if sliceGT is None:\n",
    "                    sliceGT = myGT\n",
    "                    sliceProj = myProj\n",
    "                else:\n",
    "                    assert sliceGT == myGT\n",
    "                    assert sliceProj == myProj\n",
    "                # add the data to the running calculator\n",
    "                statsCalculator.addFile(data,  thisNdv)\n",
    "        # get and save the results for this synoptic month\n",
    "        monthResults = statsCalculator.emitMonth()\n",
    "        SaveLZWTiff(monthResults['count'], outNdv, sliceGT, sliceProj, tileDir,\n",
    "                   fnGetter(what, \"M\" + str(month).zfill(2), \"Count\", top))\n",
    "        SaveLZWTiff(monthResults['mean'], outNdv, sliceGT, sliceProj, tileDir,\n",
    "                   fnGetter(what, \"M\" + str(month).zfill(2), \"Mean\", top))\n",
    "        SaveLZWTiff(monthResults['sd'], outNdv, sliceGT, sliceProj, tileDir,\n",
    "                   fnGetter(what, \"M\" + str(month).zfill(2), \"SD\", top))\n",
    "    \n",
    "    # get and save the overall synoptic result\n",
    "    overallResults = statsCalculator.emitTotal()\n",
    "    SaveLZWTiff(overallResults['count'], outNdv, sliceGT, sliceProj, tileDir,\n",
    "        fnGetter(what, \"Overall\", \"Count\", top))\n",
    "    SaveLZWTiff(overallResults['mean'], outNdv, sliceGT, sliceProj, tileDir,\n",
    "        fnGetter(what, \"Overall\", \"Mean\", top))\n",
    "    SaveLZWTiff(overallResults['sd'], outNdv, sliceGT, sliceProj, tileDir,\n",
    "        fnGetter(what, \"Overall\", \"SD\", top))\n",
    "    statsCalculator = None\n",
    "    \n",
    "    return True\n",
    "        "
   ]
  },
  {
   "cell_type": "code",
   "execution_count": 46,
   "metadata": {
    "collapsed": true
   },
   "outputs": [],
   "source": [
    "def temporalSliceRunner(top, bottom, width, outputNDV, filesDict):\n",
    "    assert (isinstance(bottom,int) and isinstance(top,int)\n",
    "        and bottom > top)\n",
    "    sliceHeight = bottom - top\n",
    "    statsCalculator = MonthlyStatCalculator(sliceHeight, width, outputNDV)\n",
    "    sliceGT = None\n",
    "    sliceProj = None\n",
    "    print str((top,bottom))\n",
    "    for timeKey, timeFiles in filesDict.iteritems():\n",
    "        print timeKey\n",
    "        for timeFile in timeFiles:\n",
    "            data, myGT, myProj, thisNdv = ReadAOI_PixelLims(timeFile, None, (top, bottom))\n",
    "            if sliceGT is None:\n",
    "                sliceGT = myGT\n",
    "                sliceProj = myProj\n",
    "            else:\n",
    "                assert sliceGT == myGT\n",
    "                assert sliceProj == myProj\n",
    "            statsCalculator.addFile(data, thisNdv)\n",
    "        periodResults = statsCalculator.emitMonth()\n",
    "        SaveLZWTiff(periodResults['mean'], outNdv, sliceGT, sliceProj, tileDir,\n",
    "                   fnGetter(what, str(timeKey), \"Mean\", top))\n",
    "    overallResults = statsCalculator.emitTotal()\n",
    "    SaveLZWTiff(periodResults['mean'], outNdv, sliceGT, sliceProj, tileDir,\n",
    "               fnGetter(what, \"Overall\", \"Mean\", top))\n",
    "    return True"
   ]
  },
  {
   "cell_type": "markdown",
   "metadata": {},
   "source": [
    "# Run this cell to calculate the results and save to tiled tiffs"
   ]
  },
  {
   "cell_type": "code",
   "execution_count": null,
   "metadata": {
    "collapsed": false,
    "scrolled": true
   },
   "outputs": [],
   "source": [
    "for t,b in slices:\n",
    "    synopticSliceRunner(t, b, fullWidth, outNdv)\n",
    "    #temporalSliceRunner(t,b,fullWidth,outNdv,allFilesDict)\n",
    "        "
   ]
  },
  {
   "cell_type": "code",
   "execution_count": null,
   "metadata": {
    "collapsed": false
   },
   "outputs": [],
   "source": [
    "[str(f)+\":\"+str(len(allFilesDict[f])) for f in sorted(allFilesDict.keys())]"
   ]
  },
  {
   "cell_type": "markdown",
   "metadata": {},
   "source": [
    "## Run this cell to merge the tiles to global outputs and build pyramids"
   ]
  },
  {
   "cell_type": "code",
   "execution_count": null,
   "metadata": {
    "collapsed": false,
    "scrolled": false
   },
   "outputs": [],
   "source": [
    "import subprocess\n",
    "vrtBuilder = \"gdalbuildvrt {0} {1}\"\n",
    "transBuilder = \"gdal_translate -of GTiff -co COMPRESS=LZW \"+\\\n",
    "    \"-co PREDICTOR=2 -co TILED=YES -co SPARSE_OK=TRUE -co BIGTIFF=YES \"+\\\n",
    "    \"--config GDAL_CACHEMAX 8000 {0} {1}\"\n",
    "ovBuilder = \"gdaladdo -ro --config COMPRESS_OVERVIEW LZW --config USE_RRD NO \" +\\\n",
    "        \"--config TILED YES {0} 2 4 8 16 32 64 128 256 --config GDAL_CACHEMAX 8000\"\n",
    "statBuilder = \"gdalinfo -stats {0} >nul\"    \n",
    "\n",
    "vrts = []\n",
    "tifs = []\n",
    "if not os.path.isdir(outDir):\n",
    "    os.makedirs(outDir)\n",
    "# For each statistic and each month (+ overall), build a vrt file to mosaic all the slices for \n",
    "# that image together\n",
    "for stat in stats:\n",
    "    for month in sorted(monthDays.keys()):\n",
    "        # get the filenames of all the slices for this month\n",
    "        tiffWildCard = fnGetter(what, 'M'+str(month).zfill(2), stat, \"*\")\n",
    "        sliceTiffs = os.path.join(tileDir, tiffWildCard)\n",
    "        vrtName = what + \"_Month_\" + str(month).zfill(2) + \"_\" + stat + \".vrt\"\n",
    "        vrtFile = os.path.join(outDir, vrtName)\n",
    "        vrtCommand = vrtBuilder.format(vrtFile, \n",
    "                                      sliceTiffs)\n",
    "        print vrtCommand\n",
    "        vrts.append(vrtFile)\n",
    "        subprocess.call(vrtCommand)\n",
    "    tiffWildCard = fnGetter(what, \"Overall\", stat, \"*\")\n",
    "    sliceTiffs = os.path.join(tileDir, tiffWildCard)\n",
    "    vrtName = what+\"_Overall_\" + stat + \".vrt\"\n",
    "    vrtFile = os.path.join(outDir, vrtName)\n",
    "    vrtCommand = vrtBuilder.format(vrtFile, \n",
    "                                      sliceTiffs)\n",
    "    print vrtCommand\n",
    "    vrts.append(vrtFile)\n",
    "    subprocess.call(vrtCommand)\n",
    "# Translate each of the vrts into a tiff\n",
    "for vrt in vrts:\n",
    "    tif = vrt.replace('vrt', 'tif')\n",
    "    transCommand = transBuilder.format(vrt, tif)\n",
    "    print transCommand\n",
    "    tifs.append(tif)\n",
    "    subprocess.call(transCommand)\n",
    "# Build overviews and statistics on all of the output tiffs\n",
    "for tif in tifs:\n",
    "    ovCommand = ovBuilder.format(tif)\n",
    "    statCommand = statBuilder.format(tif)\n",
    "    print ovCommand\n",
    "    subprocess.call(ovCommand)\n",
    "    print statCommand\n",
    "    subprocess.call(statCommand)\n",
    "\n"
   ]
  },
  {
   "cell_type": "markdown",
   "metadata": {},
   "source": [
    "# Run the same code to generate \"balanced means\"\n",
    "\n",
    "The balanced mean is the mean of the monthly means, as compared to the overall mean we calculated above which is the mean of all the individual (8-)daily values.\n",
    "\n",
    "Some areas in the world are less likely to have data (due to clouds) at certain times of year. The overall synoptic mean is therefore skewed towards the values experienced during periods when there are fewer clouds. (We might have 50 values recorded in a July and only 5 values recorded in a December: the overall mean will be dominated by July values). \n",
    "\n",
    "By taking the mean of the monthly means, we effectively increase the weight given to days from \"rarer\" periods, because each month is treated equally (so the 5 \\* December readings are collectively contributing as much to the balanced mean as the 50 \\* July readings)\n",
    "\n",
    "We just use the same Cython library as before, only slightly differently"
   ]
  },
  {
   "cell_type": "markdown",
   "metadata": {},
   "source": [
    "###### Generate the \"balanced\" mean as the mean of the 12 monthly bands"
   ]
  },
  {
   "cell_type": "code",
   "execution_count": null,
   "metadata": {
    "collapsed": true
   },
   "outputs": [],
   "source": [
    "# assuming we've run the code above and the output files from before are in the list called tifs\n",
    "\n",
    "fileListMonths = [t for tif in tifs if t.startswith('Month') and t.endswith('Mean')]\n",
    "assert len(fileListMonths) == 12\n",
    "for (top, bottom) in slices:\n",
    "    sliceHeight = bottom - top\n",
    "    statsCalculator = MonthlyStatCalculator(sliceHeight, width, outputNDV)\n",
    "    sliceGT = None\n",
    "    sliceProj = None\n",
    "    print str((top, bottom)) \n",
    "    for monthfile in fileListMonths:\n",
    "        data, myGT, myProj, thisNdv = ReadAOI_PixelLims(monthfile, None, (top,bottom))\n",
    "        if sliceGT is None:\n",
    "            sliceGT = myGT\n",
    "            sliceProj = myProj\n",
    "        else:\n",
    "            assert sliceGT == myGT\n",
    "            assert sliceProj == myProj\n",
    "        # calculate the mean of the months, use a fixed value for the \"month\" as we're not \n",
    "        # wanting monthly output from the calculator this time\n",
    "        statsCalculator.addFile(data, 1, thisNdv)\n",
    "    balancedRes = statsCalculator.emitTotal()\n",
    "    SaveLZWTiff(balancedRes,['count'], outNdv, sliceGT, sliceProj, outDir,\n",
    "               fnGetter(what, \"Count_Of_Months\", \"\", top))\n",
    "    SaveLZWTiff(balancedRes,['mean'], outNdv, sliceGT, sliceProj, outDir,\n",
    "               fnGetter(what, \"Mean_Of_Months\", \"\", top))\n",
    "    SaveLZWTiff(balancedRes,['sd'], outNdv, sliceGT, sliceProj, outDir,\n",
    "               fnGetter(what, \"SD_Of_Months\", \"\", top))\n",
    "    statsCalculator = None\n",
    "\n",
    "\n"
   ]
  }
 ],
 "metadata": {
  "kernelspec": {
   "display_name": "Python 2",
   "language": "python",
   "name": "python2"
  },
  "language_info": {
   "codemirror_mode": {
    "name": "ipython",
    "version": 2
   },
   "file_extension": ".py",
   "mimetype": "text/x-python",
   "name": "python",
   "nbconvert_exporter": "python",
   "pygments_lexer": "ipython2",
   "version": "2.7.5"
  }
 },
 "nbformat": 4,
 "nbformat_minor": 0
}
