{
 "cells": [
  {
   "cell_type": "markdown",
   "metadata": {},
   "source": [
    "# Temporal aggregation\n",
    "\n",
    "This is a demonstration of how to run temporal aggregations using the cython library code. (Or other aggregations of multiple files into one - not specifically temporal).\n",
    "\n",
    "The code is written in cython (`raster_utilities/aggregation/temporal/core/temporal.pyx`) and a helper class `raster_utilities/aggregation/temporal/temporal_aggregation_runner.py` is provided to assist with loading the data and passing it to the core function.\n",
    "\n",
    "This notebook demonstrates how to use the helper code.\n",
    "\n",
    "Import the aggregation helper class"
   ]
  },
  {
   "cell_type": "code",
   "execution_count": 1,
   "metadata": {
    "collapsed": false
   },
   "outputs": [],
   "source": [
    "from raster_utilities.aggregation.temporal.temporal_aggregation_runner import TemporalAggregator\n"
   ]
  },
  {
   "cell_type": "markdown",
   "metadata": {},
   "source": [
    "We initialise the class with a dictionary in which the keys are the required output tags (e.g. years) and the values are a list of files corresponding to that period. So, build that object"
   ]
  },
  {
   "cell_type": "code",
   "execution_count": 2,
   "metadata": {
    "collapsed": true
   },
   "outputs": [],
   "source": [
    "import glob"
   ]
  },
  {
   "cell_type": "code",
   "execution_count": 3,
   "metadata": {
    "collapsed": false
   },
   "outputs": [],
   "source": [
    "inFilePattern = r'G:\\modis\\mod11a2_v6\\Night\\*.tif'\n",
    "#inFilePattern = r'C:\\Temp\\dataprep\\brazil\\1km_daily\\evi\\*_Data.tif'\n",
    "inFiles = glob.glob(inFilePattern)"
   ]
  },
  {
   "cell_type": "markdown",
   "metadata": {},
   "source": [
    "Build the dictionary based on extracting the date from the filenames - this will need changing to suit the filename patterns being used and the type of outputs we want (annual, monthly, synoptic months?) \n",
    "\n",
    "We can use a defaultdict rather than a real dict which simplifies the loop a bit.\n",
    "\n",
    "The dictionary key will be used to create the output filenames so you might want to alter the strings slightly to make them more informative."
   ]
  },
  {
   "cell_type": "code",
   "execution_count": 4,
   "metadata": {
    "collapsed": true
   },
   "outputs": [],
   "source": [
    "import os\n",
    "from collections import defaultdict"
   ]
  },
  {
   "cell_type": "code",
   "execution_count": 5,
   "metadata": {
    "collapsed": true
   },
   "outputs": [],
   "source": [
    "daymonths = {1:1, 9:1, 17:1, 25:1, 33:2, 41:2, 49:2, 57:2, 65:3, 73:3, 81:3, 89:3, 97:4, \n",
    "             105:4, 113:4, 121:4, 129:5, 137:5, 145:5, 153:6, 161:6, 169:6, 177:6, 185:7, \n",
    "             193:7, 201:7, 209:7, 217:8, 225:8, 233:8, 241:8, 249:9, 257:9, 265:9, 273:9, \n",
    "             281:10, 289:10, 297:10, 305:10, 313:11, 321:11, 329:11, 337:12, 345:12, 353:12, \n",
    "             361:12}\n",
    "\n",
    "processingKey = defaultdict(list)\n",
    "# build a dictionary keyed by year, to create annual outputs\n",
    "tag = \"LST_Night_Unfilled.\"\n",
    "for fn in inFiles:\n",
    "    parts = os.path.basename(fn).split('_')\n",
    "    poo = parts[0]\n",
    "    yr = poo[1:5]\n",
    "    daynum = int(poo[5:8])\n",
    "    poo1 = yr+\".\"+str(daymonths[daynum]).zfill(2)\n",
    "    # outkey = tag + poo1\n",
    "    # processingKey[outkey].append(fn)\n",
    "    processingKey[tag + str(yr)].append(fn)\n",
    "    processingKey[tag + str(daymonths[daynum]).zfill(2)].append(fn)"
   ]
  },
  {
   "cell_type": "code",
   "execution_count": 6,
   "metadata": {
    "collapsed": false
   },
   "outputs": [],
   "source": [
    "processingKey = defaultdict(list)\n",
    "for fn in inFiles:\n",
    "    parts = os.path.basename(fn).split('.')\n",
    "    yr = parts[1]\n",
    "    outkey = \"CHIRPS.\"+yr\n",
    "    processingKey[outkey].append(fn)\n",
    "    "
   ]
  },
  {
   "cell_type": "markdown",
   "metadata": {},
   "source": [
    "We also need to specify the output folder, the output nodata value, and whether we want to create a synoptic (overall) output too (this doubles memory use so don't do unless you need it)."
   ]
  },
  {
   "cell_type": "code",
   "execution_count": 6,
   "metadata": {
    "collapsed": true
   },
   "outputs": [],
   "source": [
    "outDir = r\"G:\\modis\\mod11a2_v6\\Night_Synoptic_Corrected\"\n",
    "outNDV = -9999\n",
    "doSynoptic = True"
   ]
  },
  {
   "cell_type": "markdown",
   "metadata": {},
   "source": [
    "Finally we need to specify which stats to do, what's appropriate will depend on the data. For rainfall we just want a sum.\n",
    "The values must be specified as a list of values from the TemporalAggregationStats class. You can also use TemporalAggregationStats.ALL."
   ]
  },
  {
   "cell_type": "code",
   "execution_count": 7,
   "metadata": {
    "collapsed": true
   },
   "outputs": [],
   "source": [
    "from raster_utilities.aggregation.aggregation_values import TemporalAggregationStats"
   ]
  },
  {
   "cell_type": "code",
   "execution_count": 8,
   "metadata": {
    "collapsed": true
   },
   "outputs": [],
   "source": [
    "stats = [ 'mean', 'SD', 'count']"
   ]
  },
  {
   "cell_type": "markdown",
   "metadata": {},
   "source": [
    "Now we just need to instantiate the class and run the aggregation"
   ]
  },
  {
   "cell_type": "code",
   "execution_count": 9,
   "metadata": {
    "collapsed": false
   },
   "outputs": [],
   "source": [
    "agg = TemporalAggregator(processingKey, outDir, outNDV, stats, doSynoptic)"
   ]
  },
  {
   "cell_type": "code",
   "execution_count": 10,
   "metadata": {
    "collapsed": false,
    "scrolled": true
   },
   "outputs": [
    {
     "name": "stdout",
     "output_type": "stream",
     "text": [
      "Running by splitting across 2 tiles\n"
     ]
    },
    {
     "name": "stderr",
     "output_type": "stream",
     "text": [
      "raster_utilities\\aggregation\\temporal\\temporal_aggregation_runner.py:54: RuntimeWarning: overflow encountered in long_scalars\n",
      "  bTot = bppTot * nPix\n"
     ]
    },
    {
     "name": "stdout",
     "output_type": "stream",
     "text": [
      "LST_Night_Unfilled.2014\n",
      "LST_Night_Unfilled.2015\n",
      "LST_Night_Unfilled.2016\n",
      "LST_Night_Unfilled.2017\n",
      "LST_Night_Unfilled.2010\n",
      "LST_Night_Unfilled.2011\n",
      "LST_Night_Unfilled.2012\n",
      "LST_Night_Unfilled.2013\n",
      "LST_Night_Unfilled.03\n"
     ]
    },
    {
     "name": "stderr",
     "output_type": "stream",
     "text": [
      "raster_utilities\\aggregation\\temporal\\temporal_aggregation_runner.py:56: RuntimeWarning: overflow encountered in long_scalars\n",
      "  bTot *= 2\n",
      "raster_utilities\\aggregation\\temporal\\temporal_aggregation_runner.py:57: RuntimeWarning: overflow encountered in long_scalars\n",
      "  bTot += 8 * nPix # the input data tile\n"
     ]
    },
    {
     "ename": "ValueError",
     "evalue": "Unknown conversion specifier S",
     "output_type": "error",
     "traceback": [
      "\u001b[0;31m---------------------------------------------------------------------------\u001b[0m",
      "\u001b[0;31mValueError\u001b[0m                                Traceback (most recent call last)",
      "\u001b[0;32m<ipython-input-10-366b62a8127b>\u001b[0m in \u001b[0;36m<module>\u001b[0;34m()\u001b[0m\n\u001b[0;32m----> 1\u001b[0;31m \u001b[0magg\u001b[0m\u001b[1;33m.\u001b[0m\u001b[0mRunAggregation\u001b[0m\u001b[1;33m(\u001b[0m\u001b[1;33m)\u001b[0m\u001b[1;33m\u001b[0m\u001b[0m\n\u001b[0m",
      "\u001b[0;32mC:\\Users\\zool1301.NDPH\\Documents\\Code_General\\MAP-raster-utilities\\raster_utilities\\aggregation\\temporal\\temporal_aggregation_runner.py\u001b[0m in \u001b[0;36mRunAggregation\u001b[0;34m(self)\u001b[0m\n\u001b[1;32m    108\u001b[0m \u001b[1;33m\u001b[0m\u001b[0m\n\u001b[1;32m    109\u001b[0m         \u001b[1;32mfor\u001b[0m \u001b[0mt\u001b[0m\u001b[1;33m,\u001b[0m \u001b[0mb\u001b[0m \u001b[1;32min\u001b[0m \u001b[0mslices\u001b[0m\u001b[1;33m:\u001b[0m\u001b[1;33m\u001b[0m\u001b[0m\n\u001b[0;32m--> 110\u001b[0;31m             \u001b[0mself\u001b[0m\u001b[1;33m.\u001b[0m\u001b[0m_temporalAggregationSliceRunner\u001b[0m\u001b[1;33m(\u001b[0m\u001b[0mt\u001b[0m\u001b[1;33m,\u001b[0m \u001b[0mb\u001b[0m\u001b[1;33m,\u001b[0m \u001b[0msaveFolder\u001b[0m\u001b[1;33m)\u001b[0m\u001b[1;33m\u001b[0m\u001b[0m\n\u001b[0m\u001b[1;32m    111\u001b[0m \u001b[1;33m\u001b[0m\u001b[0m\n\u001b[1;32m    112\u001b[0m         \u001b[1;32mif\u001b[0m \u001b[0mlen\u001b[0m\u001b[1;33m(\u001b[0m\u001b[0mslices\u001b[0m\u001b[1;33m)\u001b[0m \u001b[1;33m>\u001b[0m \u001b[1;36m1\u001b[0m\u001b[1;33m:\u001b[0m\u001b[1;33m\u001b[0m\u001b[0m\n",
      "\u001b[0;32mC:\\Users\\zool1301.NDPH\\Documents\\Code_General\\MAP-raster-utilities\\raster_utilities\\aggregation\\temporal\\temporal_aggregation_runner.py\u001b[0m in \u001b[0;36m_temporalAggregationSliceRunner\u001b[0;34m(self, top, bottom, outFolder)\u001b[0m\n\u001b[1;32m    220\u001b[0m                 \u001b[1;31m# and, separately, monthly means, involving reading each file twice, but only want\u001b[0m\u001b[1;33m\u001b[0m\u001b[1;33m\u001b[0m\u001b[0m\n\u001b[1;32m    221\u001b[0m                 \u001b[1;31m# to count each one once towards overall totals.\u001b[0m\u001b[1;33m\u001b[0m\u001b[1;33m\u001b[0m\u001b[0m\n\u001b[0;32m--> 222\u001b[0;31m                 \u001b[0mstatsCalculator\u001b[0m\u001b[1;33m.\u001b[0m\u001b[0maddFile\u001b[0m\u001b[1;33m(\u001b[0m\u001b[0mdata\u001b[0m\u001b[1;33m,\u001b[0m \u001b[0mthisNdv\u001b[0m\u001b[1;33m,\u001b[0m \u001b[0mtimeFile\u001b[0m\u001b[1;33m)\u001b[0m\u001b[1;33m\u001b[0m\u001b[0m\n\u001b[0m\u001b[1;32m    223\u001b[0m             \u001b[0mperiodResults\u001b[0m \u001b[1;33m=\u001b[0m \u001b[0mstatsCalculator\u001b[0m\u001b[1;33m.\u001b[0m\u001b[0memitStep\u001b[0m\u001b[1;33m(\u001b[0m\u001b[1;33m)\u001b[0m\u001b[1;33m\u001b[0m\u001b[0m\n\u001b[1;32m    224\u001b[0m             \u001b[1;32mif\u001b[0m \u001b[0misFullFile\u001b[0m\u001b[1;33m:\u001b[0m\u001b[1;33m\u001b[0m\u001b[0m\n",
      "\u001b[0;32mtemporal\\core\\temporal.pyx\u001b[0m in \u001b[0;36mtemporal.core.temporal.TemporalAggregator_Dynamic.addFile (temporal\\core\\temporal.c:5400)\u001b[0;34m()\u001b[0m\n",
      "\u001b[0;32mtemporal\\core\\temporal.pyx\u001b[0m in \u001b[0;36mtemporal.core.temporal.TemporalAggregator_Dynamic.addFile (temporal\\core\\temporal.c:4201)\u001b[0;34m()\u001b[0m\n",
      "\u001b[0;31mValueError\u001b[0m: Unknown conversion specifier S"
     ]
    }
   ],
   "source": [
    "agg.RunAggregation()"
   ]
  },
  {
   "cell_type": "markdown",
   "metadata": {
    "collapsed": true
   },
   "source": [
    "Current status as of 27/2:\n",
    "Night ones: data are correct except synoptic count is doubled\n",
    "Day ones: all synoptic have been double counted so SDs need adjusting or repeating"
   ]
  },
  {
   "cell_type": "code",
   "execution_count": 11,
   "metadata": {
    "collapsed": false
   },
   "outputs": [
    {
     "data": {
      "text/plain": [
       "True"
      ]
     },
     "execution_count": 11,
     "metadata": {},
     "output_type": "execute_result"
    }
   ],
   "source": [
    "agg.doSynoptic"
   ]
  },
  {
   "cell_type": "code",
   "execution_count": 12,
   "metadata": {
    "collapsed": false
   },
   "outputs": [
    {
     "ename": "SyntaxError",
     "evalue": "invalid syntax (<ipython-input-12-517e84dba13b>, line 1)",
     "output_type": "error",
     "traceback": [
      "\u001b[0;36m  File \u001b[0;32m\"<ipython-input-12-517e84dba13b>\"\u001b[0;36m, line \u001b[0;32m1\u001b[0m\n\u001b[0;31m    [print(k) for f in agg.filesDict.iteritems()]\u001b[0m\n\u001b[0m         ^\u001b[0m\n\u001b[0;31mSyntaxError\u001b[0m\u001b[0;31m:\u001b[0m invalid syntax\n"
     ]
    }
   ],
   "source": [
    "[print(k) for f in agg.filesDict.iteritems()]"
   ]
  },
  {
   "cell_type": "code",
   "execution_count": 24,
   "metadata": {
    "collapsed": false
   },
   "outputs": [
    {
     "name": "stdout",
     "output_type": "stream",
     "text": [
      "LST_Night_Unfilled.2014\n",
      "LST_Night_Unfilled.2015\n",
      "LST_Night_Unfilled.2016\n",
      "LST_Night_Unfilled.2017\n",
      "LST_Night_Unfilled.2010\n",
      "LST_Night_Unfilled.2011\n",
      "LST_Night_Unfilled.2012\n",
      "LST_Night_Unfilled.2013\n",
      "LST_Night_Unfilled.03\n",
      "LST_Night_Unfilled.02\n",
      "LST_Night_Unfilled.01\n",
      "LST_Night_Unfilled.07\n",
      "LST_Night_Unfilled.06\n",
      "LST_Night_Unfilled.05\n",
      "LST_Night_Unfilled.04\n",
      "LST_Night_Unfilled.09\n",
      "LST_Night_Unfilled.08\n",
      "LST_Night_Unfilled.2007\n",
      "LST_Night_Unfilled.2006\n",
      "LST_Night_Unfilled.2005\n",
      "LST_Night_Unfilled.2004\n",
      "LST_Night_Unfilled.2003\n",
      "LST_Night_Unfilled.2002\n",
      "LST_Night_Unfilled.2001\n",
      "LST_Night_Unfilled.2000\n",
      "LST_Night_Unfilled.2009\n",
      "LST_Night_Unfilled.2008\n",
      "LST_Night_Unfilled.10\n",
      "LST_Night_Unfilled.11\n",
      "LST_Night_Unfilled.12\n",
      "1642\n"
     ]
    }
   ],
   "source": [
    "n = 0\n",
    "s = set()\n",
    "for k,f in agg.filesDict.iteritems():\n",
    "    print k\n",
    "    n += len(f)\n",
    "    s.update(f)\n",
    "print n"
   ]
  },
  {
   "cell_type": "code",
   "execution_count": 26,
   "metadata": {
    "collapsed": false
   },
   "outputs": [
    {
     "data": {
      "text/plain": [
       "821"
      ]
     },
     "execution_count": 26,
     "metadata": {},
     "output_type": "execute_result"
    }
   ],
   "source": [
    "len(s)"
   ]
  },
  {
   "cell_type": "code",
   "execution_count": null,
   "metadata": {
    "collapsed": true
   },
   "outputs": [],
   "source": [
    "s.update()"
   ]
  },
  {
   "cell_type": "code",
   "execution_count": 28,
   "metadata": {
    "collapsed": true
   },
   "outputs": [],
   "source": [
    "fOld = agg.filesDict"
   ]
  },
  {
   "cell_type": "code",
   "execution_count": 18,
   "metadata": {
    "collapsed": false
   },
   "outputs": [],
   "source": [
    "fNew = {k:v for k,v in fOld.iteritems() if k == 'LST_Night_Unfilled.2013'}"
   ]
  },
  {
   "cell_type": "code",
   "execution_count": 19,
   "metadata": {
    "collapsed": false
   },
   "outputs": [
    {
     "data": {
      "text/plain": [
       "{'LST_Night_Unfilled.2013': ['G:\\\\modis\\\\mod11a2_v6\\\\Night\\\\A2013001_LST_Night.tif',\n",
       "  'G:\\\\modis\\\\mod11a2_v6\\\\Night\\\\A2013009_LST_Night.tif',\n",
       "  'G:\\\\modis\\\\mod11a2_v6\\\\Night\\\\A2013017_LST_Night.tif',\n",
       "  'G:\\\\modis\\\\mod11a2_v6\\\\Night\\\\A2013025_LST_Night.tif',\n",
       "  'G:\\\\modis\\\\mod11a2_v6\\\\Night\\\\A2013033_LST_Night.tif',\n",
       "  'G:\\\\modis\\\\mod11a2_v6\\\\Night\\\\A2013041_LST_Night.tif',\n",
       "  'G:\\\\modis\\\\mod11a2_v6\\\\Night\\\\A2013049_LST_Night.tif',\n",
       "  'G:\\\\modis\\\\mod11a2_v6\\\\Night\\\\A2013057_LST_Night.tif',\n",
       "  'G:\\\\modis\\\\mod11a2_v6\\\\Night\\\\A2013065_LST_Night.tif',\n",
       "  'G:\\\\modis\\\\mod11a2_v6\\\\Night\\\\A2013073_LST_Night.tif',\n",
       "  'G:\\\\modis\\\\mod11a2_v6\\\\Night\\\\A2013081_LST_Night.tif',\n",
       "  'G:\\\\modis\\\\mod11a2_v6\\\\Night\\\\A2013089_LST_Night.tif',\n",
       "  'G:\\\\modis\\\\mod11a2_v6\\\\Night\\\\A2013097_LST_Night.tif',\n",
       "  'G:\\\\modis\\\\mod11a2_v6\\\\Night\\\\A2013105_LST_Night.tif',\n",
       "  'G:\\\\modis\\\\mod11a2_v6\\\\Night\\\\A2013113_LST_Night.tif',\n",
       "  'G:\\\\modis\\\\mod11a2_v6\\\\Night\\\\A2013121_LST_Night.tif',\n",
       "  'G:\\\\modis\\\\mod11a2_v6\\\\Night\\\\A2013129_LST_Night.tif',\n",
       "  'G:\\\\modis\\\\mod11a2_v6\\\\Night\\\\A2013137_LST_Night.tif',\n",
       "  'G:\\\\modis\\\\mod11a2_v6\\\\Night\\\\A2013145_LST_Night.tif',\n",
       "  'G:\\\\modis\\\\mod11a2_v6\\\\Night\\\\A2013153_LST_Night.tif',\n",
       "  'G:\\\\modis\\\\mod11a2_v6\\\\Night\\\\A2013161_LST_Night.tif',\n",
       "  'G:\\\\modis\\\\mod11a2_v6\\\\Night\\\\A2013169_LST_Night.tif',\n",
       "  'G:\\\\modis\\\\mod11a2_v6\\\\Night\\\\A2013177_LST_Night.tif',\n",
       "  'G:\\\\modis\\\\mod11a2_v6\\\\Night\\\\A2013185_LST_Night.tif',\n",
       "  'G:\\\\modis\\\\mod11a2_v6\\\\Night\\\\A2013193_LST_Night.tif',\n",
       "  'G:\\\\modis\\\\mod11a2_v6\\\\Night\\\\A2013201_LST_Night.tif',\n",
       "  'G:\\\\modis\\\\mod11a2_v6\\\\Night\\\\A2013209_LST_Night.tif',\n",
       "  'G:\\\\modis\\\\mod11a2_v6\\\\Night\\\\A2013217_LST_Night.tif',\n",
       "  'G:\\\\modis\\\\mod11a2_v6\\\\Night\\\\A2013225_LST_Night.tif',\n",
       "  'G:\\\\modis\\\\mod11a2_v6\\\\Night\\\\A2013233_LST_Night.tif',\n",
       "  'G:\\\\modis\\\\mod11a2_v6\\\\Night\\\\A2013241_LST_Night.tif',\n",
       "  'G:\\\\modis\\\\mod11a2_v6\\\\Night\\\\A2013249_LST_Night.tif',\n",
       "  'G:\\\\modis\\\\mod11a2_v6\\\\Night\\\\A2013257_LST_Night.tif',\n",
       "  'G:\\\\modis\\\\mod11a2_v6\\\\Night\\\\A2013265_LST_Night.tif',\n",
       "  'G:\\\\modis\\\\mod11a2_v6\\\\Night\\\\A2013273_LST_Night.tif',\n",
       "  'G:\\\\modis\\\\mod11a2_v6\\\\Night\\\\A2013281_LST_Night.tif',\n",
       "  'G:\\\\modis\\\\mod11a2_v6\\\\Night\\\\A2013289_LST_Night.tif',\n",
       "  'G:\\\\modis\\\\mod11a2_v6\\\\Night\\\\A2013297_LST_Night.tif',\n",
       "  'G:\\\\modis\\\\mod11a2_v6\\\\Night\\\\A2013305_LST_Night.tif',\n",
       "  'G:\\\\modis\\\\mod11a2_v6\\\\Night\\\\A2013313_LST_Night.tif',\n",
       "  'G:\\\\modis\\\\mod11a2_v6\\\\Night\\\\A2013321_LST_Night.tif',\n",
       "  'G:\\\\modis\\\\mod11a2_v6\\\\Night\\\\A2013329_LST_Night.tif',\n",
       "  'G:\\\\modis\\\\mod11a2_v6\\\\Night\\\\A2013337_LST_Night.tif',\n",
       "  'G:\\\\modis\\\\mod11a2_v6\\\\Night\\\\A2013345_LST_Night.tif',\n",
       "  'G:\\\\modis\\\\mod11a2_v6\\\\Night\\\\A2013353_LST_Night.tif',\n",
       "  'G:\\\\modis\\\\mod11a2_v6\\\\Night\\\\A2013361_LST_Night.tif']}"
      ]
     },
     "execution_count": 19,
     "metadata": {},
     "output_type": "execute_result"
    }
   ],
   "source": [
    "fNew"
   ]
  },
  {
   "cell_type": "code",
   "execution_count": 29,
   "metadata": {
    "collapsed": false
   },
   "outputs": [
    {
     "data": {
      "text/plain": [
       "set()"
      ]
     },
     "execution_count": 29,
     "metadata": {},
     "output_type": "execute_result"
    }
   ],
   "source": [
    "agg.synopticFileSet"
   ]
  },
  {
   "cell_type": "code",
   "execution_count": null,
   "metadata": {
    "collapsed": true
   },
   "outputs": [],
   "source": []
  }
 ],
 "metadata": {
  "kernelspec": {
   "display_name": "Python 2",
   "language": "python",
   "name": "python2"
  },
  "language_info": {
   "codemirror_mode": {
    "name": "ipython",
    "version": 2
   },
   "file_extension": ".py",
   "mimetype": "text/x-python",
   "name": "python",
   "nbconvert_exporter": "python",
   "pygments_lexer": "ipython2",
   "version": "2.7.5"
  }
 },
 "nbformat": 4,
 "nbformat_minor": 2
}
