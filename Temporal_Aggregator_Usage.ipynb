{
 "cells": [
  {
   "cell_type": "markdown",
   "metadata": {},
   "source": [
    "# Temporal aggregation\n",
    "\n",
    "This is a demonstration of how to run temporal aggregations using the cython library code. (Or other aggreagations of multiple files into one - not specifically temporal).\n",
    "\n",
    "The code is written in cython (`raster_utilities/aggregation/temporal/core/temporal.pyx`) and a helper class `raster_utilities/aggregation/temporal/temporal_aggregation_runner.py` is provided to assist with loading the data and passing it to the core function.\n",
    "\n",
    "This notebook demonstrates how to use the helper code.\n",
    "\n",
    "Import the aggregation helper class"
   ]
  },
  {
   "cell_type": "code",
   "execution_count": 1,
   "metadata": {
    "collapsed": false
   },
   "outputs": [],
   "source": [
    "from raster_utilities.aggregation.temporal.temporal_aggregation_runner import TemporalAggregator\n"
   ]
  },
  {
   "cell_type": "markdown",
   "metadata": {},
   "source": [
    "We initialise the class with a dictionary in which the keys are the required output tags (e.g. years) and the values are a list of files corresponding to that period. So, build that object"
   ]
  },
  {
   "cell_type": "code",
   "execution_count": 2,
   "metadata": {
    "collapsed": true
   },
   "outputs": [],
   "source": [
    "import glob"
   ]
  },
  {
   "cell_type": "code",
   "execution_count": 3,
   "metadata": {
    "collapsed": true
   },
   "outputs": [],
   "source": [
    "inFilePattern = r'\\\\map-fs1.ndph.ox.ac.uk\\map_data\\mastergrids\\Other_Global_Covariates\\Rainfall\\CHIRPS\\10k\\*.tif'\n",
    "inFiles = glob.glob(inFilePattern)"
   ]
  },
  {
   "cell_type": "markdown",
   "metadata": {},
   "source": [
    "Build the dictionary based on extracting the date from the filenames - this will need changing to suit the filename patterns being used and the type of outputs we want (annual, monthly, synoptic months?) \n",
    "\n",
    "We can use a defaultdict rather than a real dict which simplifies the loop a bit.\n",
    "\n",
    "The dictionary key will be used to create the output filenames so you might want to alter the strings slightly to make them more informative."
   ]
  },
  {
   "cell_type": "code",
   "execution_count": null,
   "metadata": {
    "collapsed": true
   },
   "outputs": [],
   "source": [
    "import os\n",
    "from collections import defaultdict"
   ]
  },
  {
   "cell_type": "code",
   "execution_count": 10,
   "metadata": {
    "collapsed": true
   },
   "outputs": [],
   "source": [
    "processingKey = defaultdict(list)\n",
    "# build a dictionary keyed by year, to create annual outputs\n",
    "for fn in inFiles:\n",
    "    parts = os.path.basename(fn).split('.')\n",
    "    yr = parts[1]\n",
    "    outkey = \"CHIRPS.\"+str(yr)\n",
    "    processingKey[outkey].append(fn)"
   ]
  },
  {
   "cell_type": "markdown",
   "metadata": {},
   "source": [
    "We also need to specify the output folder, the output nodata value, and whether we want to create a synoptic (overall) output too (this doubles memory use so don't do unless you need it)."
   ]
  },
  {
   "cell_type": "code",
   "execution_count": 5,
   "metadata": {
    "collapsed": true
   },
   "outputs": [],
   "source": [
    "outDir = r\"E:\\Data\\Harry\\Documents\\dataprep\\CHIRPS_Summary\"\n",
    "outNDV = -9999\n",
    "doSynoptic = True"
   ]
  },
  {
   "cell_type": "markdown",
   "metadata": {},
   "source": [
    "Finally we need to specify which stats to do, what's appropriate will depend on the data. For rainfall we just want a sum.\n",
    "The values must be specified as a list of values from the TemporalAggregationStats class. You can also use TemporalAggregationStats.ALL."
   ]
  },
  {
   "cell_type": "code",
   "execution_count": 6,
   "metadata": {
    "collapsed": true
   },
   "outputs": [],
   "source": [
    "from raster_utilities.aggregation.aggregation_values import TemporalAggregationStats"
   ]
  },
  {
   "cell_type": "code",
   "execution_count": 7,
   "metadata": {
    "collapsed": true
   },
   "outputs": [],
   "source": [
    "stats = [TemporalAggregationStats.SUM]"
   ]
  },
  {
   "cell_type": "markdown",
   "metadata": {},
   "source": [
    "Now we just need to instantiate the class and run the aggregation"
   ]
  },
  {
   "cell_type": "code",
   "execution_count": 12,
   "metadata": {
    "collapsed": false
   },
   "outputs": [],
   "source": [
    "agg = TemporalAggregator(processingKey, outDir, outNDV, stats, doSynoptic)"
   ]
  },
  {
   "cell_type": "code",
   "execution_count": 13,
   "metadata": {
    "collapsed": false
   },
   "outputs": [
    {
     "name": "stdout",
     "output_type": "stream",
     "text": [
      "Running entire extent in one pass\n",
      "CHIRPS.2002\n",
      "CHIRPS.2003\n",
      "CHIRPS.2000\n",
      "CHIRPS.2001\n",
      "CHIRPS.2006\n",
      "CHIRPS.2007\n",
      "CHIRPS.2004\n",
      "CHIRPS.2005\n",
      "CHIRPS.2015\n",
      "CHIRPS.2014\n",
      "CHIRPS.2008\n",
      "CHIRPS.2016\n",
      "CHIRPS.2011\n",
      "CHIRPS.2010\n",
      "CHIRPS.2013\n",
      "CHIRPS.2012\n",
      "CHIRPS.2009\n",
      "All done!\n"
     ]
    }
   ],
   "source": [
    "agg.RunAggregation()"
   ]
  }
 ],
 "metadata": {
  "kernelspec": {
   "display_name": "Python 2",
   "language": "python",
   "name": "python2"
  },
  "language_info": {
   "codemirror_mode": {
    "name": "ipython",
    "version": 2
   },
   "file_extension": ".py",
   "mimetype": "text/x-python",
   "name": "python",
   "nbconvert_exporter": "python",
   "pygments_lexer": "ipython2",
   "version": "2.7.5"
  }
 },
 "nbformat": 4,
 "nbformat_minor": 2
}
