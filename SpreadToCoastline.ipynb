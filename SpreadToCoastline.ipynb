{
 "metadata": {
  "name": "",
  "signature": "sha256:efd506f716da24d797205a06bd941b2f5b003be436f1b179ce55f94d41c2d596"
 },
 "nbformat": 3,
 "nbformat_minor": 0,
 "worksheets": [
  {
   "cells": [
    {
     "cell_type": "heading",
     "level": 2,
     "metadata": {},
     "source": [
      "Purpose"
     ]
    },
    {
     "cell_type": "markdown",
     "metadata": {},
     "source": [
      "The code in this notebook assists with matching a raster grid to a pre-existing coastline or mask. It will clip the data back to the coastline, fill the data \"out\" to the coastline, or both. However, any cells that are \"clipped\" are discarded. If their values need transferring elsewhere (i.e. to a pixel within the coastline), see PopulationReallocator.ipynb\n",
      "\n",
      "The input grids (coastline, extra mask if used, and data) must all have exactly the same resolution and alignment (i.e. cells must overlay one another precisely). This needs sorting out with ArcMap / gdal_edit first!\n"
     ]
    },
    {
     "cell_type": "code",
     "collapsed": false,
     "input": [
      "from osgeo import gdal\n",
      "import numpy as np\n",
      "import rasterio\n",
      "import glob\n",
      "import os"
     ],
     "language": "python",
     "metadata": {},
     "outputs": [],
     "prompt_number": 1
    },
    {
     "cell_type": "code",
     "collapsed": false,
     "input": [
      "%load_ext cython"
     ],
     "language": "python",
     "metadata": {},
     "outputs": [],
     "prompt_number": 2
    },
    {
     "cell_type": "heading",
     "level": 3,
     "metadata": {},
     "source": [
      "Configure files here"
     ]
    },
    {
     "cell_type": "code",
     "collapsed": false,
     "input": [
      "coastlineFile = r'G:\\Supporting\\CoastGlobal_5k.tif'"
     ],
     "language": "python",
     "metadata": {},
     "outputs": [],
     "prompt_number": 3
    },
    {
     "cell_type": "code",
     "collapsed": false,
     "input": [
      "inDir = r'C:\\Temp\\PV_Alignment'\n",
      "\n",
      "inFN = 'PvPR_Aug2015_2_Clip1_Copy.tif'\n",
      "inLimsFN = 'PvPR_2010_5k.flt' # 'pvlims5f_5k.tif'\n",
      "\n",
      "outFN = 'PvPR_Aug2015_2_Clip1_Copy_FilledToPvPRLims.tif'\n",
      "outFailFN = 'PvPR_Aug2015_2_Clip1_Copy_PvPRLimsFillFailures.tif'\n",
      "\n",
      "inFile = os.path.join(inDir, inFN)\n",
      "inLimsFile = os.path.join(inDir, inLimsFN)\n",
      "\n",
      "outDataFile = os.path.join(inDir, outFN)\n",
      "outFailFile = os.path.join(inDir, outFailFN)"
     ],
     "language": "python",
     "metadata": {},
     "outputs": [],
     "prompt_number": 32
    },
    {
     "cell_type": "heading",
     "level": 3,
     "metadata": {},
     "source": [
      "Main Cython function"
     ]
    },
    {
     "cell_type": "code",
     "collapsed": false,
     "input": [
      "%%cython --compile-args=/openmp --link-args=/openmp --force \n",
      "cimport cython\n",
      "import numpy as np\n",
      "cimport openmp\n",
      "from cython.parallel import parallel, prange\n",
      "from libc.math cimport sqrt\n",
      "\n",
      "\n",
      "cpdef spreadToCoast(float[:,::1] data, char[:,::1] lsMask, float _NDV = -9999,\n",
      "                           char applyClip = 1, char applyFill = 1, int nearestNPixels=10):\n",
      "    ''' \n",
      "    Fills in gaps around the coastline to create an output dataset that is flush to the coast, and \n",
      "    optionally clips (removes) data outside of the coast. \n",
      "    \n",
      "    Gaps are filled with the mean of the nearest 10 pixels.\n",
      "    Clipping, if done, is done before filling so the values removed do not participate in calculating\n",
      "    a fill value for blank inland pixels.\n",
      "    \n",
      "    For use when an input dataset has been created with a different coastline and now we require\n",
      "    a dataset that matches MAP's One True Coastline (TM). \n",
      "    \n",
      "    See also reallocateToUnmasked which has a similar, but somewhat different purpose, for population\n",
      "    data where totals must be maintained. This version doesn't maintain totals.\n",
      "    '''\n",
      "    \n",
      "    cdef:\n",
      "        Py_ssize_t xShapeIn, yShapeIn #, xShapeOut, yShapeOut\n",
      "        Py_ssize_t xIn, yIn, xNbr, yNbr, nbrIndex_prv\n",
      "        float localValue\n",
      "        int[:,::1] nbrIntCoords\n",
      "        char[:,::1] failedLocs\n",
      "        int filledCells, failedFills, clippedCells\n",
      "       # float failedReallocationPop,  reallocatedTotalPop\n",
      "        char reallocatedOK\n",
      "        int _MAX_NEIGHBOURS_TO_CHECK = 31400\n",
      "        float reallocationSum_prv\n",
      "        int reallocationCount_prv\n",
      "    yShapeIn = data.shape[0]\n",
      "    xShapeIn = data.shape[1]\n",
      "    assert lsMask.shape[0] == yShapeIn\n",
      "    assert lsMask.shape[1] == xShapeIn\n",
      "    \n",
      "     # Generate the neighbour spiral search table out to \"a bit\" further than needed\n",
      "    _SEARCH_RADIUS = 100 # <int> ((sqrt(_MAX_NEIGHBOURS_TO_CHECK / 3.14)) + 5)\n",
      "    diam = _SEARCH_RADIUS * 2 + 1\n",
      "    inds = np.indices([diam,diam]) - _SEARCH_RADIUS\n",
      "    distTmp = np.sqrt((inds ** 2).sum(0))\n",
      "    npTmpTable = ((inds.T).reshape(diam**2, 2))\n",
      "    npTmpTable = np.append(npTmpTable, distTmp.ravel()[:,None],axis=1)\n",
      "    # sort the table by distance then x then y (the arguments are last-sort-first)\n",
      "    order = np.lexsort((npTmpTable[:,1],npTmpTable[:,0],npTmpTable[:,2]))\n",
      "    npTmpTable = np.take(npTmpTable,order,axis=0)\n",
      "    # transfer to a C-side object transposed to have three rows and many columns and in \n",
      "    # C-contiguous layout, so that cython can access individual nbr coord sets more quickly\n",
      "    nbrTable = np.copy((npTmpTable[npTmpTable[:,2] <= _SEARCH_RADIUS]).T,order='c')\n",
      "    # cast the columns that will be used as array indices to int type once here, rather \n",
      "    # than casting repeatedly inside the inner loop\n",
      "    nbrIntCoords = np.asarray(nbrTable[0:2,:]).astype(np.int32)\n",
      "    \n",
      "    filledCells = 0\n",
      "    failedFills = 0\n",
      "    clippedCells = 0\n",
      "    \n",
      "    failedLocs = np.zeros_like(lsMask)\n",
      "    \n",
      "    if applyClip:\n",
      "        for yIn in range (yShapeIn):\n",
      "            for xIn in range (xShapeIn):\n",
      "                if lsMask[yIn, xIn] == 0:\n",
      "                    if data[yIn, xIn] != _NDV:\n",
      "                        clippedCells += 1\n",
      "                        data[yIn, xIn] = _NDV\n",
      "    \n",
      "    if applyFill:\n",
      "        for yIn in range(yShapeIn):\n",
      "            for xIn in range(xShapeIn):\n",
      "                if lsMask[yIn, xIn] == 0 or data[yIn,xIn] != _NDV:\n",
      "                    # there is nothing to do as we are in sea or the data are good\n",
      "                    continue\n",
      "                # otherwise we are on land but nodata. Find nearest data to reallocate it\n",
      "                reallocatedOK = 0\n",
      "                reallocationCount_prv = 0\n",
      "                reallocationSum_prv = 0\n",
      "                for nbrIndex_prv in range(1, _MAX_NEIGHBOURS_TO_CHECK):\n",
      "                    if reallocationCount_prv == nearestNPixels:\n",
      "                        break\n",
      "                    # use int-type coords array to avoid cast op in tight loop\n",
      "                    xNbr = xIn + nbrIntCoords[0, nbrIndex_prv]\n",
      "                    yNbr = yIn + nbrIntCoords[1, nbrIndex_prv]\n",
      "                    if (xNbr >= 0 and xNbr < xShapeIn and \n",
      "                        yNbr >= 0 and yNbr < yShapeIn and\n",
      "                        data[yNbr, xNbr] != _NDV):\n",
      "                        # NB we allow a sea pixel with data to supply a fill value\n",
      "                        # unless they have been clipped out previously\n",
      "                        reallocationSum_prv += data[yNbr, xNbr]\n",
      "                        reallocationCount_prv += 1\n",
      "                if reallocationCount_prv > 0:\n",
      "                    data[yIn, xIn] = reallocationSum_prv / reallocationCount_prv\n",
      "                    filledCells += 1\n",
      "                else:\n",
      "                    failedFills += 1\n",
      "                    failedLocs[yIn, xIn] = 1\n",
      "\n",
      "    print (\"Clipped {0!s} data cells that were in sea\".format(\n",
      "        clippedCells))\n",
      "    print (\"Filled {0!s} total cells from nearby data\".format(\n",
      "        filledCells))\n",
      "    print (\"Failed to fill {0!s} total cells on land due to no data cells in range\".format(\n",
      "        failedFills))\n",
      "    return failedLocs\n",
      "    "
     ],
     "language": "python",
     "metadata": {},
     "outputs": [],
     "prompt_number": 5
    },
    {
     "cell_type": "heading",
     "level": 4,
     "metadata": {},
     "source": [
      "Open the global coastal data and the non global (but at least as large as the data file) filling mask"
     ]
    },
    {
     "cell_type": "code",
     "collapsed": false,
     "input": [
      "landDS = gdal.Open(coastlineFile)\n",
      "bLand = landDS.GetRasterBand(1)\n",
      "ndvLand = bLand.GetNoDataValue()\n",
      "gtLand = landDS.GetGeoTransform()"
     ],
     "language": "python",
     "metadata": {},
     "outputs": [],
     "prompt_number": 6
    },
    {
     "cell_type": "code",
     "collapsed": false,
     "input": [
      "limsDS = gdal.Open(inLimsFile)\n",
      "bLims = limsDS.GetRasterBand(1)\n",
      "ndvMask = bLims.GetNoDataValue()\n",
      "gtLims = limsDS.GetGeoTransform()"
     ],
     "language": "python",
     "metadata": {},
     "outputs": [],
     "prompt_number": 7
    },
    {
     "cell_type": "code",
     "collapsed": false,
     "input": [
      "gtLims"
     ],
     "language": "python",
     "metadata": {},
     "outputs": [
      {
       "metadata": {},
       "output_type": "pyout",
       "prompt_number": 8,
       "text": [
        "(-180.00000000000034,\n",
        " 0.041666666666665,\n",
        " 0.0,\n",
        " 85.00000000000003,\n",
        " 0.0,\n",
        " -0.041666666666665)"
       ]
      }
     ],
     "prompt_number": 8
    },
    {
     "cell_type": "code",
     "collapsed": false,
     "input": [
      "gtLand"
     ],
     "language": "python",
     "metadata": {},
     "outputs": [
      {
       "metadata": {},
       "output_type": "pyout",
       "prompt_number": 9,
       "text": [
        "(-180.0, 0.041666666666665, 0.0, 90.0, 0.0, -0.041666666666665)"
       ]
      }
     ],
     "prompt_number": 9
    },
    {
     "cell_type": "heading",
     "level": 4,
     "metadata": {},
     "source": [
      "Read the whole extent of the data file"
     ]
    },
    {
     "cell_type": "code",
     "collapsed": false,
     "input": [
      "# Read the whole extent of the data\n",
      "inDS = gdal.Open(inFile)\n",
      "bData = inDS.GetRasterBand(1)\n",
      "ndvIn = bData.GetNoDataValue()\n",
      "gtIn = inDS.GetGeoTransform()\n",
      "projIn = inDS.GetProjection()\n"
     ],
     "language": "python",
     "metadata": {},
     "outputs": [],
     "prompt_number": 10
    },
    {
     "cell_type": "heading",
     "level": 4,
     "metadata": {},
     "source": [
      "Ensure the resolutions match (not actually checking the alignment)"
     ]
    },
    {
     "cell_type": "code",
     "collapsed": false,
     "input": [
      "assert gtIn[1] == gtLand[1]\n",
      "assert gtIn[5] == gtLand[5]\n",
      "\n",
      "assert gtIn[1] == gtLims[1]\n",
      "assert gtIn[5] == gtLims[5]"
     ],
     "language": "python",
     "metadata": {},
     "outputs": [],
     "prompt_number": 11
    },
    {
     "cell_type": "code",
     "collapsed": false,
     "input": [
      "gtIn"
     ],
     "language": "python",
     "metadata": {},
     "outputs": [
      {
       "metadata": {},
       "output_type": "pyout",
       "prompt_number": 12,
       "text": [
        "(-118.37500000000098,\n",
        " 0.041666666666665,\n",
        " 0.0,\n",
        " 53.54166666666725,\n",
        " 0.0,\n",
        " -0.041666666666665)"
       ]
      }
     ],
     "prompt_number": 12
    },
    {
     "cell_type": "code",
     "collapsed": false,
     "input": [
      "gtLand"
     ],
     "language": "python",
     "metadata": {},
     "outputs": [
      {
       "metadata": {},
       "output_type": "pyout",
       "prompt_number": 13,
       "text": [
        "(-180.0, 0.041666666666665, 0.0, 90.0, 0.0, -0.041666666666665)"
       ]
      }
     ],
     "prompt_number": 13
    },
    {
     "cell_type": "heading",
     "level": 4,
     "metadata": {},
     "source": [
      "Work out which bits of the mask files we need"
     ]
    },
    {
     "cell_type": "code",
     "collapsed": false,
     "input": [
      "# the input dataset is not global; where does it sit in the global coastline image?\n",
      "landOffsetW = int((gtIn[0]-gtLand[0]) / gtLand[1])\n",
      "#landOffsetN = int((gtPop[3]-gtLand[3]) / gtLand[5])\n",
      "landOffsetN = int((gtIn[3]-gtLand[3]) / gtLand[5])\n",
      "landOffsetN, landOffsetW"
     ],
     "language": "python",
     "metadata": {},
     "outputs": [
      {
       "metadata": {},
       "output_type": "pyout",
       "prompt_number": 14,
       "text": [
        "(875, 1479)"
       ]
      }
     ],
     "prompt_number": 14
    },
    {
     "cell_type": "code",
     "collapsed": false,
     "input": [
      "# the input dataset is not global; where does it sit in the maybe-global clipping image?\n",
      "maskOffsetW = int((gtIn[0]-gtLims[0]) / gtLims[1])\n",
      "#landOffsetN = int((gtPop[3]-gtLand[3]) / gtLand[5])\n",
      "maskOffsetN = int((gtIn[3]-gtLims[3]) / gtLims[5])\n",
      "maskOffsetN, maskOffsetW"
     ],
     "language": "python",
     "metadata": {},
     "outputs": [
      {
       "metadata": {},
       "output_type": "pyout",
       "prompt_number": 15,
       "text": [
        "(755, 1479)"
       ]
      }
     ],
     "prompt_number": 15
    },
    {
     "cell_type": "heading",
     "level": 4,
     "metadata": {},
     "source": [
      "Read the data"
     ]
    },
    {
     "cell_type": "code",
     "collapsed": false,
     "input": [
      "inData = bData.ReadAsArray().astype(np.float32)\n",
      "inDataOrig = bData.ReadAsArray()"
     ],
     "language": "python",
     "metadata": {},
     "outputs": [],
     "prompt_number": 16
    },
    {
     "cell_type": "code",
     "collapsed": false,
     "input": [
      "inData.shape"
     ],
     "language": "python",
     "metadata": {},
     "outputs": [
      {
       "metadata": {},
       "output_type": "pyout",
       "prompt_number": 17,
       "text": [
        "(2608L, 6926L)"
       ]
      }
     ],
     "prompt_number": 17
    },
    {
     "cell_type": "code",
     "collapsed": false,
     "input": [
      "inLand = bLand.ReadAsArray(landOffsetW, landOffsetN, inData.shape[1], inData.shape[0])\n",
      "inMask = bLims.ReadAsArray(maskOffsetW, maskOffsetN, inData.shape[1], inData.shape[0])"
     ],
     "language": "python",
     "metadata": {},
     "outputs": [],
     "prompt_number": 18
    },
    {
     "cell_type": "code",
     "collapsed": false,
     "input": [
      "inMask.max()"
     ],
     "language": "python",
     "metadata": {},
     "outputs": [
      {
       "metadata": {},
       "output_type": "pyout",
       "prompt_number": 23,
       "text": [
        "1"
       ]
      }
     ],
     "prompt_number": 23
    },
    {
     "cell_type": "code",
     "collapsed": false,
     "input": [
      "inMask.shape"
     ],
     "language": "python",
     "metadata": {},
     "outputs": [
      {
       "metadata": {},
       "output_type": "pyout",
       "prompt_number": 24,
       "text": [
        "(2608L, 6926L)"
       ]
      }
     ],
     "prompt_number": 24
    },
    {
     "cell_type": "code",
     "collapsed": false,
     "input": [
      "# reclass the pv limits values into a 0-1 mask for data / nodata\n",
      "# NB keeping \"0\" as \"data\"\n",
      "#inMask[inMask!=3] = 10\n",
      "#inMask[inMask==3] = 0\n",
      "#inMask[inMask==10] = 1\n",
      "\n",
      "inMask[inMask != ndvMask] = 1\n",
      "inMask[inMask == ndvMask] = 0\n",
      "inMask = inMask.astype(np.byte)"
     ],
     "language": "python",
     "metadata": {},
     "outputs": [],
     "prompt_number": 21
    },
    {
     "cell_type": "code",
     "collapsed": false,
     "input": [
      "%pylab\n",
      "imshow(inMask)"
     ],
     "language": "python",
     "metadata": {},
     "outputs": [
      {
       "output_type": "stream",
       "stream": "stdout",
       "text": [
        "Using matplotlib backend: Qt4Agg\n",
        "Populating the interactive namespace from numpy and matplotlib\n"
       ]
      },
      {
       "metadata": {},
       "output_type": "pyout",
       "prompt_number": 25,
       "text": [
        "<matplotlib.image.AxesImage at 0xb015828>"
       ]
      }
     ],
     "prompt_number": 25
    },
    {
     "cell_type": "code",
     "collapsed": false,
     "input": [
      "inData == ndvIn"
     ],
     "language": "python",
     "metadata": {},
     "outputs": [
      {
       "metadata": {},
       "output_type": "pyout",
       "prompt_number": 29,
       "text": [
        "array([[ True,  True,  True, ...,  True,  True,  True],\n",
        "       [ True,  True,  True, ...,  True,  True,  True],\n",
        "       [ True,  True,  True, ...,  True,  True,  True],\n",
        "       ..., \n",
        "       [ True,  True,  True, ...,  True,  True,  True],\n",
        "       [ True,  True,  True, ...,  True,  True,  True],\n",
        "       [ True,  True,  True, ...,  True,  True,  True]], dtype=bool)"
       ]
      }
     ],
     "prompt_number": 29
    },
    {
     "cell_type": "code",
     "collapsed": false,
     "input": [
      "imshow(inData)"
     ],
     "language": "python",
     "metadata": {},
     "outputs": [
      {
       "metadata": {},
       "output_type": "pyout",
       "prompt_number": 31,
       "text": [
        "<matplotlib.image.AxesImage at 0xb601358>"
       ]
      }
     ],
     "prompt_number": 31
    },
    {
     "cell_type": "heading",
     "level": 4,
     "metadata": {},
     "source": [
      "Do the fill and clip"
     ]
    },
    {
     "cell_type": "code",
     "collapsed": false,
     "input": [
      "# run the spreading to generate values for all pixels of the limits surface\n",
      "# but do not clip, because the new Pv data covers more areas (e.g. algeria)\n",
      "# than the limits\n",
      "errors = spreadToCoast(inData, inMask, _NDV=ndvIn, applyClip=0, applyFill=1)"
     ],
     "language": "python",
     "metadata": {},
     "outputs": [
      {
       "output_type": "stream",
       "stream": "stdout",
       "text": [
        "Clipped 0 data cells that were in sea\n",
        "Filled 109383 total cells from nearby data\n",
        "Failed to fill 7093 total cells on land due to no data cells in range\n"
       ]
      }
     ],
     "prompt_number": 30
    },
    {
     "cell_type": "code",
     "collapsed": false,
     "input": [
      "# now clip the data to the coastline, but do not fill (as we don't want to fill into all land)\n",
      "clipErrors = spreadToCoast(inData, inLand, _NDV=ndvIn, applyClip=1, applyFill=0)"
     ],
     "language": "python",
     "metadata": {},
     "outputs": [
      {
       "output_type": "stream",
       "stream": "stdout",
       "text": [
        "Clipped 502 data cells that were in sea\n",
        "Filled 0 total cells from nearby data\n",
        "Failed to fill 0 total cells on land due to no data cells in range\n"
       ]
      }
     ],
     "prompt_number": 31
    },
    {
     "cell_type": "heading",
     "level": 4,
     "metadata": {},
     "source": [
      "Save out the data"
     ]
    },
    {
     "cell_type": "code",
     "collapsed": false,
     "input": [
      "outDrv = gdal.GetDriverByName('GTiff')\n",
      "dataRaster = outDrv.Create(outDataFile, inData.shape[1], inData.shape[0], 1, gdal.GDT_Float32,\n",
      "                                       [\"COMPRESS=LZW\", \"TILED=YES\", \"SPARSE_OK=TRUE\", \"BIGTIFF=YES\"])\n",
      "failRaster = outDrv.Create(outFailFile, inData.shape[1], inData.shape[0], 1, gdal.GDT_Byte,\n",
      "                                       [\"COMPRESS=LZW\", \"TILED=YES\", \"SPARSE_OK=TRUE\", \"BIGTIFF=YES\"])\n",
      "\n",
      "dataRaster.SetGeoTransform(gtIn)\n",
      "dataRaster.SetProjection(projIn)\n",
      "failRaster.SetGeoTransform(gtIn)\n",
      "failRaster.SetProjection(projIn)\n",
      "\n",
      "bnd = dataRaster.GetRasterBand(1)\n",
      "assert bnd is not None\n",
      "bnd.SetNoDataValue(ndvIn)\n",
      "bnd.WriteArray(inData) \n",
      "bnd = None\n",
      "dataRaster = None\n",
      "\n",
      "bnd = failRaster.GetRasterBand(1)\n",
      "assert bnd is not None\n",
      "assert failRaster is not None\n",
      "bnd.WriteArray(np.asarray(errors))\n",
      "bnd = None\n",
      "failRaster = None"
     ],
     "language": "python",
     "metadata": {},
     "outputs": [],
     "prompt_number": 33
    },
    {
     "cell_type": "code",
     "collapsed": false,
     "input": [],
     "language": "python",
     "metadata": {},
     "outputs": []
    }
   ],
   "metadata": {}
  }
 ]
}