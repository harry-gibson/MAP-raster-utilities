{
 "metadata": {
  "name": "",
  "signature": "sha256:00ac81813a237fcd3e990039bad3802a11a83a0800b2a6b31cc82300417d27dc"
 },
 "nbformat": 3,
 "nbformat_minor": 0,
 "worksheets": [
  {
   "cells": [
    {
     "cell_type": "heading",
     "level": 2,
     "metadata": {},
     "source": [
      "Purpose"
     ]
    },
    {
     "cell_type": "markdown",
     "metadata": {},
     "source": [
      "The code in this notebook assists with matching a raster grid to a pre-existing coastline or mask. It will clip the data back to the coastline, fill the data \"out\" to the coastline, or both.\n",
      "\n",
      "The input grids (coastline, extra mask if used, and data) must all have exactly the same resolution and alignment (i.e. cells must overlay one another precisely). This needs sorting out with ArcMap / gdal_edit first!\n"
     ]
    },
    {
     "cell_type": "code",
     "collapsed": false,
     "input": [
      "from osgeo import gdal\n",
      "import numpy as np\n",
      "import rasterio\n",
      "import glob\n",
      "import os"
     ],
     "language": "python",
     "metadata": {},
     "outputs": [],
     "prompt_number": 1
    },
    {
     "cell_type": "code",
     "collapsed": false,
     "input": [
      "%load_ext cython"
     ],
     "language": "python",
     "metadata": {},
     "outputs": [],
     "prompt_number": 2
    },
    {
     "cell_type": "heading",
     "level": 3,
     "metadata": {},
     "source": [
      "Configure files here"
     ]
    },
    {
     "cell_type": "code",
     "collapsed": false,
     "input": [
      "coastlineFile = r'G:\\Supporting\\CoastGlobal_5k.tif'"
     ],
     "language": "python",
     "metadata": {},
     "outputs": [],
     "prompt_number": 3
    },
    {
     "cell_type": "code",
     "collapsed": false,
     "input": [
      "inDir = r'C:\\Temp\\PV_Alignment'\n",
      "\n",
      "inFN = 'PvPR_Aug2015_2_Clip1_Copy.tif'\n",
      "inLimsFN = 'pvlims5f_5k.tif'\n",
      "\n",
      "outFN = 'PvPR_Aug2015_2_Clip1_Copy_FilledToLims.tif'\n",
      "outFailFN = 'PvPR_Aug2015_2_Clip1_Copy_LimsFillFailures.tif'\n",
      "\n",
      "inFile = os.path.join(inDir, inFN)\n",
      "inLimsFile = os.path.join(inDir, inLimsFN)\n",
      "\n",
      "outDataFile = os.path.join(inDir, outFN)\n",
      "outFailFile = os.path.join(inDir, outFailFN)"
     ],
     "language": "python",
     "metadata": {},
     "outputs": [],
     "prompt_number": 43
    },
    {
     "cell_type": "heading",
     "level": 3,
     "metadata": {},
     "source": [
      "Main Cython function"
     ]
    },
    {
     "cell_type": "code",
     "collapsed": false,
     "input": [
      "%%cython --compile-args=/openmp --link-args=/openmp --force --annotate\n",
      "cimport cython\n",
      "import numpy as np\n",
      "cimport openmp\n",
      "from cython.parallel import parallel, prange\n",
      "from libc.math cimport sqrt\n",
      "\n",
      "\n",
      "cpdef spreadToCoast(float[:,::1] data, char[:,::1] lsMask, float _NDV = -9999,\n",
      "                           char applyClip = 1, char applyFill = 1, int nearestNPixels=10):\n",
      "    ''' \n",
      "    Fills in gaps around the coastline to create an output dataset that is flush to the coast, and \n",
      "    optionally clips (removes) data outside of the coast. \n",
      "    \n",
      "    Gaps are filled with the mean of the nearest 10 pixels.\n",
      "    Clipping, if done, is done before filling so the values removed do not participate in calculating\n",
      "    a fill value for blank inland pixels.\n",
      "    \n",
      "    For use when an input dataset has been created with a different coastline and now we require\n",
      "    a dataset that matches MAP's One True Coastline (TM). \n",
      "    \n",
      "    See also reallocateToUnmasked which has a similar, but somewhat different purpose, for population\n",
      "    data where totals must be maintained. This version doesn't maintain totals.\n",
      "    '''\n",
      "    \n",
      "    cdef:\n",
      "        Py_ssize_t xShapeIn, yShapeIn #, xShapeOut, yShapeOut\n",
      "        Py_ssize_t xIn, yIn, xNbr, yNbr, nbrIndex_prv\n",
      "        float localValue\n",
      "        int[:,::1] nbrIntCoords\n",
      "        char[:,::1] failedLocs\n",
      "        int filledCells, failedFills, clippedCells\n",
      "       # float failedReallocationPop,  reallocatedTotalPop\n",
      "        char reallocatedOK\n",
      "        int _MAX_NEIGHBOURS_TO_CHECK = 31400\n",
      "        float reallocationSum_prv\n",
      "        int reallocationCount_prv\n",
      "    yShapeIn = data.shape[0]\n",
      "    xShapeIn = data.shape[1]\n",
      "    assert lsMask.shape[0] == yShapeIn\n",
      "    assert lsMask.shape[1] == xShapeIn\n",
      "    \n",
      "     # Generate the neighbour spiral search table out to \"a bit\" further than needed\n",
      "    _SEARCH_RADIUS = 100 # <int> ((sqrt(_MAX_NEIGHBOURS_TO_CHECK / 3.14)) + 5)\n",
      "    diam = _SEARCH_RADIUS * 2 + 1\n",
      "    inds = np.indices([diam,diam]) - _SEARCH_RADIUS\n",
      "    distTmp = np.sqrt((inds ** 2).sum(0))\n",
      "    npTmpTable = ((inds.T).reshape(diam**2, 2))\n",
      "    npTmpTable = np.append(npTmpTable, distTmp.ravel()[:,None],axis=1)\n",
      "    # sort the table by distance then x then y (the arguments are last-sort-first)\n",
      "    order = np.lexsort((npTmpTable[:,1],npTmpTable[:,0],npTmpTable[:,2]))\n",
      "    npTmpTable = np.take(npTmpTable,order,axis=0)\n",
      "    # transfer to a C-side object transposed to have three rows and many columns and in \n",
      "    # C-contiguous layout, so that cython can access individual nbr coord sets more quickly\n",
      "    nbrTable = np.copy((npTmpTable[npTmpTable[:,2] <= _SEARCH_RADIUS]).T,order='c')\n",
      "    # cast the columns that will be used as array indices to int type once here, rather \n",
      "    # than casting repeatedly inside the inner loop\n",
      "    nbrIntCoords = np.asarray(nbrTable[0:2,:]).astype(np.int32)\n",
      "    \n",
      "    filledCells = 0\n",
      "    failedFills = 0\n",
      "    clippedCells = 0\n",
      "    \n",
      "    failedLocs = np.zeros_like(lsMask)\n",
      "    \n",
      "    if applyClip:\n",
      "        for yIn in range (yShapeIn):\n",
      "            for xIn in range (xShapeIn):\n",
      "                if lsMask[yIn, xIn] == 0:\n",
      "                    if data[yIn, xIn] != _NDV:\n",
      "                        clippedCells += 1\n",
      "                        data[yIn, xIn] = _NDV\n",
      "    \n",
      "    if applyFill:\n",
      "        for yIn in range(yShapeIn):\n",
      "            for xIn in range(xShapeIn):\n",
      "                if lsMask[yIn, xIn] == 0 or data[yIn,xIn] != _NDV:\n",
      "                    # there is nothing to do as we are in sea or the data are good\n",
      "                    continue\n",
      "                # otherwise we are on land but nodata. Find nearest data to reallocate it\n",
      "                reallocatedOK = 0\n",
      "                reallocationCount_prv = 0\n",
      "                reallocationSum_prv = 0\n",
      "                for nbrIndex_prv in range(1, _MAX_NEIGHBOURS_TO_CHECK):\n",
      "                    if reallocationCount_prv == nearestNPixels:\n",
      "                        break\n",
      "                    # use int-type coords array to avoid cast op in tight loop\n",
      "                    xNbr = xIn + nbrIntCoords[0, nbrIndex_prv]\n",
      "                    yNbr = yIn + nbrIntCoords[1, nbrIndex_prv]\n",
      "                    if (xNbr >= 0 and xNbr < xShapeIn and \n",
      "                        yNbr >= 0 and yNbr < yShapeIn and\n",
      "                        data[yNbr, xNbr] != _NDV):\n",
      "                        # NB we allow a sea pixel with data to supply a fill value\n",
      "                        # unless they have been clipped out previously\n",
      "                        reallocationSum_prv += data[yNbr, xNbr]\n",
      "                        reallocationCount_prv += 1\n",
      "                if reallocationCount_prv > 0:\n",
      "                    data[yIn, xIn] = reallocationSum_prv / reallocationCount_prv\n",
      "                    filledCells += 1\n",
      "                else:\n",
      "                    failedFills += 1\n",
      "                    failedLocs[yIn, xIn] = 1\n",
      "\n",
      "    print (\"Clipped {0!s} data cells that were in sea\".format(\n",
      "        clippedCells))\n",
      "    print (\"Filled {0!s} total cells from nearby data\".format(\n",
      "        filledCells))\n",
      "    print (\"Failed to fill {0!s} total cells on land due to no data cells in range\".format(\n",
      "        failedFills))\n",
      "    return failedLocs\n",
      "    "
     ],
     "language": "python",
     "metadata": {},
     "outputs": [
      {
       "html": [
        "<!DOCTYPE html>\n",
        "<!-- Generated by Cython 0.21.1 -->\n",
        "<html>\n",
        "<head>\n",
        "    <meta http-equiv=\"Content-Type\" content=\"text/html; charset=utf-8\" />\n",
        "    <style type=\"text/css\">\n",
        "    \n",
        "body.cython { font-family: courier; font-size: 12; }\n",
        "\n",
        ".cython.tag  {  }\n",
        ".cython.line { margin: 0em }\n",
        ".cython.code  { font-size: 9; color: #444444; display: none; margin: 0px 0px 0px 20px;  }\n",
        "\n",
        ".cython.code .py_c_api  { color: red; }\n",
        ".cython.code .py_macro_api  { color: #FF7000; }\n",
        ".cython.code .pyx_c_api  { color: #FF3000; }\n",
        ".cython.code .pyx_macro_api  { color: #FF7000; }\n",
        ".cython.code .refnanny  { color: #FFA000; }\n",
        ".cython.code .error_goto  { color: #FFA000; }\n",
        "\n",
        ".cython.code .coerce  { color: #008000; border: 1px dotted #008000 }\n",
        ".cython.code .py_attr { color: #FF0000; font-weight: bold; }\n",
        ".cython.code .c_attr  { color: #0000FF; }\n",
        ".cython.code .py_call { color: #FF0000; font-weight: bold; }\n",
        ".cython.code .c_call  { color: #0000FF; }\n",
        "\n",
        ".cython.score-0 {background-color: #FFFFff;}\n",
        ".cython.score-1 {background-color: #FFFFe7;}\n",
        ".cython.score-2 {background-color: #FFFFd4;}\n",
        ".cython.score-3 {background-color: #FFFFc4;}\n",
        ".cython.score-4 {background-color: #FFFFb6;}\n",
        ".cython.score-5 {background-color: #FFFFaa;}\n",
        ".cython.score-6 {background-color: #FFFF9f;}\n",
        ".cython.score-7 {background-color: #FFFF96;}\n",
        ".cython.score-8 {background-color: #FFFF8d;}\n",
        ".cython.score-9 {background-color: #FFFF86;}\n",
        ".cython.score-10 {background-color: #FFFF7f;}\n",
        ".cython.score-11 {background-color: #FFFF79;}\n",
        ".cython.score-12 {background-color: #FFFF73;}\n",
        ".cython.score-13 {background-color: #FFFF6e;}\n",
        ".cython.score-14 {background-color: #FFFF6a;}\n",
        ".cython.score-15 {background-color: #FFFF66;}\n",
        ".cython.score-16 {background-color: #FFFF62;}\n",
        ".cython.score-17 {background-color: #FFFF5e;}\n",
        ".cython.score-18 {background-color: #FFFF5b;}\n",
        ".cython.score-19 {background-color: #FFFF57;}\n",
        ".cython.score-20 {background-color: #FFFF55;}\n",
        ".cython.score-21 {background-color: #FFFF52;}\n",
        ".cython.score-22 {background-color: #FFFF4f;}\n",
        ".cython.score-23 {background-color: #FFFF4d;}\n",
        ".cython.score-24 {background-color: #FFFF4b;}\n",
        ".cython.score-25 {background-color: #FFFF48;}\n",
        ".cython.score-26 {background-color: #FFFF46;}\n",
        ".cython.score-27 {background-color: #FFFF44;}\n",
        ".cython.score-28 {background-color: #FFFF43;}\n",
        ".cython.score-29 {background-color: #FFFF41;}\n",
        ".cython.score-30 {background-color: #FFFF3f;}\n",
        ".cython.score-31 {background-color: #FFFF3e;}\n",
        ".cython.score-32 {background-color: #FFFF3c;}\n",
        ".cython.score-33 {background-color: #FFFF3b;}\n",
        ".cython.score-34 {background-color: #FFFF39;}\n",
        ".cython.score-35 {background-color: #FFFF38;}\n",
        ".cython.score-36 {background-color: #FFFF37;}\n",
        ".cython.score-37 {background-color: #FFFF36;}\n",
        ".cython.score-38 {background-color: #FFFF35;}\n",
        ".cython.score-39 {background-color: #FFFF34;}\n",
        ".cython.score-40 {background-color: #FFFF33;}\n",
        ".cython.score-41 {background-color: #FFFF32;}\n",
        ".cython.score-42 {background-color: #FFFF31;}\n",
        ".cython.score-43 {background-color: #FFFF30;}\n",
        ".cython.score-44 {background-color: #FFFF2f;}\n",
        ".cython.score-45 {background-color: #FFFF2e;}\n",
        ".cython.score-46 {background-color: #FFFF2d;}\n",
        ".cython.score-47 {background-color: #FFFF2c;}\n",
        ".cython.score-48 {background-color: #FFFF2b;}\n",
        ".cython.score-49 {background-color: #FFFF2b;}\n",
        ".cython.score-50 {background-color: #FFFF2a;}\n",
        ".cython.score-51 {background-color: #FFFF29;}\n",
        ".cython.score-52 {background-color: #FFFF29;}\n",
        ".cython.score-53 {background-color: #FFFF28;}\n",
        ".cython.score-54 {background-color: #FFFF27;}\n",
        ".cython.score-55 {background-color: #FFFF27;}\n",
        ".cython.score-56 {background-color: #FFFF26;}\n",
        ".cython.score-57 {background-color: #FFFF26;}\n",
        ".cython.score-58 {background-color: #FFFF25;}\n",
        ".cython.score-59 {background-color: #FFFF24;}\n",
        ".cython.score-60 {background-color: #FFFF24;}\n",
        ".cython.score-61 {background-color: #FFFF23;}\n",
        ".cython.score-62 {background-color: #FFFF23;}\n",
        ".cython.score-63 {background-color: #FFFF22;}\n",
        ".cython.score-64 {background-color: #FFFF22;}\n",
        ".cython.score-65 {background-color: #FFFF22;}\n",
        ".cython.score-66 {background-color: #FFFF21;}\n",
        ".cython.score-67 {background-color: #FFFF21;}\n",
        ".cython.score-68 {background-color: #FFFF20;}\n",
        ".cython.score-69 {background-color: #FFFF20;}\n",
        ".cython.score-70 {background-color: #FFFF1f;}\n",
        ".cython.score-71 {background-color: #FFFF1f;}\n",
        ".cython.score-72 {background-color: #FFFF1f;}\n",
        ".cython.score-73 {background-color: #FFFF1e;}\n",
        ".cython.score-74 {background-color: #FFFF1e;}\n",
        ".cython.score-75 {background-color: #FFFF1e;}\n",
        ".cython.score-76 {background-color: #FFFF1d;}\n",
        ".cython.score-77 {background-color: #FFFF1d;}\n",
        ".cython.score-78 {background-color: #FFFF1c;}\n",
        ".cython.score-79 {background-color: #FFFF1c;}\n",
        ".cython.score-80 {background-color: #FFFF1c;}\n",
        ".cython.score-81 {background-color: #FFFF1c;}\n",
        ".cython.score-82 {background-color: #FFFF1b;}\n",
        ".cython.score-83 {background-color: #FFFF1b;}\n",
        ".cython.score-84 {background-color: #FFFF1b;}\n",
        ".cython.score-85 {background-color: #FFFF1a;}\n",
        ".cython.score-86 {background-color: #FFFF1a;}\n",
        ".cython.score-87 {background-color: #FFFF1a;}\n",
        ".cython.score-88 {background-color: #FFFF1a;}\n",
        ".cython.score-89 {background-color: #FFFF19;}\n",
        ".cython.score-90 {background-color: #FFFF19;}\n",
        ".cython.score-91 {background-color: #FFFF19;}\n",
        ".cython.score-92 {background-color: #FFFF19;}\n",
        ".cython.score-93 {background-color: #FFFF18;}\n",
        ".cython.score-94 {background-color: #FFFF18;}\n",
        ".cython.score-95 {background-color: #FFFF18;}\n",
        ".cython.score-96 {background-color: #FFFF18;}\n",
        ".cython.score-97 {background-color: #FFFF17;}\n",
        ".cython.score-98 {background-color: #FFFF17;}\n",
        ".cython.score-99 {background-color: #FFFF17;}\n",
        ".cython.score-100 {background-color: #FFFF17;}\n",
        ".cython.score-101 {background-color: #FFFF16;}\n",
        ".cython.score-102 {background-color: #FFFF16;}\n",
        ".cython.score-103 {background-color: #FFFF16;}\n",
        ".cython.score-104 {background-color: #FFFF16;}\n",
        ".cython.score-105 {background-color: #FFFF16;}\n",
        ".cython.score-106 {background-color: #FFFF15;}\n",
        ".cython.score-107 {background-color: #FFFF15;}\n",
        ".cython.score-108 {background-color: #FFFF15;}\n",
        ".cython.score-109 {background-color: #FFFF15;}\n",
        ".cython.score-110 {background-color: #FFFF15;}\n",
        ".cython.score-111 {background-color: #FFFF15;}\n",
        ".cython.score-112 {background-color: #FFFF14;}\n",
        ".cython.score-113 {background-color: #FFFF14;}\n",
        ".cython.score-114 {background-color: #FFFF14;}\n",
        ".cython.score-115 {background-color: #FFFF14;}\n",
        ".cython.score-116 {background-color: #FFFF14;}\n",
        ".cython.score-117 {background-color: #FFFF14;}\n",
        ".cython.score-118 {background-color: #FFFF13;}\n",
        ".cython.score-119 {background-color: #FFFF13;}\n",
        ".cython.score-120 {background-color: #FFFF13;}\n",
        ".cython.score-121 {background-color: #FFFF13;}\n",
        ".cython.score-122 {background-color: #FFFF13;}\n",
        ".cython.score-123 {background-color: #FFFF13;}\n",
        ".cython.score-124 {background-color: #FFFF13;}\n",
        ".cython.score-125 {background-color: #FFFF12;}\n",
        ".cython.score-126 {background-color: #FFFF12;}\n",
        ".cython.score-127 {background-color: #FFFF12;}\n",
        ".cython.score-128 {background-color: #FFFF12;}\n",
        ".cython.score-129 {background-color: #FFFF12;}\n",
        ".cython.score-130 {background-color: #FFFF12;}\n",
        ".cython.score-131 {background-color: #FFFF12;}\n",
        ".cython.score-132 {background-color: #FFFF11;}\n",
        ".cython.score-133 {background-color: #FFFF11;}\n",
        ".cython.score-134 {background-color: #FFFF11;}\n",
        ".cython.score-135 {background-color: #FFFF11;}\n",
        ".cython.score-136 {background-color: #FFFF11;}\n",
        ".cython.score-137 {background-color: #FFFF11;}\n",
        ".cython.score-138 {background-color: #FFFF11;}\n",
        ".cython.score-139 {background-color: #FFFF11;}\n",
        ".cython.score-140 {background-color: #FFFF11;}\n",
        ".cython.score-141 {background-color: #FFFF10;}\n",
        ".cython.score-142 {background-color: #FFFF10;}\n",
        ".cython.score-143 {background-color: #FFFF10;}\n",
        ".cython.score-144 {background-color: #FFFF10;}\n",
        ".cython.score-145 {background-color: #FFFF10;}\n",
        ".cython.score-146 {background-color: #FFFF10;}\n",
        ".cython.score-147 {background-color: #FFFF10;}\n",
        ".cython.score-148 {background-color: #FFFF10;}\n",
        ".cython.score-149 {background-color: #FFFF10;}\n",
        ".cython.score-150 {background-color: #FFFF0f;}\n",
        ".cython.score-151 {background-color: #FFFF0f;}\n",
        ".cython.score-152 {background-color: #FFFF0f;}\n",
        ".cython.score-153 {background-color: #FFFF0f;}\n",
        ".cython.score-154 {background-color: #FFFF0f;}\n",
        ".cython.score-155 {background-color: #FFFF0f;}\n",
        ".cython.score-156 {background-color: #FFFF0f;}\n",
        ".cython.score-157 {background-color: #FFFF0f;}\n",
        ".cython.score-158 {background-color: #FFFF0f;}\n",
        ".cython.score-159 {background-color: #FFFF0f;}\n",
        ".cython.score-160 {background-color: #FFFF0f;}\n",
        ".cython.score-161 {background-color: #FFFF0e;}\n",
        ".cython.score-162 {background-color: #FFFF0e;}\n",
        ".cython.score-163 {background-color: #FFFF0e;}\n",
        ".cython.score-164 {background-color: #FFFF0e;}\n",
        ".cython.score-165 {background-color: #FFFF0e;}\n",
        ".cython.score-166 {background-color: #FFFF0e;}\n",
        ".cython.score-167 {background-color: #FFFF0e;}\n",
        ".cython.score-168 {background-color: #FFFF0e;}\n",
        ".cython.score-169 {background-color: #FFFF0e;}\n",
        ".cython.score-170 {background-color: #FFFF0e;}\n",
        ".cython.score-171 {background-color: #FFFF0e;}\n",
        ".cython.score-172 {background-color: #FFFF0e;}\n",
        ".cython.score-173 {background-color: #FFFF0d;}\n",
        ".cython.score-174 {background-color: #FFFF0d;}\n",
        ".cython.score-175 {background-color: #FFFF0d;}\n",
        ".cython.score-176 {background-color: #FFFF0d;}\n",
        ".cython.score-177 {background-color: #FFFF0d;}\n",
        ".cython.score-178 {background-color: #FFFF0d;}\n",
        ".cython.score-179 {background-color: #FFFF0d;}\n",
        ".cython.score-180 {background-color: #FFFF0d;}\n",
        ".cython.score-181 {background-color: #FFFF0d;}\n",
        ".cython.score-182 {background-color: #FFFF0d;}\n",
        ".cython.score-183 {background-color: #FFFF0d;}\n",
        ".cython.score-184 {background-color: #FFFF0d;}\n",
        ".cython.score-185 {background-color: #FFFF0d;}\n",
        ".cython.score-186 {background-color: #FFFF0d;}\n",
        ".cython.score-187 {background-color: #FFFF0c;}\n",
        ".cython.score-188 {background-color: #FFFF0c;}\n",
        ".cython.score-189 {background-color: #FFFF0c;}\n",
        ".cython.score-190 {background-color: #FFFF0c;}\n",
        ".cython.score-191 {background-color: #FFFF0c;}\n",
        ".cython.score-192 {background-color: #FFFF0c;}\n",
        ".cython.score-193 {background-color: #FFFF0c;}\n",
        ".cython.score-194 {background-color: #FFFF0c;}\n",
        ".cython.score-195 {background-color: #FFFF0c;}\n",
        ".cython.score-196 {background-color: #FFFF0c;}\n",
        ".cython.score-197 {background-color: #FFFF0c;}\n",
        ".cython.score-198 {background-color: #FFFF0c;}\n",
        ".cython.score-199 {background-color: #FFFF0c;}\n",
        ".cython.score-200 {background-color: #FFFF0c;}\n",
        ".cython.score-201 {background-color: #FFFF0c;}\n",
        ".cython.score-202 {background-color: #FFFF0c;}\n",
        ".cython.score-203 {background-color: #FFFF0b;}\n",
        ".cython.score-204 {background-color: #FFFF0b;}\n",
        ".cython.score-205 {background-color: #FFFF0b;}\n",
        ".cython.score-206 {background-color: #FFFF0b;}\n",
        ".cython.score-207 {background-color: #FFFF0b;}\n",
        ".cython.score-208 {background-color: #FFFF0b;}\n",
        ".cython.score-209 {background-color: #FFFF0b;}\n",
        ".cython.score-210 {background-color: #FFFF0b;}\n",
        ".cython.score-211 {background-color: #FFFF0b;}\n",
        ".cython.score-212 {background-color: #FFFF0b;}\n",
        ".cython.score-213 {background-color: #FFFF0b;}\n",
        ".cython.score-214 {background-color: #FFFF0b;}\n",
        ".cython.score-215 {background-color: #FFFF0b;}\n",
        ".cython.score-216 {background-color: #FFFF0b;}\n",
        ".cython.score-217 {background-color: #FFFF0b;}\n",
        ".cython.score-218 {background-color: #FFFF0b;}\n",
        ".cython.score-219 {background-color: #FFFF0b;}\n",
        ".cython.score-220 {background-color: #FFFF0b;}\n",
        ".cython.score-221 {background-color: #FFFF0b;}\n",
        ".cython.score-222 {background-color: #FFFF0a;}\n",
        ".cython.score-223 {background-color: #FFFF0a;}\n",
        ".cython.score-224 {background-color: #FFFF0a;}\n",
        ".cython.score-225 {background-color: #FFFF0a;}\n",
        ".cython.score-226 {background-color: #FFFF0a;}\n",
        ".cython.score-227 {background-color: #FFFF0a;}\n",
        ".cython.score-228 {background-color: #FFFF0a;}\n",
        ".cython.score-229 {background-color: #FFFF0a;}\n",
        ".cython.score-230 {background-color: #FFFF0a;}\n",
        ".cython.score-231 {background-color: #FFFF0a;}\n",
        ".cython.score-232 {background-color: #FFFF0a;}\n",
        ".cython.score-233 {background-color: #FFFF0a;}\n",
        ".cython.score-234 {background-color: #FFFF0a;}\n",
        ".cython.score-235 {background-color: #FFFF0a;}\n",
        ".cython.score-236 {background-color: #FFFF0a;}\n",
        ".cython.score-237 {background-color: #FFFF0a;}\n",
        ".cython.score-238 {background-color: #FFFF0a;}\n",
        ".cython.score-239 {background-color: #FFFF0a;}\n",
        ".cython.score-240 {background-color: #FFFF0a;}\n",
        ".cython.score-241 {background-color: #FFFF0a;}\n",
        ".cython.score-242 {background-color: #FFFF0a;}\n",
        ".cython.score-243 {background-color: #FFFF0a;}\n",
        ".cython.score-244 {background-color: #FFFF0a;}\n",
        ".cython.score-245 {background-color: #FFFF0a;}\n",
        ".cython.score-246 {background-color: #FFFF09;}\n",
        ".cython.score-247 {background-color: #FFFF09;}\n",
        ".cython.score-248 {background-color: #FFFF09;}\n",
        ".cython.score-249 {background-color: #FFFF09;}\n",
        ".cython.score-250 {background-color: #FFFF09;}\n",
        ".cython.score-251 {background-color: #FFFF09;}\n",
        ".cython.score-252 {background-color: #FFFF09;}\n",
        ".cython.score-253 {background-color: #FFFF09;}\n",
        ".cython.score-254 {background-color: #FFFF09;}.cython .hll { background-color: #ffffcc }\n",
        ".cython  { background: #f8f8f8; }\n",
        ".cython .c { color: #408080; font-style: italic } /* Comment */\n",
        ".cython .err { border: 1px solid #FF0000 } /* Error */\n",
        ".cython .k { color: #008000; font-weight: bold } /* Keyword */\n",
        ".cython .o { color: #666666 } /* Operator */\n",
        ".cython .cm { color: #408080; font-style: italic } /* Comment.Multiline */\n",
        ".cython .cp { color: #BC7A00 } /* Comment.Preproc */\n",
        ".cython .c1 { color: #408080; font-style: italic } /* Comment.Single */\n",
        ".cython .cs { color: #408080; font-style: italic } /* Comment.Special */\n",
        ".cython .gd { color: #A00000 } /* Generic.Deleted */\n",
        ".cython .ge { font-style: italic } /* Generic.Emph */\n",
        ".cython .gr { color: #FF0000 } /* Generic.Error */\n",
        ".cython .gh { color: #000080; font-weight: bold } /* Generic.Heading */\n",
        ".cython .gi { color: #00A000 } /* Generic.Inserted */\n",
        ".cython .go { color: #888888 } /* Generic.Output */\n",
        ".cython .gp { color: #000080; font-weight: bold } /* Generic.Prompt */\n",
        ".cython .gs { font-weight: bold } /* Generic.Strong */\n",
        ".cython .gu { color: #800080; font-weight: bold } /* Generic.Subheading */\n",
        ".cython .gt { color: #0044DD } /* Generic.Traceback */\n",
        ".cython .kc { color: #008000; font-weight: bold } /* Keyword.Constant */\n",
        ".cython .kd { color: #008000; font-weight: bold } /* Keyword.Declaration */\n",
        ".cython .kn { color: #008000; font-weight: bold } /* Keyword.Namespace */\n",
        ".cython .kp { color: #008000 } /* Keyword.Pseudo */\n",
        ".cython .kr { color: #008000; font-weight: bold } /* Keyword.Reserved */\n",
        ".cython .kt { color: #B00040 } /* Keyword.Type */\n",
        ".cython .m { color: #666666 } /* Literal.Number */\n",
        ".cython .s { color: #BA2121 } /* Literal.String */\n",
        ".cython .na { color: #7D9029 } /* Name.Attribute */\n",
        ".cython .nb { color: #008000 } /* Name.Builtin */\n",
        ".cython .nc { color: #0000FF; font-weight: bold } /* Name.Class */\n",
        ".cython .no { color: #880000 } /* Name.Constant */\n",
        ".cython .nd { color: #AA22FF } /* Name.Decorator */\n",
        ".cython .ni { color: #999999; font-weight: bold } /* Name.Entity */\n",
        ".cython .ne { color: #D2413A; font-weight: bold } /* Name.Exception */\n",
        ".cython .nf { color: #0000FF } /* Name.Function */\n",
        ".cython .nl { color: #A0A000 } /* Name.Label */\n",
        ".cython .nn { color: #0000FF; font-weight: bold } /* Name.Namespace */\n",
        ".cython .nt { color: #008000; font-weight: bold } /* Name.Tag */\n",
        ".cython .nv { color: #19177C } /* Name.Variable */\n",
        ".cython .ow { color: #AA22FF; font-weight: bold } /* Operator.Word */\n",
        ".cython .w { color: #bbbbbb } /* Text.Whitespace */\n",
        ".cython .mf { color: #666666 } /* Literal.Number.Float */\n",
        ".cython .mh { color: #666666 } /* Literal.Number.Hex */\n",
        ".cython .mi { color: #666666 } /* Literal.Number.Integer */\n",
        ".cython .mo { color: #666666 } /* Literal.Number.Oct */\n",
        ".cython .sb { color: #BA2121 } /* Literal.String.Backtick */\n",
        ".cython .sc { color: #BA2121 } /* Literal.String.Char */\n",
        ".cython .sd { color: #BA2121; font-style: italic } /* Literal.String.Doc */\n",
        ".cython .s2 { color: #BA2121 } /* Literal.String.Double */\n",
        ".cython .se { color: #BB6622; font-weight: bold } /* Literal.String.Escape */\n",
        ".cython .sh { color: #BA2121 } /* Literal.String.Heredoc */\n",
        ".cython .si { color: #BB6688; font-weight: bold } /* Literal.String.Interpol */\n",
        ".cython .sx { color: #008000 } /* Literal.String.Other */\n",
        ".cython .sr { color: #BB6688 } /* Literal.String.Regex */\n",
        ".cython .s1 { color: #BA2121 } /* Literal.String.Single */\n",
        ".cython .ss { color: #19177C } /* Literal.String.Symbol */\n",
        ".cython .bp { color: #008000 } /* Name.Builtin.Pseudo */\n",
        ".cython .vc { color: #19177C } /* Name.Variable.Class */\n",
        ".cython .vg { color: #19177C } /* Name.Variable.Global */\n",
        ".cython .vi { color: #19177C } /* Name.Variable.Instance */\n",
        ".cython .il { color: #666666 } /* Literal.Number.Integer.Long */\n",
        "    </style>\n",
        "    <script>\n",
        "    function toggleDiv(id) {\n",
        "        theDiv = id.nextElementSibling\n",
        "        if (theDiv.style.display != 'block') theDiv.style.display = 'block';\n",
        "        else theDiv.style.display = 'none';\n",
        "    }\n",
        "    </script>\n",
        "</head>\n",
        "<body class=\"cython\">\n",
        "<p>Generated by Cython 0.21.1</p>\n",
        "<div class=\"cython\"><pre class='cython line score-11' onclick='toggleDiv(this)'>+001: <span class=\"k\">cimport</span> <span class=\"nn\">cython</span></pre>\n",
        "<pre class='cython code score-11'>  __pyx_t_1 = <span class='py_c_api'>PyDict_New</span>();<span class='error_goto'> if (unlikely(!__pyx_t_1)) {__pyx_filename = __pyx_f[0]; __pyx_lineno = 1; __pyx_clineno = __LINE__; goto __pyx_L1_error;}</span>\n",
        "  <span class='refnanny'>__Pyx_GOTREF</span>(__pyx_t_1);\n",
        "  if (<span class='py_c_api'>PyDict_SetItem</span>(__pyx_d, __pyx_n_s_test, __pyx_t_1) &lt; 0) <span class='error_goto'>{__pyx_filename = __pyx_f[0]; __pyx_lineno = 1; __pyx_clineno = __LINE__; goto __pyx_L1_error;}</span>\n",
        "  <span class='pyx_macro_api'>__Pyx_DECREF</span>(__pyx_t_1); __pyx_t_1 = 0;\n",
        "</pre><pre class='cython line score-8' onclick='toggleDiv(this)'>+002: <span class=\"k\">import</span> <span class=\"nn\">numpy</span> <span class=\"k\">as</span> <span class=\"nn\">np</span></pre>\n",
        "<pre class='cython code score-8'>  __pyx_t_1 = <span class='pyx_c_api'>__Pyx_Import</span>(__pyx_n_s_numpy, 0, -1);<span class='error_goto'> if (unlikely(!__pyx_t_1)) {__pyx_filename = __pyx_f[0]; __pyx_lineno = 2; __pyx_clineno = __LINE__; goto __pyx_L1_error;}</span>\n",
        "  <span class='refnanny'>__Pyx_GOTREF</span>(__pyx_t_1);\n",
        "  if (<span class='py_c_api'>PyDict_SetItem</span>(__pyx_d, __pyx_n_s_np, __pyx_t_1) &lt; 0) <span class='error_goto'>{__pyx_filename = __pyx_f[0]; __pyx_lineno = 2; __pyx_clineno = __LINE__; goto __pyx_L1_error;}</span>\n",
        "  <span class='pyx_macro_api'>__Pyx_DECREF</span>(__pyx_t_1); __pyx_t_1 = 0;\n",
        "</pre><pre class='cython line score-0'>&#xA0;003: <span class=\"k\">cimport</span> <span class=\"nn\">openmp</span></pre>\n",
        "<pre class='cython line score-0'>&#xA0;004: <span class=\"k\">from</span> <span class=\"nn\">cython.parallel</span> <span class=\"k\">import</span> <span class=\"n\">parallel</span><span class=\"p\">,</span> <span class=\"n\">prange</span></pre>\n",
        "<pre class='cython line score-0'>&#xA0;005: <span class=\"k\">from</span> <span class=\"nn\">libc.math</span> <span class=\"k\">cimport</span> <span class=\"n\">sqrt</span></pre>\n",
        "<pre class='cython line score-0'>&#xA0;006: </pre>\n",
        "<pre class='cython line score-0'>&#xA0;007: </pre>\n",
        "<pre class='cython line score-96' onclick='toggleDiv(this)'>+008: <span class=\"k\">cpdef</span> <span class=\"nf\">spreadToCoast</span><span class=\"p\">(</span><span class=\"nb\">float</span><span class=\"p\">[:,::</span><span class=\"mf\">1</span><span class=\"p\">]</span> <span class=\"n\">data</span><span class=\"p\">,</span> <span class=\"n\">char</span><span class=\"p\">[:,::</span><span class=\"mf\">1</span><span class=\"p\">]</span> <span class=\"n\">lsMask</span><span class=\"p\">,</span> <span class=\"nb\">float</span> <span class=\"n\">_NDV</span> <span class=\"o\">=</span> <span class=\"o\">-</span><span class=\"mf\">9999</span><span class=\"p\">,</span></pre>\n",
        "<pre class='cython code score-96'>static PyObject *__pyx_pw_46_cython_magic_b22f94e8e5ff053304a236c5a26088fb_1spreadToCoast(PyObject *__pyx_self, PyObject *__pyx_args, PyObject *__pyx_kwds); /*proto*/\n",
        "static PyObject *__pyx_f_46_cython_magic_b22f94e8e5ff053304a236c5a26088fb_spreadToCoast(__Pyx_memviewslice __pyx_v_data, __Pyx_memviewslice __pyx_v_lsMask, CYTHON_UNUSED int __pyx_skip_dispatch, struct __pyx_opt_args_46_cython_magic_b22f94e8e5ff053304a236c5a26088fb_spreadToCoast *__pyx_optional_args) {\n",
        "  float __pyx_v__NDV = ((float)-9999.0);\n",
        "  char __pyx_v_applyClip = ((char)1);\n",
        "  char __pyx_v_applyFill = ((char)1);\n",
        "  int __pyx_v_nearestNPixels = ((int)10);\n",
        "  Py_ssize_t __pyx_v_xShapeIn;\n",
        "  Py_ssize_t __pyx_v_yShapeIn;\n",
        "  Py_ssize_t __pyx_v_xIn;\n",
        "  Py_ssize_t __pyx_v_yIn;\n",
        "  Py_ssize_t __pyx_v_xNbr;\n",
        "  Py_ssize_t __pyx_v_yNbr;\n",
        "  Py_ssize_t __pyx_v_nbrIndex_prv;\n",
        "  __Pyx_memviewslice __pyx_v_nbrIntCoords = { 0, 0, { 0 }, { 0 }, { 0 } };\n",
        "  __Pyx_memviewslice __pyx_v_failedLocs = { 0, 0, { 0 }, { 0 }, { 0 } };\n",
        "  int __pyx_v_filledCells;\n",
        "  int __pyx_v_failedFills;\n",
        "  int __pyx_v_clippedCells;\n",
        "  CYTHON_UNUSED char __pyx_v_reallocatedOK;\n",
        "  int __pyx_v__MAX_NEIGHBOURS_TO_CHECK;\n",
        "  float __pyx_v_reallocationSum_prv;\n",
        "  int __pyx_v_reallocationCount_prv;\n",
        "  PyObject *__pyx_v__SEARCH_RADIUS = NULL;\n",
        "  PyObject *__pyx_v_diam = NULL;\n",
        "  PyObject *__pyx_v_inds = NULL;\n",
        "  PyObject *__pyx_v_distTmp = NULL;\n",
        "  PyObject *__pyx_v_npTmpTable = NULL;\n",
        "  PyObject *__pyx_v_order = NULL;\n",
        "  PyObject *__pyx_v_nbrTable = NULL;\n",
        "  PyObject *__pyx_r = NULL;\n",
        "  <span class='refnanny'>__Pyx_RefNannyDeclarations</span>\n",
        "  <span class='refnanny'>__Pyx_RefNannySetupContext</span>(\"spreadToCoast\", 0);\n",
        "  if (__pyx_optional_args) {\n",
        "    if (__pyx_optional_args-&gt;__pyx_n &gt; 0) {\n",
        "      __pyx_v__NDV = __pyx_optional_args-&gt;_NDV;\n",
        "      if (__pyx_optional_args-&gt;__pyx_n &gt; 1) {\n",
        "        __pyx_v_applyClip = __pyx_optional_args-&gt;applyClip;\n",
        "        if (__pyx_optional_args-&gt;__pyx_n &gt; 2) {\n",
        "          __pyx_v_applyFill = __pyx_optional_args-&gt;applyFill;\n",
        "          if (__pyx_optional_args-&gt;__pyx_n &gt; 3) {\n",
        "            __pyx_v_nearestNPixels = __pyx_optional_args-&gt;nearestNPixels;\n",
        "          }\n",
        "        }\n",
        "      }\n",
        "    }\n",
        "  }\n",
        "/* \u2026 */\n",
        "  /* function exit code */\n",
        "  __pyx_L1_error:;\n",
        "  <span class='pyx_macro_api'>__Pyx_XDECREF</span>(__pyx_t_1);\n",
        "  <span class='pyx_macro_api'>__Pyx_XDECREF</span>(__pyx_t_2);\n",
        "  <span class='pyx_macro_api'>__Pyx_XDECREF</span>(__pyx_t_3);\n",
        "  <span class='pyx_macro_api'>__Pyx_XDECREF</span>(__pyx_t_4);\n",
        "  <span class='pyx_macro_api'>__Pyx_XDECREF</span>(__pyx_t_5);\n",
        "  <span class='pyx_macro_api'>__Pyx_XDECREF</span>(__pyx_t_7);\n",
        "  __PYX_XDEC_MEMVIEW(&amp;__pyx_t_8, 1);\n",
        "  __PYX_XDEC_MEMVIEW(&amp;__pyx_t_9, 1);\n",
        "  <span class='pyx_c_api'>__Pyx_AddTraceback</span>(\"_cython_magic_b22f94e8e5ff053304a236c5a26088fb.spreadToCoast\", __pyx_clineno, __pyx_lineno, __pyx_filename);\n",
        "  __pyx_r = 0;\n",
        "  __pyx_L0:;\n",
        "  __PYX_XDEC_MEMVIEW(&amp;__pyx_v_nbrIntCoords, 1);\n",
        "  __PYX_XDEC_MEMVIEW(&amp;__pyx_v_failedLocs, 1);\n",
        "  <span class='pyx_macro_api'>__Pyx_XDECREF</span>(__pyx_v__SEARCH_RADIUS);\n",
        "  <span class='pyx_macro_api'>__Pyx_XDECREF</span>(__pyx_v_diam);\n",
        "  <span class='pyx_macro_api'>__Pyx_XDECREF</span>(__pyx_v_inds);\n",
        "  <span class='pyx_macro_api'>__Pyx_XDECREF</span>(__pyx_v_distTmp);\n",
        "  <span class='pyx_macro_api'>__Pyx_XDECREF</span>(__pyx_v_npTmpTable);\n",
        "  <span class='pyx_macro_api'>__Pyx_XDECREF</span>(__pyx_v_order);\n",
        "  <span class='pyx_macro_api'>__Pyx_XDECREF</span>(__pyx_v_nbrTable);\n",
        "  <span class='refnanny'>__Pyx_XGIVEREF</span>(__pyx_r);\n",
        "  <span class='refnanny'>__Pyx_RefNannyFinishContext</span>();\n",
        "  return __pyx_r;\n",
        "}\n",
        "\n",
        "/* Python wrapper */\n",
        "static PyObject *__pyx_pw_46_cython_magic_b22f94e8e5ff053304a236c5a26088fb_1spreadToCoast(PyObject *__pyx_self, PyObject *__pyx_args, PyObject *__pyx_kwds); /*proto*/\n",
        "static char __pyx_doc_46_cython_magic_b22f94e8e5ff053304a236c5a26088fb_spreadToCoast[] = \" \\n    Fills in gaps around the coastline to create an output dataset that is flush to the coast, and \\n    optionally clips (removes) data outside of the coast. \\n    \\n    Gaps are filled with the mean of the nearest 10 pixels.\\n    Clipping, if done, is done before filling so the values removed do not participate in calculating\\n    a fill value for blank inland pixels.\\n    \\n    For use when an input dataset has been created with a different coastline and now we require\\n    a dataset that matches MAP's One True Coastline (TM). \\n    \\n    See also reallocateToUnmasked which has a similar, but somewhat different purpose, for population\\n    data where totals must be maintained. This version doesn't maintain totals.\\n    \";\n",
        "static PyObject *__pyx_pw_46_cython_magic_b22f94e8e5ff053304a236c5a26088fb_1spreadToCoast(PyObject *__pyx_self, PyObject *__pyx_args, PyObject *__pyx_kwds) {\n",
        "  __Pyx_memviewslice __pyx_v_data = { 0, 0, { 0 }, { 0 }, { 0 } };\n",
        "  __Pyx_memviewslice __pyx_v_lsMask = { 0, 0, { 0 }, { 0 }, { 0 } };\n",
        "  float __pyx_v__NDV;\n",
        "  char __pyx_v_applyClip;\n",
        "  char __pyx_v_applyFill;\n",
        "  int __pyx_v_nearestNPixels;\n",
        "  PyObject *__pyx_r = 0;\n",
        "  <span class='refnanny'>__Pyx_RefNannyDeclarations</span>\n",
        "  <span class='refnanny'>__Pyx_RefNannySetupContext</span>(\"spreadToCoast (wrapper)\", 0);\n",
        "  {\n",
        "    static PyObject **__pyx_pyargnames[] = {&amp;__pyx_n_s_data,&amp;__pyx_n_s_lsMask,&amp;__pyx_n_s_NDV,&amp;__pyx_n_s_applyClip,&amp;__pyx_n_s_applyFill,&amp;__pyx_n_s_nearestNPixels,0};\n",
        "    PyObject* values[6] = {0,0,0,0,0,0};\n",
        "    if (unlikely(__pyx_kwds)) {\n",
        "      Py_ssize_t kw_args;\n",
        "      const Py_ssize_t pos_args = <span class='py_macro_api'>PyTuple_GET_SIZE</span>(__pyx_args);\n",
        "      switch (pos_args) {\n",
        "        case  6: values[5] = <span class='py_macro_api'>PyTuple_GET_ITEM</span>(__pyx_args, 5);\n",
        "        case  5: values[4] = <span class='py_macro_api'>PyTuple_GET_ITEM</span>(__pyx_args, 4);\n",
        "        case  4: values[3] = <span class='py_macro_api'>PyTuple_GET_ITEM</span>(__pyx_args, 3);\n",
        "        case  3: values[2] = <span class='py_macro_api'>PyTuple_GET_ITEM</span>(__pyx_args, 2);\n",
        "        case  2: values[1] = <span class='py_macro_api'>PyTuple_GET_ITEM</span>(__pyx_args, 1);\n",
        "        case  1: values[0] = <span class='py_macro_api'>PyTuple_GET_ITEM</span>(__pyx_args, 0);\n",
        "        case  0: break;\n",
        "        default: goto __pyx_L5_argtuple_error;\n",
        "      }\n",
        "      kw_args = <span class='py_c_api'>PyDict_Size</span>(__pyx_kwds);\n",
        "      switch (pos_args) {\n",
        "        case  0:\n",
        "        if (likely((values[0] = <span class='py_c_api'>PyDict_GetItem</span>(__pyx_kwds, __pyx_n_s_data)) != 0)) kw_args--;\n",
        "        else goto __pyx_L5_argtuple_error;\n",
        "        case  1:\n",
        "        if (likely((values[1] = <span class='py_c_api'>PyDict_GetItem</span>(__pyx_kwds, __pyx_n_s_lsMask)) != 0)) kw_args--;\n",
        "        else {\n",
        "          <span class='pyx_c_api'>__Pyx_RaiseArgtupleInvalid</span>(\"spreadToCoast\", 0, 2, 6, 1); <span class='error_goto'>{__pyx_filename = __pyx_f[0]; __pyx_lineno = 8; __pyx_clineno = __LINE__; goto __pyx_L3_error;}</span>\n",
        "        }\n",
        "        case  2:\n",
        "        if (kw_args &gt; 0) {\n",
        "          PyObject* value = <span class='py_c_api'>PyDict_GetItem</span>(__pyx_kwds, __pyx_n_s_NDV);\n",
        "          if (value) { values[2] = value; kw_args--; }\n",
        "        }\n",
        "        case  3:\n",
        "        if (kw_args &gt; 0) {\n",
        "          PyObject* value = <span class='py_c_api'>PyDict_GetItem</span>(__pyx_kwds, __pyx_n_s_applyClip);\n",
        "          if (value) { values[3] = value; kw_args--; }\n",
        "        }\n",
        "        case  4:\n",
        "        if (kw_args &gt; 0) {\n",
        "          PyObject* value = <span class='py_c_api'>PyDict_GetItem</span>(__pyx_kwds, __pyx_n_s_applyFill);\n",
        "          if (value) { values[4] = value; kw_args--; }\n",
        "        }\n",
        "        case  5:\n",
        "        if (kw_args &gt; 0) {\n",
        "          PyObject* value = <span class='py_c_api'>PyDict_GetItem</span>(__pyx_kwds, __pyx_n_s_nearestNPixels);\n",
        "          if (value) { values[5] = value; kw_args--; }\n",
        "        }\n",
        "      }\n",
        "      if (unlikely(kw_args &gt; 0)) {\n",
        "        if (unlikely(<span class='pyx_c_api'>__Pyx_ParseOptionalKeywords</span>(__pyx_kwds, __pyx_pyargnames, 0, values, pos_args, \"spreadToCoast\") &lt; 0)) <span class='error_goto'>{__pyx_filename = __pyx_f[0]; __pyx_lineno = 8; __pyx_clineno = __LINE__; goto __pyx_L3_error;}</span>\n",
        "      }\n",
        "    } else {\n",
        "      switch (<span class='py_macro_api'>PyTuple_GET_SIZE</span>(__pyx_args)) {\n",
        "        case  6: values[5] = <span class='py_macro_api'>PyTuple_GET_ITEM</span>(__pyx_args, 5);\n",
        "        case  5: values[4] = <span class='py_macro_api'>PyTuple_GET_ITEM</span>(__pyx_args, 4);\n",
        "        case  4: values[3] = <span class='py_macro_api'>PyTuple_GET_ITEM</span>(__pyx_args, 3);\n",
        "        case  3: values[2] = <span class='py_macro_api'>PyTuple_GET_ITEM</span>(__pyx_args, 2);\n",
        "        case  2: values[1] = <span class='py_macro_api'>PyTuple_GET_ITEM</span>(__pyx_args, 1);\n",
        "        values[0] = <span class='py_macro_api'>PyTuple_GET_ITEM</span>(__pyx_args, 0);\n",
        "        break;\n",
        "        default: goto __pyx_L5_argtuple_error;\n",
        "      }\n",
        "    }\n",
        "    __pyx_v_data = <span class='pyx_c_api'>__Pyx_PyObject_to_MemoryviewSlice_d_dc_float</span>(values[0]);<span class='error_goto'> if (unlikely(!__pyx_v_data.memview)) {__pyx_filename = __pyx_f[0]; __pyx_lineno = 8; __pyx_clineno = __LINE__; goto __pyx_L3_error;}</span>\n",
        "    __pyx_v_lsMask = <span class='pyx_c_api'>__Pyx_PyObject_to_MemoryviewSlice_d_dc_char</span>(values[1]);<span class='error_goto'> if (unlikely(!__pyx_v_lsMask.memview)) {__pyx_filename = __pyx_f[0]; __pyx_lineno = 8; __pyx_clineno = __LINE__; goto __pyx_L3_error;}</span>\n",
        "    if (values[2]) {\n",
        "      __pyx_v__NDV = __pyx_<span class='py_c_api'>PyFloat_AsFloat</span>(values[2]);<span class='error_goto'> if (unlikely((__pyx_v__NDV == (float)-1) &amp;&amp; PyErr_Occurred())) {__pyx_filename = __pyx_f[0]; __pyx_lineno = 8; __pyx_clineno = __LINE__; goto __pyx_L3_error;}</span>\n",
        "    } else {\n",
        "      __pyx_v__NDV = ((float)-9999.0);\n",
        "    }\n",
        "    if (values[3]) {\n",
        "      __pyx_v_applyClip = <span class='pyx_c_api'>__Pyx_PyInt_As_char</span>(values[3]);<span class='error_goto'> if (unlikely((__pyx_v_applyClip == (char)-1) &amp;&amp; PyErr_Occurred())) {__pyx_filename = __pyx_f[0]; __pyx_lineno = 9; __pyx_clineno = __LINE__; goto __pyx_L3_error;}</span>\n",
        "    } else {\n",
        "      __pyx_v_applyClip = ((char)1);\n",
        "    }\n",
        "    if (values[4]) {\n",
        "      __pyx_v_applyFill = <span class='pyx_c_api'>__Pyx_PyInt_As_char</span>(values[4]);<span class='error_goto'> if (unlikely((__pyx_v_applyFill == (char)-1) &amp;&amp; PyErr_Occurred())) {__pyx_filename = __pyx_f[0]; __pyx_lineno = 9; __pyx_clineno = __LINE__; goto __pyx_L3_error;}</span>\n",
        "    } else {\n",
        "      __pyx_v_applyFill = ((char)1);\n",
        "    }\n",
        "    if (values[5]) {\n",
        "      __pyx_v_nearestNPixels = <span class='pyx_c_api'>__Pyx_PyInt_As_int</span>(values[5]);<span class='error_goto'> if (unlikely((__pyx_v_nearestNPixels == (int)-1) &amp;&amp; PyErr_Occurred())) {__pyx_filename = __pyx_f[0]; __pyx_lineno = 9; __pyx_clineno = __LINE__; goto __pyx_L3_error;}</span>\n",
        "    } else {\n",
        "      __pyx_v_nearestNPixels = ((int)10);\n",
        "    }\n",
        "  }\n",
        "  goto __pyx_L4_argument_unpacking_done;\n",
        "  __pyx_L5_argtuple_error:;\n",
        "  <span class='pyx_c_api'>__Pyx_RaiseArgtupleInvalid</span>(\"spreadToCoast\", 0, 2, 6, <span class='py_macro_api'>PyTuple_GET_SIZE</span>(__pyx_args)); <span class='error_goto'>{__pyx_filename = __pyx_f[0]; __pyx_lineno = 8; __pyx_clineno = __LINE__; goto __pyx_L3_error;}</span>\n",
        "  __pyx_L3_error:;\n",
        "  <span class='pyx_c_api'>__Pyx_AddTraceback</span>(\"_cython_magic_b22f94e8e5ff053304a236c5a26088fb.spreadToCoast\", __pyx_clineno, __pyx_lineno, __pyx_filename);\n",
        "  <span class='refnanny'>__Pyx_RefNannyFinishContext</span>();\n",
        "  return NULL;\n",
        "  __pyx_L4_argument_unpacking_done:;\n",
        "  __pyx_r = __pyx_pf_46_cython_magic_b22f94e8e5ff053304a236c5a26088fb_spreadToCoast(__pyx_self, __pyx_v_data, __pyx_v_lsMask, __pyx_v__NDV, __pyx_v_applyClip, __pyx_v_applyFill, __pyx_v_nearestNPixels);\n",
        "  int __pyx_lineno = 0;\n",
        "  const char *__pyx_filename = NULL;\n",
        "  int __pyx_clineno = 0;\n",
        "\n",
        "  /* function exit code */\n",
        "  <span class='refnanny'>__Pyx_RefNannyFinishContext</span>();\n",
        "  return __pyx_r;\n",
        "}\n",
        "\n",
        "static PyObject *__pyx_pf_46_cython_magic_b22f94e8e5ff053304a236c5a26088fb_spreadToCoast(CYTHON_UNUSED PyObject *__pyx_self, __Pyx_memviewslice __pyx_v_data, __Pyx_memviewslice __pyx_v_lsMask, float __pyx_v__NDV, char __pyx_v_applyClip, char __pyx_v_applyFill, int __pyx_v_nearestNPixels) {\n",
        "  PyObject *__pyx_r = NULL;\n",
        "  <span class='refnanny'>__Pyx_RefNannyDeclarations</span>\n",
        "  <span class='refnanny'>__Pyx_RefNannySetupContext</span>(\"spreadToCoast\", 0);\n",
        "  <span class='pyx_macro_api'>__Pyx_XDECREF</span>(__pyx_r);\n",
        "  if (unlikely(!__pyx_v_data.memview)) { <span class='pyx_c_api'>__Pyx_RaiseUnboundLocalError</span>(\"data\"); <span class='error_goto'>{__pyx_filename = __pyx_f[0]; __pyx_lineno = 8; __pyx_clineno = __LINE__; goto __pyx_L1_error;}</span> }\n",
        "  if (unlikely(!__pyx_v_lsMask.memview)) { <span class='pyx_c_api'>__Pyx_RaiseUnboundLocalError</span>(\"lsMask\"); <span class='error_goto'>{__pyx_filename = __pyx_f[0]; __pyx_lineno = 8; __pyx_clineno = __LINE__; goto __pyx_L1_error;}</span> }\n",
        "  __pyx_t_2.__pyx_n = 4;\n",
        "  __pyx_t_2._NDV = __pyx_v__NDV;\n",
        "  __pyx_t_2.applyClip = __pyx_v_applyClip;\n",
        "  __pyx_t_2.applyFill = __pyx_v_applyFill;\n",
        "  __pyx_t_2.nearestNPixels = __pyx_v_nearestNPixels;\n",
        "  __pyx_t_1 = __pyx_f_46_cython_magic_b22f94e8e5ff053304a236c5a26088fb_spreadToCoast(__pyx_v_data, __pyx_v_lsMask, 0, &amp;__pyx_t_2);<span class='error_goto'> if (unlikely(!__pyx_t_1)) {__pyx_filename = __pyx_f[0]; __pyx_lineno = 8; __pyx_clineno = __LINE__; goto __pyx_L1_error;}</span>\n",
        "  <span class='refnanny'>__Pyx_GOTREF</span>(__pyx_t_1);\n",
        "  __pyx_r = __pyx_t_1;\n",
        "  __pyx_t_1 = 0;\n",
        "  goto __pyx_L0;\n",
        "\n",
        "  /* function exit code */\n",
        "  __pyx_L1_error:;\n",
        "  <span class='pyx_macro_api'>__Pyx_XDECREF</span>(__pyx_t_1);\n",
        "  <span class='pyx_c_api'>__Pyx_AddTraceback</span>(\"_cython_magic_b22f94e8e5ff053304a236c5a26088fb.spreadToCoast\", __pyx_clineno, __pyx_lineno, __pyx_filename);\n",
        "  __pyx_r = NULL;\n",
        "  __pyx_L0:;\n",
        "  __PYX_XDEC_MEMVIEW(&amp;__pyx_v_data, 1);\n",
        "  __PYX_XDEC_MEMVIEW(&amp;__pyx_v_lsMask, 1);\n",
        "  <span class='refnanny'>__Pyx_XGIVEREF</span>(__pyx_r);\n",
        "  <span class='refnanny'>__Pyx_RefNannyFinishContext</span>();\n",
        "  return __pyx_r;\n",
        "}\n",
        "/* \u2026 */\n",
        "struct __pyx_opt_args_46_cython_magic_b22f94e8e5ff053304a236c5a26088fb_spreadToCoast {\n",
        "  int __pyx_n;\n",
        "  float _NDV;\n",
        "  char applyClip;\n",
        "  char applyFill;\n",
        "  int nearestNPixels;\n",
        "};\n",
        "</pre><pre class='cython line score-0'>&#xA0;009:                            <span class=\"n\">char</span> <span class=\"n\">applyClip</span> <span class=\"o\">=</span> <span class=\"mf\">1</span><span class=\"p\">,</span> <span class=\"n\">char</span> <span class=\"n\">applyFill</span> <span class=\"o\">=</span> <span class=\"mf\">1</span><span class=\"p\">,</span> <span class=\"nb\">int</span> <span class=\"n\">nearestNPixels</span><span class=\"o\">=</span><span class=\"mf\">10</span><span class=\"p\">):</span></pre>\n",
        "<pre class='cython line score-0'>&#xA0;010:     <span class=\"sd\">&#39;&#39;&#39; </span></pre>\n",
        "<pre class='cython line score-0'>&#xA0;011: <span class=\"sd\">    Fills in gaps around the coastline to create an output dataset that is flush to the coast, and </span></pre>\n",
        "<pre class='cython line score-0'>&#xA0;012: <span class=\"sd\">    optionally clips (removes) data outside of the coast. </span></pre>\n",
        "<pre class='cython line score-0'>&#xA0;013: <span class=\"sd\">    </span></pre>\n",
        "<pre class='cython line score-0'>&#xA0;014: <span class=\"sd\">    Gaps are filled with the mean of the nearest 10 pixels.</span></pre>\n",
        "<pre class='cython line score-0'>&#xA0;015: <span class=\"sd\">    Clipping, if done, is done before filling so the values removed do not participate in calculating</span></pre>\n",
        "<pre class='cython line score-0'>&#xA0;016: <span class=\"sd\">    a fill value for blank inland pixels.</span></pre>\n",
        "<pre class='cython line score-0'>&#xA0;017: <span class=\"sd\">    </span></pre>\n",
        "<pre class='cython line score-0'>&#xA0;018: <span class=\"sd\">    For use when an input dataset has been created with a different coastline and now we require</span></pre>\n",
        "<pre class='cython line score-0'>&#xA0;019: <span class=\"sd\">    a dataset that matches MAP&#39;s One True Coastline (TM). </span></pre>\n",
        "<pre class='cython line score-0'>&#xA0;020: <span class=\"sd\">    </span></pre>\n",
        "<pre class='cython line score-0'>&#xA0;021: <span class=\"sd\">    See also reallocateToUnmasked which has a similar, but somewhat different purpose, for population</span></pre>\n",
        "<pre class='cython line score-0'>&#xA0;022: <span class=\"sd\">    data where totals must be maintained. This version doesn&#39;t maintain totals.</span></pre>\n",
        "<pre class='cython line score-0'>&#xA0;023: <span class=\"sd\">    &#39;&#39;&#39;</span></pre>\n",
        "<pre class='cython line score-0'>&#xA0;024: </pre>\n",
        "<pre class='cython line score-0'>&#xA0;025:     <span class=\"n\">cdef</span><span class=\"p\">:</span></pre>\n",
        "<pre class='cython line score-0'>&#xA0;026:         <span class=\"n\">Py_ssize_t</span> <span class=\"n\">xShapeIn</span><span class=\"p\">,</span> <span class=\"n\">yShapeIn</span> <span class=\"c\">#, xShapeOut, yShapeOut</span></pre>\n",
        "<pre class='cython line score-0'>&#xA0;027:         <span class=\"n\">Py_ssize_t</span> <span class=\"n\">xIn</span><span class=\"p\">,</span> <span class=\"n\">yIn</span><span class=\"p\">,</span> <span class=\"n\">xNbr</span><span class=\"p\">,</span> <span class=\"n\">yNbr</span><span class=\"p\">,</span> <span class=\"n\">nbrIndex_prv</span></pre>\n",
        "<pre class='cython line score-0'>&#xA0;028:         <span class=\"nb\">float</span> <span class=\"n\">localValue</span></pre>\n",
        "<pre class='cython line score-0'>&#xA0;029:         <span class=\"nb\">int</span><span class=\"p\">[:,::</span><span class=\"mf\">1</span><span class=\"p\">]</span> <span class=\"n\">nbrIntCoords</span></pre>\n",
        "<pre class='cython line score-0'>&#xA0;030:         <span class=\"n\">char</span><span class=\"p\">[:,::</span><span class=\"mf\">1</span><span class=\"p\">]</span> <span class=\"n\">failedLocs</span></pre>\n",
        "<pre class='cython line score-0'>&#xA0;031:         <span class=\"nb\">int</span> <span class=\"n\">filledCells</span><span class=\"p\">,</span> <span class=\"n\">failedFills</span><span class=\"p\">,</span> <span class=\"n\">clippedCells</span></pre>\n",
        "<pre class='cython line score-0'>&#xA0;032:        <span class=\"c\"># float failedReallocationPop,  reallocatedTotalPop</span></pre>\n",
        "<pre class='cython line score-0'>&#xA0;033:         <span class=\"n\">char</span> <span class=\"n\">reallocatedOK</span></pre>\n",
        "<pre class='cython line score-0' onclick='toggleDiv(this)'>+034:         <span class=\"nb\">int</span> <span class=\"n\">_MAX_NEIGHBOURS_TO_CHECK</span> <span class=\"o\">=</span> <span class=\"mf\">31400</span></pre>\n",
        "<pre class='cython code score-0'>  __pyx_v__MAX_NEIGHBOURS_TO_CHECK = 31400;\n",
        "</pre><pre class='cython line score-0'>&#xA0;035:         <span class=\"nb\">float</span> <span class=\"n\">reallocationSum_prv</span></pre>\n",
        "<pre class='cython line score-0'>&#xA0;036:         <span class=\"nb\">int</span> <span class=\"n\">reallocationCount_prv</span></pre>\n",
        "<pre class='cython line score-0' onclick='toggleDiv(this)'>+037:     <span class=\"n\">yShapeIn</span> <span class=\"o\">=</span> <span class=\"n\">data</span><span class=\"o\">.</span><span class=\"n\">shape</span><span class=\"p\">[</span><span class=\"mf\">0</span><span class=\"p\">]</span></pre>\n",
        "<pre class='cython code score-0'>  __pyx_v_yShapeIn = (__pyx_v_data.shape[0]);\n",
        "</pre><pre class='cython line score-0' onclick='toggleDiv(this)'>+038:     <span class=\"n\">xShapeIn</span> <span class=\"o\">=</span> <span class=\"n\">data</span><span class=\"o\">.</span><span class=\"n\">shape</span><span class=\"p\">[</span><span class=\"mf\">1</span><span class=\"p\">]</span></pre>\n",
        "<pre class='cython code score-0'>  __pyx_v_xShapeIn = (__pyx_v_data.shape[1]);\n",
        "</pre><pre class='cython line score-5' onclick='toggleDiv(this)'>+039:     <span class=\"k\">assert</span> <span class=\"n\">lsMask</span><span class=\"o\">.</span><span class=\"n\">shape</span><span class=\"p\">[</span><span class=\"mf\">0</span><span class=\"p\">]</span> <span class=\"o\">==</span> <span class=\"n\">yShapeIn</span></pre>\n",
        "<pre class='cython code score-5'>  #ifndef CYTHON_WITHOUT_ASSERTIONS\n",
        "  if (unlikely(!Py_OptimizeFlag)) {\n",
        "    if (unlikely(!(((__pyx_v_lsMask.shape[0]) == __pyx_v_yShapeIn) != 0))) {\n",
        "      <span class='py_c_api'>PyErr_SetNone</span>(PyExc_AssertionError);\n",
        "      <span class='error_goto'>{__pyx_filename = __pyx_f[0]; __pyx_lineno = 39; __pyx_clineno = __LINE__; goto __pyx_L1_error;}</span>\n",
        "    }\n",
        "  }\n",
        "  #endif\n",
        "</pre><pre class='cython line score-5' onclick='toggleDiv(this)'>+040:     <span class=\"k\">assert</span> <span class=\"n\">lsMask</span><span class=\"o\">.</span><span class=\"n\">shape</span><span class=\"p\">[</span><span class=\"mf\">1</span><span class=\"p\">]</span> <span class=\"o\">==</span> <span class=\"n\">xShapeIn</span></pre>\n",
        "<pre class='cython code score-5'>  #ifndef CYTHON_WITHOUT_ASSERTIONS\n",
        "  if (unlikely(!Py_OptimizeFlag)) {\n",
        "    if (unlikely(!(((__pyx_v_lsMask.shape[1]) == __pyx_v_xShapeIn) != 0))) {\n",
        "      <span class='py_c_api'>PyErr_SetNone</span>(PyExc_AssertionError);\n",
        "      <span class='error_goto'>{__pyx_filename = __pyx_f[0]; __pyx_lineno = 40; __pyx_clineno = __LINE__; goto __pyx_L1_error;}</span>\n",
        "    }\n",
        "  }\n",
        "  #endif\n",
        "</pre><pre class='cython line score-0'>&#xA0;041: </pre>\n",
        "<pre class='cython line score-0'>&#xA0;042:      <span class=\"c\"># Generate the neighbour spiral search table out to &quot;a bit&quot; further than needed</span></pre>\n",
        "<pre class='cython line score-1' onclick='toggleDiv(this)'>+043:     <span class=\"n\">_SEARCH_RADIUS</span> <span class=\"o\">=</span> <span class=\"mf\">100</span> <span class=\"c\"># &lt;int&gt; ((sqrt(_MAX_NEIGHBOURS_TO_CHECK / 3.14)) + 5)</span></pre>\n",
        "<pre class='cython code score-1'>  <span class='pyx_macro_api'>__Pyx_INCREF</span>(__pyx_int_100);\n",
        "  __pyx_v__SEARCH_RADIUS = __pyx_int_100;\n",
        "</pre><pre class='cython line score-11' onclick='toggleDiv(this)'>+044:     <span class=\"n\">diam</span> <span class=\"o\">=</span> <span class=\"n\">_SEARCH_RADIUS</span> <span class=\"o\">*</span> <span class=\"mf\">2</span> <span class=\"o\">+</span> <span class=\"mf\">1</span></pre>\n",
        "<pre class='cython code score-11'>  __pyx_t_1 = <span class='py_c_api'>PyNumber_Multiply</span>(__pyx_v__SEARCH_RADIUS, __pyx_int_2);<span class='error_goto'> if (unlikely(!__pyx_t_1)) {__pyx_filename = __pyx_f[0]; __pyx_lineno = 44; __pyx_clineno = __LINE__; goto __pyx_L1_error;}</span>\n",
        "  <span class='refnanny'>__Pyx_GOTREF</span>(__pyx_t_1);\n",
        "  __pyx_t_2 = <span class='py_c_api'>PyNumber_Add</span>(__pyx_t_1, __pyx_int_1);<span class='error_goto'> if (unlikely(!__pyx_t_2)) {__pyx_filename = __pyx_f[0]; __pyx_lineno = 44; __pyx_clineno = __LINE__; goto __pyx_L1_error;}</span>\n",
        "  <span class='refnanny'>__Pyx_GOTREF</span>(__pyx_t_2);\n",
        "  <span class='pyx_macro_api'>__Pyx_DECREF</span>(__pyx_t_1); __pyx_t_1 = 0;\n",
        "  __pyx_v_diam = __pyx_t_2;\n",
        "  __pyx_t_2 = 0;\n",
        "</pre><pre class='cython line score-44' onclick='toggleDiv(this)'>+045:     <span class=\"n\">inds</span> <span class=\"o\">=</span> <span class=\"n\">np</span><span class=\"o\">.</span><span class=\"n\">indices</span><span class=\"p\">([</span><span class=\"n\">diam</span><span class=\"p\">,</span><span class=\"n\">diam</span><span class=\"p\">])</span> <span class=\"o\">-</span> <span class=\"n\">_SEARCH_RADIUS</span></pre>\n",
        "<pre class='cython code score-44'>  __pyx_t_1 = <span class='pyx_c_api'>__Pyx_GetModuleGlobalName</span>(__pyx_n_s_np);<span class='error_goto'> if (unlikely(!__pyx_t_1)) {__pyx_filename = __pyx_f[0]; __pyx_lineno = 45; __pyx_clineno = __LINE__; goto __pyx_L1_error;}</span>\n",
        "  <span class='refnanny'>__Pyx_GOTREF</span>(__pyx_t_1);\n",
        "  __pyx_t_3 = <span class='pyx_c_api'>__Pyx_PyObject_GetAttrStr</span>(__pyx_t_1, __pyx_n_s_indices);<span class='error_goto'> if (unlikely(!__pyx_t_3)) {__pyx_filename = __pyx_f[0]; __pyx_lineno = 45; __pyx_clineno = __LINE__; goto __pyx_L1_error;}</span>\n",
        "  <span class='refnanny'>__Pyx_GOTREF</span>(__pyx_t_3);\n",
        "  <span class='pyx_macro_api'>__Pyx_DECREF</span>(__pyx_t_1); __pyx_t_1 = 0;\n",
        "  __pyx_t_1 = <span class='py_c_api'>PyList_New</span>(2);<span class='error_goto'> if (unlikely(!__pyx_t_1)) {__pyx_filename = __pyx_f[0]; __pyx_lineno = 45; __pyx_clineno = __LINE__; goto __pyx_L1_error;}</span>\n",
        "  <span class='refnanny'>__Pyx_GOTREF</span>(__pyx_t_1);\n",
        "  <span class='pyx_macro_api'>__Pyx_INCREF</span>(__pyx_v_diam);\n",
        "  <span class='py_macro_api'>PyList_SET_ITEM</span>(__pyx_t_1, 0, __pyx_v_diam);\n",
        "  <span class='refnanny'>__Pyx_GIVEREF</span>(__pyx_v_diam);\n",
        "  <span class='pyx_macro_api'>__Pyx_INCREF</span>(__pyx_v_diam);\n",
        "  <span class='py_macro_api'>PyList_SET_ITEM</span>(__pyx_t_1, 1, __pyx_v_diam);\n",
        "  <span class='refnanny'>__Pyx_GIVEREF</span>(__pyx_v_diam);\n",
        "  __pyx_t_4 = NULL;\n",
        "  if (CYTHON_COMPILING_IN_CPYTHON &amp;&amp; unlikely(<span class='py_c_api'>PyMethod_Check</span>(__pyx_t_3))) {\n",
        "    __pyx_t_4 = <span class='py_macro_api'>PyMethod_GET_SELF</span>(__pyx_t_3);\n",
        "    if (likely(__pyx_t_4)) {\n",
        "      PyObject* function = <span class='py_macro_api'>PyMethod_GET_FUNCTION</span>(__pyx_t_3);\n",
        "      <span class='pyx_macro_api'>__Pyx_INCREF</span>(__pyx_t_4);\n",
        "      <span class='pyx_macro_api'>__Pyx_INCREF</span>(function);\n",
        "      <span class='pyx_macro_api'>__Pyx_DECREF_SET</span>(__pyx_t_3, function);\n",
        "    }\n",
        "  }\n",
        "  if (!__pyx_t_4) {\n",
        "    __pyx_t_2 = <span class='pyx_c_api'>__Pyx_PyObject_CallOneArg</span>(__pyx_t_3, __pyx_t_1);<span class='error_goto'> if (unlikely(!__pyx_t_2)) {__pyx_filename = __pyx_f[0]; __pyx_lineno = 45; __pyx_clineno = __LINE__; goto __pyx_L1_error;}</span>\n",
        "    <span class='pyx_macro_api'>__Pyx_DECREF</span>(__pyx_t_1); __pyx_t_1 = 0;\n",
        "    <span class='refnanny'>__Pyx_GOTREF</span>(__pyx_t_2);\n",
        "  } else {\n",
        "    __pyx_t_5 = <span class='py_c_api'>PyTuple_New</span>(1+1);<span class='error_goto'> if (unlikely(!__pyx_t_5)) {__pyx_filename = __pyx_f[0]; __pyx_lineno = 45; __pyx_clineno = __LINE__; goto __pyx_L1_error;}</span>\n",
        "    <span class='refnanny'>__Pyx_GOTREF</span>(__pyx_t_5);\n",
        "    <span class='py_macro_api'>PyTuple_SET_ITEM</span>(__pyx_t_5, 0, __pyx_t_4); <span class='refnanny'>__Pyx_GIVEREF</span>(__pyx_t_4); __pyx_t_4 = NULL;\n",
        "    <span class='py_macro_api'>PyTuple_SET_ITEM</span>(__pyx_t_5, 0+1, __pyx_t_1);\n",
        "    <span class='refnanny'>__Pyx_GIVEREF</span>(__pyx_t_1);\n",
        "    __pyx_t_1 = 0;\n",
        "    __pyx_t_2 = <span class='pyx_c_api'>__Pyx_PyObject_Call</span>(__pyx_t_3, __pyx_t_5, NULL);<span class='error_goto'> if (unlikely(!__pyx_t_2)) {__pyx_filename = __pyx_f[0]; __pyx_lineno = 45; __pyx_clineno = __LINE__; goto __pyx_L1_error;}</span>\n",
        "    <span class='refnanny'>__Pyx_GOTREF</span>(__pyx_t_2);\n",
        "    <span class='pyx_macro_api'>__Pyx_DECREF</span>(__pyx_t_5); __pyx_t_5 = 0;\n",
        "  }\n",
        "  <span class='pyx_macro_api'>__Pyx_DECREF</span>(__pyx_t_3); __pyx_t_3 = 0;\n",
        "  __pyx_t_3 = <span class='py_c_api'>PyNumber_Subtract</span>(__pyx_t_2, __pyx_v__SEARCH_RADIUS);<span class='error_goto'> if (unlikely(!__pyx_t_3)) {__pyx_filename = __pyx_f[0]; __pyx_lineno = 45; __pyx_clineno = __LINE__; goto __pyx_L1_error;}</span>\n",
        "  <span class='refnanny'>__Pyx_GOTREF</span>(__pyx_t_3);\n",
        "  <span class='pyx_macro_api'>__Pyx_DECREF</span>(__pyx_t_2); __pyx_t_2 = 0;\n",
        "  __pyx_v_inds = __pyx_t_3;\n",
        "  __pyx_t_3 = 0;\n",
        "</pre><pre class='cython line score-45' onclick='toggleDiv(this)'>+046:     <span class=\"n\">distTmp</span> <span class=\"o\">=</span> <span class=\"n\">np</span><span class=\"o\">.</span><span class=\"n\">sqrt</span><span class=\"p\">((</span><span class=\"n\">inds</span> <span class=\"o\">**</span> <span class=\"mf\">2</span><span class=\"p\">)</span><span class=\"o\">.</span><span class=\"n\">sum</span><span class=\"p\">(</span><span class=\"mf\">0</span><span class=\"p\">))</span></pre>\n",
        "<pre class='cython code score-45'>  __pyx_t_2 = <span class='pyx_c_api'>__Pyx_GetModuleGlobalName</span>(__pyx_n_s_np);<span class='error_goto'> if (unlikely(!__pyx_t_2)) {__pyx_filename = __pyx_f[0]; __pyx_lineno = 46; __pyx_clineno = __LINE__; goto __pyx_L1_error;}</span>\n",
        "  <span class='refnanny'>__Pyx_GOTREF</span>(__pyx_t_2);\n",
        "  __pyx_t_5 = <span class='pyx_c_api'>__Pyx_PyObject_GetAttrStr</span>(__pyx_t_2, __pyx_n_s_sqrt);<span class='error_goto'> if (unlikely(!__pyx_t_5)) {__pyx_filename = __pyx_f[0]; __pyx_lineno = 46; __pyx_clineno = __LINE__; goto __pyx_L1_error;}</span>\n",
        "  <span class='refnanny'>__Pyx_GOTREF</span>(__pyx_t_5);\n",
        "  <span class='pyx_macro_api'>__Pyx_DECREF</span>(__pyx_t_2); __pyx_t_2 = 0;\n",
        "  __pyx_t_2 = <span class='py_c_api'>PyNumber_Power</span>(__pyx_v_inds, __pyx_int_2, Py_None);<span class='error_goto'> if (unlikely(!__pyx_t_2)) {__pyx_filename = __pyx_f[0]; __pyx_lineno = 46; __pyx_clineno = __LINE__; goto __pyx_L1_error;}</span>\n",
        "  <span class='refnanny'>__Pyx_GOTREF</span>(__pyx_t_2);\n",
        "  __pyx_t_1 = <span class='pyx_c_api'>__Pyx_PyObject_GetAttrStr</span>(__pyx_t_2, __pyx_n_s_sum);<span class='error_goto'> if (unlikely(!__pyx_t_1)) {__pyx_filename = __pyx_f[0]; __pyx_lineno = 46; __pyx_clineno = __LINE__; goto __pyx_L1_error;}</span>\n",
        "  <span class='refnanny'>__Pyx_GOTREF</span>(__pyx_t_1);\n",
        "  <span class='pyx_macro_api'>__Pyx_DECREF</span>(__pyx_t_2); __pyx_t_2 = 0;\n",
        "  __pyx_t_2 = <span class='pyx_c_api'>__Pyx_PyObject_Call</span>(__pyx_t_1, __pyx_tuple_, NULL);<span class='error_goto'> if (unlikely(!__pyx_t_2)) {__pyx_filename = __pyx_f[0]; __pyx_lineno = 46; __pyx_clineno = __LINE__; goto __pyx_L1_error;}</span>\n",
        "  <span class='refnanny'>__Pyx_GOTREF</span>(__pyx_t_2);\n",
        "  <span class='pyx_macro_api'>__Pyx_DECREF</span>(__pyx_t_1); __pyx_t_1 = 0;\n",
        "  __pyx_t_1 = NULL;\n",
        "  if (CYTHON_COMPILING_IN_CPYTHON &amp;&amp; unlikely(<span class='py_c_api'>PyMethod_Check</span>(__pyx_t_5))) {\n",
        "    __pyx_t_1 = <span class='py_macro_api'>PyMethod_GET_SELF</span>(__pyx_t_5);\n",
        "    if (likely(__pyx_t_1)) {\n",
        "      PyObject* function = <span class='py_macro_api'>PyMethod_GET_FUNCTION</span>(__pyx_t_5);\n",
        "      <span class='pyx_macro_api'>__Pyx_INCREF</span>(__pyx_t_1);\n",
        "      <span class='pyx_macro_api'>__Pyx_INCREF</span>(function);\n",
        "      <span class='pyx_macro_api'>__Pyx_DECREF_SET</span>(__pyx_t_5, function);\n",
        "    }\n",
        "  }\n",
        "  if (!__pyx_t_1) {\n",
        "    __pyx_t_3 = <span class='pyx_c_api'>__Pyx_PyObject_CallOneArg</span>(__pyx_t_5, __pyx_t_2);<span class='error_goto'> if (unlikely(!__pyx_t_3)) {__pyx_filename = __pyx_f[0]; __pyx_lineno = 46; __pyx_clineno = __LINE__; goto __pyx_L1_error;}</span>\n",
        "    <span class='pyx_macro_api'>__Pyx_DECREF</span>(__pyx_t_2); __pyx_t_2 = 0;\n",
        "    <span class='refnanny'>__Pyx_GOTREF</span>(__pyx_t_3);\n",
        "  } else {\n",
        "    __pyx_t_4 = <span class='py_c_api'>PyTuple_New</span>(1+1);<span class='error_goto'> if (unlikely(!__pyx_t_4)) {__pyx_filename = __pyx_f[0]; __pyx_lineno = 46; __pyx_clineno = __LINE__; goto __pyx_L1_error;}</span>\n",
        "    <span class='refnanny'>__Pyx_GOTREF</span>(__pyx_t_4);\n",
        "    <span class='py_macro_api'>PyTuple_SET_ITEM</span>(__pyx_t_4, 0, __pyx_t_1); <span class='refnanny'>__Pyx_GIVEREF</span>(__pyx_t_1); __pyx_t_1 = NULL;\n",
        "    <span class='py_macro_api'>PyTuple_SET_ITEM</span>(__pyx_t_4, 0+1, __pyx_t_2);\n",
        "    <span class='refnanny'>__Pyx_GIVEREF</span>(__pyx_t_2);\n",
        "    __pyx_t_2 = 0;\n",
        "    __pyx_t_3 = <span class='pyx_c_api'>__Pyx_PyObject_Call</span>(__pyx_t_5, __pyx_t_4, NULL);<span class='error_goto'> if (unlikely(!__pyx_t_3)) {__pyx_filename = __pyx_f[0]; __pyx_lineno = 46; __pyx_clineno = __LINE__; goto __pyx_L1_error;}</span>\n",
        "    <span class='refnanny'>__Pyx_GOTREF</span>(__pyx_t_3);\n",
        "    <span class='pyx_macro_api'>__Pyx_DECREF</span>(__pyx_t_4); __pyx_t_4 = 0;\n",
        "  }\n",
        "  <span class='pyx_macro_api'>__Pyx_DECREF</span>(__pyx_t_5); __pyx_t_5 = 0;\n",
        "  __pyx_v_distTmp = __pyx_t_3;\n",
        "  __pyx_t_3 = 0;\n",
        "/* \u2026 */\n",
        "  __pyx_tuple_ = <span class='py_c_api'>PyTuple_Pack</span>(1, __pyx_int_0);<span class='error_goto'> if (unlikely(!__pyx_tuple_)) {__pyx_filename = __pyx_f[0]; __pyx_lineno = 46; __pyx_clineno = __LINE__; goto __pyx_L1_error;}</span>\n",
        "  <span class='refnanny'>__Pyx_GOTREF</span>(__pyx_tuple_);\n",
        "  <span class='refnanny'>__Pyx_GIVEREF</span>(__pyx_tuple_);\n",
        "</pre><pre class='cython line score-33' onclick='toggleDiv(this)'>+047:     <span class=\"n\">npTmpTable</span> <span class=\"o\">=</span> <span class=\"p\">((</span><span class=\"n\">inds</span><span class=\"o\">.</span><span class=\"n\">T</span><span class=\"p\">)</span><span class=\"o\">.</span><span class=\"n\">reshape</span><span class=\"p\">(</span><span class=\"n\">diam</span><span class=\"o\">**</span><span class=\"mf\">2</span><span class=\"p\">,</span> <span class=\"mf\">2</span><span class=\"p\">))</span></pre>\n",
        "<pre class='cython code score-33'>  __pyx_t_5 = <span class='pyx_c_api'>__Pyx_PyObject_GetAttrStr</span>(__pyx_v_inds, __pyx_n_s_T);<span class='error_goto'> if (unlikely(!__pyx_t_5)) {__pyx_filename = __pyx_f[0]; __pyx_lineno = 47; __pyx_clineno = __LINE__; goto __pyx_L1_error;}</span>\n",
        "  <span class='refnanny'>__Pyx_GOTREF</span>(__pyx_t_5);\n",
        "  __pyx_t_4 = <span class='pyx_c_api'>__Pyx_PyObject_GetAttrStr</span>(__pyx_t_5, __pyx_n_s_reshape);<span class='error_goto'> if (unlikely(!__pyx_t_4)) {__pyx_filename = __pyx_f[0]; __pyx_lineno = 47; __pyx_clineno = __LINE__; goto __pyx_L1_error;}</span>\n",
        "  <span class='refnanny'>__Pyx_GOTREF</span>(__pyx_t_4);\n",
        "  <span class='pyx_macro_api'>__Pyx_DECREF</span>(__pyx_t_5); __pyx_t_5 = 0;\n",
        "  __pyx_t_5 = <span class='py_c_api'>PyNumber_Power</span>(__pyx_v_diam, __pyx_int_2, Py_None);<span class='error_goto'> if (unlikely(!__pyx_t_5)) {__pyx_filename = __pyx_f[0]; __pyx_lineno = 47; __pyx_clineno = __LINE__; goto __pyx_L1_error;}</span>\n",
        "  <span class='refnanny'>__Pyx_GOTREF</span>(__pyx_t_5);\n",
        "  __pyx_t_2 = NULL;\n",
        "  __pyx_t_6 = 0;\n",
        "  if (CYTHON_COMPILING_IN_CPYTHON &amp;&amp; likely(<span class='py_c_api'>PyMethod_Check</span>(__pyx_t_4))) {\n",
        "    __pyx_t_2 = <span class='py_macro_api'>PyMethod_GET_SELF</span>(__pyx_t_4);\n",
        "    if (likely(__pyx_t_2)) {\n",
        "      PyObject* function = <span class='py_macro_api'>PyMethod_GET_FUNCTION</span>(__pyx_t_4);\n",
        "      <span class='pyx_macro_api'>__Pyx_INCREF</span>(__pyx_t_2);\n",
        "      <span class='pyx_macro_api'>__Pyx_INCREF</span>(function);\n",
        "      <span class='pyx_macro_api'>__Pyx_DECREF_SET</span>(__pyx_t_4, function);\n",
        "      __pyx_t_6 = 1;\n",
        "    }\n",
        "  }\n",
        "  __pyx_t_1 = <span class='py_c_api'>PyTuple_New</span>(2+__pyx_t_6);<span class='error_goto'> if (unlikely(!__pyx_t_1)) {__pyx_filename = __pyx_f[0]; __pyx_lineno = 47; __pyx_clineno = __LINE__; goto __pyx_L1_error;}</span>\n",
        "  <span class='refnanny'>__Pyx_GOTREF</span>(__pyx_t_1);\n",
        "  if (__pyx_t_2) {\n",
        "    <span class='py_macro_api'>PyTuple_SET_ITEM</span>(__pyx_t_1, 0, __pyx_t_2); <span class='refnanny'>__Pyx_GIVEREF</span>(__pyx_t_2); __pyx_t_2 = NULL;\n",
        "  }\n",
        "  <span class='py_macro_api'>PyTuple_SET_ITEM</span>(__pyx_t_1, 0+__pyx_t_6, __pyx_t_5);\n",
        "  <span class='refnanny'>__Pyx_GIVEREF</span>(__pyx_t_5);\n",
        "  <span class='pyx_macro_api'>__Pyx_INCREF</span>(__pyx_int_2);\n",
        "  <span class='py_macro_api'>PyTuple_SET_ITEM</span>(__pyx_t_1, 1+__pyx_t_6, __pyx_int_2);\n",
        "  <span class='refnanny'>__Pyx_GIVEREF</span>(__pyx_int_2);\n",
        "  __pyx_t_5 = 0;\n",
        "  __pyx_t_3 = <span class='pyx_c_api'>__Pyx_PyObject_Call</span>(__pyx_t_4, __pyx_t_1, NULL);<span class='error_goto'> if (unlikely(!__pyx_t_3)) {__pyx_filename = __pyx_f[0]; __pyx_lineno = 47; __pyx_clineno = __LINE__; goto __pyx_L1_error;}</span>\n",
        "  <span class='refnanny'>__Pyx_GOTREF</span>(__pyx_t_3);\n",
        "  <span class='pyx_macro_api'>__Pyx_DECREF</span>(__pyx_t_1); __pyx_t_1 = 0;\n",
        "  <span class='pyx_macro_api'>__Pyx_DECREF</span>(__pyx_t_4); __pyx_t_4 = 0;\n",
        "  __pyx_v_npTmpTable = __pyx_t_3;\n",
        "  __pyx_t_3 = 0;\n",
        "</pre><pre class='cython line score-63' onclick='toggleDiv(this)'>+048:     <span class=\"n\">npTmpTable</span> <span class=\"o\">=</span> <span class=\"n\">np</span><span class=\"o\">.</span><span class=\"n\">append</span><span class=\"p\">(</span><span class=\"n\">npTmpTable</span><span class=\"p\">,</span> <span class=\"n\">distTmp</span><span class=\"o\">.</span><span class=\"n\">ravel</span><span class=\"p\">()[:,</span><span class=\"bp\">None</span><span class=\"p\">],</span><span class=\"n\">axis</span><span class=\"o\">=</span><span class=\"mf\">1</span><span class=\"p\">)</span></pre>\n",
        "<pre class='cython code score-63'>  __pyx_t_3 = <span class='pyx_c_api'>__Pyx_GetModuleGlobalName</span>(__pyx_n_s_np);<span class='error_goto'> if (unlikely(!__pyx_t_3)) {__pyx_filename = __pyx_f[0]; __pyx_lineno = 48; __pyx_clineno = __LINE__; goto __pyx_L1_error;}</span>\n",
        "  <span class='refnanny'>__Pyx_GOTREF</span>(__pyx_t_3);\n",
        "  __pyx_t_4 = <span class='pyx_c_api'>__Pyx_PyObject_GetAttrStr</span>(__pyx_t_3, __pyx_n_s_append);<span class='error_goto'> if (unlikely(!__pyx_t_4)) {__pyx_filename = __pyx_f[0]; __pyx_lineno = 48; __pyx_clineno = __LINE__; goto __pyx_L1_error;}</span>\n",
        "  <span class='refnanny'>__Pyx_GOTREF</span>(__pyx_t_4);\n",
        "  <span class='pyx_macro_api'>__Pyx_DECREF</span>(__pyx_t_3); __pyx_t_3 = 0;\n",
        "  __pyx_t_1 = <span class='pyx_c_api'>__Pyx_PyObject_GetAttrStr</span>(__pyx_v_distTmp, __pyx_n_s_ravel);<span class='error_goto'> if (unlikely(!__pyx_t_1)) {__pyx_filename = __pyx_f[0]; __pyx_lineno = 48; __pyx_clineno = __LINE__; goto __pyx_L1_error;}</span>\n",
        "  <span class='refnanny'>__Pyx_GOTREF</span>(__pyx_t_1);\n",
        "  __pyx_t_5 = NULL;\n",
        "  if (CYTHON_COMPILING_IN_CPYTHON &amp;&amp; likely(<span class='py_c_api'>PyMethod_Check</span>(__pyx_t_1))) {\n",
        "    __pyx_t_5 = <span class='py_macro_api'>PyMethod_GET_SELF</span>(__pyx_t_1);\n",
        "    if (likely(__pyx_t_5)) {\n",
        "      PyObject* function = <span class='py_macro_api'>PyMethod_GET_FUNCTION</span>(__pyx_t_1);\n",
        "      <span class='pyx_macro_api'>__Pyx_INCREF</span>(__pyx_t_5);\n",
        "      <span class='pyx_macro_api'>__Pyx_INCREF</span>(function);\n",
        "      <span class='pyx_macro_api'>__Pyx_DECREF_SET</span>(__pyx_t_1, function);\n",
        "    }\n",
        "  }\n",
        "  if (__pyx_t_5) {\n",
        "    __pyx_t_3 = <span class='pyx_c_api'>__Pyx_PyObject_CallOneArg</span>(__pyx_t_1, __pyx_t_5);<span class='error_goto'> if (unlikely(!__pyx_t_3)) {__pyx_filename = __pyx_f[0]; __pyx_lineno = 48; __pyx_clineno = __LINE__; goto __pyx_L1_error;}</span>\n",
        "    <span class='pyx_macro_api'>__Pyx_DECREF</span>(__pyx_t_5); __pyx_t_5 = 0;\n",
        "  } else {\n",
        "    __pyx_t_3 = <span class='pyx_c_api'>__Pyx_PyObject_CallNoArg</span>(__pyx_t_1);<span class='error_goto'> if (unlikely(!__pyx_t_3)) {__pyx_filename = __pyx_f[0]; __pyx_lineno = 48; __pyx_clineno = __LINE__; goto __pyx_L1_error;}</span>\n",
        "  }\n",
        "  <span class='refnanny'>__Pyx_GOTREF</span>(__pyx_t_3);\n",
        "  <span class='pyx_macro_api'>__Pyx_DECREF</span>(__pyx_t_1); __pyx_t_1 = 0;\n",
        "/* \u2026 */\n",
        "  __pyx_slice__2 = <span class='py_c_api'>PySlice_New</span>(Py_None, Py_None, Py_None);<span class='error_goto'> if (unlikely(!__pyx_slice__2)) {__pyx_filename = __pyx_f[0]; __pyx_lineno = 48; __pyx_clineno = __LINE__; goto __pyx_L1_error;}</span>\n",
        "  <span class='refnanny'>__Pyx_GOTREF</span>(__pyx_slice__2);\n",
        "  <span class='refnanny'>__Pyx_GIVEREF</span>(__pyx_slice__2);\n",
        "  __pyx_t_1 = <span class='py_c_api'>PyObject_GetItem</span>(__pyx_t_3, __pyx_tuple__3);<span class='error_goto'> if (unlikely(__pyx_t_1 == NULL)) {__pyx_filename = __pyx_f[0]; __pyx_lineno = 48; __pyx_clineno = __LINE__; goto __pyx_L1_error;}</span>;\n",
        "  <span class='refnanny'>__Pyx_GOTREF</span>(__pyx_t_1);\n",
        "  <span class='pyx_macro_api'>__Pyx_DECREF</span>(__pyx_t_3); __pyx_t_3 = 0;\n",
        "  __pyx_t_3 = <span class='py_c_api'>PyTuple_New</span>(2);<span class='error_goto'> if (unlikely(!__pyx_t_3)) {__pyx_filename = __pyx_f[0]; __pyx_lineno = 48; __pyx_clineno = __LINE__; goto __pyx_L1_error;}</span>\n",
        "  <span class='refnanny'>__Pyx_GOTREF</span>(__pyx_t_3);\n",
        "  <span class='pyx_macro_api'>__Pyx_INCREF</span>(__pyx_v_npTmpTable);\n",
        "  <span class='py_macro_api'>PyTuple_SET_ITEM</span>(__pyx_t_3, 0, __pyx_v_npTmpTable);\n",
        "  <span class='refnanny'>__Pyx_GIVEREF</span>(__pyx_v_npTmpTable);\n",
        "  <span class='py_macro_api'>PyTuple_SET_ITEM</span>(__pyx_t_3, 1, __pyx_t_1);\n",
        "  <span class='refnanny'>__Pyx_GIVEREF</span>(__pyx_t_1);\n",
        "  __pyx_t_1 = 0;\n",
        "  __pyx_t_1 = <span class='py_c_api'>PyDict_New</span>();<span class='error_goto'> if (unlikely(!__pyx_t_1)) {__pyx_filename = __pyx_f[0]; __pyx_lineno = 48; __pyx_clineno = __LINE__; goto __pyx_L1_error;}</span>\n",
        "  <span class='refnanny'>__Pyx_GOTREF</span>(__pyx_t_1);\n",
        "  if (<span class='py_c_api'>PyDict_SetItem</span>(__pyx_t_1, __pyx_n_s_axis, __pyx_int_1) &lt; 0) <span class='error_goto'>{__pyx_filename = __pyx_f[0]; __pyx_lineno = 48; __pyx_clineno = __LINE__; goto __pyx_L1_error;}</span>\n",
        "  __pyx_t_5 = <span class='pyx_c_api'>__Pyx_PyObject_Call</span>(__pyx_t_4, __pyx_t_3, __pyx_t_1);<span class='error_goto'> if (unlikely(!__pyx_t_5)) {__pyx_filename = __pyx_f[0]; __pyx_lineno = 48; __pyx_clineno = __LINE__; goto __pyx_L1_error;}</span>\n",
        "  <span class='refnanny'>__Pyx_GOTREF</span>(__pyx_t_5);\n",
        "  <span class='pyx_macro_api'>__Pyx_DECREF</span>(__pyx_t_4); __pyx_t_4 = 0;\n",
        "  <span class='pyx_macro_api'>__Pyx_DECREF</span>(__pyx_t_3); __pyx_t_3 = 0;\n",
        "  <span class='pyx_macro_api'>__Pyx_DECREF</span>(__pyx_t_1); __pyx_t_1 = 0;\n",
        "  <span class='pyx_macro_api'>__Pyx_DECREF_SET</span>(__pyx_v_npTmpTable, __pyx_t_5);\n",
        "  __pyx_t_5 = 0;\n",
        "  __pyx_tuple__3 = <span class='py_c_api'>PyTuple_Pack</span>(2, __pyx_slice__2, Py_None);<span class='error_goto'> if (unlikely(!__pyx_tuple__3)) {__pyx_filename = __pyx_f[0]; __pyx_lineno = 48; __pyx_clineno = __LINE__; goto __pyx_L1_error;}</span>\n",
        "  <span class='refnanny'>__Pyx_GOTREF</span>(__pyx_tuple__3);\n",
        "  <span class='refnanny'>__Pyx_GIVEREF</span>(__pyx_tuple__3);\n",
        "</pre><pre class='cython line score-0'>&#xA0;049:     <span class=\"c\"># sort the table by distance then x then y (the arguments are last-sort-first)</span></pre>\n",
        "<pre class='cython line score-82' onclick='toggleDiv(this)'>+050:     <span class=\"n\">order</span> <span class=\"o\">=</span> <span class=\"n\">np</span><span class=\"o\">.</span><span class=\"n\">lexsort</span><span class=\"p\">((</span><span class=\"n\">npTmpTable</span><span class=\"p\">[:,</span><span class=\"mf\">1</span><span class=\"p\">],</span><span class=\"n\">npTmpTable</span><span class=\"p\">[:,</span><span class=\"mf\">0</span><span class=\"p\">],</span><span class=\"n\">npTmpTable</span><span class=\"p\">[:,</span><span class=\"mf\">2</span><span class=\"p\">]))</span></pre>\n",
        "<pre class='cython code score-82'>  __pyx_t_1 = <span class='pyx_c_api'>__Pyx_GetModuleGlobalName</span>(__pyx_n_s_np);<span class='error_goto'> if (unlikely(!__pyx_t_1)) {__pyx_filename = __pyx_f[0]; __pyx_lineno = 50; __pyx_clineno = __LINE__; goto __pyx_L1_error;}</span>\n",
        "  <span class='refnanny'>__Pyx_GOTREF</span>(__pyx_t_1);\n",
        "  __pyx_t_3 = <span class='pyx_c_api'>__Pyx_PyObject_GetAttrStr</span>(__pyx_t_1, __pyx_n_s_lexsort);<span class='error_goto'> if (unlikely(!__pyx_t_3)) {__pyx_filename = __pyx_f[0]; __pyx_lineno = 50; __pyx_clineno = __LINE__; goto __pyx_L1_error;}</span>\n",
        "  <span class='refnanny'>__Pyx_GOTREF</span>(__pyx_t_3);\n",
        "  <span class='pyx_macro_api'>__Pyx_DECREF</span>(__pyx_t_1); __pyx_t_1 = 0;\n",
        "/* \u2026 */\n",
        "  __pyx_slice__4 = <span class='py_c_api'>PySlice_New</span>(Py_None, Py_None, Py_None);<span class='error_goto'> if (unlikely(!__pyx_slice__4)) {__pyx_filename = __pyx_f[0]; __pyx_lineno = 50; __pyx_clineno = __LINE__; goto __pyx_L1_error;}</span>\n",
        "  <span class='refnanny'>__Pyx_GOTREF</span>(__pyx_slice__4);\n",
        "  <span class='refnanny'>__Pyx_GIVEREF</span>(__pyx_slice__4);\n",
        "  __pyx_t_1 = <span class='py_c_api'>PyObject_GetItem</span>(__pyx_v_npTmpTable, __pyx_tuple__5);<span class='error_goto'> if (unlikely(__pyx_t_1 == NULL)) {__pyx_filename = __pyx_f[0]; __pyx_lineno = 50; __pyx_clineno = __LINE__; goto __pyx_L1_error;}</span>;\n",
        "  <span class='refnanny'>__Pyx_GOTREF</span>(__pyx_t_1);\n",
        "  __pyx_tuple__5 = <span class='py_c_api'>PyTuple_Pack</span>(2, __pyx_slice__4, __pyx_int_1);<span class='error_goto'> if (unlikely(!__pyx_tuple__5)) {__pyx_filename = __pyx_f[0]; __pyx_lineno = 50; __pyx_clineno = __LINE__; goto __pyx_L1_error;}</span>\n",
        "  <span class='refnanny'>__Pyx_GOTREF</span>(__pyx_tuple__5);\n",
        "  <span class='refnanny'>__Pyx_GIVEREF</span>(__pyx_tuple__5);\n",
        "  __pyx_slice__6 = <span class='py_c_api'>PySlice_New</span>(Py_None, Py_None, Py_None);<span class='error_goto'> if (unlikely(!__pyx_slice__6)) {__pyx_filename = __pyx_f[0]; __pyx_lineno = 50; __pyx_clineno = __LINE__; goto __pyx_L1_error;}</span>\n",
        "  <span class='refnanny'>__Pyx_GOTREF</span>(__pyx_slice__6);\n",
        "  <span class='refnanny'>__Pyx_GIVEREF</span>(__pyx_slice__6);\n",
        "  __pyx_t_4 = <span class='py_c_api'>PyObject_GetItem</span>(__pyx_v_npTmpTable, __pyx_tuple__7);<span class='error_goto'> if (unlikely(__pyx_t_4 == NULL)) {__pyx_filename = __pyx_f[0]; __pyx_lineno = 50; __pyx_clineno = __LINE__; goto __pyx_L1_error;}</span>;\n",
        "  <span class='refnanny'>__Pyx_GOTREF</span>(__pyx_t_4);\n",
        "  __pyx_tuple__7 = <span class='py_c_api'>PyTuple_Pack</span>(2, __pyx_slice__6, __pyx_int_0);<span class='error_goto'> if (unlikely(!__pyx_tuple__7)) {__pyx_filename = __pyx_f[0]; __pyx_lineno = 50; __pyx_clineno = __LINE__; goto __pyx_L1_error;}</span>\n",
        "  <span class='refnanny'>__Pyx_GOTREF</span>(__pyx_tuple__7);\n",
        "  <span class='refnanny'>__Pyx_GIVEREF</span>(__pyx_tuple__7);\n",
        "  __pyx_slice__8 = <span class='py_c_api'>PySlice_New</span>(Py_None, Py_None, Py_None);<span class='error_goto'> if (unlikely(!__pyx_slice__8)) {__pyx_filename = __pyx_f[0]; __pyx_lineno = 50; __pyx_clineno = __LINE__; goto __pyx_L1_error;}</span>\n",
        "  <span class='refnanny'>__Pyx_GOTREF</span>(__pyx_slice__8);\n",
        "  <span class='refnanny'>__Pyx_GIVEREF</span>(__pyx_slice__8);\n",
        "  __pyx_t_2 = <span class='py_c_api'>PyObject_GetItem</span>(__pyx_v_npTmpTable, __pyx_tuple__9);<span class='error_goto'> if (unlikely(__pyx_t_2 == NULL)) {__pyx_filename = __pyx_f[0]; __pyx_lineno = 50; __pyx_clineno = __LINE__; goto __pyx_L1_error;}</span>;\n",
        "  <span class='refnanny'>__Pyx_GOTREF</span>(__pyx_t_2);\n",
        "  __pyx_t_7 = <span class='py_c_api'>PyTuple_New</span>(3);<span class='error_goto'> if (unlikely(!__pyx_t_7)) {__pyx_filename = __pyx_f[0]; __pyx_lineno = 50; __pyx_clineno = __LINE__; goto __pyx_L1_error;}</span>\n",
        "  <span class='refnanny'>__Pyx_GOTREF</span>(__pyx_t_7);\n",
        "  <span class='py_macro_api'>PyTuple_SET_ITEM</span>(__pyx_t_7, 0, __pyx_t_1);\n",
        "  <span class='refnanny'>__Pyx_GIVEREF</span>(__pyx_t_1);\n",
        "  <span class='py_macro_api'>PyTuple_SET_ITEM</span>(__pyx_t_7, 1, __pyx_t_4);\n",
        "  <span class='refnanny'>__Pyx_GIVEREF</span>(__pyx_t_4);\n",
        "  <span class='py_macro_api'>PyTuple_SET_ITEM</span>(__pyx_t_7, 2, __pyx_t_2);\n",
        "  <span class='refnanny'>__Pyx_GIVEREF</span>(__pyx_t_2);\n",
        "  __pyx_t_1 = 0;\n",
        "  __pyx_t_4 = 0;\n",
        "  __pyx_t_2 = 0;\n",
        "  __pyx_t_2 = NULL;\n",
        "  if (CYTHON_COMPILING_IN_CPYTHON &amp;&amp; unlikely(<span class='py_c_api'>PyMethod_Check</span>(__pyx_t_3))) {\n",
        "    __pyx_t_2 = <span class='py_macro_api'>PyMethod_GET_SELF</span>(__pyx_t_3);\n",
        "    if (likely(__pyx_t_2)) {\n",
        "      PyObject* function = <span class='py_macro_api'>PyMethod_GET_FUNCTION</span>(__pyx_t_3);\n",
        "      <span class='pyx_macro_api'>__Pyx_INCREF</span>(__pyx_t_2);\n",
        "      <span class='pyx_macro_api'>__Pyx_INCREF</span>(function);\n",
        "      <span class='pyx_macro_api'>__Pyx_DECREF_SET</span>(__pyx_t_3, function);\n",
        "    }\n",
        "  }\n",
        "  if (!__pyx_t_2) {\n",
        "    __pyx_t_5 = <span class='pyx_c_api'>__Pyx_PyObject_CallOneArg</span>(__pyx_t_3, __pyx_t_7);<span class='error_goto'> if (unlikely(!__pyx_t_5)) {__pyx_filename = __pyx_f[0]; __pyx_lineno = 50; __pyx_clineno = __LINE__; goto __pyx_L1_error;}</span>\n",
        "    <span class='pyx_macro_api'>__Pyx_DECREF</span>(__pyx_t_7); __pyx_t_7 = 0;\n",
        "    <span class='refnanny'>__Pyx_GOTREF</span>(__pyx_t_5);\n",
        "  } else {\n",
        "    __pyx_t_4 = <span class='py_c_api'>PyTuple_New</span>(1+1);<span class='error_goto'> if (unlikely(!__pyx_t_4)) {__pyx_filename = __pyx_f[0]; __pyx_lineno = 50; __pyx_clineno = __LINE__; goto __pyx_L1_error;}</span>\n",
        "    <span class='refnanny'>__Pyx_GOTREF</span>(__pyx_t_4);\n",
        "    <span class='py_macro_api'>PyTuple_SET_ITEM</span>(__pyx_t_4, 0, __pyx_t_2); <span class='refnanny'>__Pyx_GIVEREF</span>(__pyx_t_2); __pyx_t_2 = NULL;\n",
        "    <span class='py_macro_api'>PyTuple_SET_ITEM</span>(__pyx_t_4, 0+1, __pyx_t_7);\n",
        "    <span class='refnanny'>__Pyx_GIVEREF</span>(__pyx_t_7);\n",
        "    __pyx_t_7 = 0;\n",
        "    __pyx_t_5 = <span class='pyx_c_api'>__Pyx_PyObject_Call</span>(__pyx_t_3, __pyx_t_4, NULL);<span class='error_goto'> if (unlikely(!__pyx_t_5)) {__pyx_filename = __pyx_f[0]; __pyx_lineno = 50; __pyx_clineno = __LINE__; goto __pyx_L1_error;}</span>\n",
        "    <span class='refnanny'>__Pyx_GOTREF</span>(__pyx_t_5);\n",
        "    <span class='pyx_macro_api'>__Pyx_DECREF</span>(__pyx_t_4); __pyx_t_4 = 0;\n",
        "  }\n",
        "  <span class='pyx_macro_api'>__Pyx_DECREF</span>(__pyx_t_3); __pyx_t_3 = 0;\n",
        "  __pyx_v_order = __pyx_t_5;\n",
        "  __pyx_t_5 = 0;\n",
        "  __pyx_tuple__9 = <span class='py_c_api'>PyTuple_Pack</span>(2, __pyx_slice__8, __pyx_int_2);<span class='error_goto'> if (unlikely(!__pyx_tuple__9)) {__pyx_filename = __pyx_f[0]; __pyx_lineno = 50; __pyx_clineno = __LINE__; goto __pyx_L1_error;}</span>\n",
        "  <span class='refnanny'>__Pyx_GOTREF</span>(__pyx_tuple__9);\n",
        "  <span class='refnanny'>__Pyx_GIVEREF</span>(__pyx_tuple__9);\n",
        "</pre><pre class='cython line score-30' onclick='toggleDiv(this)'>+051:     <span class=\"n\">npTmpTable</span> <span class=\"o\">=</span> <span class=\"n\">np</span><span class=\"o\">.</span><span class=\"n\">take</span><span class=\"p\">(</span><span class=\"n\">npTmpTable</span><span class=\"p\">,</span><span class=\"n\">order</span><span class=\"p\">,</span><span class=\"n\">axis</span><span class=\"o\">=</span><span class=\"mf\">0</span><span class=\"p\">)</span></pre>\n",
        "<pre class='cython code score-30'>  __pyx_t_5 = <span class='pyx_c_api'>__Pyx_GetModuleGlobalName</span>(__pyx_n_s_np);<span class='error_goto'> if (unlikely(!__pyx_t_5)) {__pyx_filename = __pyx_f[0]; __pyx_lineno = 51; __pyx_clineno = __LINE__; goto __pyx_L1_error;}</span>\n",
        "  <span class='refnanny'>__Pyx_GOTREF</span>(__pyx_t_5);\n",
        "  __pyx_t_3 = <span class='pyx_c_api'>__Pyx_PyObject_GetAttrStr</span>(__pyx_t_5, __pyx_n_s_take);<span class='error_goto'> if (unlikely(!__pyx_t_3)) {__pyx_filename = __pyx_f[0]; __pyx_lineno = 51; __pyx_clineno = __LINE__; goto __pyx_L1_error;}</span>\n",
        "  <span class='refnanny'>__Pyx_GOTREF</span>(__pyx_t_3);\n",
        "  <span class='pyx_macro_api'>__Pyx_DECREF</span>(__pyx_t_5); __pyx_t_5 = 0;\n",
        "  __pyx_t_5 = <span class='py_c_api'>PyTuple_New</span>(2);<span class='error_goto'> if (unlikely(!__pyx_t_5)) {__pyx_filename = __pyx_f[0]; __pyx_lineno = 51; __pyx_clineno = __LINE__; goto __pyx_L1_error;}</span>\n",
        "  <span class='refnanny'>__Pyx_GOTREF</span>(__pyx_t_5);\n",
        "  <span class='pyx_macro_api'>__Pyx_INCREF</span>(__pyx_v_npTmpTable);\n",
        "  <span class='py_macro_api'>PyTuple_SET_ITEM</span>(__pyx_t_5, 0, __pyx_v_npTmpTable);\n",
        "  <span class='refnanny'>__Pyx_GIVEREF</span>(__pyx_v_npTmpTable);\n",
        "  <span class='pyx_macro_api'>__Pyx_INCREF</span>(__pyx_v_order);\n",
        "  <span class='py_macro_api'>PyTuple_SET_ITEM</span>(__pyx_t_5, 1, __pyx_v_order);\n",
        "  <span class='refnanny'>__Pyx_GIVEREF</span>(__pyx_v_order);\n",
        "  __pyx_t_4 = <span class='py_c_api'>PyDict_New</span>();<span class='error_goto'> if (unlikely(!__pyx_t_4)) {__pyx_filename = __pyx_f[0]; __pyx_lineno = 51; __pyx_clineno = __LINE__; goto __pyx_L1_error;}</span>\n",
        "  <span class='refnanny'>__Pyx_GOTREF</span>(__pyx_t_4);\n",
        "  if (<span class='py_c_api'>PyDict_SetItem</span>(__pyx_t_4, __pyx_n_s_axis, __pyx_int_0) &lt; 0) <span class='error_goto'>{__pyx_filename = __pyx_f[0]; __pyx_lineno = 51; __pyx_clineno = __LINE__; goto __pyx_L1_error;}</span>\n",
        "  __pyx_t_7 = <span class='pyx_c_api'>__Pyx_PyObject_Call</span>(__pyx_t_3, __pyx_t_5, __pyx_t_4);<span class='error_goto'> if (unlikely(!__pyx_t_7)) {__pyx_filename = __pyx_f[0]; __pyx_lineno = 51; __pyx_clineno = __LINE__; goto __pyx_L1_error;}</span>\n",
        "  <span class='refnanny'>__Pyx_GOTREF</span>(__pyx_t_7);\n",
        "  <span class='pyx_macro_api'>__Pyx_DECREF</span>(__pyx_t_3); __pyx_t_3 = 0;\n",
        "  <span class='pyx_macro_api'>__Pyx_DECREF</span>(__pyx_t_5); __pyx_t_5 = 0;\n",
        "  <span class='pyx_macro_api'>__Pyx_DECREF</span>(__pyx_t_4); __pyx_t_4 = 0;\n",
        "  <span class='pyx_macro_api'>__Pyx_DECREF_SET</span>(__pyx_v_npTmpTable, __pyx_t_7);\n",
        "  __pyx_t_7 = 0;\n",
        "</pre><pre class='cython line score-0'>&#xA0;052:     <span class=\"c\"># transfer to a C-side object transposed to have three rows and many columns and in </span></pre>\n",
        "<pre class='cython line score-0'>&#xA0;053:     <span class=\"c\"># C-contiguous layout, so that cython can access individual nbr coord sets more quickly</span></pre>\n",
        "<pre class='cython line score-56' onclick='toggleDiv(this)'>+054:     <span class=\"n\">nbrTable</span> <span class=\"o\">=</span> <span class=\"n\">np</span><span class=\"o\">.</span><span class=\"n\">copy</span><span class=\"p\">((</span><span class=\"n\">npTmpTable</span><span class=\"p\">[</span><span class=\"n\">npTmpTable</span><span class=\"p\">[:,</span><span class=\"mf\">2</span><span class=\"p\">]</span> <span class=\"o\">&lt;=</span> <span class=\"n\">_SEARCH_RADIUS</span><span class=\"p\">])</span><span class=\"o\">.</span><span class=\"n\">T</span><span class=\"p\">,</span><span class=\"n\">order</span><span class=\"o\">=</span><span class=\"s\">&#39;c&#39;</span><span class=\"p\">)</span></pre>\n",
        "<pre class='cython code score-56'>  __pyx_t_7 = <span class='pyx_c_api'>__Pyx_GetModuleGlobalName</span>(__pyx_n_s_np);<span class='error_goto'> if (unlikely(!__pyx_t_7)) {__pyx_filename = __pyx_f[0]; __pyx_lineno = 54; __pyx_clineno = __LINE__; goto __pyx_L1_error;}</span>\n",
        "  <span class='refnanny'>__Pyx_GOTREF</span>(__pyx_t_7);\n",
        "  __pyx_t_4 = <span class='pyx_c_api'>__Pyx_PyObject_GetAttrStr</span>(__pyx_t_7, __pyx_n_s_copy);<span class='error_goto'> if (unlikely(!__pyx_t_4)) {__pyx_filename = __pyx_f[0]; __pyx_lineno = 54; __pyx_clineno = __LINE__; goto __pyx_L1_error;}</span>\n",
        "  <span class='refnanny'>__Pyx_GOTREF</span>(__pyx_t_4);\n",
        "  <span class='pyx_macro_api'>__Pyx_DECREF</span>(__pyx_t_7); __pyx_t_7 = 0;\n",
        "/* \u2026 */\n",
        "  __pyx_slice__10 = <span class='py_c_api'>PySlice_New</span>(Py_None, Py_None, Py_None);<span class='error_goto'> if (unlikely(!__pyx_slice__10)) {__pyx_filename = __pyx_f[0]; __pyx_lineno = 54; __pyx_clineno = __LINE__; goto __pyx_L1_error;}</span>\n",
        "  <span class='refnanny'>__Pyx_GOTREF</span>(__pyx_slice__10);\n",
        "  <span class='refnanny'>__Pyx_GIVEREF</span>(__pyx_slice__10);\n",
        "  __pyx_t_7 = <span class='py_c_api'>PyObject_GetItem</span>(__pyx_v_npTmpTable, __pyx_tuple__11);<span class='error_goto'> if (unlikely(__pyx_t_7 == NULL)) {__pyx_filename = __pyx_f[0]; __pyx_lineno = 54; __pyx_clineno = __LINE__; goto __pyx_L1_error;}</span>;\n",
        "  <span class='refnanny'>__Pyx_GOTREF</span>(__pyx_t_7);\n",
        "  __pyx_t_5 = <span class='py_c_api'>PyObject_RichCompare</span>(__pyx_t_7, __pyx_v__SEARCH_RADIUS, Py_LE); <span class='refnanny'>__Pyx_XGOTREF</span>(__pyx_t_5);<span class='error_goto'> if (unlikely(!__pyx_t_5)) {__pyx_filename = __pyx_f[0]; __pyx_lineno = 54; __pyx_clineno = __LINE__; goto __pyx_L1_error;}</span>\n",
        "  <span class='pyx_macro_api'>__Pyx_DECREF</span>(__pyx_t_7); __pyx_t_7 = 0;\n",
        "  __pyx_t_7 = <span class='py_c_api'>PyObject_GetItem</span>(__pyx_v_npTmpTable, __pyx_t_5);<span class='error_goto'> if (unlikely(__pyx_t_7 == NULL)) {__pyx_filename = __pyx_f[0]; __pyx_lineno = 54; __pyx_clineno = __LINE__; goto __pyx_L1_error;}</span>;\n",
        "  <span class='refnanny'>__Pyx_GOTREF</span>(__pyx_t_7);\n",
        "  <span class='pyx_macro_api'>__Pyx_DECREF</span>(__pyx_t_5); __pyx_t_5 = 0;\n",
        "  __pyx_t_5 = <span class='pyx_c_api'>__Pyx_PyObject_GetAttrStr</span>(__pyx_t_7, __pyx_n_s_T);<span class='error_goto'> if (unlikely(!__pyx_t_5)) {__pyx_filename = __pyx_f[0]; __pyx_lineno = 54; __pyx_clineno = __LINE__; goto __pyx_L1_error;}</span>\n",
        "  <span class='refnanny'>__Pyx_GOTREF</span>(__pyx_t_5);\n",
        "  <span class='pyx_macro_api'>__Pyx_DECREF</span>(__pyx_t_7); __pyx_t_7 = 0;\n",
        "  __pyx_t_7 = <span class='py_c_api'>PyTuple_New</span>(1);<span class='error_goto'> if (unlikely(!__pyx_t_7)) {__pyx_filename = __pyx_f[0]; __pyx_lineno = 54; __pyx_clineno = __LINE__; goto __pyx_L1_error;}</span>\n",
        "  <span class='refnanny'>__Pyx_GOTREF</span>(__pyx_t_7);\n",
        "  <span class='py_macro_api'>PyTuple_SET_ITEM</span>(__pyx_t_7, 0, __pyx_t_5);\n",
        "  <span class='refnanny'>__Pyx_GIVEREF</span>(__pyx_t_5);\n",
        "  __pyx_t_5 = 0;\n",
        "  __pyx_t_5 = <span class='py_c_api'>PyDict_New</span>();<span class='error_goto'> if (unlikely(!__pyx_t_5)) {__pyx_filename = __pyx_f[0]; __pyx_lineno = 54; __pyx_clineno = __LINE__; goto __pyx_L1_error;}</span>\n",
        "  <span class='refnanny'>__Pyx_GOTREF</span>(__pyx_t_5);\n",
        "  if (<span class='py_c_api'>PyDict_SetItem</span>(__pyx_t_5, __pyx_n_s_order, __pyx_n_s_c) &lt; 0) <span class='error_goto'>{__pyx_filename = __pyx_f[0]; __pyx_lineno = 54; __pyx_clineno = __LINE__; goto __pyx_L1_error;}</span>\n",
        "  __pyx_t_3 = <span class='pyx_c_api'>__Pyx_PyObject_Call</span>(__pyx_t_4, __pyx_t_7, __pyx_t_5);<span class='error_goto'> if (unlikely(!__pyx_t_3)) {__pyx_filename = __pyx_f[0]; __pyx_lineno = 54; __pyx_clineno = __LINE__; goto __pyx_L1_error;}</span>\n",
        "  <span class='refnanny'>__Pyx_GOTREF</span>(__pyx_t_3);\n",
        "  <span class='pyx_macro_api'>__Pyx_DECREF</span>(__pyx_t_4); __pyx_t_4 = 0;\n",
        "  <span class='pyx_macro_api'>__Pyx_DECREF</span>(__pyx_t_7); __pyx_t_7 = 0;\n",
        "  <span class='pyx_macro_api'>__Pyx_DECREF</span>(__pyx_t_5); __pyx_t_5 = 0;\n",
        "  __pyx_v_nbrTable = __pyx_t_3;\n",
        "  __pyx_t_3 = 0;\n",
        "  __pyx_tuple__11 = <span class='py_c_api'>PyTuple_Pack</span>(2, __pyx_slice__10, __pyx_int_2);<span class='error_goto'> if (unlikely(!__pyx_tuple__11)) {__pyx_filename = __pyx_f[0]; __pyx_lineno = 54; __pyx_clineno = __LINE__; goto __pyx_L1_error;}</span>\n",
        "  <span class='refnanny'>__Pyx_GOTREF</span>(__pyx_tuple__11);\n",
        "  <span class='refnanny'>__Pyx_GIVEREF</span>(__pyx_tuple__11);\n",
        "</pre><pre class='cython line score-0'>&#xA0;055:     <span class=\"c\"># cast the columns that will be used as array indices to int type once here, rather </span></pre>\n",
        "<pre class='cython line score-0'>&#xA0;056:     <span class=\"c\"># than casting repeatedly inside the inner loop</span></pre>\n",
        "<pre class='cython line score-84' onclick='toggleDiv(this)'>+057:     <span class=\"n\">nbrIntCoords</span> <span class=\"o\">=</span> <span class=\"n\">np</span><span class=\"o\">.</span><span class=\"n\">asarray</span><span class=\"p\">(</span><span class=\"n\">nbrTable</span><span class=\"p\">[</span><span class=\"mf\">0</span><span class=\"p\">:</span><span class=\"mf\">2</span><span class=\"p\">,:])</span><span class=\"o\">.</span><span class=\"n\">astype</span><span class=\"p\">(</span><span class=\"n\">np</span><span class=\"o\">.</span><span class=\"n\">int32</span><span class=\"p\">)</span></pre>\n",
        "<pre class='cython code score-84'>  __pyx_t_7 = <span class='pyx_c_api'>__Pyx_GetModuleGlobalName</span>(__pyx_n_s_np);<span class='error_goto'> if (unlikely(!__pyx_t_7)) {__pyx_filename = __pyx_f[0]; __pyx_lineno = 57; __pyx_clineno = __LINE__; goto __pyx_L1_error;}</span>\n",
        "  <span class='refnanny'>__Pyx_GOTREF</span>(__pyx_t_7);\n",
        "  __pyx_t_4 = <span class='pyx_c_api'>__Pyx_PyObject_GetAttrStr</span>(__pyx_t_7, __pyx_n_s_asarray);<span class='error_goto'> if (unlikely(!__pyx_t_4)) {__pyx_filename = __pyx_f[0]; __pyx_lineno = 57; __pyx_clineno = __LINE__; goto __pyx_L1_error;}</span>\n",
        "  <span class='refnanny'>__Pyx_GOTREF</span>(__pyx_t_4);\n",
        "  <span class='pyx_macro_api'>__Pyx_DECREF</span>(__pyx_t_7); __pyx_t_7 = 0;\n",
        "/* \u2026 */\n",
        "  __pyx_slice__12 = <span class='py_c_api'>PySlice_New</span>(__pyx_int_0, __pyx_int_2, Py_None);<span class='error_goto'> if (unlikely(!__pyx_slice__12)) {__pyx_filename = __pyx_f[0]; __pyx_lineno = 57; __pyx_clineno = __LINE__; goto __pyx_L1_error;}</span>\n",
        "  <span class='refnanny'>__Pyx_GOTREF</span>(__pyx_slice__12);\n",
        "  <span class='refnanny'>__Pyx_GIVEREF</span>(__pyx_slice__12);\n",
        "  __pyx_slice__13 = <span class='py_c_api'>PySlice_New</span>(Py_None, Py_None, Py_None);<span class='error_goto'> if (unlikely(!__pyx_slice__13)) {__pyx_filename = __pyx_f[0]; __pyx_lineno = 57; __pyx_clineno = __LINE__; goto __pyx_L1_error;}</span>\n",
        "  <span class='refnanny'>__Pyx_GOTREF</span>(__pyx_slice__13);\n",
        "  <span class='refnanny'>__Pyx_GIVEREF</span>(__pyx_slice__13);\n",
        "  __pyx_t_7 = <span class='py_c_api'>PyObject_GetItem</span>(__pyx_v_nbrTable, __pyx_tuple__14);<span class='error_goto'> if (unlikely(__pyx_t_7 == NULL)) {__pyx_filename = __pyx_f[0]; __pyx_lineno = 57; __pyx_clineno = __LINE__; goto __pyx_L1_error;}</span>;\n",
        "  <span class='refnanny'>__Pyx_GOTREF</span>(__pyx_t_7);\n",
        "  __pyx_t_2 = NULL;\n",
        "  if (CYTHON_COMPILING_IN_CPYTHON &amp;&amp; unlikely(<span class='py_c_api'>PyMethod_Check</span>(__pyx_t_4))) {\n",
        "    __pyx_t_2 = <span class='py_macro_api'>PyMethod_GET_SELF</span>(__pyx_t_4);\n",
        "    if (likely(__pyx_t_2)) {\n",
        "      PyObject* function = <span class='py_macro_api'>PyMethod_GET_FUNCTION</span>(__pyx_t_4);\n",
        "      <span class='pyx_macro_api'>__Pyx_INCREF</span>(__pyx_t_2);\n",
        "      <span class='pyx_macro_api'>__Pyx_INCREF</span>(function);\n",
        "      <span class='pyx_macro_api'>__Pyx_DECREF_SET</span>(__pyx_t_4, function);\n",
        "    }\n",
        "  }\n",
        "  if (!__pyx_t_2) {\n",
        "    __pyx_t_5 = <span class='pyx_c_api'>__Pyx_PyObject_CallOneArg</span>(__pyx_t_4, __pyx_t_7);<span class='error_goto'> if (unlikely(!__pyx_t_5)) {__pyx_filename = __pyx_f[0]; __pyx_lineno = 57; __pyx_clineno = __LINE__; goto __pyx_L1_error;}</span>\n",
        "    <span class='pyx_macro_api'>__Pyx_DECREF</span>(__pyx_t_7); __pyx_t_7 = 0;\n",
        "    <span class='refnanny'>__Pyx_GOTREF</span>(__pyx_t_5);\n",
        "  } else {\n",
        "    __pyx_t_1 = <span class='py_c_api'>PyTuple_New</span>(1+1);<span class='error_goto'> if (unlikely(!__pyx_t_1)) {__pyx_filename = __pyx_f[0]; __pyx_lineno = 57; __pyx_clineno = __LINE__; goto __pyx_L1_error;}</span>\n",
        "    <span class='refnanny'>__Pyx_GOTREF</span>(__pyx_t_1);\n",
        "    <span class='py_macro_api'>PyTuple_SET_ITEM</span>(__pyx_t_1, 0, __pyx_t_2); <span class='refnanny'>__Pyx_GIVEREF</span>(__pyx_t_2); __pyx_t_2 = NULL;\n",
        "    <span class='py_macro_api'>PyTuple_SET_ITEM</span>(__pyx_t_1, 0+1, __pyx_t_7);\n",
        "    <span class='refnanny'>__Pyx_GIVEREF</span>(__pyx_t_7);\n",
        "    __pyx_t_7 = 0;\n",
        "    __pyx_t_5 = <span class='pyx_c_api'>__Pyx_PyObject_Call</span>(__pyx_t_4, __pyx_t_1, NULL);<span class='error_goto'> if (unlikely(!__pyx_t_5)) {__pyx_filename = __pyx_f[0]; __pyx_lineno = 57; __pyx_clineno = __LINE__; goto __pyx_L1_error;}</span>\n",
        "    <span class='refnanny'>__Pyx_GOTREF</span>(__pyx_t_5);\n",
        "    <span class='pyx_macro_api'>__Pyx_DECREF</span>(__pyx_t_1); __pyx_t_1 = 0;\n",
        "  }\n",
        "  <span class='pyx_macro_api'>__Pyx_DECREF</span>(__pyx_t_4); __pyx_t_4 = 0;\n",
        "  __pyx_t_4 = <span class='pyx_c_api'>__Pyx_PyObject_GetAttrStr</span>(__pyx_t_5, __pyx_n_s_astype);<span class='error_goto'> if (unlikely(!__pyx_t_4)) {__pyx_filename = __pyx_f[0]; __pyx_lineno = 57; __pyx_clineno = __LINE__; goto __pyx_L1_error;}</span>\n",
        "  <span class='refnanny'>__Pyx_GOTREF</span>(__pyx_t_4);\n",
        "  <span class='pyx_macro_api'>__Pyx_DECREF</span>(__pyx_t_5); __pyx_t_5 = 0;\n",
        "  __pyx_t_5 = <span class='pyx_c_api'>__Pyx_GetModuleGlobalName</span>(__pyx_n_s_np);<span class='error_goto'> if (unlikely(!__pyx_t_5)) {__pyx_filename = __pyx_f[0]; __pyx_lineno = 57; __pyx_clineno = __LINE__; goto __pyx_L1_error;}</span>\n",
        "  <span class='refnanny'>__Pyx_GOTREF</span>(__pyx_t_5);\n",
        "  __pyx_t_1 = <span class='pyx_c_api'>__Pyx_PyObject_GetAttrStr</span>(__pyx_t_5, __pyx_n_s_int32);<span class='error_goto'> if (unlikely(!__pyx_t_1)) {__pyx_filename = __pyx_f[0]; __pyx_lineno = 57; __pyx_clineno = __LINE__; goto __pyx_L1_error;}</span>\n",
        "  <span class='refnanny'>__Pyx_GOTREF</span>(__pyx_t_1);\n",
        "  <span class='pyx_macro_api'>__Pyx_DECREF</span>(__pyx_t_5); __pyx_t_5 = 0;\n",
        "  __pyx_t_5 = NULL;\n",
        "  if (CYTHON_COMPILING_IN_CPYTHON &amp;&amp; likely(<span class='py_c_api'>PyMethod_Check</span>(__pyx_t_4))) {\n",
        "    __pyx_t_5 = <span class='py_macro_api'>PyMethod_GET_SELF</span>(__pyx_t_4);\n",
        "    if (likely(__pyx_t_5)) {\n",
        "      PyObject* function = <span class='py_macro_api'>PyMethod_GET_FUNCTION</span>(__pyx_t_4);\n",
        "      <span class='pyx_macro_api'>__Pyx_INCREF</span>(__pyx_t_5);\n",
        "      <span class='pyx_macro_api'>__Pyx_INCREF</span>(function);\n",
        "      <span class='pyx_macro_api'>__Pyx_DECREF_SET</span>(__pyx_t_4, function);\n",
        "    }\n",
        "  }\n",
        "  if (!__pyx_t_5) {\n",
        "    __pyx_t_3 = <span class='pyx_c_api'>__Pyx_PyObject_CallOneArg</span>(__pyx_t_4, __pyx_t_1);<span class='error_goto'> if (unlikely(!__pyx_t_3)) {__pyx_filename = __pyx_f[0]; __pyx_lineno = 57; __pyx_clineno = __LINE__; goto __pyx_L1_error;}</span>\n",
        "    <span class='pyx_macro_api'>__Pyx_DECREF</span>(__pyx_t_1); __pyx_t_1 = 0;\n",
        "    <span class='refnanny'>__Pyx_GOTREF</span>(__pyx_t_3);\n",
        "  } else {\n",
        "    __pyx_t_7 = <span class='py_c_api'>PyTuple_New</span>(1+1);<span class='error_goto'> if (unlikely(!__pyx_t_7)) {__pyx_filename = __pyx_f[0]; __pyx_lineno = 57; __pyx_clineno = __LINE__; goto __pyx_L1_error;}</span>\n",
        "    <span class='refnanny'>__Pyx_GOTREF</span>(__pyx_t_7);\n",
        "    <span class='py_macro_api'>PyTuple_SET_ITEM</span>(__pyx_t_7, 0, __pyx_t_5); <span class='refnanny'>__Pyx_GIVEREF</span>(__pyx_t_5); __pyx_t_5 = NULL;\n",
        "    <span class='py_macro_api'>PyTuple_SET_ITEM</span>(__pyx_t_7, 0+1, __pyx_t_1);\n",
        "    <span class='refnanny'>__Pyx_GIVEREF</span>(__pyx_t_1);\n",
        "    __pyx_t_1 = 0;\n",
        "    __pyx_t_3 = <span class='pyx_c_api'>__Pyx_PyObject_Call</span>(__pyx_t_4, __pyx_t_7, NULL);<span class='error_goto'> if (unlikely(!__pyx_t_3)) {__pyx_filename = __pyx_f[0]; __pyx_lineno = 57; __pyx_clineno = __LINE__; goto __pyx_L1_error;}</span>\n",
        "    <span class='refnanny'>__Pyx_GOTREF</span>(__pyx_t_3);\n",
        "    <span class='pyx_macro_api'>__Pyx_DECREF</span>(__pyx_t_7); __pyx_t_7 = 0;\n",
        "  }\n",
        "  <span class='pyx_macro_api'>__Pyx_DECREF</span>(__pyx_t_4); __pyx_t_4 = 0;\n",
        "  __pyx_t_8 = <span class='pyx_c_api'>__Pyx_PyObject_to_MemoryviewSlice_d_dc_int</span>(__pyx_t_3);\n",
        "  if (unlikely(!__pyx_t_8.memview)) <span class='error_goto'>{__pyx_filename = __pyx_f[0]; __pyx_lineno = 57; __pyx_clineno = __LINE__; goto __pyx_L1_error;}</span>\n",
        "  <span class='pyx_macro_api'>__Pyx_DECREF</span>(__pyx_t_3); __pyx_t_3 = 0;\n",
        "  __pyx_v_nbrIntCoords = __pyx_t_8;\n",
        "  __pyx_t_8.memview = NULL;\n",
        "  __pyx_t_8.data = NULL;\n",
        "  __pyx_tuple__14 = <span class='py_c_api'>PyTuple_Pack</span>(2, __pyx_slice__12, __pyx_slice__13);<span class='error_goto'> if (unlikely(!__pyx_tuple__14)) {__pyx_filename = __pyx_f[0]; __pyx_lineno = 57; __pyx_clineno = __LINE__; goto __pyx_L1_error;}</span>\n",
        "  <span class='refnanny'>__Pyx_GOTREF</span>(__pyx_tuple__14);\n",
        "  <span class='refnanny'>__Pyx_GIVEREF</span>(__pyx_tuple__14);\n",
        "</pre><pre class='cython line score-0'>&#xA0;058: </pre>\n",
        "<pre class='cython line score-0' onclick='toggleDiv(this)'>+059:     <span class=\"n\">filledCells</span> <span class=\"o\">=</span> <span class=\"mf\">0</span></pre>\n",
        "<pre class='cython code score-0'>  __pyx_v_filledCells = 0;\n",
        "</pre><pre class='cython line score-0' onclick='toggleDiv(this)'>+060:     <span class=\"n\">failedFills</span> <span class=\"o\">=</span> <span class=\"mf\">0</span></pre>\n",
        "<pre class='cython code score-0'>  __pyx_v_failedFills = 0;\n",
        "</pre><pre class='cython line score-0' onclick='toggleDiv(this)'>+061:     <span class=\"n\">clippedCells</span> <span class=\"o\">=</span> <span class=\"mf\">0</span></pre>\n",
        "<pre class='cython code score-0'>  __pyx_v_clippedCells = 0;\n",
        "</pre><pre class='cython line score-0'>&#xA0;062: </pre>\n",
        "<pre class='cython line score-32' onclick='toggleDiv(this)'>+063:     <span class=\"n\">failedLocs</span> <span class=\"o\">=</span> <span class=\"n\">np</span><span class=\"o\">.</span><span class=\"n\">zeros_like</span><span class=\"p\">(</span><span class=\"n\">lsMask</span><span class=\"p\">)</span></pre>\n",
        "<pre class='cython code score-32'>  __pyx_t_4 = <span class='pyx_c_api'>__Pyx_GetModuleGlobalName</span>(__pyx_n_s_np);<span class='error_goto'> if (unlikely(!__pyx_t_4)) {__pyx_filename = __pyx_f[0]; __pyx_lineno = 63; __pyx_clineno = __LINE__; goto __pyx_L1_error;}</span>\n",
        "  <span class='refnanny'>__Pyx_GOTREF</span>(__pyx_t_4);\n",
        "  __pyx_t_7 = <span class='pyx_c_api'>__Pyx_PyObject_GetAttrStr</span>(__pyx_t_4, __pyx_n_s_zeros_like);<span class='error_goto'> if (unlikely(!__pyx_t_7)) {__pyx_filename = __pyx_f[0]; __pyx_lineno = 63; __pyx_clineno = __LINE__; goto __pyx_L1_error;}</span>\n",
        "  <span class='refnanny'>__Pyx_GOTREF</span>(__pyx_t_7);\n",
        "  <span class='pyx_macro_api'>__Pyx_DECREF</span>(__pyx_t_4); __pyx_t_4 = 0;\n",
        "  __pyx_t_4 = __pyx_memoryview_fromslice(__pyx_v_lsMask, 2, (PyObject *(*)(char *)) __pyx_memview_get_char, (int (*)(char *, PyObject *)) __pyx_memview_set_char, 0);;<span class='error_goto'> if (unlikely(!__pyx_t_4)) {__pyx_filename = __pyx_f[0]; __pyx_lineno = 63; __pyx_clineno = __LINE__; goto __pyx_L1_error;}</span>\n",
        "  <span class='refnanny'>__Pyx_GOTREF</span>(__pyx_t_4);\n",
        "  __pyx_t_1 = NULL;\n",
        "  if (CYTHON_COMPILING_IN_CPYTHON &amp;&amp; unlikely(<span class='py_c_api'>PyMethod_Check</span>(__pyx_t_7))) {\n",
        "    __pyx_t_1 = <span class='py_macro_api'>PyMethod_GET_SELF</span>(__pyx_t_7);\n",
        "    if (likely(__pyx_t_1)) {\n",
        "      PyObject* function = <span class='py_macro_api'>PyMethod_GET_FUNCTION</span>(__pyx_t_7);\n",
        "      <span class='pyx_macro_api'>__Pyx_INCREF</span>(__pyx_t_1);\n",
        "      <span class='pyx_macro_api'>__Pyx_INCREF</span>(function);\n",
        "      <span class='pyx_macro_api'>__Pyx_DECREF_SET</span>(__pyx_t_7, function);\n",
        "    }\n",
        "  }\n",
        "  if (!__pyx_t_1) {\n",
        "    __pyx_t_3 = <span class='pyx_c_api'>__Pyx_PyObject_CallOneArg</span>(__pyx_t_7, __pyx_t_4);<span class='error_goto'> if (unlikely(!__pyx_t_3)) {__pyx_filename = __pyx_f[0]; __pyx_lineno = 63; __pyx_clineno = __LINE__; goto __pyx_L1_error;}</span>\n",
        "    <span class='pyx_macro_api'>__Pyx_DECREF</span>(__pyx_t_4); __pyx_t_4 = 0;\n",
        "    <span class='refnanny'>__Pyx_GOTREF</span>(__pyx_t_3);\n",
        "  } else {\n",
        "    __pyx_t_5 = <span class='py_c_api'>PyTuple_New</span>(1+1);<span class='error_goto'> if (unlikely(!__pyx_t_5)) {__pyx_filename = __pyx_f[0]; __pyx_lineno = 63; __pyx_clineno = __LINE__; goto __pyx_L1_error;}</span>\n",
        "    <span class='refnanny'>__Pyx_GOTREF</span>(__pyx_t_5);\n",
        "    <span class='py_macro_api'>PyTuple_SET_ITEM</span>(__pyx_t_5, 0, __pyx_t_1); <span class='refnanny'>__Pyx_GIVEREF</span>(__pyx_t_1); __pyx_t_1 = NULL;\n",
        "    <span class='py_macro_api'>PyTuple_SET_ITEM</span>(__pyx_t_5, 0+1, __pyx_t_4);\n",
        "    <span class='refnanny'>__Pyx_GIVEREF</span>(__pyx_t_4);\n",
        "    __pyx_t_4 = 0;\n",
        "    __pyx_t_3 = <span class='pyx_c_api'>__Pyx_PyObject_Call</span>(__pyx_t_7, __pyx_t_5, NULL);<span class='error_goto'> if (unlikely(!__pyx_t_3)) {__pyx_filename = __pyx_f[0]; __pyx_lineno = 63; __pyx_clineno = __LINE__; goto __pyx_L1_error;}</span>\n",
        "    <span class='refnanny'>__Pyx_GOTREF</span>(__pyx_t_3);\n",
        "    <span class='pyx_macro_api'>__Pyx_DECREF</span>(__pyx_t_5); __pyx_t_5 = 0;\n",
        "  }\n",
        "  <span class='pyx_macro_api'>__Pyx_DECREF</span>(__pyx_t_7); __pyx_t_7 = 0;\n",
        "  __pyx_t_9 = <span class='pyx_c_api'>__Pyx_PyObject_to_MemoryviewSlice_d_dc_char</span>(__pyx_t_3);\n",
        "  if (unlikely(!__pyx_t_9.memview)) <span class='error_goto'>{__pyx_filename = __pyx_f[0]; __pyx_lineno = 63; __pyx_clineno = __LINE__; goto __pyx_L1_error;}</span>\n",
        "  <span class='pyx_macro_api'>__Pyx_DECREF</span>(__pyx_t_3); __pyx_t_3 = 0;\n",
        "  __pyx_v_failedLocs = __pyx_t_9;\n",
        "  __pyx_t_9.memview = NULL;\n",
        "  __pyx_t_9.data = NULL;\n",
        "</pre><pre class='cython line score-0'>&#xA0;064: </pre>\n",
        "<pre class='cython line score-0' onclick='toggleDiv(this)'>+065:     <span class=\"k\">if</span> <span class=\"n\">applyClip</span><span class=\"p\">:</span></pre>\n",
        "<pre class='cython code score-0'>  __pyx_t_10 = (__pyx_v_applyClip != 0);\n",
        "  if (__pyx_t_10) {\n",
        "</pre><pre class='cython line score-0' onclick='toggleDiv(this)'>+066:         <span class=\"k\">for</span> <span class=\"n\">yIn</span> <span class=\"ow\">in</span> <span class=\"nb\">range</span> <span class=\"p\">(</span><span class=\"n\">yShapeIn</span><span class=\"p\">):</span></pre>\n",
        "<pre class='cython code score-0'>    __pyx_t_6 = __pyx_v_yShapeIn;\n",
        "    for (__pyx_t_11 = 0; __pyx_t_11 &lt; __pyx_t_6; __pyx_t_11+=1) {\n",
        "      __pyx_v_yIn = __pyx_t_11;\n",
        "</pre><pre class='cython line score-0' onclick='toggleDiv(this)'>+067:             <span class=\"k\">for</span> <span class=\"n\">xIn</span> <span class=\"ow\">in</span> <span class=\"nb\">range</span> <span class=\"p\">(</span><span class=\"n\">xShapeIn</span><span class=\"p\">):</span></pre>\n",
        "<pre class='cython code score-0'>      __pyx_t_12 = __pyx_v_xShapeIn;\n",
        "      for (__pyx_t_13 = 0; __pyx_t_13 &lt; __pyx_t_12; __pyx_t_13+=1) {\n",
        "        __pyx_v_xIn = __pyx_t_13;\n",
        "</pre><pre class='cython line score-2' onclick='toggleDiv(this)'>+068:                 <span class=\"k\">if</span> <span class=\"n\">lsMask</span><span class=\"p\">[</span><span class=\"n\">yIn</span><span class=\"p\">,</span> <span class=\"n\">xIn</span><span class=\"p\">]</span> <span class=\"o\">==</span> <span class=\"mf\">0</span><span class=\"p\">:</span></pre>\n",
        "<pre class='cython code score-2'>        __pyx_t_14 = __pyx_v_yIn;\n",
        "        __pyx_t_15 = __pyx_v_xIn;\n",
        "        __pyx_t_16 = -1;\n",
        "        if (__pyx_t_14 &lt; 0) {\n",
        "          __pyx_t_14 += __pyx_v_lsMask.shape[0];\n",
        "          if (unlikely(__pyx_t_14 &lt; 0)) __pyx_t_16 = 0;\n",
        "        } else if (unlikely(__pyx_t_14 &gt;= __pyx_v_lsMask.shape[0])) __pyx_t_16 = 0;\n",
        "        if (__pyx_t_15 &lt; 0) {\n",
        "          __pyx_t_15 += __pyx_v_lsMask.shape[1];\n",
        "          if (unlikely(__pyx_t_15 &lt; 0)) __pyx_t_16 = 1;\n",
        "        } else if (unlikely(__pyx_t_15 &gt;= __pyx_v_lsMask.shape[1])) __pyx_t_16 = 1;\n",
        "        if (unlikely(__pyx_t_16 != -1)) {\n",
        "          <span class='pyx_c_api'>__Pyx_RaiseBufferIndexError</span>(__pyx_t_16);\n",
        "          <span class='error_goto'>{__pyx_filename = __pyx_f[0]; __pyx_lineno = 68; __pyx_clineno = __LINE__; goto __pyx_L1_error;}</span>\n",
        "        }\n",
        "        __pyx_t_10 = (((*((char *) ( /* dim=1 */ ((char *) (((char *) ( /* dim=0 */ (__pyx_v_lsMask.data + __pyx_t_14 * __pyx_v_lsMask.strides[0]) )) + __pyx_t_15)) ))) == 0) != 0);\n",
        "        if (__pyx_t_10) {\n",
        "</pre><pre class='cython line score-2' onclick='toggleDiv(this)'>+069:                     <span class=\"k\">if</span> <span class=\"n\">data</span><span class=\"p\">[</span><span class=\"n\">yIn</span><span class=\"p\">,</span> <span class=\"n\">xIn</span><span class=\"p\">]</span> <span class=\"o\">!=</span> <span class=\"n\">_NDV</span><span class=\"p\">:</span></pre>\n",
        "<pre class='cython code score-2'>          __pyx_t_17 = __pyx_v_yIn;\n",
        "          __pyx_t_18 = __pyx_v_xIn;\n",
        "          __pyx_t_16 = -1;\n",
        "          if (__pyx_t_17 &lt; 0) {\n",
        "            __pyx_t_17 += __pyx_v_data.shape[0];\n",
        "            if (unlikely(__pyx_t_17 &lt; 0)) __pyx_t_16 = 0;\n",
        "          } else if (unlikely(__pyx_t_17 &gt;= __pyx_v_data.shape[0])) __pyx_t_16 = 0;\n",
        "          if (__pyx_t_18 &lt; 0) {\n",
        "            __pyx_t_18 += __pyx_v_data.shape[1];\n",
        "            if (unlikely(__pyx_t_18 &lt; 0)) __pyx_t_16 = 1;\n",
        "          } else if (unlikely(__pyx_t_18 &gt;= __pyx_v_data.shape[1])) __pyx_t_16 = 1;\n",
        "          if (unlikely(__pyx_t_16 != -1)) {\n",
        "            <span class='pyx_c_api'>__Pyx_RaiseBufferIndexError</span>(__pyx_t_16);\n",
        "            <span class='error_goto'>{__pyx_filename = __pyx_f[0]; __pyx_lineno = 69; __pyx_clineno = __LINE__; goto __pyx_L1_error;}</span>\n",
        "          }\n",
        "          __pyx_t_10 = (((*((float *) ( /* dim=1 */ ((char *) (((float *) ( /* dim=0 */ (__pyx_v_data.data + __pyx_t_17 * __pyx_v_data.strides[0]) )) + __pyx_t_18)) ))) != __pyx_v__NDV) != 0);\n",
        "          if (__pyx_t_10) {\n",
        "</pre><pre class='cython line score-0' onclick='toggleDiv(this)'>+070:                         <span class=\"n\">clippedCells</span> <span class=\"o\">+=</span> <span class=\"mf\">1</span></pre>\n",
        "<pre class='cython code score-0'>            __pyx_v_clippedCells = (__pyx_v_clippedCells + 1);\n",
        "</pre><pre class='cython line score-2' onclick='toggleDiv(this)'>+071:                         <span class=\"n\">data</span><span class=\"p\">[</span><span class=\"n\">yIn</span><span class=\"p\">,</span> <span class=\"n\">xIn</span><span class=\"p\">]</span> <span class=\"o\">=</span> <span class=\"n\">_NDV</span></pre>\n",
        "<pre class='cython code score-2'>            __pyx_t_19 = __pyx_v_yIn;\n",
        "            __pyx_t_20 = __pyx_v_xIn;\n",
        "            __pyx_t_16 = -1;\n",
        "            if (__pyx_t_19 &lt; 0) {\n",
        "              __pyx_t_19 += __pyx_v_data.shape[0];\n",
        "              if (unlikely(__pyx_t_19 &lt; 0)) __pyx_t_16 = 0;\n",
        "            } else if (unlikely(__pyx_t_19 &gt;= __pyx_v_data.shape[0])) __pyx_t_16 = 0;\n",
        "            if (__pyx_t_20 &lt; 0) {\n",
        "              __pyx_t_20 += __pyx_v_data.shape[1];\n",
        "              if (unlikely(__pyx_t_20 &lt; 0)) __pyx_t_16 = 1;\n",
        "            } else if (unlikely(__pyx_t_20 &gt;= __pyx_v_data.shape[1])) __pyx_t_16 = 1;\n",
        "            if (unlikely(__pyx_t_16 != -1)) {\n",
        "              <span class='pyx_c_api'>__Pyx_RaiseBufferIndexError</span>(__pyx_t_16);\n",
        "              <span class='error_goto'>{__pyx_filename = __pyx_f[0]; __pyx_lineno = 71; __pyx_clineno = __LINE__; goto __pyx_L1_error;}</span>\n",
        "            }\n",
        "            *((float *) ( /* dim=1 */ ((char *) (((float *) ( /* dim=0 */ (__pyx_v_data.data + __pyx_t_19 * __pyx_v_data.strides[0]) )) + __pyx_t_20)) )) = __pyx_v__NDV;\n",
        "            goto __pyx_L9;\n",
        "          }\n",
        "          __pyx_L9:;\n",
        "          goto __pyx_L8;\n",
        "        }\n",
        "        __pyx_L8:;\n",
        "      }\n",
        "    }\n",
        "    goto __pyx_L3;\n",
        "  }\n",
        "  __pyx_L3:;\n",
        "</pre><pre class='cython line score-0'>&#xA0;072: </pre>\n",
        "<pre class='cython line score-0' onclick='toggleDiv(this)'>+073:     <span class=\"k\">if</span> <span class=\"n\">applyFill</span><span class=\"p\">:</span></pre>\n",
        "<pre class='cython code score-0'>  __pyx_t_10 = (__pyx_v_applyFill != 0);\n",
        "  if (__pyx_t_10) {\n",
        "</pre><pre class='cython line score-0' onclick='toggleDiv(this)'>+074:         <span class=\"k\">for</span> <span class=\"n\">yIn</span> <span class=\"ow\">in</span> <span class=\"nb\">range</span><span class=\"p\">(</span><span class=\"n\">yShapeIn</span><span class=\"p\">):</span></pre>\n",
        "<pre class='cython code score-0'>    __pyx_t_6 = __pyx_v_yShapeIn;\n",
        "    for (__pyx_t_11 = 0; __pyx_t_11 &lt; __pyx_t_6; __pyx_t_11+=1) {\n",
        "      __pyx_v_yIn = __pyx_t_11;\n",
        "</pre><pre class='cython line score-0' onclick='toggleDiv(this)'>+075:             <span class=\"k\">for</span> <span class=\"n\">xIn</span> <span class=\"ow\">in</span> <span class=\"nb\">range</span><span class=\"p\">(</span><span class=\"n\">xShapeIn</span><span class=\"p\">):</span></pre>\n",
        "<pre class='cython code score-0'>      __pyx_t_12 = __pyx_v_xShapeIn;\n",
        "      for (__pyx_t_13 = 0; __pyx_t_13 &lt; __pyx_t_12; __pyx_t_13+=1) {\n",
        "        __pyx_v_xIn = __pyx_t_13;\n",
        "</pre><pre class='cython line score-4' onclick='toggleDiv(this)'>+076:                 <span class=\"k\">if</span> <span class=\"n\">lsMask</span><span class=\"p\">[</span><span class=\"n\">yIn</span><span class=\"p\">,</span> <span class=\"n\">xIn</span><span class=\"p\">]</span> <span class=\"o\">==</span> <span class=\"mf\">0</span> <span class=\"ow\">or</span> <span class=\"n\">data</span><span class=\"p\">[</span><span class=\"n\">yIn</span><span class=\"p\">,</span><span class=\"n\">xIn</span><span class=\"p\">]</span> <span class=\"o\">!=</span> <span class=\"n\">_NDV</span><span class=\"p\">:</span></pre>\n",
        "<pre class='cython code score-4'>        __pyx_t_21 = __pyx_v_yIn;\n",
        "        __pyx_t_22 = __pyx_v_xIn;\n",
        "        __pyx_t_16 = -1;\n",
        "        if (__pyx_t_21 &lt; 0) {\n",
        "          __pyx_t_21 += __pyx_v_lsMask.shape[0];\n",
        "          if (unlikely(__pyx_t_21 &lt; 0)) __pyx_t_16 = 0;\n",
        "        } else if (unlikely(__pyx_t_21 &gt;= __pyx_v_lsMask.shape[0])) __pyx_t_16 = 0;\n",
        "        if (__pyx_t_22 &lt; 0) {\n",
        "          __pyx_t_22 += __pyx_v_lsMask.shape[1];\n",
        "          if (unlikely(__pyx_t_22 &lt; 0)) __pyx_t_16 = 1;\n",
        "        } else if (unlikely(__pyx_t_22 &gt;= __pyx_v_lsMask.shape[1])) __pyx_t_16 = 1;\n",
        "        if (unlikely(__pyx_t_16 != -1)) {\n",
        "          <span class='pyx_c_api'>__Pyx_RaiseBufferIndexError</span>(__pyx_t_16);\n",
        "          <span class='error_goto'>{__pyx_filename = __pyx_f[0]; __pyx_lineno = 76; __pyx_clineno = __LINE__; goto __pyx_L1_error;}</span>\n",
        "        }\n",
        "        __pyx_t_23 = (((*((char *) ( /* dim=1 */ ((char *) (((char *) ( /* dim=0 */ (__pyx_v_lsMask.data + __pyx_t_21 * __pyx_v_lsMask.strides[0]) )) + __pyx_t_22)) ))) == 0) != 0);\n",
        "        if (!__pyx_t_23) {\n",
        "        } else {\n",
        "          __pyx_t_10 = __pyx_t_23;\n",
        "          goto __pyx_L16_bool_binop_done;\n",
        "        }\n",
        "        __pyx_t_24 = __pyx_v_yIn;\n",
        "        __pyx_t_25 = __pyx_v_xIn;\n",
        "        __pyx_t_16 = -1;\n",
        "        if (__pyx_t_24 &lt; 0) {\n",
        "          __pyx_t_24 += __pyx_v_data.shape[0];\n",
        "          if (unlikely(__pyx_t_24 &lt; 0)) __pyx_t_16 = 0;\n",
        "        } else if (unlikely(__pyx_t_24 &gt;= __pyx_v_data.shape[0])) __pyx_t_16 = 0;\n",
        "        if (__pyx_t_25 &lt; 0) {\n",
        "          __pyx_t_25 += __pyx_v_data.shape[1];\n",
        "          if (unlikely(__pyx_t_25 &lt; 0)) __pyx_t_16 = 1;\n",
        "        } else if (unlikely(__pyx_t_25 &gt;= __pyx_v_data.shape[1])) __pyx_t_16 = 1;\n",
        "        if (unlikely(__pyx_t_16 != -1)) {\n",
        "          <span class='pyx_c_api'>__Pyx_RaiseBufferIndexError</span>(__pyx_t_16);\n",
        "          <span class='error_goto'>{__pyx_filename = __pyx_f[0]; __pyx_lineno = 76; __pyx_clineno = __LINE__; goto __pyx_L1_error;}</span>\n",
        "        }\n",
        "        __pyx_t_23 = (((*((float *) ( /* dim=1 */ ((char *) (((float *) ( /* dim=0 */ (__pyx_v_data.data + __pyx_t_24 * __pyx_v_data.strides[0]) )) + __pyx_t_25)) ))) != __pyx_v__NDV) != 0);\n",
        "        __pyx_t_10 = __pyx_t_23;\n",
        "        __pyx_L16_bool_binop_done:;\n",
        "        if (__pyx_t_10) {\n",
        "</pre><pre class='cython line score-0'>&#xA0;077:                     <span class=\"c\"># there is nothing to do as we are in sea or the data are good</span></pre>\n",
        "<pre class='cython line score-0' onclick='toggleDiv(this)'>+078:                     <span class=\"k\">continue</span></pre>\n",
        "<pre class='cython code score-0'>          goto __pyx_L13_continue;\n",
        "        }\n",
        "</pre><pre class='cython line score-0'>&#xA0;079:                 <span class=\"c\"># otherwise we are on land but nodata. Find nearest data to reallocate it</span></pre>\n",
        "<pre class='cython line score-0' onclick='toggleDiv(this)'>+080:                 <span class=\"n\">reallocatedOK</span> <span class=\"o\">=</span> <span class=\"mf\">0</span></pre>\n",
        "<pre class='cython code score-0'>        __pyx_v_reallocatedOK = 0;\n",
        "</pre><pre class='cython line score-0' onclick='toggleDiv(this)'>+081:                 <span class=\"n\">reallocationCount_prv</span> <span class=\"o\">=</span> <span class=\"mf\">0</span></pre>\n",
        "<pre class='cython code score-0'>        __pyx_v_reallocationCount_prv = 0;\n",
        "</pre><pre class='cython line score-0' onclick='toggleDiv(this)'>+082:                 <span class=\"n\">reallocationSum_prv</span> <span class=\"o\">=</span> <span class=\"mf\">0</span></pre>\n",
        "<pre class='cython code score-0'>        __pyx_v_reallocationSum_prv = 0.0;\n",
        "</pre><pre class='cython line score-0' onclick='toggleDiv(this)'>+083:                 <span class=\"k\">for</span> <span class=\"n\">nbrIndex_prv</span> <span class=\"ow\">in</span> <span class=\"nb\">range</span><span class=\"p\">(</span><span class=\"mf\">1</span><span class=\"p\">,</span> <span class=\"n\">_MAX_NEIGHBOURS_TO_CHECK</span><span class=\"p\">):</span></pre>\n",
        "<pre class='cython code score-0'>        __pyx_t_16 = __pyx_v__MAX_NEIGHBOURS_TO_CHECK;\n",
        "        for (__pyx_t_26 = 1; __pyx_t_26 &lt; __pyx_t_16; __pyx_t_26+=1) {\n",
        "          __pyx_v_nbrIndex_prv = __pyx_t_26;\n",
        "</pre><pre class='cython line score-0' onclick='toggleDiv(this)'>+084:                     <span class=\"k\">if</span> <span class=\"n\">reallocationCount_prv</span> <span class=\"o\">==</span> <span class=\"n\">nearestNPixels</span><span class=\"p\">:</span></pre>\n",
        "<pre class='cython code score-0'>          __pyx_t_10 = ((__pyx_v_reallocationCount_prv == __pyx_v_nearestNPixels) != 0);\n",
        "          if (__pyx_t_10) {\n",
        "</pre><pre class='cython line score-0' onclick='toggleDiv(this)'>+085:                         <span class=\"k\">break</span></pre>\n",
        "<pre class='cython code score-0'>            goto __pyx_L19_break;\n",
        "          }\n",
        "</pre><pre class='cython line score-0'>&#xA0;086:                     <span class=\"c\"># use int-type coords array to avoid cast op in tight loop</span></pre>\n",
        "<pre class='cython line score-2' onclick='toggleDiv(this)'>+087:                     <span class=\"n\">xNbr</span> <span class=\"o\">=</span> <span class=\"n\">xIn</span> <span class=\"o\">+</span> <span class=\"n\">nbrIntCoords</span><span class=\"p\">[</span><span class=\"mf\">0</span><span class=\"p\">,</span> <span class=\"n\">nbrIndex_prv</span><span class=\"p\">]</span></pre>\n",
        "<pre class='cython code score-2'>          __pyx_t_27 = 0;\n",
        "          __pyx_t_28 = __pyx_v_nbrIndex_prv;\n",
        "          __pyx_t_29 = -1;\n",
        "          if (__pyx_t_27 &lt; 0) {\n",
        "            __pyx_t_27 += __pyx_v_nbrIntCoords.shape[0];\n",
        "            if (unlikely(__pyx_t_27 &lt; 0)) __pyx_t_29 = 0;\n",
        "          } else if (unlikely(__pyx_t_27 &gt;= __pyx_v_nbrIntCoords.shape[0])) __pyx_t_29 = 0;\n",
        "          if (__pyx_t_28 &lt; 0) {\n",
        "            __pyx_t_28 += __pyx_v_nbrIntCoords.shape[1];\n",
        "            if (unlikely(__pyx_t_28 &lt; 0)) __pyx_t_29 = 1;\n",
        "          } else if (unlikely(__pyx_t_28 &gt;= __pyx_v_nbrIntCoords.shape[1])) __pyx_t_29 = 1;\n",
        "          if (unlikely(__pyx_t_29 != -1)) {\n",
        "            <span class='pyx_c_api'>__Pyx_RaiseBufferIndexError</span>(__pyx_t_29);\n",
        "            <span class='error_goto'>{__pyx_filename = __pyx_f[0]; __pyx_lineno = 87; __pyx_clineno = __LINE__; goto __pyx_L1_error;}</span>\n",
        "          }\n",
        "          __pyx_v_xNbr = (__pyx_v_xIn + (*((int *) ( /* dim=1 */ ((char *) (((int *) ( /* dim=0 */ (__pyx_v_nbrIntCoords.data + __pyx_t_27 * __pyx_v_nbrIntCoords.strides[0]) )) + __pyx_t_28)) ))));\n",
        "</pre><pre class='cython line score-2' onclick='toggleDiv(this)'>+088:                     <span class=\"n\">yNbr</span> <span class=\"o\">=</span> <span class=\"n\">yIn</span> <span class=\"o\">+</span> <span class=\"n\">nbrIntCoords</span><span class=\"p\">[</span><span class=\"mf\">1</span><span class=\"p\">,</span> <span class=\"n\">nbrIndex_prv</span><span class=\"p\">]</span></pre>\n",
        "<pre class='cython code score-2'>          __pyx_t_30 = 1;\n",
        "          __pyx_t_31 = __pyx_v_nbrIndex_prv;\n",
        "          __pyx_t_29 = -1;\n",
        "          if (__pyx_t_30 &lt; 0) {\n",
        "            __pyx_t_30 += __pyx_v_nbrIntCoords.shape[0];\n",
        "            if (unlikely(__pyx_t_30 &lt; 0)) __pyx_t_29 = 0;\n",
        "          } else if (unlikely(__pyx_t_30 &gt;= __pyx_v_nbrIntCoords.shape[0])) __pyx_t_29 = 0;\n",
        "          if (__pyx_t_31 &lt; 0) {\n",
        "            __pyx_t_31 += __pyx_v_nbrIntCoords.shape[1];\n",
        "            if (unlikely(__pyx_t_31 &lt; 0)) __pyx_t_29 = 1;\n",
        "          } else if (unlikely(__pyx_t_31 &gt;= __pyx_v_nbrIntCoords.shape[1])) __pyx_t_29 = 1;\n",
        "          if (unlikely(__pyx_t_29 != -1)) {\n",
        "            <span class='pyx_c_api'>__Pyx_RaiseBufferIndexError</span>(__pyx_t_29);\n",
        "            <span class='error_goto'>{__pyx_filename = __pyx_f[0]; __pyx_lineno = 88; __pyx_clineno = __LINE__; goto __pyx_L1_error;}</span>\n",
        "          }\n",
        "          __pyx_v_yNbr = (__pyx_v_yIn + (*((int *) ( /* dim=1 */ ((char *) (((int *) ( /* dim=0 */ (__pyx_v_nbrIntCoords.data + __pyx_t_30 * __pyx_v_nbrIntCoords.strides[0]) )) + __pyx_t_31)) ))));\n",
        "</pre><pre class='cython line score-0' onclick='toggleDiv(this)'>+089:                     <span class=\"k\">if</span> <span class=\"p\">(</span><span class=\"n\">xNbr</span> <span class=\"o\">&gt;=</span> <span class=\"mf\">0</span> <span class=\"ow\">and</span> <span class=\"n\">xNbr</span> <span class=\"o\">&lt;</span> <span class=\"n\">xShapeIn</span> <span class=\"ow\">and</span></pre>\n",
        "<pre class='cython code score-0'>          __pyx_t_23 = ((__pyx_v_xNbr &gt;= 0) != 0);\n",
        "          if (__pyx_t_23) {\n",
        "          } else {\n",
        "            __pyx_t_10 = __pyx_t_23;\n",
        "            goto __pyx_L22_bool_binop_done;\n",
        "          }\n",
        "          __pyx_t_23 = ((__pyx_v_xNbr &lt; __pyx_v_xShapeIn) != 0);\n",
        "          if (__pyx_t_23) {\n",
        "          } else {\n",
        "            __pyx_t_10 = __pyx_t_23;\n",
        "            goto __pyx_L22_bool_binop_done;\n",
        "          }\n",
        "</pre><pre class='cython line score-0' onclick='toggleDiv(this)'>+090:                         <span class=\"n\">yNbr</span> <span class=\"o\">&gt;=</span> <span class=\"mf\">0</span> <span class=\"ow\">and</span> <span class=\"n\">yNbr</span> <span class=\"o\">&lt;</span> <span class=\"n\">yShapeIn</span> <span class=\"ow\">and</span></pre>\n",
        "<pre class='cython code score-0'>          __pyx_t_23 = ((__pyx_v_yNbr &gt;= 0) != 0);\n",
        "          if (__pyx_t_23) {\n",
        "          } else {\n",
        "            __pyx_t_10 = __pyx_t_23;\n",
        "            goto __pyx_L22_bool_binop_done;\n",
        "          }\n",
        "          __pyx_t_23 = ((__pyx_v_yNbr &lt; __pyx_v_yShapeIn) != 0);\n",
        "          if (__pyx_t_23) {\n",
        "          } else {\n",
        "            __pyx_t_10 = __pyx_t_23;\n",
        "            goto __pyx_L22_bool_binop_done;\n",
        "          }\n",
        "</pre><pre class='cython line score-2' onclick='toggleDiv(this)'>+091:                         <span class=\"n\">data</span><span class=\"p\">[</span><span class=\"n\">yNbr</span><span class=\"p\">,</span> <span class=\"n\">xNbr</span><span class=\"p\">]</span> <span class=\"o\">!=</span> <span class=\"n\">_NDV</span><span class=\"p\">):</span></pre>\n",
        "<pre class='cython code score-2'>          __pyx_t_32 = __pyx_v_yNbr;\n",
        "          __pyx_t_33 = __pyx_v_xNbr;\n",
        "          __pyx_t_29 = -1;\n",
        "          if (__pyx_t_32 &lt; 0) {\n",
        "            __pyx_t_32 += __pyx_v_data.shape[0];\n",
        "            if (unlikely(__pyx_t_32 &lt; 0)) __pyx_t_29 = 0;\n",
        "          } else if (unlikely(__pyx_t_32 &gt;= __pyx_v_data.shape[0])) __pyx_t_29 = 0;\n",
        "          if (__pyx_t_33 &lt; 0) {\n",
        "            __pyx_t_33 += __pyx_v_data.shape[1];\n",
        "            if (unlikely(__pyx_t_33 &lt; 0)) __pyx_t_29 = 1;\n",
        "          } else if (unlikely(__pyx_t_33 &gt;= __pyx_v_data.shape[1])) __pyx_t_29 = 1;\n",
        "          if (unlikely(__pyx_t_29 != -1)) {\n",
        "            <span class='pyx_c_api'>__Pyx_RaiseBufferIndexError</span>(__pyx_t_29);\n",
        "            <span class='error_goto'>{__pyx_filename = __pyx_f[0]; __pyx_lineno = 91; __pyx_clineno = __LINE__; goto __pyx_L1_error;}</span>\n",
        "          }\n",
        "          __pyx_t_23 = (((*((float *) ( /* dim=1 */ ((char *) (((float *) ( /* dim=0 */ (__pyx_v_data.data + __pyx_t_32 * __pyx_v_data.strides[0]) )) + __pyx_t_33)) ))) != __pyx_v__NDV) != 0);\n",
        "          __pyx_t_10 = __pyx_t_23;\n",
        "          __pyx_L22_bool_binop_done:;\n",
        "          if (__pyx_t_10) {\n",
        "</pre><pre class='cython line score-0'>&#xA0;092:                         <span class=\"c\"># NB we allow a sea pixel with data to supply a fill value</span></pre>\n",
        "<pre class='cython line score-0'>&#xA0;093:                         <span class=\"c\"># unless they have been clipped out previously</span></pre>\n",
        "<pre class='cython line score-2' onclick='toggleDiv(this)'>+094:                         <span class=\"n\">reallocationSum_prv</span> <span class=\"o\">+=</span> <span class=\"n\">data</span><span class=\"p\">[</span><span class=\"n\">yNbr</span><span class=\"p\">,</span> <span class=\"n\">xNbr</span><span class=\"p\">]</span></pre>\n",
        "<pre class='cython code score-2'>            __pyx_t_34 = __pyx_v_yNbr;\n",
        "            __pyx_t_35 = __pyx_v_xNbr;\n",
        "            __pyx_t_29 = -1;\n",
        "            if (__pyx_t_34 &lt; 0) {\n",
        "              __pyx_t_34 += __pyx_v_data.shape[0];\n",
        "              if (unlikely(__pyx_t_34 &lt; 0)) __pyx_t_29 = 0;\n",
        "            } else if (unlikely(__pyx_t_34 &gt;= __pyx_v_data.shape[0])) __pyx_t_29 = 0;\n",
        "            if (__pyx_t_35 &lt; 0) {\n",
        "              __pyx_t_35 += __pyx_v_data.shape[1];\n",
        "              if (unlikely(__pyx_t_35 &lt; 0)) __pyx_t_29 = 1;\n",
        "            } else if (unlikely(__pyx_t_35 &gt;= __pyx_v_data.shape[1])) __pyx_t_29 = 1;\n",
        "            if (unlikely(__pyx_t_29 != -1)) {\n",
        "              <span class='pyx_c_api'>__Pyx_RaiseBufferIndexError</span>(__pyx_t_29);\n",
        "              <span class='error_goto'>{__pyx_filename = __pyx_f[0]; __pyx_lineno = 94; __pyx_clineno = __LINE__; goto __pyx_L1_error;}</span>\n",
        "            }\n",
        "            __pyx_v_reallocationSum_prv = (__pyx_v_reallocationSum_prv + (*((float *) ( /* dim=1 */ ((char *) (((float *) ( /* dim=0 */ (__pyx_v_data.data + __pyx_t_34 * __pyx_v_data.strides[0]) )) + __pyx_t_35)) ))));\n",
        "</pre><pre class='cython line score-0' onclick='toggleDiv(this)'>+095:                         <span class=\"n\">reallocationCount_prv</span> <span class=\"o\">+=</span> <span class=\"mf\">1</span></pre>\n",
        "<pre class='cython code score-0'>            __pyx_v_reallocationCount_prv = (__pyx_v_reallocationCount_prv + 1);\n",
        "            goto __pyx_L21;\n",
        "          }\n",
        "          __pyx_L21:;\n",
        "        }\n",
        "        __pyx_L19_break:;\n",
        "</pre><pre class='cython line score-0' onclick='toggleDiv(this)'>+096:                 <span class=\"k\">if</span> <span class=\"n\">reallocationCount_prv</span> <span class=\"o\">&gt;</span> <span class=\"mf\">0</span><span class=\"p\">:</span></pre>\n",
        "<pre class='cython code score-0'>        __pyx_t_10 = ((__pyx_v_reallocationCount_prv &gt; 0) != 0);\n",
        "        if (__pyx_t_10) {\n",
        "</pre><pre class='cython line score-7' onclick='toggleDiv(this)'>+097:                     <span class=\"n\">data</span><span class=\"p\">[</span><span class=\"n\">yIn</span><span class=\"p\">,</span> <span class=\"n\">xIn</span><span class=\"p\">]</span> <span class=\"o\">=</span> <span class=\"n\">reallocationSum_prv</span> <span class=\"o\">/</span> <span class=\"n\">reallocationCount_prv</span></pre>\n",
        "<pre class='cython code score-7'>          if (unlikely(__pyx_v_reallocationCount_prv == 0)) {\n",
        "            #ifdef WITH_THREAD\n",
        "            PyGILState_STATE __pyx_gilstate_save = PyGILState_Ensure();\n",
        "            #endif\n",
        "            <span class='py_c_api'>PyErr_SetString</span>(PyExc_ZeroDivisionError, \"float division\");\n",
        "            #ifdef WITH_THREAD\n",
        "            PyGILState_Release(__pyx_gilstate_save);\n",
        "            #endif\n",
        "            <span class='error_goto'>{__pyx_filename = __pyx_f[0]; __pyx_lineno = 97; __pyx_clineno = __LINE__; goto __pyx_L1_error;}</span>\n",
        "          }\n",
        "          __pyx_t_26 = __pyx_v_yIn;\n",
        "          __pyx_t_36 = __pyx_v_xIn;\n",
        "          __pyx_t_16 = -1;\n",
        "          if (__pyx_t_26 &lt; 0) {\n",
        "            __pyx_t_26 += __pyx_v_data.shape[0];\n",
        "            if (unlikely(__pyx_t_26 &lt; 0)) __pyx_t_16 = 0;\n",
        "          } else if (unlikely(__pyx_t_26 &gt;= __pyx_v_data.shape[0])) __pyx_t_16 = 0;\n",
        "          if (__pyx_t_36 &lt; 0) {\n",
        "            __pyx_t_36 += __pyx_v_data.shape[1];\n",
        "            if (unlikely(__pyx_t_36 &lt; 0)) __pyx_t_16 = 1;\n",
        "          } else if (unlikely(__pyx_t_36 &gt;= __pyx_v_data.shape[1])) __pyx_t_16 = 1;\n",
        "          if (unlikely(__pyx_t_16 != -1)) {\n",
        "            <span class='pyx_c_api'>__Pyx_RaiseBufferIndexError</span>(__pyx_t_16);\n",
        "            <span class='error_goto'>{__pyx_filename = __pyx_f[0]; __pyx_lineno = 97; __pyx_clineno = __LINE__; goto __pyx_L1_error;}</span>\n",
        "          }\n",
        "          *((float *) ( /* dim=1 */ ((char *) (((float *) ( /* dim=0 */ (__pyx_v_data.data + __pyx_t_26 * __pyx_v_data.strides[0]) )) + __pyx_t_36)) )) = (__pyx_v_reallocationSum_prv / __pyx_v_reallocationCount_prv);\n",
        "</pre><pre class='cython line score-0' onclick='toggleDiv(this)'>+098:                     <span class=\"n\">filledCells</span> <span class=\"o\">+=</span> <span class=\"mf\">1</span></pre>\n",
        "<pre class='cython code score-0'>          __pyx_v_filledCells = (__pyx_v_filledCells + 1);\n",
        "          goto __pyx_L27;\n",
        "        }\n",
        "        /*else*/ {\n",
        "</pre><pre class='cython line score-0'>&#xA0;099:                 <span class=\"k\">else</span><span class=\"p\">:</span></pre>\n",
        "<pre class='cython line score-0' onclick='toggleDiv(this)'>+100:                     <span class=\"n\">failedFills</span> <span class=\"o\">+=</span> <span class=\"mf\">1</span></pre>\n",
        "<pre class='cython code score-0'>          __pyx_v_failedFills = (__pyx_v_failedFills + 1);\n",
        "</pre><pre class='cython line score-2' onclick='toggleDiv(this)'>+101:                     <span class=\"n\">failedLocs</span><span class=\"p\">[</span><span class=\"n\">yIn</span><span class=\"p\">,</span> <span class=\"n\">xIn</span><span class=\"p\">]</span> <span class=\"o\">=</span> <span class=\"mf\">1</span></pre>\n",
        "<pre class='cython code score-2'>          __pyx_t_37 = __pyx_v_yIn;\n",
        "          __pyx_t_38 = __pyx_v_xIn;\n",
        "          __pyx_t_16 = -1;\n",
        "          if (__pyx_t_37 &lt; 0) {\n",
        "            __pyx_t_37 += __pyx_v_failedLocs.shape[0];\n",
        "            if (unlikely(__pyx_t_37 &lt; 0)) __pyx_t_16 = 0;\n",
        "          } else if (unlikely(__pyx_t_37 &gt;= __pyx_v_failedLocs.shape[0])) __pyx_t_16 = 0;\n",
        "          if (__pyx_t_38 &lt; 0) {\n",
        "            __pyx_t_38 += __pyx_v_failedLocs.shape[1];\n",
        "            if (unlikely(__pyx_t_38 &lt; 0)) __pyx_t_16 = 1;\n",
        "          } else if (unlikely(__pyx_t_38 &gt;= __pyx_v_failedLocs.shape[1])) __pyx_t_16 = 1;\n",
        "          if (unlikely(__pyx_t_16 != -1)) {\n",
        "            <span class='pyx_c_api'>__Pyx_RaiseBufferIndexError</span>(__pyx_t_16);\n",
        "            <span class='error_goto'>{__pyx_filename = __pyx_f[0]; __pyx_lineno = 101; __pyx_clineno = __LINE__; goto __pyx_L1_error;}</span>\n",
        "          }\n",
        "          *((char *) ( /* dim=1 */ ((char *) (((char *) ( /* dim=0 */ (__pyx_v_failedLocs.data + __pyx_t_37 * __pyx_v_failedLocs.strides[0]) )) + __pyx_t_38)) )) = 1;\n",
        "        }\n",
        "        __pyx_L27:;\n",
        "        __pyx_L13_continue:;\n",
        "      }\n",
        "    }\n",
        "    goto __pyx_L10;\n",
        "  }\n",
        "  __pyx_L10:;\n",
        "</pre><pre class='cython line score-0'>&#xA0;102: </pre>\n",
        "<pre class='cython line score-2' onclick='toggleDiv(this)'>+103:     <span class=\"k\">print</span> <span class=\"p\">(</span><span class=\"s\">&quot;Clipped {0!s} data cells that were in sea&quot;</span><span class=\"o\">.</span><span class=\"n\">format</span><span class=\"p\">(</span></pre>\n",
        "<pre class='cython code score-2'>  __pyx_t_7 = <span class='pyx_c_api'>__Pyx_PyObject_GetAttrStr</span>(__pyx_kp_s_Clipped_0_s_data_cells_that_were, __pyx_n_s_format);<span class='error_goto'> if (unlikely(!__pyx_t_7)) {__pyx_filename = __pyx_f[0]; __pyx_lineno = 103; __pyx_clineno = __LINE__; goto __pyx_L1_error;}</span>\n",
        "  <span class='refnanny'>__Pyx_GOTREF</span>(__pyx_t_7);\n",
        "</pre><pre class='cython line score-29' onclick='toggleDiv(this)'>+104:         <span class=\"n\">clippedCells</span><span class=\"p\">))</span></pre>\n",
        "<pre class='cython code score-29'>  __pyx_t_5 = <span class='pyx_c_api'>__Pyx_PyInt_From_int</span>(__pyx_v_clippedCells);<span class='error_goto'> if (unlikely(!__pyx_t_5)) {__pyx_filename = __pyx_f[0]; __pyx_lineno = 104; __pyx_clineno = __LINE__; goto __pyx_L1_error;}</span>\n",
        "  <span class='refnanny'>__Pyx_GOTREF</span>(__pyx_t_5);\n",
        "  __pyx_t_4 = NULL;\n",
        "  if (CYTHON_COMPILING_IN_CPYTHON &amp;&amp; likely(<span class='py_c_api'>PyMethod_Check</span>(__pyx_t_7))) {\n",
        "    __pyx_t_4 = <span class='py_macro_api'>PyMethod_GET_SELF</span>(__pyx_t_7);\n",
        "    if (likely(__pyx_t_4)) {\n",
        "      PyObject* function = <span class='py_macro_api'>PyMethod_GET_FUNCTION</span>(__pyx_t_7);\n",
        "      <span class='pyx_macro_api'>__Pyx_INCREF</span>(__pyx_t_4);\n",
        "      <span class='pyx_macro_api'>__Pyx_INCREF</span>(function);\n",
        "      <span class='pyx_macro_api'>__Pyx_DECREF_SET</span>(__pyx_t_7, function);\n",
        "    }\n",
        "  }\n",
        "  if (!__pyx_t_4) {\n",
        "    __pyx_t_3 = <span class='pyx_c_api'>__Pyx_PyObject_CallOneArg</span>(__pyx_t_7, __pyx_t_5);<span class='error_goto'> if (unlikely(!__pyx_t_3)) {__pyx_filename = __pyx_f[0]; __pyx_lineno = 103; __pyx_clineno = __LINE__; goto __pyx_L1_error;}</span>\n",
        "    <span class='pyx_macro_api'>__Pyx_DECREF</span>(__pyx_t_5); __pyx_t_5 = 0;\n",
        "    <span class='refnanny'>__Pyx_GOTREF</span>(__pyx_t_3);\n",
        "  } else {\n",
        "    __pyx_t_1 = <span class='py_c_api'>PyTuple_New</span>(1+1);<span class='error_goto'> if (unlikely(!__pyx_t_1)) {__pyx_filename = __pyx_f[0]; __pyx_lineno = 103; __pyx_clineno = __LINE__; goto __pyx_L1_error;}</span>\n",
        "    <span class='refnanny'>__Pyx_GOTREF</span>(__pyx_t_1);\n",
        "    <span class='py_macro_api'>PyTuple_SET_ITEM</span>(__pyx_t_1, 0, __pyx_t_4); <span class='refnanny'>__Pyx_GIVEREF</span>(__pyx_t_4); __pyx_t_4 = NULL;\n",
        "    <span class='py_macro_api'>PyTuple_SET_ITEM</span>(__pyx_t_1, 0+1, __pyx_t_5);\n",
        "    <span class='refnanny'>__Pyx_GIVEREF</span>(__pyx_t_5);\n",
        "    __pyx_t_5 = 0;\n",
        "    __pyx_t_3 = <span class='pyx_c_api'>__Pyx_PyObject_Call</span>(__pyx_t_7, __pyx_t_1, NULL);<span class='error_goto'> if (unlikely(!__pyx_t_3)) {__pyx_filename = __pyx_f[0]; __pyx_lineno = 103; __pyx_clineno = __LINE__; goto __pyx_L1_error;}</span>\n",
        "    <span class='refnanny'>__Pyx_GOTREF</span>(__pyx_t_3);\n",
        "    <span class='pyx_macro_api'>__Pyx_DECREF</span>(__pyx_t_1); __pyx_t_1 = 0;\n",
        "  }\n",
        "  <span class='pyx_macro_api'>__Pyx_DECREF</span>(__pyx_t_7); __pyx_t_7 = 0;\n",
        "  if (<span class='pyx_c_api'>__Pyx_PrintOne</span>(0, __pyx_t_3) &lt; 0) <span class='error_goto'>{__pyx_filename = __pyx_f[0]; __pyx_lineno = 103; __pyx_clineno = __LINE__; goto __pyx_L1_error;}</span>\n",
        "  <span class='pyx_macro_api'>__Pyx_DECREF</span>(__pyx_t_3); __pyx_t_3 = 0;\n",
        "</pre><pre class='cython line score-2' onclick='toggleDiv(this)'>+105:     <span class=\"k\">print</span> <span class=\"p\">(</span><span class=\"s\">&quot;Filled {0!s} total cells from nearby data&quot;</span><span class=\"o\">.</span><span class=\"n\">format</span><span class=\"p\">(</span></pre>\n",
        "<pre class='cython code score-2'>  __pyx_t_7 = <span class='pyx_c_api'>__Pyx_PyObject_GetAttrStr</span>(__pyx_kp_s_Filled_0_s_total_cells_from_near, __pyx_n_s_format);<span class='error_goto'> if (unlikely(!__pyx_t_7)) {__pyx_filename = __pyx_f[0]; __pyx_lineno = 105; __pyx_clineno = __LINE__; goto __pyx_L1_error;}</span>\n",
        "  <span class='refnanny'>__Pyx_GOTREF</span>(__pyx_t_7);\n",
        "</pre><pre class='cython line score-29' onclick='toggleDiv(this)'>+106:         <span class=\"n\">filledCells</span><span class=\"p\">))</span></pre>\n",
        "<pre class='cython code score-29'>  __pyx_t_1 = <span class='pyx_c_api'>__Pyx_PyInt_From_int</span>(__pyx_v_filledCells);<span class='error_goto'> if (unlikely(!__pyx_t_1)) {__pyx_filename = __pyx_f[0]; __pyx_lineno = 106; __pyx_clineno = __LINE__; goto __pyx_L1_error;}</span>\n",
        "  <span class='refnanny'>__Pyx_GOTREF</span>(__pyx_t_1);\n",
        "  __pyx_t_5 = NULL;\n",
        "  if (CYTHON_COMPILING_IN_CPYTHON &amp;&amp; likely(<span class='py_c_api'>PyMethod_Check</span>(__pyx_t_7))) {\n",
        "    __pyx_t_5 = <span class='py_macro_api'>PyMethod_GET_SELF</span>(__pyx_t_7);\n",
        "    if (likely(__pyx_t_5)) {\n",
        "      PyObject* function = <span class='py_macro_api'>PyMethod_GET_FUNCTION</span>(__pyx_t_7);\n",
        "      <span class='pyx_macro_api'>__Pyx_INCREF</span>(__pyx_t_5);\n",
        "      <span class='pyx_macro_api'>__Pyx_INCREF</span>(function);\n",
        "      <span class='pyx_macro_api'>__Pyx_DECREF_SET</span>(__pyx_t_7, function);\n",
        "    }\n",
        "  }\n",
        "  if (!__pyx_t_5) {\n",
        "    __pyx_t_3 = <span class='pyx_c_api'>__Pyx_PyObject_CallOneArg</span>(__pyx_t_7, __pyx_t_1);<span class='error_goto'> if (unlikely(!__pyx_t_3)) {__pyx_filename = __pyx_f[0]; __pyx_lineno = 105; __pyx_clineno = __LINE__; goto __pyx_L1_error;}</span>\n",
        "    <span class='pyx_macro_api'>__Pyx_DECREF</span>(__pyx_t_1); __pyx_t_1 = 0;\n",
        "    <span class='refnanny'>__Pyx_GOTREF</span>(__pyx_t_3);\n",
        "  } else {\n",
        "    __pyx_t_4 = <span class='py_c_api'>PyTuple_New</span>(1+1);<span class='error_goto'> if (unlikely(!__pyx_t_4)) {__pyx_filename = __pyx_f[0]; __pyx_lineno = 105; __pyx_clineno = __LINE__; goto __pyx_L1_error;}</span>\n",
        "    <span class='refnanny'>__Pyx_GOTREF</span>(__pyx_t_4);\n",
        "    <span class='py_macro_api'>PyTuple_SET_ITEM</span>(__pyx_t_4, 0, __pyx_t_5); <span class='refnanny'>__Pyx_GIVEREF</span>(__pyx_t_5); __pyx_t_5 = NULL;\n",
        "    <span class='py_macro_api'>PyTuple_SET_ITEM</span>(__pyx_t_4, 0+1, __pyx_t_1);\n",
        "    <span class='refnanny'>__Pyx_GIVEREF</span>(__pyx_t_1);\n",
        "    __pyx_t_1 = 0;\n",
        "    __pyx_t_3 = <span class='pyx_c_api'>__Pyx_PyObject_Call</span>(__pyx_t_7, __pyx_t_4, NULL);<span class='error_goto'> if (unlikely(!__pyx_t_3)) {__pyx_filename = __pyx_f[0]; __pyx_lineno = 105; __pyx_clineno = __LINE__; goto __pyx_L1_error;}</span>\n",
        "    <span class='refnanny'>__Pyx_GOTREF</span>(__pyx_t_3);\n",
        "    <span class='pyx_macro_api'>__Pyx_DECREF</span>(__pyx_t_4); __pyx_t_4 = 0;\n",
        "  }\n",
        "  <span class='pyx_macro_api'>__Pyx_DECREF</span>(__pyx_t_7); __pyx_t_7 = 0;\n",
        "  if (<span class='pyx_c_api'>__Pyx_PrintOne</span>(0, __pyx_t_3) &lt; 0) <span class='error_goto'>{__pyx_filename = __pyx_f[0]; __pyx_lineno = 105; __pyx_clineno = __LINE__; goto __pyx_L1_error;}</span>\n",
        "  <span class='pyx_macro_api'>__Pyx_DECREF</span>(__pyx_t_3); __pyx_t_3 = 0;\n",
        "</pre><pre class='cython line score-2' onclick='toggleDiv(this)'>+107:     <span class=\"k\">print</span> <span class=\"p\">(</span><span class=\"s\">&quot;Failed to fill {0!s} total cells on land due to no data cells in range&quot;</span><span class=\"o\">.</span><span class=\"n\">format</span><span class=\"p\">(</span></pre>\n",
        "<pre class='cython code score-2'>  __pyx_t_7 = <span class='pyx_c_api'>__Pyx_PyObject_GetAttrStr</span>(__pyx_kp_s_Failed_to_fill_0_s_total_cells_o, __pyx_n_s_format);<span class='error_goto'> if (unlikely(!__pyx_t_7)) {__pyx_filename = __pyx_f[0]; __pyx_lineno = 107; __pyx_clineno = __LINE__; goto __pyx_L1_error;}</span>\n",
        "  <span class='refnanny'>__Pyx_GOTREF</span>(__pyx_t_7);\n",
        "</pre><pre class='cython line score-29' onclick='toggleDiv(this)'>+108:         <span class=\"n\">failedFills</span><span class=\"p\">))</span></pre>\n",
        "<pre class='cython code score-29'>  __pyx_t_4 = <span class='pyx_c_api'>__Pyx_PyInt_From_int</span>(__pyx_v_failedFills);<span class='error_goto'> if (unlikely(!__pyx_t_4)) {__pyx_filename = __pyx_f[0]; __pyx_lineno = 108; __pyx_clineno = __LINE__; goto __pyx_L1_error;}</span>\n",
        "  <span class='refnanny'>__Pyx_GOTREF</span>(__pyx_t_4);\n",
        "  __pyx_t_1 = NULL;\n",
        "  if (CYTHON_COMPILING_IN_CPYTHON &amp;&amp; likely(<span class='py_c_api'>PyMethod_Check</span>(__pyx_t_7))) {\n",
        "    __pyx_t_1 = <span class='py_macro_api'>PyMethod_GET_SELF</span>(__pyx_t_7);\n",
        "    if (likely(__pyx_t_1)) {\n",
        "      PyObject* function = <span class='py_macro_api'>PyMethod_GET_FUNCTION</span>(__pyx_t_7);\n",
        "      <span class='pyx_macro_api'>__Pyx_INCREF</span>(__pyx_t_1);\n",
        "      <span class='pyx_macro_api'>__Pyx_INCREF</span>(function);\n",
        "      <span class='pyx_macro_api'>__Pyx_DECREF_SET</span>(__pyx_t_7, function);\n",
        "    }\n",
        "  }\n",
        "  if (!__pyx_t_1) {\n",
        "    __pyx_t_3 = <span class='pyx_c_api'>__Pyx_PyObject_CallOneArg</span>(__pyx_t_7, __pyx_t_4);<span class='error_goto'> if (unlikely(!__pyx_t_3)) {__pyx_filename = __pyx_f[0]; __pyx_lineno = 107; __pyx_clineno = __LINE__; goto __pyx_L1_error;}</span>\n",
        "    <span class='pyx_macro_api'>__Pyx_DECREF</span>(__pyx_t_4); __pyx_t_4 = 0;\n",
        "    <span class='refnanny'>__Pyx_GOTREF</span>(__pyx_t_3);\n",
        "  } else {\n",
        "    __pyx_t_5 = <span class='py_c_api'>PyTuple_New</span>(1+1);<span class='error_goto'> if (unlikely(!__pyx_t_5)) {__pyx_filename = __pyx_f[0]; __pyx_lineno = 107; __pyx_clineno = __LINE__; goto __pyx_L1_error;}</span>\n",
        "    <span class='refnanny'>__Pyx_GOTREF</span>(__pyx_t_5);\n",
        "    <span class='py_macro_api'>PyTuple_SET_ITEM</span>(__pyx_t_5, 0, __pyx_t_1); <span class='refnanny'>__Pyx_GIVEREF</span>(__pyx_t_1); __pyx_t_1 = NULL;\n",
        "    <span class='py_macro_api'>PyTuple_SET_ITEM</span>(__pyx_t_5, 0+1, __pyx_t_4);\n",
        "    <span class='refnanny'>__Pyx_GIVEREF</span>(__pyx_t_4);\n",
        "    __pyx_t_4 = 0;\n",
        "    __pyx_t_3 = <span class='pyx_c_api'>__Pyx_PyObject_Call</span>(__pyx_t_7, __pyx_t_5, NULL);<span class='error_goto'> if (unlikely(!__pyx_t_3)) {__pyx_filename = __pyx_f[0]; __pyx_lineno = 107; __pyx_clineno = __LINE__; goto __pyx_L1_error;}</span>\n",
        "    <span class='refnanny'>__Pyx_GOTREF</span>(__pyx_t_3);\n",
        "    <span class='pyx_macro_api'>__Pyx_DECREF</span>(__pyx_t_5); __pyx_t_5 = 0;\n",
        "  }\n",
        "  <span class='pyx_macro_api'>__Pyx_DECREF</span>(__pyx_t_7); __pyx_t_7 = 0;\n",
        "  if (<span class='pyx_c_api'>__Pyx_PrintOne</span>(0, __pyx_t_3) &lt; 0) <span class='error_goto'>{__pyx_filename = __pyx_f[0]; __pyx_lineno = 107; __pyx_clineno = __LINE__; goto __pyx_L1_error;}</span>\n",
        "  <span class='pyx_macro_api'>__Pyx_DECREF</span>(__pyx_t_3); __pyx_t_3 = 0;\n",
        "</pre><pre class='cython line score-1' onclick='toggleDiv(this)'>+109:     <span class=\"k\">return</span> <span class=\"n\">failedLocs</span></pre>\n",
        "<pre class='cython code score-1'>  <span class='pyx_macro_api'>__Pyx_XDECREF</span>(__pyx_r);\n",
        "  __pyx_t_3 = __pyx_memoryview_fromslice(__pyx_v_failedLocs, 2, (PyObject *(*)(char *)) __pyx_memview_get_char, (int (*)(char *, PyObject *)) __pyx_memview_set_char, 0);;<span class='error_goto'> if (unlikely(!__pyx_t_3)) {__pyx_filename = __pyx_f[0]; __pyx_lineno = 109; __pyx_clineno = __LINE__; goto __pyx_L1_error;}</span>\n",
        "  <span class='refnanny'>__Pyx_GOTREF</span>(__pyx_t_3);\n",
        "  __pyx_r = __pyx_t_3;\n",
        "  __pyx_t_3 = 0;\n",
        "  goto __pyx_L0;\n",
        "</pre><pre class='cython line score-0'>&#xA0;110: </pre>\n",
        "</div></body></html>"
       ],
       "metadata": {},
       "output_type": "pyout",
       "prompt_number": 5,
       "text": [
        "<IPython.core.display.HTML at 0x9e56f28>"
       ]
      }
     ],
     "prompt_number": 5
    },
    {
     "cell_type": "heading",
     "level": 4,
     "metadata": {},
     "source": [
      "Open the global coastal data and the non global (but at least as large as the data file) filling mask"
     ]
    },
    {
     "cell_type": "code",
     "collapsed": false,
     "input": [
      "landDS = gdal.Open(coastlineFile)\n",
      "bLand = landDS.GetRasterBand(1)\n",
      "ndvLand = bLand.GetNoDataValue()\n",
      "gtLand = landDS.GetGeoTransform()"
     ],
     "language": "python",
     "metadata": {},
     "outputs": [],
     "prompt_number": 17
    },
    {
     "cell_type": "code",
     "collapsed": false,
     "input": [
      "limsDS = gdal.Open(inLimsFile)\n",
      "bLims = limsDS.GetRasterBand(1)\n",
      "ndvMask = bLims.GetNoDataValue()\n",
      "gtLims = limsDS.GetGeoTransform()"
     ],
     "language": "python",
     "metadata": {},
     "outputs": [],
     "prompt_number": 18
    },
    {
     "cell_type": "code",
     "collapsed": false,
     "input": [
      "gtLims"
     ],
     "language": "python",
     "metadata": {},
     "outputs": [
      {
       "metadata": {},
       "output_type": "pyout",
       "prompt_number": 19,
       "text": [
        "(-180.0, 0.041666666666665, 0.0, 85.000000000006, 0.0, -0.041666666666665)"
       ]
      }
     ],
     "prompt_number": 19
    },
    {
     "cell_type": "heading",
     "level": 4,
     "metadata": {},
     "source": [
      "Read the whole extent of the data file"
     ]
    },
    {
     "cell_type": "code",
     "collapsed": false,
     "input": [
      "# Read the whole extent of the data\n",
      "inDS = gdal.Open(inFile)\n",
      "bData = inDS.GetRasterBand(1)\n",
      "ndvIn = bData.GetNoDataValue()\n",
      "gtIn = inDS.GetGeoTransform()\n",
      "projIn = inDS.GetProjection()\n"
     ],
     "language": "python",
     "metadata": {},
     "outputs": [],
     "prompt_number": 11
    },
    {
     "cell_type": "heading",
     "level": 4,
     "metadata": {},
     "source": [
      "Ensure the resolutions match (not actually checking the alignment)"
     ]
    },
    {
     "cell_type": "code",
     "collapsed": false,
     "input": [
      "assert gtIn[1] == gtLand[1]\n",
      "assert gtIn[5] == gtLand[5]\n",
      "\n",
      "assert gtIn[1] == gtLims[1]\n",
      "assert gtIn[5] == gtLims[5]"
     ],
     "language": "python",
     "metadata": {},
     "outputs": [],
     "prompt_number": 12
    },
    {
     "cell_type": "code",
     "collapsed": false,
     "input": [
      "gtIn"
     ],
     "language": "python",
     "metadata": {},
     "outputs": [
      {
       "metadata": {},
       "output_type": "pyout",
       "prompt_number": 9,
       "text": [
        "(-118.37500000000098,\n",
        " 0.041666666666665,\n",
        " 0.0,\n",
        " 53.54166666666725,\n",
        " 0.0,\n",
        " -0.041666666666665)"
       ]
      }
     ],
     "prompt_number": 9
    },
    {
     "cell_type": "code",
     "collapsed": false,
     "input": [
      "gtLand"
     ],
     "language": "python",
     "metadata": {},
     "outputs": [
      {
       "metadata": {},
       "output_type": "pyout",
       "prompt_number": 10,
       "text": [
        "(-180.0, 0.041666666666665, 0.0, 90.0, 0.0, -0.041666666666665)"
       ]
      }
     ],
     "prompt_number": 10
    },
    {
     "cell_type": "heading",
     "level": 4,
     "metadata": {},
     "source": [
      "Work out which bits of the mask files we need"
     ]
    },
    {
     "cell_type": "code",
     "collapsed": false,
     "input": [
      "# the input dataset is not global; where does it sit in the global coastline image?\n",
      "landOffsetW = int((gtIn[0]-gtLand[0]) / gtLand[1])\n",
      "#landOffsetN = int((gtPop[3]-gtLand[3]) / gtLand[5])\n",
      "landOffsetN = int((gtIn[3]-gtLand[3]) / gtLand[5])\n",
      "landOffsetN, landOffsetW"
     ],
     "language": "python",
     "metadata": {},
     "outputs": [
      {
       "metadata": {},
       "output_type": "pyout",
       "prompt_number": 13,
       "text": [
        "(875, 1479)"
       ]
      }
     ],
     "prompt_number": 13
    },
    {
     "cell_type": "code",
     "collapsed": false,
     "input": [
      "# the input dataset is not global; where does it sit in the maybe-global clipping image?\n",
      "maskOffsetW = int((gtIn[0]-gtLims[0]) / gtLims[1])\n",
      "#landOffsetN = int((gtPop[3]-gtLand[3]) / gtLand[5])\n",
      "maskOffsetN = int((gtIn[3]-gtLims[3]) / gtLims[5])\n",
      "maskOffsetN, maskOffsetW"
     ],
     "language": "python",
     "metadata": {},
     "outputs": [
      {
       "metadata": {},
       "output_type": "pyout",
       "prompt_number": 14,
       "text": [
        "(755, 1479)"
       ]
      }
     ],
     "prompt_number": 14
    },
    {
     "cell_type": "heading",
     "level": 4,
     "metadata": {},
     "source": [
      "Read the data"
     ]
    },
    {
     "cell_type": "code",
     "collapsed": false,
     "input": [
      "inData = bData.ReadAsArray().astype(np.float32)\n",
      "inDataOrig = bData.ReadAsArray()"
     ],
     "language": "python",
     "metadata": {},
     "outputs": [],
     "prompt_number": 38
    },
    {
     "cell_type": "code",
     "collapsed": false,
     "input": [
      "inData.shape"
     ],
     "language": "python",
     "metadata": {},
     "outputs": [
      {
       "metadata": {},
       "output_type": "pyout",
       "prompt_number": 16,
       "text": [
        "(2608L, 6926L)"
       ]
      }
     ],
     "prompt_number": 16
    },
    {
     "cell_type": "code",
     "collapsed": false,
     "input": [
      "inLand = bLand.ReadAsArray(landOffsetW, landOffsetN, inData.shape[1], inData.shape[0])\n",
      "inMask = bLims.ReadAsArray(maskOffsetW, maskOffsetN, inData.shape[1], inData.shape[0])"
     ],
     "language": "python",
     "metadata": {},
     "outputs": [],
     "prompt_number": 20
    },
    {
     "cell_type": "code",
     "collapsed": false,
     "input": [
      "ndvMask"
     ],
     "language": "python",
     "metadata": {},
     "outputs": [
      {
       "metadata": {},
       "output_type": "pyout",
       "prompt_number": 23,
       "text": [
        "3.0"
       ]
      }
     ],
     "prompt_number": 23
    },
    {
     "cell_type": "code",
     "collapsed": false,
     "input": [
      "# reclass the pv limits values into a 0-1 mask for data / nodata\n",
      "# NB keeping \"0\" as \"data\"\n",
      "inMask[inMask!=3] = 10\n",
      "inMask[inMask==3] = 0\n",
      "inMask[inMask==10] = 1"
     ],
     "language": "python",
     "metadata": {},
     "outputs": [],
     "prompt_number": 24
    },
    {
     "cell_type": "code",
     "collapsed": false,
     "input": [
      "%pylab\n",
      "imshow(inMask)"
     ],
     "language": "python",
     "metadata": {},
     "outputs": [
      {
       "metadata": {},
       "output_type": "pyout",
       "prompt_number": 27,
       "text": [
        "<matplotlib.image.AxesImage at 0xa2d77f0>"
       ]
      }
     ],
     "prompt_number": 27
    },
    {
     "cell_type": "code",
     "collapsed": false,
     "input": [
      "inMask.shape"
     ],
     "language": "python",
     "metadata": {},
     "outputs": [
      {
       "metadata": {},
       "output_type": "pyout",
       "prompt_number": 30,
       "text": [
        "(2608L, 6926L)"
       ]
      }
     ],
     "prompt_number": 30
    },
    {
     "cell_type": "code",
     "collapsed": false,
     "input": [
      "imshow(inData)"
     ],
     "language": "python",
     "metadata": {},
     "outputs": [
      {
       "metadata": {},
       "output_type": "pyout",
       "prompt_number": 31,
       "text": [
        "<matplotlib.image.AxesImage at 0xb601358>"
       ]
      }
     ],
     "prompt_number": 31
    },
    {
     "cell_type": "heading",
     "level": 4,
     "metadata": {},
     "source": [
      "Do the fill and clip"
     ]
    },
    {
     "cell_type": "code",
     "collapsed": false,
     "input": [
      "# run the spreading to generate values for all pixels of the limits surface\n",
      "# but do not clip, because the new Pv data covers more areas (e.g. algeria)\n",
      "# than the limits\n",
      "errors = spreadToCoast(inData, inMask, _NDV=ndvIn, applyClip=0, applyFill=1)"
     ],
     "language": "python",
     "metadata": {},
     "outputs": [
      {
       "output_type": "stream",
       "stream": "stdout",
       "text": [
        "Clipped 0 data cells that were in sea\n",
        "Filled 108842 total cells from nearby data\n",
        "Failed to fill 7093 total cells on land due to no data cells in range\n"
       ]
      }
     ],
     "prompt_number": 39
    },
    {
     "cell_type": "code",
     "collapsed": false,
     "input": [
      "# now clip the data to the coastline, but do not fill (as we don't want to fill into all land)\n",
      "clipErrors = spreadToCoast(inData, inLand, _NDV=ndvIn, applyClip=1, applyFill=0)"
     ],
     "language": "python",
     "metadata": {},
     "outputs": [
      {
       "output_type": "stream",
       "stream": "stdout",
       "text": [
        "Clipped 502 data cells that were in sea\n",
        "Filled 0 total cells from nearby data\n",
        "Failed to fill 0 total cells on land due to no data cells in range\n"
       ]
      }
     ],
     "prompt_number": 45
    },
    {
     "cell_type": "heading",
     "level": 4,
     "metadata": {},
     "source": [
      "Save out the data"
     ]
    },
    {
     "cell_type": "code",
     "collapsed": false,
     "input": [
      "outDrv = gdal.GetDriverByName('GTiff')\n",
      "dataRaster = outDrv.Create(outDataFile, inData.shape[1], inData.shape[0], 1, gdal.GDT_Float32,\n",
      "                                       [\"COMPRESS=LZW\", \"TILED=YES\", \"SPARSE_OK=TRUE\", \"BIGTIFF=YES\"])\n",
      "failRaster = outDrv.Create(outFailFile, inData.shape[1], inData.shape[0], 1, gdal.GDT_Byte,\n",
      "                                       [\"COMPRESS=LZW\", \"TILED=YES\", \"SPARSE_OK=TRUE\", \"BIGTIFF=YES\"])\n",
      "\n",
      "dataRaster.SetGeoTransform(gtIn)\n",
      "dataRaster.SetProjection(projIn)\n",
      "failRaster.SetGeoTransform(gtIn)\n",
      "failRaster.SetProjection(projIn)\n",
      "\n",
      "bnd = dataRaster.GetRasterBand(1)\n",
      "assert bnd is not None\n",
      "bnd.SetNoDataValue(ndvIn)\n",
      "bnd.WriteArray(inData) \n",
      "bnd = None\n",
      "dataRaster = None\n",
      "\n",
      "bnd = failRaster.GetRasterBand(1)\n",
      "assert bnd is not None\n",
      "assert failRaster is not None\n",
      "bnd.WriteArray(np.asarray(errors))\n",
      "bnd = None\n",
      "failRaster = None"
     ],
     "language": "python",
     "metadata": {},
     "outputs": [],
     "prompt_number": 46
    }
   ],
   "metadata": {}
  }
 ]
}