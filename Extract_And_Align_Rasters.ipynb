{
 "cells": [
  {
   "cell_type": "code",
   "execution_count": 1,
   "metadata": {
    "collapsed": true
   },
   "outputs": [],
   "source": [
    "from osgeo import gdal\n",
    "import numpy as np\n",
    "import os\n",
    "import glob"
   ]
  },
  {
   "cell_type": "markdown",
   "metadata": {},
   "source": [
    "# Function definitions"
   ]
  },
  {
   "cell_type": "code",
   "execution_count": 2,
   "metadata": {
    "collapsed": true
   },
   "outputs": [],
   "source": [
    "from raster_utilities.utils.geotransform_calcs import CalculatePixelLims, CalculatePixelLims_GlobalRef"
   ]
  },
  {
   "cell_type": "code",
   "execution_count": 3,
   "metadata": {
    "collapsed": false
   },
   "outputs": [],
   "source": [
    "from raster_utilities.io.tiff_management import SaveLZWTiff, GetRasterProperties, ReadAOI_PixelLims"
   ]
  },
  {
   "cell_type": "code",
   "execution_count": 4,
   "metadata": {
    "collapsed": true
   },
   "outputs": [],
   "source": [
    "def ExtractAlignedSubImage(infile, outputDir, outputName, \n",
    "                           longitudeLims, latitudeLims,\n",
    "                          maintainExtent = False, outNDV = None):\n",
    "    '''\n",
    "    Extracts and saves a sub-image from another image, given a lat/lon bounding box.\n",
    "    \n",
    "    The input bounding box should be specified in degrees.\n",
    "    If maintainExtent=True then the output image will have the same extent \n",
    "    (size) as the original, with the clipped-out area set to nodata. \n",
    "    The output nodata value (outNDV) can be reset to something different from \n",
    "    the original, by default it will be passed through (this doesn't change the data \n",
    "    just the nodata tag, for cases where it is -9999 but not recorded as such)\n",
    "    '''\n",
    "    #existingRasterProps = GetRasterProperties(infile)\n",
    "    inGT, inProj, inNDV, inWidth, inHeight, inRes, inDT = GetRasterProperties(infile)\n",
    "    \n",
    "    pixelLimsToRead = CalculatePixelLims(inGT, longitudeLims, latitudeLims)\n",
    "    # = ((xmin, xmax), (ymin, ymax))\n",
    "    arr, subsetGT, _, _ = ReadAOI_PixelLims(infile, pixelLimsToRead[0], pixelLimsToRead[1])\n",
    "    if outNDV is None:\n",
    "        ndv = inNDV\n",
    "    else:\n",
    "        ndv = outNDV\n",
    "    if maintainExtent:\n",
    "        SaveLZWTiff(arr, ndv, inGT, inProj, outputDir, outputName,\n",
    "                   outShape=(inHeight, inWidth), \n",
    "                   outOffset=(pixelLimsToRead[1][0], pixelLimsToRead[0][0]))\n",
    "    else:\n",
    "        SaveLZWTiff(arr, ndv, subsetGT, inProj, outputDir, outputName)\n",
    "    "
   ]
  },
  {
   "cell_type": "code",
   "execution_count": 5,
   "metadata": {
    "collapsed": true
   },
   "outputs": [],
   "source": [
    "def ExtractAlignedSubImageByPixels(infile, outputDir, outputName, \n",
    "                                  xLims, yLims, maintainExtent=False, outNDV=None):\n",
    "    '''\n",
    "    Extracts and saves a sub-image from another image, given pixel limit bounding box.\n",
    "    \n",
    "    The input bounding box should be specified in pixel offsets which are counted from an \n",
    "    origin of (0,0) at the top left corner of the image.\n",
    "    If maintainExtent=True then the output image will have the same extent \n",
    "    (size) as the original, with the clipped-out area set to nodata. \n",
    "    The output nodata value (outNDV) can be reset to something different from \n",
    "    the original, by default it will be passed through (this doesn't change the data \n",
    "    just the nodata tag, for cases where it is -9999 but not recorded as such)\n",
    "    '''\n",
    "    inGT, inProj, inNDV, inWidth, inHeight, inRes, inDT = GetRasterProperties(infile)\n",
    "    arr, subsetGT, _, _ = ReadAOI_PixelLims(infile, xLims, yLims)\n",
    "    if outNDV is None:\n",
    "        ndv = inNDV\n",
    "    else: \n",
    "        ndv = outNDV\n",
    "    if maintainExtent:\n",
    "        SaveLZWTiff(arr, ndv, inGT, inProj, outputDir, outputName,\n",
    "                   outShape=(inHeight, inWidth), \n",
    "                   outOffset=(yLims[0], xLims[0]))\n",
    "    else:\n",
    "        SaveLZWTiff(arr, ndv, subsetGT, inProj, outputDir, outputName)\n",
    "    "
   ]
  },
  {
   "cell_type": "markdown",
   "metadata": {},
   "source": [
    "#### check the limits calculations"
   ]
  },
  {
   "cell_type": "code",
   "execution_count": null,
   "metadata": {
    "collapsed": false
   },
   "outputs": [],
   "source": [
    "globalGT = rprop.gt\n",
    "nonGlobalGT = (-120.0, 0.041666666666667, 0.0, 85.0, 0.0, -0.041666666666667)\n",
    "reqXLims = (-120., 0.)\n",
    "reqYLims = (60., -60)\n",
    "realPixelCoords = CalculatePixelLims(globalGT, reqXLims, reqYLims)\n",
    "forcedGlobalPixelCoords = CalculatePixelLims_GlobalRef(globalGT, reqXLims, reqYLims)\n",
    "nonGlobalCoords = CalculatePixelLims(nonGlobalGT, reqXLims, reqYLims)"
   ]
  },
  {
   "cell_type": "code",
   "execution_count": 14,
   "metadata": {
    "collapsed": false
   },
   "outputs": [
    {
     "data": {
      "text/plain": [
       "((1440, 4320), (720, 3600))"
      ]
     },
     "execution_count": 14,
     "metadata": {},
     "output_type": "execute_result"
    }
   ],
   "source": [
    "realPixelCoords"
   ]
  },
  {
   "cell_type": "code",
   "execution_count": 16,
   "metadata": {
    "collapsed": false
   },
   "outputs": [
    {
     "data": {
      "text/plain": [
       "((1440, 4320), (720, 3600))"
      ]
     },
     "execution_count": 16,
     "metadata": {},
     "output_type": "execute_result"
    }
   ],
   "source": [
    "forcedGlobalPixelCoords"
   ]
  },
  {
   "cell_type": "code",
   "execution_count": 17,
   "metadata": {
    "collapsed": false
   },
   "outputs": [
    {
     "data": {
      "text/plain": [
       "((0, 2880), (600, 3480))"
      ]
     },
     "execution_count": 17,
     "metadata": {},
     "output_type": "execute_result"
    }
   ],
   "source": [
    "nonGlobalCoords"
   ]
  },
  {
   "cell_type": "markdown",
   "metadata": {},
   "source": [
    "# Usage"
   ]
  },
  {
   "cell_type": "markdown",
   "metadata": {},
   "source": [
    "#### Clip a cube (folder) of images to lat limits varying by month, maintain input extent but replace with nodata\n",
    "\n",
    "(we do this for the reflectance-based MODIS covariates as they're nonsense in high latitudes in winter (no daylight))"
   ]
  },
  {
   "cell_type": "code",
   "execution_count": 5,
   "metadata": {
    "collapsed": true
   },
   "outputs": [],
   "source": [
    "# the N-S limits we want by month. Derived empirically.\n",
    "EVI_NS_Lims = {\n",
    "    \"01\":(60,-60),\n",
    "    \"02\":(68,-60),\n",
    "    \"03\":(80,-60),\n",
    "    \"04\":(80,-60),\n",
    "    \"05\":(80,-60),\n",
    "    \"06\":(80,-60),\n",
    "    \"07\":(80,-60),\n",
    "    \"08\":(80,-60),\n",
    "    \"09\":(80,-60),\n",
    "    \"10\":(68,-60),\n",
    "    \"11\":(62,-60),\n",
    "    \"12\":(60,-60)\n",
    "}"
   ]
  },
  {
   "cell_type": "code",
   "execution_count": 6,
   "metadata": {
    "collapsed": true
   },
   "outputs": [],
   "source": [
    "extractFromDir = r'C:/temp/dataprep/modis/TCB_5KM_Aggregations/'\n",
    "extractToDir = r'C:/temp/dataprep/modis/TCB_5KM_Aggregations_Clipped'"
   ]
  },
  {
   "cell_type": "code",
   "execution_count": 7,
   "metadata": {
    "collapsed": false
   },
   "outputs": [],
   "source": [
    "#inPattern = (os.path.join(extractFromDir,'*.tif'))\n",
    "inPattern = (os.path.join(extractFromDir,'TCB*.tif'))\n",
    "inFiles = glob.glob(inPattern)"
   ]
  },
  {
   "cell_type": "code",
   "execution_count": 8,
   "metadata": {
    "collapsed": false
   },
   "outputs": [],
   "source": [
    "# Clip each file to y limits varying according to the above list, don't clip x limits,\n",
    "# use original filename but a different folder for output, and maintain the extent \n",
    "# so the results have the same dimensions but are set to nodata outside the limits\n",
    "for infile in inFiles:\n",
    "    mth = os.path.basename(infile).split('.')[2]\n",
    "    latLims = EVI_NS_Lims[mth]\n",
    "    ExtractAlignedSubImage(infile, extractToDir, \n",
    "                           longitudeLims=(-180, 180), latitudeLims=latLims, \n",
    "                           outputName=os.path.basename(infile),\n",
    "                          maintainExtent=True)\n",
    "    "
   ]
  },
  {
   "cell_type": "markdown",
   "metadata": {},
   "source": [
    "#### Clip a folder of images to a fixed extent, output the new extent only"
   ]
  },
  {
   "cell_type": "markdown",
   "metadata": {},
   "source": [
    "specify the extents in degrees, in the use_X and use_Y variables"
   ]
  },
  {
   "cell_type": "code",
   "execution_count": 7,
   "metadata": {
    "collapsed": false
   },
   "outputs": [],
   "source": [
    "\n",
    "#e8_X = (10,42)\n",
    "#e8_Y = (-4,-36)\n",
    "#khm_X = (102,108)\n",
    "#khm_Y = (15,9)\n",
    "moz_X = (30,41)\n",
    "moz_Y = (-10,-27)\n",
    "\n",
    "use_X = moz_X\n",
    "use_Y = moz_Y"
   ]
  },
  {
   "cell_type": "markdown",
   "metadata": {},
   "source": [
    "specify the files to process in the list variable inFiles"
   ]
  },
  {
   "cell_type": "code",
   "execution_count": 39,
   "metadata": {
    "collapsed": false
   },
   "outputs": [],
   "source": [
    "extractFromDir = r'H:\\Night\\Synoptic'\n",
    "extractToDir = r'E:\\Data\\Harry\\Documents\\dial-a-map\\moz_data'\n",
    "#inPattern = (os.path.join(extractFromDir,'*.tif'))\n",
    "inPattern = (os.path.join(extractFromDir,'*.mean.*.tif'))\n",
    "inFiles = glob.glob(inPattern)\n",
    "inFiles = [f for f in inFiles if int(os.path.basename(f).split('.')[1])==2013]"
   ]
  },
  {
   "cell_type": "code",
   "execution_count": null,
   "metadata": {
    "collapsed": false
   },
   "outputs": [],
   "source": [
    "inFiles"
   ]
  },
  {
   "cell_type": "markdown",
   "metadata": {},
   "source": [
    "process all the files in turn, unless the output already exists"
   ]
  },
  {
   "cell_type": "code",
   "execution_count": 41,
   "metadata": {
    "collapsed": false
   },
   "outputs": [],
   "source": [
    "# Clip each file to x and y limits as specified above, use original filename but a \n",
    "# different folder for output, and output images with the new (clipped) extent\n",
    "for infile in inFiles:\n",
    "    outname = os.path.join(extractToDir, os.path.basename(infile))\n",
    "    if os.path.exists(outname):\n",
    "        continue\n",
    "    ExtractAlignedSubImage(infile, extractToDir, \n",
    "                           longitudeLims=use_X, latitudeLims=use_Y, \n",
    "                           outputName=os.path.basename(infile),\n",
    "                          maintainExtent=False)\n",
    "    "
   ]
  },
  {
   "cell_type": "markdown",
   "metadata": {},
   "source": [
    "#### process just one file"
   ]
  },
  {
   "cell_type": "code",
   "execution_count": 10,
   "metadata": {
    "collapsed": false
   },
   "outputs": [],
   "source": [
    "ExtractAlignedSubImage(r'G:/Supporting/CoastGlobal.tiff',\n",
    "                      r'C:\\Temp\\dataprep\\E8\\Supporting',\n",
    "                      longitudeLims=e8_X, latitudeLims=e8_Y,\n",
    "                      outputName=\"Coast_E8.tif\", maintainExtent=False)"
   ]
  },
  {
   "cell_type": "code",
   "execution_count": 10,
   "metadata": {
    "collapsed": false
   },
   "outputs": [],
   "source": [
    "ExtractAlignedSubImage(r'C:\\Temp\\EVI.2016.Annual.mean.5km.Mean.copy.tif',\n",
    "                      r'C:\\Temp',\n",
    "                      longitudeLims=(43.016042,50.866771), latitudeLims=(-11.657728,-25.833370),\n",
    "                      outputName='EVI_MDG.2016.Annual.mean.5km.Mean.tif',\n",
    "                      maintainExtent=False)"
   ]
  },
  {
   "cell_type": "markdown",
   "metadata": {},
   "source": [
    "#### Clip an image to a fixed pixel extent, i.e. trim a number of pixels off one or more sides"
   ]
  },
  {
   "cell_type": "code",
   "execution_count": 23,
   "metadata": {
    "collapsed": false
   },
   "outputs": [],
   "source": [
    "# trim the left and bottom-most pixels off an image we have previously checked to be 1682*1742\n",
    "ExtractAlignedSubImageByPixels(r'inputfilepath',\n",
    "                              r'outputfolder', 'Africa_MG_5K_template_clip.tif',\n",
    "                              xLims=(1,1682), yLims=(0,1741))"
   ]
  },
  {
   "cell_type": "markdown",
   "metadata": {},
   "source": [
    "#### Clip a folder tree of images to a fixed pixel extent, i.e. trim a number of pixels off one or more sides\n",
    "Use os.walk rather than glob to handle folder structures more than one level deep"
   ]
  },
  {
   "cell_type": "code",
   "execution_count": null,
   "metadata": {
    "collapsed": false
   },
   "outputs": [],
   "source": [
    "# first check that everything in the tree is indeed the same pixel size\n",
    "for root,dirs,files in os.walk(r'top\\level\\input\\folder'):\n",
    "    for f in files:\n",
    "        if f.endswith('.tif'):\n",
    "            pathname = os.path.join(root,f)\n",
    "            props = GetRasterProperties(pathname)\n",
    "            print (props.width, props.height)"
   ]
  },
  {
   "cell_type": "code",
   "execution_count": 21,
   "metadata": {
    "collapsed": false
   },
   "outputs": [],
   "source": [
    "# now run the command for each and mirror the folder structure below an output location\n",
    "for root,dirs,files in os.walk(r'top\\level\\input\\folder'):\n",
    "    for f in files:\n",
    "        if f.endswith('.tif'):\n",
    "            pathname = os.path.join(root,f)\n",
    "            props = GetRasterProperties(pathname)\n",
    "            outdir = root.replace(r'top\\level\\input\\folder',\n",
    "                                 r'top\\level\\output\\folder')\n",
    "            ExtractAlignedSubImageByPixels(pathname,\n",
    "                              outdir, f,\n",
    "                              xLims=(1,1682), yLims=(0,1741))"
   ]
  }
 ],
 "metadata": {
  "kernelspec": {
   "display_name": "Python 2",
   "language": "python",
   "name": "python2"
  },
  "language_info": {
   "codemirror_mode": {
    "name": "ipython",
    "version": 2
   },
   "file_extension": ".py",
   "mimetype": "text/x-python",
   "name": "python",
   "nbconvert_exporter": "python",
   "pygments_lexer": "ipython2",
   "version": "2.7.5"
  }
 },
 "nbformat": 4,
 "nbformat_minor": 0
}
