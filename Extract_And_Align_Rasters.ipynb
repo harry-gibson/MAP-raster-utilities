{
 "cells": [
  {
   "cell_type": "markdown",
   "metadata": {},
   "source": [
    "# Raster extraction / clipping\n",
    "\n",
    "This notebook provides code to clip a raster or many rasters to a specified bounding box. The area can be specified in terms of lat/lon degrees (everything is assumed to be mastergrid EPSG:4326), or in terms of pixel coordinates relative to the input rasters.\n",
    "\n",
    "Common uses include extracting a local cube from one of the global mastergrids cubes, or trimming one pixel off one side of a series of rasters when an ArcGIS operation has resulted in the output being one pixel bigger than you expected."
   ]
  },
  {
   "cell_type": "code",
   "execution_count": 1,
   "metadata": {
    "collapsed": true
   },
   "outputs": [],
   "source": [
    "from osgeo import gdal\n",
    "import numpy as np\n",
    "import os\n",
    "import glob"
   ]
  },
  {
   "cell_type": "markdown",
   "metadata": {},
   "source": [
    "# Function definitions"
   ]
  },
  {
   "cell_type": "code",
   "execution_count": 2,
   "metadata": {
    "collapsed": false
   },
   "outputs": [],
   "source": [
    "from raster_utilities.utils.geotransform_calcs import *"
   ]
  },
  {
   "cell_type": "code",
   "execution_count": 3,
   "metadata": {
    "collapsed": false
   },
   "outputs": [],
   "source": [
    "from raster_utilities.io.TiffFile import SingleBandTiffFile\n",
    "from raster_utilities.io.tiff_management import GetRasterProperties, ReadAOI_PixelLims, SaveLZWTiff\n",
    "from raster_utilities.aggregation.aggregation_values import SnapTypes\n"
   ]
  },
  {
   "cell_type": "code",
   "execution_count": 4,
   "metadata": {
    "collapsed": true
   },
   "outputs": [],
   "source": [
    "from raster_utilities.utils.geotransform_calcs import SnapAndAlignGeoTransform"
   ]
  },
  {
   "cell_type": "code",
   "execution_count": 5,
   "metadata": {
    "collapsed": true
   },
   "outputs": [],
   "source": [
    "def ExtractAlignedSubImage(infile, outputDir, outputName, \n",
    "                           longitudeLims, latitudeLims,\n",
    "                           maintainExtent = False, sanitiseResolution=True, \n",
    "                           snapToMastergridType = SnapTypes.NEAREST, \n",
    "                           outNDV = None):\n",
    "    '''\n",
    "    Extracts and saves a sub-image from another image, given a lat/lon bounding box.\n",
    "    \n",
    "    The input bounding box should be specified in degrees.\n",
    "    If maintainExtent=True then the output image will have the same extent \n",
    "    (size) as the original, with the clipped-out area set to nodata. \n",
    "    The output nodata value (outNDV) can be reset to something different from \n",
    "    the original, by default it will be passed through (this doesn't change the data \n",
    "    just the nodata tag, for cases where it is -9999 but not recorded as such)\n",
    "    '''\n",
    "    #existingRasterProps = GetRasterProperties(infile)\n",
    "    inGT, inProj, inNDV, inWidth, inHeight, inRes, inDT = GetRasterProperties(infile)\n",
    "    pixelLimsToRead = CalculatePixelLims(inGT, longitudeLims, latitudeLims)\n",
    "    # = ((xmin, xmax), (ymin, ymax))\n",
    "    # we do this separately rather than f.ReadForLatLonLims so that we have the offsets if \n",
    "    # we want to save back into a global extent image\n",
    "    arr, subsetGT, _, _ = ReadAOI_PixelLims(infile, pixelLimsToRead[0], pixelLimsToRead[1])\n",
    "    if outNDV is None:\n",
    "        ndv = inNDV\n",
    "    else:\n",
    "        ndv = outNDV\n",
    "    if maintainExtent:\n",
    "        # we will still allow snapping of the extent\n",
    "        # note that this also \"corrects\" the resolution, so snapping will not occur without\n",
    "        # correcting the resolution, which seems reasonable.\n",
    "        newGT = SnapAndAlignGeoTransform(inGT, sanitiseResolution, snapToMastergridType)\n",
    "        SaveLZWTiff(arr, ndv, newGT, inProj, outputDir, outputName,\n",
    "                   outShape=(inHeight, inWidth), \n",
    "                   outOffset=(pixelLimsToRead[1][0], pixelLimsToRead[0][0]))\n",
    "    else:\n",
    "        # the resolution will always be corrected and the extent snapped if requested\n",
    "        subsetGT = SnapAndAlignGeoTransform(subsetGT, sanitiseResolution, snapType=snapToMastergridType)\n",
    "        SaveLZWTiff(arr, ndv, subsetGT, inProj, outputDir, outputName)\n",
    "    "
   ]
  },
  {
   "cell_type": "code",
   "execution_count": 5,
   "metadata": {
    "collapsed": false
   },
   "outputs": [],
   "source": [
    "def ExtractAlignedSubImageByPixels(infile, outputDir, outputName, \n",
    "                                  xLims, yLims, maintainExtent=False, sanitiseResolution=True,\n",
    "                                   snapToMastergridType=SnapTypes.NEAREST, \n",
    "                                   outNDV=None):\n",
    "    '''\n",
    "    Extracts and saves a sub-image from another image, given pixel limit bounding box.\n",
    "    \n",
    "    The input bounding box should be specified in pixel offsets which are counted from an \n",
    "    origin of (0,0) at the top left corner of the image.\n",
    "    If maintainExtent=True then the output image will have the same extent \n",
    "    (size) as the original, with the clipped-out area set to nodata. \n",
    "    The output nodata value (outNDV) can be reset to something different from \n",
    "    the original, by default it will be passed through (this doesn't change the data \n",
    "    just the nodata tag, for cases where it is -9999 but not recorded as such)\n",
    "    '''\n",
    "    inGT, inProj, inNDV, inWidth, inHeight, inRes, inDT = GetRasterProperties(infile)\n",
    "    arr, subsetGT, _, _ = ReadAOI_PixelLims(infile, xLims, yLims)\n",
    "    if outNDV is None:\n",
    "        ndv = inNDV\n",
    "    else: \n",
    "        ndv = outNDV\n",
    "    if maintainExtent:\n",
    "        newGT = SnapAndAlignGeoTransform(inGT, sanitiseResolution, snapToMastergridType)\n",
    "        SaveLZWTiff(arr, ndv, newGT, inProj, outputDir, outputName,\n",
    "                   outShape=(inHeight, inWidth), \n",
    "                   outOffset=(yLims[0], xLims[0]))\n",
    "    else:\n",
    "        subsetGT = SnapAndAlignGeoTransform(subsetGT, sanitiseResolution, snapType=snapToMastergridType)\n",
    "        SaveLZWTiff(arr, ndv, subsetGT, inProj, outputDir, outputName)\n",
    "        "
   ]
  },
  {
   "cell_type": "code",
   "execution_count": 6,
   "metadata": {
    "collapsed": false
   },
   "outputs": [],
   "source": [
    "def AlignExistingImageInPlace(inFile, snapToMastergridType=SnapTypes.NEAREST):\n",
    "    '''Modifies the geotransform of an existing image, adjusting its origin and/or \n",
    "    resolution such that it correctly lines up with the mastergrids templates. \n",
    "    No resampling is done, this is just a correction of erroneously-rounded co-ordinates.\n",
    "    Note that even with SnapTypes.NONE, the resolution will still be corrected e.g. \n",
    "    from 0.00833333 to 0.008333333333333'''\n",
    "    f = SingleBandTiffFile(inFile)\n",
    "    inGT = f.GetGeoTransform()\n",
    "    print(\"{} - previous geotransform was {}\".format(inFile, inGT))\n",
    "    snappedGT = SnapAndAlignGeoTransform(inGT, fixResolution=True, snapType=snapToMastergridType)\n",
    "    # the SingleBandTiffFile object is currently readonly for properties\n",
    "    d = gdal.Open(inFile, gdal.GA_Update)\n",
    "    d.SetGeoTransform(snappedGT)\n",
    "    d.FlushCache()\n",
    "    d = None"
   ]
  },
  {
   "cell_type": "markdown",
   "metadata": {},
   "source": [
    "# Usage"
   ]
  },
  {
   "cell_type": "markdown",
   "metadata": {},
   "source": [
    "Some examples of usage follow - you don't need to run all of these cells!\n",
    "\n",
    "### Align an image, where the image is basically correct but doesn't correctly line up with the mastergrids\n",
    "No resampling - we just correct the geotransform to what it should always have been (e.g. resolution= 1/120 rather than merely 0.0083333)"
   ]
  },
  {
   "cell_type": "code",
   "execution_count": 7,
   "metadata": {
    "collapsed": false
   },
   "outputs": [
    {
     "name": "stdout",
     "output_type": "stream",
     "text": [
      "E:\\Data\\Harry\\Documents\\dial-a-map\\andre_pop\\unadj\\hrsl_zaf_pop_1k_arc_matched.tif - previous geotransform was (14.399999999999999, 0.008333333333333333, 0.0, -22.125, 0.0, -0.008333333333333333)\n",
      "INFO    : | Cellsize already ok, not altering\n",
      "INFO    : | Origin point was already correctly aligned at (14.399999999999999, -22.125) (x,y)\n"
     ]
    }
   ],
   "source": [
    "AlignExistingImageInPlace(r'E:\\Data\\Harry\\Documents\\dial-a-map\\andre_pop\\unadj\\hrsl_zaf_pop_1k_arc_matched.tif', SnapTypes.NEAREST)"
   ]
  },
  {
   "cell_type": "markdown",
   "metadata": {},
   "source": [
    "#### Clip a cube (folder) of images to lat limits varying by month, maintain input extent but replace with nodata\n",
    "\n",
    "(we do this for the reflectance-based MODIS covariates as they're nonsense in high latitudes in winter (no daylight))"
   ]
  },
  {
   "cell_type": "code",
   "execution_count": 5,
   "metadata": {
    "collapsed": true
   },
   "outputs": [],
   "source": [
    "# the N-S limits we want by month. Derived empirically.\n",
    "EVI_NS_Lims = {\n",
    "    \"01\":(60,-60),\n",
    "    \"02\":(68,-60),\n",
    "    \"03\":(80,-60),\n",
    "    \"04\":(80,-60),\n",
    "    \"05\":(80,-60),\n",
    "    \"06\":(80,-60),\n",
    "    \"07\":(80,-60),\n",
    "    \"08\":(80,-60),\n",
    "    \"09\":(80,-60),\n",
    "    \"10\":(68,-60),\n",
    "    \"11\":(62,-60),\n",
    "    \"12\":(60,-60)\n",
    "}"
   ]
  },
  {
   "cell_type": "code",
   "execution_count": 6,
   "metadata": {
    "collapsed": true
   },
   "outputs": [],
   "source": [
    "extractFromDir = r'C:/temp/dataprep/modis/TCB_5KM_Aggregations/'\n",
    "extractToDir = r'C:/temp/dataprep/modis/TCB_5KM_Aggregations_Clipped'"
   ]
  },
  {
   "cell_type": "code",
   "execution_count": 7,
   "metadata": {
    "collapsed": false
   },
   "outputs": [],
   "source": [
    "#inPattern = (os.path.join(extractFromDir,'*.tif'))\n",
    "inPattern = (os.path.join(extractFromDir,'TCB*.tif'))\n",
    "inFiles = glob.glob(inPattern)"
   ]
  },
  {
   "cell_type": "code",
   "execution_count": 8,
   "metadata": {
    "collapsed": false
   },
   "outputs": [],
   "source": [
    "# Clip each file to y limits varying according to the above list, don't clip x limits,\n",
    "# use original filename but a different folder for output, and maintain the extent \n",
    "# so the results have the same dimensions but are set to nodata outside the limits\n",
    "for infile in inFiles:\n",
    "    mth = os.path.basename(infile).split('.')[2]\n",
    "    latLims = EVI_NS_Lims[mth]\n",
    "    ExtractAlignedSubImage(infile, extractToDir, \n",
    "                           longitudeLims=(-180, 180), latitudeLims=latLims, \n",
    "                           outputName=os.path.basename(infile),\n",
    "                          maintainExtent=True)\n",
    "    "
   ]
  },
  {
   "cell_type": "markdown",
   "metadata": {},
   "source": [
    "#### Clip a folder of images to a fixed extent, output the new extent only"
   ]
  },
  {
   "cell_type": "markdown",
   "metadata": {},
   "source": [
    "This would be a common use case when e.g. KB wants a bunch of stuff clipping for a CHAI project.\n",
    "\n",
    "Specify the extents in degrees, in the use_X and use_Y variables"
   ]
  },
  {
   "cell_type": "code",
   "execution_count": 20,
   "metadata": {
    "collapsed": false
   },
   "outputs": [],
   "source": [
    "\n",
    "#e8_X = (10,42)\n",
    "#e8_Y = (-4,-36)\n",
    "#khm_X = (102,108)\n",
    "#khm_Y = (15,9)\n",
    "moz_X = (30,41)\n",
    "moz_Y = (-10,-27)\n",
    "\n",
    "use_X = moz_X\n",
    "use_Y = moz_Y"
   ]
  },
  {
   "cell_type": "markdown",
   "metadata": {},
   "source": [
    "specify the files to process in the list variable inFiles"
   ]
  },
  {
   "cell_type": "code",
   "execution_count": 21,
   "metadata": {
    "collapsed": false
   },
   "outputs": [],
   "source": [
    "extractFromDir = r'\\\\map-fs1.ndph.ox.ac.uk\\map_data\\mastergrids\\MODIS_Global\\MOD11A2_v6_LST\\Modelled_Air_Temp_Min\\5km\\Monthly'\n",
    "extractToDir = r'C:\\temp\\test'\n",
    "#inPattern = (os.path.join(extractFromDir,'*.tif'))\n",
    "inPattern = (os.path.join(extractFromDir,'*.mean.*.tif'))\n",
    "inFiles = glob.glob(inPattern)\n",
    "inFiles = [f for f in inFiles if int(os.path.basename(f).split('.')[1])==2013]"
   ]
  },
  {
   "cell_type": "code",
   "execution_count": null,
   "metadata": {
    "collapsed": false
   },
   "outputs": [],
   "source": [
    "inFiles"
   ]
  },
  {
   "cell_type": "markdown",
   "metadata": {},
   "source": [
    "process all the files in turn, unless the output already exists"
   ]
  },
  {
   "cell_type": "code",
   "execution_count": null,
   "metadata": {
    "collapsed": false
   },
   "outputs": [],
   "source": [
    "# Clip each file to x and y limits as specified above, use original filename but a \n",
    "# different folder for output, and output images with the new (clipped) extent\n",
    "for infile in inFiles:\n",
    "    outname = os.path.join(extractToDir, os.path.basename(infile))\n",
    "    if os.path.exists(outname):\n",
    "        continue\n",
    "    ExtractAlignedSubImage(infile, extractToDir, \n",
    "                           longitudeLims=use_X, latitudeLims=use_Y, \n",
    "                           outputName=os.path.basename(infile),\n",
    "                          maintainExtent=False)\n",
    "    "
   ]
  },
  {
   "cell_type": "markdown",
   "metadata": {},
   "source": [
    "#### process just one file"
   ]
  },
  {
   "cell_type": "code",
   "execution_count": 10,
   "metadata": {
    "collapsed": false
   },
   "outputs": [],
   "source": [
    "ExtractAlignedSubImage(r'G:/Supporting/CoastGlobal.tiff',\n",
    "                      r'C:\\Temp\\dataprep\\E8\\Supporting',\n",
    "                      longitudeLims=e8_X, latitudeLims=e8_Y,\n",
    "                      outputName=\"Coast_E8.tif\", maintainExtent=False)"
   ]
  },
  {
   "cell_type": "code",
   "execution_count": 10,
   "metadata": {
    "collapsed": false
   },
   "outputs": [],
   "source": [
    "ExtractAlignedSubImage(r'C:\\Temp\\EVI.2016.Annual.mean.5km.Mean.copy.tif',\n",
    "                      r'C:\\Temp',\n",
    "                      longitudeLims=(43.016042,50.866771), latitudeLims=(-11.657728,-25.833370),\n",
    "                      outputName='EVI_MDG.2016.Annual.mean.5km.Mean.tif',\n",
    "                      maintainExtent=False)"
   ]
  },
  {
   "cell_type": "markdown",
   "metadata": {},
   "source": [
    "#### Clip an image to a fixed pixel extent, i.e. trim a number of pixels off one or more sides\n",
    "\n",
    "It can be hard to get Arc to match your extent (usually because it thinks of raster cells being represented at their centre, so you end up with one extra across the extent). Do something like this to trim off the rogue extra row or column."
   ]
  },
  {
   "cell_type": "code",
   "execution_count": 7,
   "metadata": {
    "collapsed": false
   },
   "outputs": [],
   "source": [
    "# trim the left and bottom-most pixels off an image we have previously checked to be 1682*1742\n",
    "ExtractAlignedSubImageByPixels(r'E:\\Data\\Harry\\Documents\\dataprep\\CHAI\\panama_v4_3arcsec\\PAN_GUF_100m.tif',\n",
    "                              r'E:\\Data\\Harry\\Documents\\dataprep\\CHAI\\panama_v4_3arcsec', 'PAN_GUF_100m_clip.tif',\n",
    "                              xLims=(1,8401), yLims=(1,3601))"
   ]
  },
  {
   "cell_type": "code",
   "execution_count": 11,
   "metadata": {
    "collapsed": false
   },
   "outputs": [
    {
     "name": "stdout",
     "output_type": "stream",
     "text": [
      "cell size reset to 0.00833333333333\n"
     ]
    }
   ],
   "source": [
    "ExtractAlignedSubImageByPixels(r'E:\\Data\\Harry\\Documents\\dial-a-map\\andre_pop\\popadj.YYYY.MM.DATA.1km.sum.tif',\n",
    "                              r'E:\\Data\\Harry\\Documents\\dial-a-map\\andre_pop', 'popadj_1km_aligned.tif', \n",
    "                              xLims=(0,779), yLims=(0,1074), snapExtent=True)"
   ]
  },
  {
   "cell_type": "markdown",
   "metadata": {},
   "source": [
    "#### Clip a folder tree of images to a fixed pixel extent, i.e. trim a number of pixels off one or more sides\n",
    "\n",
    "Use os.walk rather than glob to handle folder structures more than one level deep\n",
    "\n",
    "As with all functions that are not in-place this also will create compressed tiled files so no need to do that separately"
   ]
  },
  {
   "cell_type": "code",
   "execution_count": 33,
   "metadata": {
    "collapsed": false
   },
   "outputs": [
    {
     "name": "stdout",
     "output_type": "stream",
     "text": [
      "(43201, 16801)\n",
      "(43201, 16801)\n",
      "(43201, 16801)\n",
      "(43201, 16801)\n",
      "(43201, 16801)\n"
     ]
    }
   ],
   "source": [
    "inFolderRoot = r'top/Level/input/folder'\n",
    "outFolderRoot = r'top/Level/output/folder'\n",
    "# first check that everything in the tree is indeed the same pixel size\n",
    "for root,dirs,files in os.walk(inFolderRoot):#(r'top\\level\\input\\folder'):\n",
    "    for f in files:\n",
    "        if f.endswith('.tif'):\n",
    "            pathname = os.path.join(root,f)\n",
    "            props = GetRasterProperties(pathname)\n",
    "            print (props.width, props.height)"
   ]
  },
  {
   "cell_type": "code",
   "execution_count": 36,
   "metadata": {
    "collapsed": false
   },
   "outputs": [
    {
     "name": "stdout",
     "output_type": "stream",
     "text": [
      "INFO    : | Cellsize in (x,y): 0.0083333333*-0.0083333333, sanitised to cellsize out: 0.00833333333333*-0.00833333333333\n",
      "INFO    : | Snapped origin point from (-180.00416666665, 75.00416666665) (x,y) to (-180.0, 75.0) (x,y)\n",
      "INFO    : | Cellsize in (x,y): 0.0083333333*-0.0083333333, sanitised to cellsize out: 0.00833333333333*-0.00833333333333\n",
      "INFO    : | Snapped origin point from (-180.00416666665, 75.00416666665) (x,y) to (-180.0, 75.0) (x,y)\n",
      "INFO    : | Cellsize in (x,y): 0.0083333333*-0.0083333333, sanitised to cellsize out: 0.00833333333333*-0.00833333333333\n",
      "INFO    : | Snapped origin point from (-180.00416666665, 75.00416666665) (x,y) to (-180.0, 75.0) (x,y)\n",
      "INFO    : | Cellsize in (x,y): 0.0083333333*-0.0083333333, sanitised to cellsize out: 0.00833333333333*-0.00833333333333\n",
      "INFO    : | Snapped origin point from (-180.00416666665, 75.00416666665) (x,y) to (-180.0, 75.0) (x,y)\n",
      "INFO    : | Cellsize in (x,y): 0.0083333333*-0.0083333333, sanitised to cellsize out: 0.00833333333333*-0.00833333333333\n",
      "INFO    : | Snapped origin point from (-180.00416666665, 75.00416666665) (x,y) to (-180.0, 75.0) (x,y)\n"
     ]
    }
   ],
   "source": [
    "# now run the command for each and mirror the folder structure below an output location\n",
    "for root,dirs,files in os.walk(inFolderRoot):#(r'top\\level\\input\\folder'):\n",
    "    for f in files:\n",
    "        if f.endswith('.tif'):\n",
    "            pathname = os.path.join(root,f)\n",
    "            props = GetRasterProperties(pathname)\n",
    "            outdir = root.replace(inFolderRoot,\n",
    "                                 outFolderRoot)\n",
    "            ExtractAlignedSubImageByPixels(pathname,\n",
    "                              outdir, f,\n",
    "                              xLims=(0,43200), yLims=(0,16800), snapToMastergridType=SnapTypes.NEAREST)"
   ]
  }
 ],
 "metadata": {
  "kernelspec": {
   "display_name": "Python 3",
   "language": "python",
   "name": "python3"
  },
  "language_info": {
   "codemirror_mode": {
    "name": "ipython",
    "version": 3
   },
   "file_extension": ".py",
   "mimetype": "text/x-python",
   "name": "python",
   "nbconvert_exporter": "python",
   "pygments_lexer": "ipython3",
   "version": "3.6.7"
  }
 },
 "nbformat": 4,
 "nbformat_minor": 2
}
