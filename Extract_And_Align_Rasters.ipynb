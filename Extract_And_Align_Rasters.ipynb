{
 "cells": [
  {
   "cell_type": "code",
   "execution_count": 1,
   "metadata": {
    "collapsed": true
   },
   "outputs": [],
   "source": [
    "from osgeo import gdal\n",
    "import numpy as np\n",
    "import os\n",
    "import glob"
   ]
  },
  {
   "cell_type": "markdown",
   "metadata": {},
   "source": [
    "# Function definitions"
   ]
  },
  {
   "cell_type": "code",
   "execution_count": 2,
   "metadata": {
    "collapsed": true
   },
   "outputs": [],
   "source": [
    "def CalculateAOI(WestLimitOut, EastLimitOut, NorthLimitOut, SouthLimitOut, AggregationFactor=1,\n",
    "                 OverallWestLimit=-180, OverallNorthLimit=90):\n",
    "    # calculates the pixel coords of a given AOI in degrees within the 1km global true-coords\n",
    "    # rasters (or at least, they must have origin at -180.0, 90.0)\n",
    "    # returns tuple of tuples ((xmin,xmax),(ymin,ymax))\n",
    "    \n",
    "    resolution = 0.008333333333333 * AggregationFactor# 12 threes\n",
    "    assert EastLimitOut > WestLimitOut\n",
    "    assert NorthLimitOut > SouthLimitOut\n",
    "    \n",
    "    x0 = int((WestLimitOut - OverallWestLimit) / resolution)\n",
    "    x1 = int(((EastLimitOut - OverallWestLimit) / resolution)+0.5)\n",
    "    y0 = int((OverallNorthLimit - NorthLimitOut) / resolution)\n",
    "    y1 = int(((OverallNorthLimit - SouthLimitOut) / resolution) + 0.5)\n",
    "    \n",
    "    return ((x0,x1),(y0,y1))"
   ]
  },
  {
   "cell_type": "code",
   "execution_count": 1,
   "metadata": {
    "collapsed": true
   },
   "outputs": [],
   "source": [
    "x = (1,2)"
   ]
  },
  {
   "cell_type": "code",
   "execution_count": 2,
   "metadata": {
    "collapsed": false
   },
   "outputs": [
    {
     "data": {
      "text/plain": [
       "True"
      ]
     },
     "execution_count": 2,
     "metadata": {},
     "output_type": "execute_result"
    }
   ],
   "source": [
    "isinstance(x,tuple)"
   ]
  },
  {
   "cell_type": "code",
   "execution_count": 3,
   "metadata": {
    "collapsed": true
   },
   "outputs": [],
   "source": [
    "def CalculateGT(gdalDatasetIn, xLims, yLims, roundToMasterGrid=False,\n",
    "                OverallWestLimit=-180, OverallNorthLimit=90):\n",
    "    \n",
    "    # gdalDatasetIn should be in \"true\" resolution i.e. 1km = 0.008333333333333 deg\n",
    "    inputGT = gdalDatasetIn.GetGeoTransform() # assumed in \"true\" resolution\n",
    "    topLeftLongIn = inputGT[0]\n",
    "    topLeftLatIn = inputGT[3]\n",
    "    resX = inputGT[1]\n",
    "    resY = inputGT[5]\n",
    "    \n",
    "    #print resX, resY\n",
    "    if not roundToMasterGrid:\n",
    "        # just calculate the coordinates relative to the source image with its native resolution\n",
    "        topLeftLongOut = topLeftLongIn + xLims[0] * resX\n",
    "        topLeftLatOut = topLeftLatIn + yLims[0] * resY # resY will be a negative value\n",
    "        clippedGT = (topLeftLongOut, resX, 0.0, topLeftLatOut, 0.0, resY)\n",
    "    \n",
    "    else:\n",
    "        # round the coordinates of the input (which must be \"true\") to those of the imprecisely-defined MG coords\n",
    "        # i.e. what would the same pixel coords be in real world coords when the pixels have the slightly-wrong \n",
    "        # resolution of 0.00833333 set\n",
    "        #res1K = 0.008333333333333\n",
    "        #res5k\n",
    "        masterGridResolution = round(resX, 8)\n",
    "        assert masterGridResolution != resX\n",
    "        \n",
    "        #if resX == res1K:\n",
    "        #    masterGridResolution = round(resX, 8)\n",
    "        #elif resX == res1K * 5\n",
    "        #assert resX == 0.008333333333333\n",
    "        #assert resY == -0.008333333333333\n",
    "   \n",
    "        #masterGridResolution = 0.00833333 # 8 dp\n",
    "        \n",
    "        # where does the top left corner of this (Extracted) image sit in terms of number of pixels \n",
    "        # from the global top left (or whatever the top left of the source image was)\n",
    "        topLeftPixelX = (topLeftLongIn - -180) / resX\n",
    "        # where would the western edge of the input be, when snapped to the mastergrid\n",
    "        topLeftLongInMG = -180.0 + (topLeftPixelX * masterGridResolution)\n",
    "        \n",
    "        topLeftPixelY = (90.0 - topLeftLatIn) / (-resY)\n",
    "        # where would the northern edge of the input be, when snapped to the mastergrid\n",
    "        topLeftLatInMG = 89.99994 - (topLeftPixelY * masterGridResolution)\n",
    "        \n",
    "        topLeftLongOut = topLeftLongInMG + xLims[0] * masterGridResolution\n",
    "        topLeftLatOut = topLeftLatInMG - yLims[0] * masterGridResolution\n",
    "        clippedGT = (topLeftLongOut, masterGridResolution, 0.0, topLeftLatOut, 0.0, -masterGridResolution)\n",
    "    return clippedGT"
   ]
  },
  {
   "cell_type": "code",
   "execution_count": 4,
   "metadata": {
    "collapsed": true
   },
   "outputs": [],
   "source": [
    "def ExtractAOI(gdalDatasetIn, xLims, yLims, roundToMasterGrid=False):\n",
    "    # returns a tuple containing the array and the geotransform of the image it should be saved to\n",
    "    \n",
    "    inputBnd = gdalDatasetIn.GetRasterBand(1)\n",
    "    inputArr = inputBnd.ReadAsArray(xLims[0], yLims[0], xLims[1] - xLims[0], yLims[1] - yLims[0])\n",
    "    \n",
    "    clippedGT = CalculateGT(gdalDatasetIn, xLims, yLims, roundToMasterGrid)\n",
    "    return (inputArr, clippedGT)"
   ]
  },
  {
   "cell_type": "code",
   "execution_count": 11,
   "metadata": {
    "collapsed": true
   },
   "outputs": [],
   "source": [
    "def ExtractAndAlign_Single(infile, outputDir, \n",
    "                           west, east, north, south,\n",
    "                           alignToMasterGrid=False, outFNTag=\"Clipped\",\n",
    "                           createCompressed=True, maintainExtent = False, \n",
    "                           aggregationFactor = 1.0,\n",
    "                           outNDV = None):\n",
    "    '''\n",
    "    Extracts a sub-image from a global 1k image with correct geotransform\n",
    "    \n",
    "    The input bbox should be specified in degrees. The output image can optionally \n",
    "    have its resolution reset to the incorrect (but consistent with other datasets)\n",
    "    0.00833333 degrees (as opposed to 0.008333333333333). The output image can have \n",
    "    the original global extent (with the clipped-out area set to nodata) or can have\n",
    "    a new geotransform.\n",
    "    '''\n",
    "    \n",
    "    outputPixelsGlobRef = CalculateAOI(west, east, north, south, aggregationFactor)\n",
    "    outDrv = gdal.GetDriverByName('GTiff')\n",
    "    inDS = gdal.Open(infile)\n",
    "    inGT = inDS.GetGeoTransform()\n",
    "    inBand = inDS.GetRasterBand(1)\n",
    "    inDT = inBand.DataType\n",
    "    inProj = inDS.GetProjection()\n",
    "    inNDV = inBand.GetNoDataValue()\n",
    "    inWidth = inDS.RasterXSize\n",
    "    inHeight = inDS.RasterYSize\n",
    "\n",
    "    inputPixelsGlobRef = CalculateAOI(inGT[0], inGT[0] + inGT[1] * inDS.RasterXSize,\n",
    "                                      inGT[3], inGT[3] + inGT[5] * inDS.RasterYSize,\n",
    "                                      aggregationFactor)\n",
    "    outL_InputRef = outputPixelsGlobRef[0][0] - inputPixelsGlobRef[0][0]\n",
    "    outR_InputRef = outputPixelsGlobRef[0][1] - inputPixelsGlobRef[0][0]\n",
    "    outT_InputRef = outputPixelsGlobRef[1][0] - inputPixelsGlobRef[1][0]\n",
    "    outB_InputRef = outputPixelsGlobRef[1][1] - inputPixelsGlobRef[1][0]\n",
    "    assert outL_InputRef >= 0\n",
    "    assert outR_InputRef > outL_InputRef\n",
    "    assert outT_InputRef >= 0\n",
    "    assert outB_InputRef > outT_InputRef\n",
    "\n",
    "    xLimsToExtract = (outL_InputRef, outR_InputRef)\n",
    "    yLimsToExtract = (outT_InputRef, outB_InputRef)\n",
    "    \n",
    "    res = ExtractAOI(inDS, xLimsToExtract, yLimsToExtract, alignToMasterGrid)\n",
    "\n",
    "    data = res[0]\n",
    "    outGT = res[1]\n",
    "\n",
    "    outFNBase = '.'.join(os.path.basename(infile).split('.')[:-1])\n",
    "        \n",
    "    outFNBaseTemplate = \"{0}.{1}.tif\"\n",
    "    outFNTemplate = os.path.join(outputDir, outFNBaseTemplate)\n",
    "\n",
    "    if createCompressed:\n",
    "        #creationOpts = [\"COMPRESS=LZW\",\"TILED=YES\",\"SPARSE_OK=TRUE\",\"BIGTIFF=YES\"]\n",
    "        creationOpts = [\"COMPRESS=DEFLATE\", \"ZLEVEL=9\", \"TILED=YES\",\"SPARSE_OK=TRUE\",\"BIGTIFF=YES\"]\n",
    "    else:\n",
    "        creationOpts = []\n",
    "    \n",
    "    if maintainExtent:\n",
    "        outRaster = outDrv.Create(outFNTemplate.format(outFNBase,outFNTag),\n",
    "                                  inWidth, inHeight, 1, inDT,\n",
    "                                  creationOpts)\n",
    "        outRaster.SetGeoTransform(inGT)\n",
    "        outRaster.SetProjection(inProj)\n",
    "        outBand = outRaster.GetRasterBand(1)\n",
    "        if inNDV is not None:\n",
    "            if outNDV is None:\n",
    "                outBand.SetNoDataValue(inNDV)\n",
    "            else:\n",
    "                data[data==inNDV] = outNDV\n",
    "                outBand.SetNoDataValue(outNDV)\n",
    "        print (data.shape)\n",
    "        print outL_InputRef,\n",
    "        print outT_InputRef\n",
    "        outBand.WriteArray(data, xoff=outL_InputRef, yoff=outT_InputRef)\n",
    "        \n",
    "    else:\n",
    "        outRaster = outDrv.Create(outFNTemplate.format(outFNBase,outFNTag),\n",
    "                                  data.shape[1], data.shape[0], 1, inDT,\n",
    "                                  creationOpts)\n",
    "        outRaster.SetGeoTransform(outGT)\n",
    "        outRaster.SetProjection(inProj)\n",
    "        outBand = outRaster.GetRasterBand(1)\n",
    "        if inNDV is not None:\n",
    "            if outNDV is None:\n",
    "                outBand.SetNoDataValue(inNDV)\n",
    "            else:\n",
    "                data[data==inNDV] = outNDV\n",
    "                outBand.SetNoDataValue(outNDV)\n",
    "        outBand.WriteArray(data)\n",
    "    \n",
    "    outBand.FlushCache()\n",
    "    outRaster.FlushCache()\n",
    "    del outBand\n",
    "    del inBand\n",
    "    outRaster = None\n",
    "\n",
    "\n",
    "def ExtractAndAlign(fileList, outputDir, west, east, north, south, \n",
    "                    alignToMasterGrid = False, outFNTag=\"Clip\", createCompressed=True):\n",
    "   for f in fileList:\n",
    "        ExtractAndAlign_Single(f, outputDir, west, east, north, south,\n",
    "                               alignToMasterGrid, outFNTag, createCompressed)"
   ]
  },
  {
   "cell_type": "markdown",
   "metadata": {},
   "source": [
    "# Usage"
   ]
  },
  {
   "cell_type": "markdown",
   "metadata": {},
   "source": [
    "### Specify input and output directories"
   ]
  },
  {
   "cell_type": "markdown",
   "metadata": {},
   "source": [
    "###### Input contains the images we are extracting from. Ideally global but at least must have extent covering the required output!"
   ]
  },
  {
   "cell_type": "code",
   "execution_count": 6,
   "metadata": {
    "collapsed": true
   },
   "outputs": [],
   "source": [
    "#extractFromDir = r'G:\\GapfillingOutputs\\Moritz\\LST_Day'\n",
    "#extractToDir = r'G:\\GapfillingOutputs\\Moritz\\LST_Day\\Clip_MG'\n",
    "#extractFromDir = r'I:\\MCD43B4_Gapfilled_Output\\TCW\\Output_30k_2030pc'\n",
    "#extractToDir = r'J:\\Gapfilled_Modis_China\\TCW'\n",
    "extractFromDir = r'E:\\Temp\\pop\\02_processing\\06_IHME_Corrected_Grids\\with_missing_admin\\5km_sum'\n",
    "extractFromDir = r'E:\\Temp\\pop\\02_processing\\02_ihme_admin'\n",
    "extractToDir = r'C:\\Temp\\ihme_extract'"
   ]
  },
  {
   "cell_type": "markdown",
   "metadata": {},
   "source": [
    "###### # create file list"
   ]
  },
  {
   "cell_type": "code",
   "execution_count": 7,
   "metadata": {
    "collapsed": true
   },
   "outputs": [],
   "source": [
    "inPattern = (os.path.join(extractFromDir,'*.tif'))\n",
    "inPattern = (os.path.join(extractFromDir,'IHME_admin_IDs.MG_Matched.tif'))\n",
    "inFiles = glob.glob(inPattern)"
   ]
  },
  {
   "cell_type": "code",
   "execution_count": 8,
   "metadata": {
    "collapsed": false
   },
   "outputs": [
    {
     "data": {
      "text/plain": [
       "['E:\\\\Temp\\\\pop\\\\02_processing\\\\02_ihme_admin\\\\IHME_admin_IDs.MG_Matched.tif']"
      ]
     },
     "execution_count": 8,
     "metadata": {},
     "output_type": "execute_result"
    }
   ],
   "source": [
    "inFiles"
   ]
  },
  {
   "cell_type": "markdown",
   "metadata": {},
   "source": [
    "#### # Extract a defined bbox for each of a list of files"
   ]
  },
  {
   "cell_type": "markdown",
   "metadata": {},
   "source": [
    "##### Run extract and align specifying the output image coordinates and whether we want to align to MGs"
   ]
  },
  {
   "cell_type": "code",
   "execution_count": 12,
   "metadata": {
    "collapsed": true
   },
   "outputs": [],
   "source": [
    "#moritzChina = CalculateAOI(73, 136, 54, 18)\n",
    "#-17.99999999999930000000\t37.54166666666520000000\t52.04166666666460000000\t-34.99999999999860000000\n",
    "\n",
    "ExtractAndAlign(inFiles, extractToDir, \n",
    "                west=-17.99999999999930000000, east=52.04166666666460000000, north=37.54166666666520000000, south=-34.99999999999860000000, \n",
    "                alignToMasterGrid=True, outFNTag=\"Africa\", \n",
    "                createCompressed=True )\n",
    "#ExtractAndAlign(inFilesTmp, extractToDir, \n",
    "#                west=73, east=136, north=54, south=18, \n",
    "#                alignToMasterGrid=True, outFNTag=\"China_MG\", \n",
    "#                createCompressed=True )"
   ]
  },
  {
   "cell_type": "markdown",
   "metadata": {},
   "source": [
    "#### # Extract for ABRAID, recoding to different NDV"
   ]
  },
  {
   "cell_type": "code",
   "execution_count": null,
   "metadata": {
    "collapsed": true
   },
   "outputs": [],
   "source": [
    "extractFromDir = r'G:\\SynopticData\\5km\\ABRAID_Region\\from'\n",
    "extractToDir = r'G:\\SynopticData\\5km\\ABRAID_Region\\to'\n",
    "# compared to the 1km data what is the resolution we are working with?\n",
    "aggregationFactor = 5\n",
    "for infile in inFiles:\n",
    "    #mth = os.path.basename(infile).split('.')[2]\n",
    "    north = 85\n",
    "    south = -60\n",
    "    ExtractAndAlign_Single(infile, extractToDir, \n",
    "                           west=-180, east=180, north=north, south=south,\n",
    "                           alignToMasterGrid=False, outFNTag=\"ABRAID_Extent\",\n",
    "                           createCompressed=True, maintainExtent = False,\n",
    "                           aggregationFactor = aggregationFactor, outNDV = -9999)"
   ]
  },
  {
   "cell_type": "code",
   "execution_count": 14,
   "metadata": {
    "collapsed": true
   },
   "outputs": [],
   "source": [
    "infile = r'\\\\129.67.26.176\\map_data\\dengue_project\\clean_mastergrids\\evidence_consensus\\Dengue_EBC_June2015\\EBC_June2015_MG.tif'\n",
    "north = 85\n",
    "south = -60\n",
    "ExtractAndAlign_Single(infile, r'\\\\129.67.26.176\\map_data\\dengue_project\\clean_mastergrids\\evidence_consensus\\Dengue_EBC_June2015',\n",
    "                       west=-180, east=180, north=north, south=south,\n",
    "                       alignToMasterGrid=False, outFNTag=\"Extent\",\n",
    "                       createCompressed=True, maintainExtent=False,\n",
    "                       aggregationFactor=5, outNDV=-9999)"
   ]
  },
  {
   "cell_type": "code",
   "execution_count": 18,
   "metadata": {
    "collapsed": true
   },
   "outputs": [],
   "source": [
    "infile = r'G:\\supporting\\CoastGlobal.tiff'\n",
    "north = 85\n",
    "south = -60\n",
    "ExtractAndAlign_Single(infile, r'G:\\Supporting',\n",
    "                       west=-180, east=180, north=north, south=south,\n",
    "                       alignToMasterGrid=False, outFNTag=\"MGExtent\",\n",
    "                       createCompressed=True, maintainExtent=False,\n",
    "                       aggregationFactor=1, outNDV=-9999)"
   ]
  },
  {
   "cell_type": "markdown",
   "metadata": {},
   "source": [
    "#### # Extract MCD43B4 monthlies to seasonally-varying lat limits"
   ]
  },
  {
   "cell_type": "code",
   "execution_count": 6,
   "metadata": {
    "collapsed": true
   },
   "outputs": [],
   "source": [
    "# the N-S limits we want by month. Derived empirically.\n",
    "EVI_NS_Lims = {\n",
    "    \"01\":(60,-60),\n",
    "    \"02\":(68,-60),\n",
    "    \"03\":(80,-60),\n",
    "    \"04\":(80,-60),\n",
    "    \"05\":(80,-60),\n",
    "    \"06\":(80,-60),\n",
    "    \"07\":(80,-60),\n",
    "    \"08\":(80,-60),\n",
    "    \"09\":(80,-60),\n",
    "    \"10\":(68,-60),\n",
    "    \"11\":(62,-60),\n",
    "    \"12\":(60,-60)\n",
    "}"
   ]
  },
  {
   "cell_type": "code",
   "execution_count": 7,
   "metadata": {
    "collapsed": true
   },
   "outputs": [],
   "source": [
    "#extractFromDir = r'E:\\MCD43B4\\MCD43B4_Gapfilled_Output\\EVI\\Output_Monthly_Means\\5km'\n",
    "#extractToDir = r'E:\\MCD43B4\\MCD43B4_Gapfilled_Output\\EVI\\Output_Monthly_Means\\5km_Cutoff'\n",
    "#extractFromDir = r'I:\\MCD43B4_Gapfilled_Output\\TCW\\Output_Monthly_Means\\5km'\n",
    "#extractToDir = r'I:\\MCD43B4_Gapfilled_Output\\TCW\\Output_Monthly_Means\\5km_Cutoff'\n",
    "extractFromDir = r'G:\\Extra\\Output\\Aggregated\\5km'\n",
    "extractToDir = r'G:\\Extra\\Output\\Aggregated\\5km\\Clipped'"
   ]
  },
  {
   "cell_type": "code",
   "execution_count": 12,
   "metadata": {
    "collapsed": true
   },
   "outputs": [],
   "source": [
    "#inPattern = (os.path.join(extractFromDir,'*.tif'))\n",
    "inPattern = (os.path.join(extractFromDir,'TC*.tif'))\n",
    "inFiles = glob.glob(inPattern)"
   ]
  },
  {
   "cell_type": "code",
   "execution_count": 13,
   "metadata": {
    "collapsed": false
   },
   "outputs": [
    {
     "data": {
      "text/plain": [
       "['G:\\\\Extra\\\\Output\\\\Aggregated\\\\5km\\\\TCB.2015.06.5km.FilledProportion.tif',\n",
       " 'G:\\\\Extra\\\\Output\\\\Aggregated\\\\5km\\\\TCB.2015.06.5km.Mean.tif',\n",
       " 'G:\\\\Extra\\\\Output\\\\Aggregated\\\\5km\\\\TCB.2015.07.5km.FilledProportion.tif',\n",
       " 'G:\\\\Extra\\\\Output\\\\Aggregated\\\\5km\\\\TCB.2015.07.5km.Mean.tif',\n",
       " 'G:\\\\Extra\\\\Output\\\\Aggregated\\\\5km\\\\TCB.2015.08.5km.FilledProportion.tif',\n",
       " 'G:\\\\Extra\\\\Output\\\\Aggregated\\\\5km\\\\TCB.2015.08.5km.Mean.tif',\n",
       " 'G:\\\\Extra\\\\Output\\\\Aggregated\\\\5km\\\\TCB.2015.09.5km.FilledProportion.tif',\n",
       " 'G:\\\\Extra\\\\Output\\\\Aggregated\\\\5km\\\\TCB.2015.09.5km.Mean.tif',\n",
       " 'G:\\\\Extra\\\\Output\\\\Aggregated\\\\5km\\\\TCB.2015.10.5km.FilledProportion.tif',\n",
       " 'G:\\\\Extra\\\\Output\\\\Aggregated\\\\5km\\\\TCB.2015.10.5km.Mean.tif',\n",
       " 'G:\\\\Extra\\\\Output\\\\Aggregated\\\\5km\\\\TCB.2015.11.5km.FilledProportion.tif',\n",
       " 'G:\\\\Extra\\\\Output\\\\Aggregated\\\\5km\\\\TCB.2015.11.5km.Mean.tif',\n",
       " 'G:\\\\Extra\\\\Output\\\\Aggregated\\\\5km\\\\TCB.2015.12.5km.FilledProportion.tif',\n",
       " 'G:\\\\Extra\\\\Output\\\\Aggregated\\\\5km\\\\TCB.2015.12.5km.Mean.tif',\n",
       " 'G:\\\\Extra\\\\Output\\\\Aggregated\\\\5km\\\\TCW.2015.06.5km.FilledProportion.tif',\n",
       " 'G:\\\\Extra\\\\Output\\\\Aggregated\\\\5km\\\\TCW.2015.06.5km.Mean.tif',\n",
       " 'G:\\\\Extra\\\\Output\\\\Aggregated\\\\5km\\\\TCW.2015.07.5km.FilledProportion.tif',\n",
       " 'G:\\\\Extra\\\\Output\\\\Aggregated\\\\5km\\\\TCW.2015.07.5km.Mean.tif',\n",
       " 'G:\\\\Extra\\\\Output\\\\Aggregated\\\\5km\\\\TCW.2015.08.5km.FilledProportion.tif',\n",
       " 'G:\\\\Extra\\\\Output\\\\Aggregated\\\\5km\\\\TCW.2015.08.5km.Mean.tif',\n",
       " 'G:\\\\Extra\\\\Output\\\\Aggregated\\\\5km\\\\TCW.2015.09.5km.FilledProportion.tif',\n",
       " 'G:\\\\Extra\\\\Output\\\\Aggregated\\\\5km\\\\TCW.2015.09.5km.Mean.tif',\n",
       " 'G:\\\\Extra\\\\Output\\\\Aggregated\\\\5km\\\\TCW.2015.10.5km.FilledProportion.tif',\n",
       " 'G:\\\\Extra\\\\Output\\\\Aggregated\\\\5km\\\\TCW.2015.10.5km.Mean.tif',\n",
       " 'G:\\\\Extra\\\\Output\\\\Aggregated\\\\5km\\\\TCW.2015.11.5km.FilledProportion.tif',\n",
       " 'G:\\\\Extra\\\\Output\\\\Aggregated\\\\5km\\\\TCW.2015.11.5km.Mean.tif',\n",
       " 'G:\\\\Extra\\\\Output\\\\Aggregated\\\\5km\\\\TCW.2015.12.5km.FilledProportion.tif',\n",
       " 'G:\\\\Extra\\\\Output\\\\Aggregated\\\\5km\\\\TCW.2015.12.5km.Mean.tif']"
      ]
     },
     "execution_count": 13,
     "metadata": {},
     "output_type": "execute_result"
    }
   ],
   "source": [
    "inFiles"
   ]
  },
  {
   "cell_type": "code",
   "execution_count": 14,
   "metadata": {
    "collapsed": false
   },
   "outputs": [
    {
     "name": "stdout",
     "output_type": "stream",
     "text": [
      "(3360L, 8640L)\n",
      "0 240\n",
      "(3360L, 8640L)\n",
      "0 240\n",
      "(3360L, 8640L)\n",
      "0 240\n",
      "(3360L, 8640L)\n",
      "0 240\n",
      "(3360L, 8640L)\n",
      "0 240\n",
      "(3360L, 8640L)\n",
      "0 240\n",
      "(3360L, 8640L)\n",
      "0 240\n",
      "(3360L, 8640L)\n",
      "0 240\n",
      "(3072L, 8640L)\n",
      "0 528\n",
      "(3072L, 8640L)\n",
      "0 528\n",
      "(2928L, 8640L)\n",
      "0 672\n",
      "(2928L, 8640L)\n",
      "0 672\n",
      "(2880L, 8640L)\n",
      "0 720\n",
      "(2880L, 8640L)\n",
      "0 720\n",
      "(3360L, 8640L)\n",
      "0 240\n",
      "(3360L, 8640L)\n",
      "0 240\n",
      "(3360L, 8640L)\n",
      "0 240\n",
      "(3360L, 8640L)\n",
      "0 240\n",
      "(3360L, 8640L)\n",
      "0 240\n",
      "(3360L, 8640L)\n",
      "0 240\n",
      "(3360L, 8640L)\n",
      "0 240\n",
      "(3360L, 8640L)\n",
      "0 240\n",
      "(3072L, 8640L)\n",
      "0 528\n",
      "(3072L, 8640L)\n",
      "0 528\n",
      "(2928L, 8640L)\n",
      "0 672\n",
      "(2928L, 8640L)\n",
      "0 672\n",
      "(2880L, 8640L)\n",
      "0 720\n",
      "(2880L, 8640L)\n",
      "0 720\n"
     ]
    }
   ],
   "source": [
    "# compared to the 1km data what is the resolution we are working with?\n",
    "aggregationFactor = 5\n",
    "for infile in inFiles:\n",
    "    mth = os.path.basename(infile).split('.')[2]\n",
    "    latLims = EVI_NS_Lims[mth]\n",
    "    north = latLims[0]\n",
    "    south = latLims[1]\n",
    "    ExtractAndAlign_Single(infile, extractToDir, \n",
    "                           west=-180, east=180, north=north, south=south,\n",
    "                           alignToMasterGrid=False, outFNTag=\"Clipped\",\n",
    "                           createCompressed=True, maintainExtent = True,\n",
    "                           aggregationFactor = aggregationFactor)"
   ]
  },
  {
   "cell_type": "markdown",
   "metadata": {},
   "source": [
    "#### Mosaic multiple sub rasters into a single output"
   ]
  },
  {
   "cell_type": "code",
   "execution_count": null,
   "metadata": {
    "collapsed": true
   },
   "outputs": [],
   "source": [
    "inDir = r'C:\\Users\\zool1301\\Documents\\Other_Data\\Population\\WorldPop\\Births\\raw\\2010'\n",
    "inFiles = glob.glob(os.path.join(inDir,'*.tif'))"
   ]
  },
  {
   "cell_type": "code",
   "execution_count": null,
   "metadata": {
    "collapsed": true
   },
   "outputs": [],
   "source": [
    "nLimit = -np.inf\n",
    "sLimit = np.inf\n",
    "wLimit = np.inf\n",
    "eLimit = -np.inf\n",
    "\n",
    "xRes = None\n",
    "yRes = None\n",
    "goodFiles = []\n",
    "for f in inFiles:\n",
    "    ds = gdal.Open(f)\n",
    "    gt = ds.GetGeoTransform()\n",
    "    \n",
    "    left = gt[0]\n",
    "    top = gt[3]\n",
    "    resX = gt[1]\n",
    "    resY = gt[5]\n",
    "    width = ds.RasterXSize\n",
    "    height = ds.RasterYSize\n",
    "    right = left + resX * width\n",
    "    bottom = top + resY * height\n",
    "    \n",
    "    if xRes is not None:\n",
    "        if abs(xRes - resX) > 0.000001:\n",
    "            print \"warning res wrong, skipping!\"\n",
    "            print (xRes, resX)\n",
    "            print f\n",
    "            continue\n",
    "    else:\n",
    "        xRes = resX\n",
    "    if yRes is not None:\n",
    "        if abs(yRes - resY) > 0.000001:\n",
    "            print \"warning res wrong, skipping!\"\n",
    "            print (yRes, resY)\n",
    "            print f\n",
    "            continue\n",
    "    else:\n",
    "        yRes = resY\n",
    "    goodFiles.append(f)\n",
    "    if top > nLimit:\n",
    "        nLimit = top\n",
    "    if bottom < sLimit:\n",
    "        sLimit = bottom\n",
    "    if left < wLimit:\n",
    "        wLimit = left\n",
    "    if right > eLimit:\n",
    "        eLimit = right"
   ]
  },
  {
   "cell_type": "code",
   "execution_count": null,
   "metadata": {
    "collapsed": true
   },
   "outputs": [],
   "source": [
    "masterGridResolution100m = 0.0008333"
   ]
  },
  {
   "cell_type": "code",
   "execution_count": null,
   "metadata": {
    "collapsed": true
   },
   "outputs": [],
   "source": [
    "outFN = r'C:\\Users\\zool1301\\Documents\\Other_Data\\Population\\WorldPop\\Births\\mosaicedimage\\Births2010_GDAL.tif'\n",
    "outDrv = gdal.GetDriverByName('GTiff')\n",
    "outRaster = outDrv.Create(outFNTemplate.format(outFNBase,outFNTag),\n",
    "                                  inWidth, inHeight, 1, inDT,\n",
    "                                  creationOpts)\n",
    "outRaster.SetGeoTransform(inGT)\n",
    "outRaster.SetProjection(inProj)\n",
    "outBand = outRaster.GetRasterBand(1)\n",
    "if inNDV is not None:\n",
    "    outBand.SetNoDataValue(inNDV)\n",
    "print (data.shape)\n",
    "print outL_InputRef,\n",
    "print outT_InputRef\n",
    "outBand.WriteArray(data, xoff=outL_InputRef, yoff=outT_InputRef)"
   ]
  }
 ],
 "metadata": {
  "kernelspec": {
   "display_name": "Python 2",
   "language": "python",
   "name": "python2"
  },
  "language_info": {
   "codemirror_mode": {
    "name": "ipython",
    "version": 2
   },
   "file_extension": ".py",
   "mimetype": "text/x-python",
   "name": "python",
   "nbconvert_exporter": "python",
   "pygments_lexer": "ipython2",
   "version": "2.7.5"
  }
 },
 "nbformat": 4,
 "nbformat_minor": 0
}
