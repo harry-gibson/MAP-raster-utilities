{
 "cells": [
  {
   "cell_type": "code",
   "execution_count": 2,
   "metadata": {
    "collapsed": true
   },
   "outputs": [],
   "source": [
    "from osgeo import gdal\n",
    "import glob"
   ]
  },
  {
   "cell_type": "code",
   "execution_count": 26,
   "metadata": {
    "collapsed": false
   },
   "outputs": [],
   "source": [
    "def GetAlignedGT(inGT, doSnap = True):\n",
    "    assert isinstance(inGT, tuple) and len(inGT) == 6\n",
    "    xRes = inGT[1]\n",
    "    yRes = inGT[5]\n",
    "    assert round(xRes,10) == -(round(yRes,10))\n",
    "    xOrigin = inGT[0]\n",
    "    yOrigin = inGT[3]\n",
    "    \n",
    "    intDiv = round(1.0 / xRes)\n",
    "    idealRes = round(1.0 / intDiv, 16)\n",
    "    \n",
    "    new_xOrigin = xOrigin\n",
    "    new_yOrigin = yOrigin\n",
    "    \n",
    "    if round(xRes, 16) == idealRes:\n",
    "        print \"cell size already ok\"\n",
    "        # return None\n",
    "    else:\n",
    "        print \"cell size reset to \" + str(idealRes)\n",
    "        if doSnap:\n",
    "            new_xOrigin = round_to_nearest(xOrigin, idealRes)\n",
    "            new_yOrigin = round_to_nearest(yOrigin, idealRes)\n",
    "            \n",
    "        #if idealRes > xRes:\n",
    "        #      # the res was too small so the cells are slightly to the left \n",
    "        #      # and top of where they should be - so move them right / down\n",
    "        #      print \"shifting right/down\"\n",
    "        #      new_xOrigin =(xOrigin + idealRes) - (xOrigin % idealRes)\n",
    "        #      new_yOrigin =(yOrigin - idealRes) + (yOrigin % idealRes)\n",
    "        #  else:\n",
    "        #      # the res was too large so the cells are slightly to the right \n",
    "        #      # and below where they should be - so move them up / left\n",
    "        #      print \"shifting up/left\"\n",
    "        #      new_xOrigin = xOrigin - (xOrigin % idealRes)\n",
    "        #      new_yOrigin = yOrigin - (yOrigin % idealRes)\n",
    "\n",
    "    return (new_xOrigin, idealRes, 0, new_yOrigin, 0, -idealRes)\n",
    "    "
   ]
  },
  {
   "cell_type": "code",
   "execution_count": 18,
   "metadata": {
    "collapsed": false
   },
   "outputs": [],
   "source": [
    "def round_to_nearest(n, m):\n",
    "        r = n % m\n",
    "        return n + m - r if r + r >= m else n - r"
   ]
  },
  {
   "cell_type": "code",
   "execution_count": 23,
   "metadata": {
    "collapsed": false
   },
   "outputs": [
    {
     "data": {
      "text/plain": [
       "-17.916666666666593"
      ]
     },
     "execution_count": 23,
     "metadata": {},
     "output_type": "execute_result"
    }
   ],
   "source": [
    "round_to_nearest(-17.955983290695997, -0.0416666666666665)"
   ]
  },
  {
   "cell_type": "code",
   "execution_count": 28,
   "metadata": {
    "collapsed": false
   },
   "outputs": [
    {
     "name": "stdout",
     "output_type": "stream",
     "text": [
      "C:/Temp/dataprep/vectors\\koliensis.tif\n",
      "cell size reset to 0.0416666666667\n",
      "\tOld: (130.12487595, 0.04166664999999998, 0.0, -0.34169052999999927, 0.0, -0.04166665)\n",
      "\tNew: (130.12500000000009, 0.0416666666666667, 0, -0.3333333333333336, 0, -0.0416666666666667)\n"
     ]
    }
   ],
   "source": [
    "for f in glob.glob(r'C:/Temp/dataprep/vectors/*.tif'):\n",
    "    print f\n",
    "    ds = gdal.Open(f, gdal.GA_Update)\n",
    "    oldG = ds.GetGeoTransform()\n",
    "    newG = GetAlignedGT(oldG)\n",
    "    print \"\\tOld: \"+str(oldG)\n",
    "    print \"\\tNew: \"+str(newG)\n",
    "    ds.SetGeoTransform(newG)\n",
    "    ds.FlushCache()\n",
    "    ds = None\n"
   ]
  },
  {
   "cell_type": "code",
   "execution_count": 70,
   "metadata": {
    "collapsed": true
   },
   "outputs": [],
   "source": [
    "d = gdal.Open(r'C:/Temp/dataprep/vectors/balabacensis.tif')"
   ]
  },
  {
   "cell_type": "code",
   "execution_count": 73,
   "metadata": {
    "collapsed": false
   },
   "outputs": [],
   "source": [
    "d = None"
   ]
  },
  {
   "cell_type": "code",
   "execution_count": 58,
   "metadata": {
    "collapsed": false
   },
   "outputs": [
    {
     "name": "stdout",
     "output_type": "stream",
     "text": [
      "cell size reset to 0.0416666666667\n",
      "shifting right/down\n"
     ]
    },
    {
     "data": {
      "text/plain": [
       "(71.7083333333334,\n",
       " 0.0416666666666667,\n",
       " 0,\n",
       " 30.375000000000025,\n",
       " 0,\n",
       " 0.0416666666666667)"
      ]
     },
     "execution_count": 58,
     "metadata": {},
     "output_type": "execute_result"
    }
   ],
   "source": [
    "newG = GetAlignedGT(g)\n",
    "newG"
   ]
  },
  {
   "cell_type": "code",
   "execution_count": 63,
   "metadata": {
    "collapsed": false
   },
   "outputs": [],
   "source": [
    "testG = (-18.0000648, 0.04166665, 0.0, 37.54162765, 0.0, -0.04166665)"
   ]
  },
  {
   "cell_type": "code",
   "execution_count": 64,
   "metadata": {
    "collapsed": false
   },
   "outputs": [
    {
     "name": "stdout",
     "output_type": "stream",
     "text": [
      "cell size reset to 0.0416666666667\n",
      "shifting right/down\n"
     ]
    },
    {
     "data": {
      "text/plain": [
       "(-18.000000000000014,\n",
       " 0.0416666666666667,\n",
       " 0,\n",
       " 37.54166666666669,\n",
       " 0,\n",
       " 0.0416666666666667)"
      ]
     },
     "execution_count": 64,
     "metadata": {},
     "output_type": "execute_result"
    }
   ],
   "source": [
    "GetAlignedGT(testG)"
   ]
  },
  {
   "cell_type": "code",
   "execution_count": 29,
   "metadata": {
    "collapsed": true
   },
   "outputs": [],
   "source": [
    "s =' hello'"
   ]
  },
  {
   "cell_type": "code",
   "execution_count": 32,
   "metadata": {
    "collapsed": false
   },
   "outputs": [
    {
     "data": {
      "text/plain": [
       "-1"
      ]
     },
     "execution_count": 32,
     "metadata": {},
     "output_type": "execute_result"
    }
   ],
   "source": [
    "\n",
    "s.find('q')"
   ]
  },
  {
   "cell_type": "code",
   "execution_count": 33,
   "metadata": {
    "collapsed": false
   },
   "outputs": [
    {
     "data": {
      "text/plain": [
       "' Hello'"
      ]
     },
     "execution_count": 33,
     "metadata": {},
     "output_type": "execute_result"
    }
   ],
   "source": [
    "s.title()"
   ]
  },
  {
   "cell_type": "code",
   "execution_count": 36,
   "metadata": {
    "collapsed": false
   },
   "outputs": [],
   "source": [
    "files = glob.glob(r'C:\\Temp\\dataprep\\vectors\\rs\\*.tif.xml')\n",
    "for f in files:\n",
    "    vector = os.path.basename(f).split('_')[0].title()\n",
    "    if not f.find('aconitus') == -1:\n",
    "        continue\n",
    "    # Read in the file\n",
    "    filedata = None\n",
    "    with open(f, 'r') as file:\n",
    "        filedata = file.read()\n",
    "\n",
    "    # Replace the target string\n",
    "    filedata = filedata.replace('Aconitus', vector)\n",
    "\n",
    "    # Write the file out again\n",
    "    with open(f, 'w') as file:\n",
    "        file.write(filedata)"
   ]
  },
  {
   "cell_type": "code",
   "execution_count": 35,
   "metadata": {
    "collapsed": true
   },
   "outputs": [],
   "source": [
    "import os, glob"
   ]
  },
  {
   "cell_type": "code",
   "execution_count": null,
   "metadata": {
    "collapsed": true
   },
   "outputs": [],
   "source": []
  }
 ],
 "metadata": {
  "kernelspec": {
   "display_name": "Python 2",
   "language": "python",
   "name": "python2"
  },
  "language_info": {
   "codemirror_mode": {
    "name": "ipython",
    "version": 2
   },
   "file_extension": ".py",
   "mimetype": "text/x-python",
   "name": "python",
   "nbconvert_exporter": "python",
   "pygments_lexer": "ipython2",
   "version": "2.7.5"
  }
 },
 "nbformat": 4,
 "nbformat_minor": 2
}
