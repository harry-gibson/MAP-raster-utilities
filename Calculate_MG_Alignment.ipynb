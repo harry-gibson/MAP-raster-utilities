{
 "cells": [
  {
   "cell_type": "markdown",
   "metadata": {},
   "source": [
    "# Align geotransform to mastergrids\n",
    "\n",
    "Given an existing raster whose origin point is not precisely aligned to the global mastergrids (but which is otherwise at a mastergrid resolution), recalculate the origin and resolution to precisely align with the mastergrids.\n",
    "\n",
    "NB this does not do any reinterpolation, it just corrects what is assumed to be an incorrect (e.g. inappropriately rounded) recording of the geotransform parameters.\n",
    "\n",
    "The relevant code is in the external library file, this notebook just shows using the code and the GDAL syntax necessary to actually modify the files"
   ]
  },
  {
   "cell_type": "code",
   "execution_count": 2,
   "metadata": {
    "collapsed": true
   },
   "outputs": [],
   "source": [
    "from osgeo import gdal\n",
    "import glob"
   ]
  },
  {
   "cell_type": "code",
   "execution_count": null,
   "metadata": {
    "collapsed": true
   },
   "outputs": [],
   "source": [
    "from raster_utilities.utils.geotransform_calcs import GetAlignedGeoTransform"
   ]
  },
  {
   "cell_type": "code",
   "execution_count": 28,
   "metadata": {},
   "outputs": [
    {
     "name": "stdout",
     "output_type": "stream",
     "text": [
      "C:/Temp/dataprep/vectors\\koliensis.tif\n",
      "cell size reset to 0.0416666666667\n",
      "\tOld: (130.12487595, 0.04166664999999998, 0.0, -0.34169052999999927, 0.0, -0.04166665)\n",
      "\tNew: (130.12500000000009, 0.0416666666666667, 0, -0.3333333333333336, 0, -0.0416666666666667)\n"
     ]
    }
   ],
   "source": [
    "for f in glob.glob(r'C:/Temp/dataprep/vectors/*.tif'):\n",
    "    print f\n",
    "    ds = gdal.Open(f, gdal.GA_Update)\n",
    "    oldG = ds.GetGeoTransform()\n",
    "    newG = GetAlignedGeoTransform(oldG)\n",
    "    print \"\\tOld: \"+str(oldG)\n",
    "    print \"\\tNew: \"+str(newG)\n",
    "    ds.SetGeoTransform(newG)\n",
    "    ds.FlushCache()\n",
    "    ds = None\n"
   ]
  }
 ],
 "metadata": {
  "kernelspec": {
   "display_name": "Python 3",
   "language": "python",
   "name": "python3"
  },
  "language_info": {
   "codemirror_mode": {
    "name": "ipython",
    "version": 3
   },
   "file_extension": ".py",
   "mimetype": "text/x-python",
   "name": "python",
   "nbconvert_exporter": "python",
   "pygments_lexer": "ipython3",
   "version": "3.6.5"
  }
 },
 "nbformat": 4,
 "nbformat_minor": 2
}
