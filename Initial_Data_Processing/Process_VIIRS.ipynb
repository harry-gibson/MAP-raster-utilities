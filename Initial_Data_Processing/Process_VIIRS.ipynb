{
 "cells": [
  {
   "cell_type": "markdown",
   "metadata": {},
   "source": [
    "# Process VIIRS Night-time lights data\n",
    "\n",
    "The data we use are the monthly DNB (day-night band) composites.\n",
    "\n",
    "Download these from \n",
    "https://www.ngdc.noaa.gov/eog/viirs/download_dnb_composites.html\n",
    "or https://eogdata.mines.edu/download_dnb_composites.html\n",
    "\n",
    "There are 6 tiles for each global monthly image; they are at 500m resolution. They are provided in .tgz files and they are very large due to the resolution and the nature of the data meaning they do not compress well. \n",
    "\n",
    "This notebook helps organise the downloaded files, unzip, and merge them."
   ]
  },
  {
   "cell_type": "code",
   "execution_count": 1,
   "metadata": {
    "collapsed": false
   },
   "outputs": [],
   "source": [
    "import os"
   ]
  },
  {
   "cell_type": "code",
   "execution_count": 2,
   "metadata": {
    "collapsed": false
   },
   "outputs": [],
   "source": [
    "from osgeo import gdal"
   ]
  },
  {
   "cell_type": "code",
   "execution_count": 3,
   "metadata": {
    "collapsed": false
   },
   "outputs": [],
   "source": [
    "import zipfile\n",
    "import tarfile"
   ]
  },
  {
   "cell_type": "code",
   "execution_count": 4,
   "metadata": {
    "collapsed": false
   },
   "outputs": [],
   "source": [
    "import subprocess"
   ]
  },
  {
   "cell_type": "code",
   "execution_count": 5,
   "metadata": {
    "collapsed": false
   },
   "outputs": [],
   "source": [
    "import glob\n",
    "import shutil"
   ]
  },
  {
   "cell_type": "code",
   "execution_count": 6,
   "metadata": {
    "collapsed": false
   },
   "outputs": [
    {
     "ename": "ModuleNotFoundError",
     "evalue": "No module named 'joblib'",
     "output_type": "error",
     "traceback": [
      "\u001b[1;31m---------------------------------------------------------------------------\u001b[0m",
      "\u001b[1;31mModuleNotFoundError\u001b[0m                       Traceback (most recent call last)",
      "\u001b[1;32m<ipython-input-6-d295e7d12d3f>\u001b[0m in \u001b[0;36m<module>\u001b[1;34m\u001b[0m\n\u001b[1;32m----> 1\u001b[1;33m \u001b[1;32mfrom\u001b[0m \u001b[0mjoblib\u001b[0m \u001b[1;32mimport\u001b[0m \u001b[0mParallel\u001b[0m\u001b[1;33m,\u001b[0m \u001b[0mdelayed\u001b[0m\u001b[1;33m\u001b[0m\u001b[1;33m\u001b[0m\u001b[0m\n\u001b[0m",
      "\u001b[1;31mModuleNotFoundError\u001b[0m: No module named 'joblib'"
     ]
    }
   ],
   "source": [
    "from joblib import Parallel, delayed\n"
   ]
  },
  {
   "cell_type": "code",
   "execution_count": 28,
   "metadata": {
    "collapsed": false
   },
   "outputs": [],
   "source": [
    "indir = r'E:\\Data\\Harry\\Documents\\dataprep\\VIIRS_annual'\n"
   ]
  },
  {
   "cell_type": "markdown",
   "metadata": {},
   "source": [
    "Move all the files from a single download folder into subfolders corresponding to the date"
   ]
  },
  {
   "cell_type": "code",
   "execution_count": 31,
   "metadata": {
    "collapsed": false
   },
   "outputs": [],
   "source": [
    "infiles = glob.glob(indir+'\\\\*.tgz')"
   ]
  },
  {
   "cell_type": "code",
   "execution_count": 32,
   "metadata": {
    "collapsed": false
   },
   "outputs": [],
   "source": [
    "for f in infiles:\n",
    "    base = os.path.basename(f)\n",
    "    daterange = base.split('_')[2]\n",
    "    destdir = os.path.join(indir,daterange)\n",
    "    if not os.path.exists(destdir):\n",
    "        os.mkdir(destdir)\n",
    "    shutil.move(f, destdir)\n",
    "    "
   ]
  },
  {
   "cell_type": "code",
   "execution_count": 33,
   "metadata": {
    "collapsed": false
   },
   "outputs": [],
   "source": [
    "indirs = [d for d in glob.glob(indir+\"\\\\*\") if os.path.isdir(d)]\n"
   ]
  },
  {
   "cell_type": "code",
   "execution_count": 34,
   "metadata": {
    "collapsed": false
   },
   "outputs": [
    {
     "data": {
      "text/plain": [
       "['E:\\\\Data\\\\Harry\\\\Documents\\\\dataprep\\\\VIIRS_annual\\\\20150101-20151231',\n",
       " 'E:\\\\Data\\\\Harry\\\\Documents\\\\dataprep\\\\VIIRS_annual\\\\20160101-20161231']"
      ]
     },
     "execution_count": 34,
     "metadata": {},
     "output_type": "execute_result"
    }
   ],
   "source": [
    "sorted(indirs)"
   ]
  },
  {
   "cell_type": "markdown",
   "metadata": {},
   "source": [
    "Define a function which mosaics, translates, and prepares tiles into a single output tiff. We just do this by shelling out to the gdal command line tools."
   ]
  },
  {
   "cell_type": "code",
   "execution_count": 112,
   "metadata": {
    "collapsed": false
   },
   "outputs": [],
   "source": [
    "vrtcommand = \"gdalbuildvrt {0} {1}\"\n",
    "transcommand = \"gdal_translate -of GTiff -co COMPRESS=LZW \"+\\\n",
    "    \"-co PREDICTOR=2 -co TILED=YES -co SPARSE_OK=TRUE -co BIGTIFF=YES \"+\\\n",
    "    \"--config GDAL_CACHEMAX 8000 {0} {1}\"\n",
    "ovcommand = \"gdaladdo -ro --config COMPRESS_OVERVIEW LZW --config USE_RRD NO \" +\\\n",
    "        \"--config TILED YES {0} 2 4 8 16 32 64 128 256 --config GDAL_CACHEMAX 8000\"\n",
    "statcommand = \"gdalinfo -stats {0} >nul\"\n",
    "def translateDir(dIn, dOut=None, viirsSDR=\"SVDNB\", filecode=\"vcmcfg\", ext=\"avg_rade9\"):\n",
    "    if dOut is None:\n",
    "        dOut = dIn\n",
    "    print (\"Operating in folder \"+dIn)\n",
    "    filetag = \"SVDNB\" #'vcmslcfg' # or vcmcfg for stray-light-excluded\n",
    "    tars = glob.glob(dIn+\"\\\\\"+\"*\"+filetag+\"*.tgz\")\n",
    "    if len(tars)<6:\n",
    "        print (\"incomplete folder!\")\n",
    "        return\n",
    "    dirTileList = []\n",
    "    subDirName = os.path.basename(dIn)\n",
    "    outFile = os.path.join(dOut, \"VIIRS.DNB.StrayLightCorrected.\"+subDirName)\n",
    "    \n",
    "    if os.path.exists(outFile + \".tif\"):\n",
    "        print (\"Already done! Skipping\")\n",
    "        return\n",
    "    #print outFile + \" doesn't exist: running!\"\n",
    "    #return\n",
    "    for t in tars:\n",
    "        # the tar file will have 7 parts same as the tiffs it contains for the monthly ones, but \n",
    "        # only 6 parts for the annual ones which contain multiple shortnames\n",
    "        if t.find(filetag) == -1:\n",
    "            continue\n",
    "        tar = tarfile.open(t)\n",
    "        #tardir = os.path.dirname(t)\n",
    "        members = tar.getmembers()\n",
    "        for m in members:\n",
    "            fnFull = os.path.basename(m.name)\n",
    "            try:\n",
    "                fn, theirExt, tifExt = fnFull.split('.')\n",
    "                viirssdr, sat, daterange, roi, shortname, version, date = fn.split('_')\n",
    "            except ValueError:\n",
    "                print(\"unparseable filename {} in tar {}, skipping\".format(fnFull, t))\n",
    "                continue\n",
    "            if ((theirExt.find(ext) != -1)\n",
    "                and (shortname == filecode)):\n",
    "                dirTileList.append(os.path.join(dIn, fnFull))\n",
    "                if os.path.exists(os.path.join(dIn, fnFull)):\n",
    "                    print (fnFull +\" exists - skipping extraction!\")\n",
    "                    continue\n",
    "                print (\"Extracting \" + fnFull)\n",
    "                \n",
    "                tar.extract(m, dIn)\n",
    "                \n",
    "            else:\n",
    "                print(\"skipped \" +fnFull)\n",
    "    \n",
    "    vrtBuilder = vrtcommand.format(outFile+\".vrt\", \" \".join(dirTileList))\n",
    "    #vrtBuilder = vrtcommand.format(outFile+\".vrt\", os.path.join(dIn,\"*\"+filetag+\"*.tif\"))\n",
    "    print (vrtBuilder)\n",
    "    subprocess.call(vrtBuilder)\n",
    "        \n",
    "    transBuilder = transcommand.format(outFile+\".vrt\", outFile+\".tif\")\n",
    "    print (transBuilder)\n",
    "    subprocess.call(transBuilder)\n",
    "    \n",
    "    ovBuilder = ovcommand.format(outFile+\".tif\")\n",
    "    print (ovBuilder)\n",
    "    subprocess.call(ovBuilder)\n",
    "    \n",
    "    statBuilder = statcommand.format(outFile+\".tif\")\n",
    "    print (statBuilder)\n",
    "    subprocess.call(statBuilder)\n",
    "    \n",
    "    #for f in dirTileList:\n",
    "    #    os.remove(f)"
   ]
  },
  {
   "cell_type": "markdown",
   "metadata": {},
   "source": [
    "now just run it on each subfolder, or some of them, or whatever. Tried using the Parallel library to run multiple at once but it didn't work, or something, I can't remember\n",
    "\n",
    "NB the shortnames are:\n",
    "\n",
    "In the monthly products:\n",
    "* vcmcfg\n",
    "* vcmslcfg\n",
    "\n",
    "In the annual products:\n",
    "* vcm-orm\n",
    "* vcm-orm-ntl\n",
    "* vcm-ntl"
   ]
  },
  {
   "cell_type": "code",
   "execution_count": 75,
   "metadata": {
    "collapsed": false
   },
   "outputs": [
    {
     "name": "stdout",
     "output_type": "stream",
     "text": [
      "Operating in folder E:\\Data\\Harry\\Documents\\dataprep\\VIIRS_annual\\20150101-20151231\n",
      "Extracting SVDNB_npp_20150101-20151231_00N060E_vcm-ntl_v10_c201701311200.avg_rade9.tif\n",
      "Extracting SVDNB_npp_20150101-20151231_00N060E_vcm-orm-ntl_v10_c201701311200.avg_rade9.tif\n",
      "Extracting SVDNB_npp_20150101-20151231_00N060E_vcm-orm_v10_c201701311200.avg_rade9.tif\n",
      "Extracting SVDNB_npp_20150101-20151231_00N060E_vcm_v10_c201701311200.avg_rade9.tif\n",
      "Extracting SVDNB_npp_20150101-20151231_00N060W_vcm-ntl_v10_c201701311200.avg_rade9.tif\n",
      "Extracting SVDNB_npp_20150101-20151231_00N060W_vcm-orm-ntl_v10_c201701311200.avg_rade9.tif\n",
      "Extracting SVDNB_npp_20150101-20151231_00N060W_vcm-orm_v10_c201701311200.avg_rade9.tif\n",
      "Extracting SVDNB_npp_20150101-20151231_00N060W_vcm_v10_c201701311200.avg_rade9.tif\n",
      "Extracting SVDNB_npp_20150101-20151231_00N180W_vcm-ntl_v10_c201701311200.avg_rade9.tif\n",
      "Extracting SVDNB_npp_20150101-20151231_00N180W_vcm-orm-ntl_v10_c201701311200.avg_rade9.tif\n",
      "Extracting SVDNB_npp_20150101-20151231_00N180W_vcm-orm_v10_c201701311200.avg_rade9.tif\n",
      "Extracting SVDNB_npp_20150101-20151231_00N180W_vcm_v10_c201701311200.avg_rade9.tif\n",
      "Extracting SVDNB_npp_20150101-20151231_75N060E_vcm-ntl_v10_c201701311200.avg_rade9.tif\n",
      "Extracting SVDNB_npp_20150101-20151231_75N060E_vcm-orm-ntl_v10_c201701311200.avg_rade9.tif\n",
      "Extracting SVDNB_npp_20150101-20151231_75N060E_vcm-orm_v10_c201701311200.avg_rade9.tif\n",
      "Extracting SVDNB_npp_20150101-20151231_75N060E_vcm_v10_c201701311200.avg_rade9.tif\n",
      "Extracting SVDNB_npp_20150101-20151231_75N060W_vcm-ntl_v10_c201701311200.avg_rade9.tif\n",
      "Extracting SVDNB_npp_20150101-20151231_75N060W_vcm-orm-ntl_v10_c201701311200.avg_rade9.tif\n",
      "Extracting SVDNB_npp_20150101-20151231_75N060W_vcm-orm_v10_c201701311200.avg_rade9.tif\n",
      "Extracting SVDNB_npp_20150101-20151231_75N060W_vcm_v10_c201701311200.avg_rade9.tif\n",
      "Extracting SVDNB_npp_20150101-20151231_75N180W_vcm-ntl_v10_c201701311200.avg_rade9.tif\n",
      "Extracting SVDNB_npp_20150101-20151231_75N180W_vcm-orm-ntl_v10_c201701311200.avg_rade9.tif\n",
      "Extracting SVDNB_npp_20150101-20151231_75N180W_vcm-orm_v10_c201701311200.avg_rade9.tif\n",
      "Extracting SVDNB_npp_20150101-20151231_75N180W_vcm_v10_c201701311200.avg_rade9.tif\n",
      "gdalbuildvrt C:\\Temp\\nightlights\\VIIRS.DNB.StrayLightCorrected.20150101-20151231.vrt E:\\Data\\Harry\\Documents\\dataprep\\VIIRS_annual\\20150101-20151231\\*SVDNB*.tif\n",
      "gdal_translate -of GTiff -co COMPRESS=LZW -co PREDICTOR=2 -co TILED=YES -co SPARSE_OK=TRUE -co BIGTIFF=YES --config GDAL_CACHEMAX 8000 C:\\Temp\\nightlights\\VIIRS.DNB.StrayLightCorrected.20150101-20151231.vrt C:\\Temp\\nightlights\\VIIRS.DNB.StrayLightCorrected.20150101-20151231.tif\n",
      "gdaladdo -ro --config COMPRESS_OVERVIEW LZW --config USE_RRD NO --config TILED YES C:\\Temp\\nightlights\\VIIRS.DNB.StrayLightCorrected.20150101-20151231.tif 2 4 8 16 32 64 128 256 --config GDAL_CACHEMAX 8000\n",
      "gdalinfo -stats C:\\Temp\\nightlights\\VIIRS.DNB.StrayLightCorrected.20150101-20151231.tif >nul\n",
      "Operating in folder E:\\Data\\Harry\\Documents\\dataprep\\VIIRS_annual\\20160101-20161231\n",
      "Already done! Skipping\n"
     ]
    }
   ],
   "source": [
    "#Parallel(n_jobs=4)(delayed(translateDir)(d) for d in indirs)k\n",
    "outDir = r'\\\\map-fs1.ndph.ox.ac.uk\\map_data\\mastergrids\\Other_Global_Covariates\\NightTimeLights\\VIIRS_DNB_Monthly'\n",
    "outDir = r'C:\\Temp\\nightlights'\n",
    "for d in sorted(indirs):\n",
    "    translateDir(d, outDir)"
   ]
  },
  {
   "cell_type": "code",
   "execution_count": 113,
   "metadata": {},
   "outputs": [
    {
     "name": "stdout",
     "output_type": "stream",
     "text": [
      "Operating in folder E:\\Data\\Harry\\Documents\\dataprep\\VIIRS_annual\\20150101-20151231\n",
      "unparseable filename README_dnb_composites_v1.txt in tar E:\\Data\\Harry\\Documents\\dataprep\\VIIRS_annual\\20150101-20151231\\SVDNB_npp_20150101-20151231_00N060E_v10_c201701311200.tgz, skipping\n",
      "SVDNB_npp_20150101-20151231_00N060E_vcm-ntl_v10_c201701311200.avg_rade9.tif exists - skipping extraction!\n",
      "skipped SVDNB_npp_20150101-20151231_00N060E_vcm-orm-ntl_v10_c201701311200.avg_rade9.tif\n",
      "skipped SVDNB_npp_20150101-20151231_00N060E_vcm-orm_v10_c201701311200.avg_rade9.tif\n",
      "skipped SVDNB_npp_20150101-20151231_00N060E_vcm_v10_c201701311200.avg_rade9.tif\n",
      "skipped SVDNB_npp_20150101-20151231_00N060E_vcm_v10_c201701311200.cf_cvg.tif\n",
      "skipped SVDNB_npp_20150101-20151231_00N060E_vcm_v10_c201701311200.cvg.tif\n",
      "unparseable filename README_dnb_composites_v1.txt in tar E:\\Data\\Harry\\Documents\\dataprep\\VIIRS_annual\\20150101-20151231\\SVDNB_npp_20150101-20151231_00N060W_v10_c201701311200.tgz, skipping\n",
      "SVDNB_npp_20150101-20151231_00N060W_vcm-ntl_v10_c201701311200.avg_rade9.tif exists - skipping extraction!\n",
      "skipped SVDNB_npp_20150101-20151231_00N060W_vcm-orm-ntl_v10_c201701311200.avg_rade9.tif\n",
      "skipped SVDNB_npp_20150101-20151231_00N060W_vcm-orm_v10_c201701311200.avg_rade9.tif\n",
      "skipped SVDNB_npp_20150101-20151231_00N060W_vcm_v10_c201701311200.avg_rade9.tif\n",
      "skipped SVDNB_npp_20150101-20151231_00N060W_vcm_v10_c201701311200.cf_cvg.tif\n",
      "skipped SVDNB_npp_20150101-20151231_00N060W_vcm_v10_c201701311200.cvg.tif\n",
      "unparseable filename README_dnb_composites_v1.txt in tar E:\\Data\\Harry\\Documents\\dataprep\\VIIRS_annual\\20150101-20151231\\SVDNB_npp_20150101-20151231_00N180W_v10_c201701311200.tgz, skipping\n",
      "SVDNB_npp_20150101-20151231_00N180W_vcm-ntl_v10_c201701311200.avg_rade9.tif exists - skipping extraction!\n",
      "skipped SVDNB_npp_20150101-20151231_00N180W_vcm-orm-ntl_v10_c201701311200.avg_rade9.tif\n",
      "skipped SVDNB_npp_20150101-20151231_00N180W_vcm-orm_v10_c201701311200.avg_rade9.tif\n",
      "skipped SVDNB_npp_20150101-20151231_00N180W_vcm_v10_c201701311200.avg_rade9.tif\n",
      "skipped SVDNB_npp_20150101-20151231_00N180W_vcm_v10_c201701311200.cf_cvg.tif\n",
      "skipped SVDNB_npp_20150101-20151231_00N180W_vcm_v10_c201701311200.cvg.tif\n",
      "unparseable filename README_dnb_composites_v1.txt in tar E:\\Data\\Harry\\Documents\\dataprep\\VIIRS_annual\\20150101-20151231\\SVDNB_npp_20150101-20151231_75N060E_v10_c201701311200.tgz, skipping\n",
      "SVDNB_npp_20150101-20151231_75N060E_vcm-ntl_v10_c201701311200.avg_rade9.tif exists - skipping extraction!\n",
      "skipped SVDNB_npp_20150101-20151231_75N060E_vcm-orm-ntl_v10_c201701311200.avg_rade9.tif\n",
      "skipped SVDNB_npp_20150101-20151231_75N060E_vcm-orm_v10_c201701311200.avg_rade9.tif\n",
      "skipped SVDNB_npp_20150101-20151231_75N060E_vcm_v10_c201701311200.avg_rade9.tif\n",
      "skipped SVDNB_npp_20150101-20151231_75N060E_vcm_v10_c201701311200.cf_cvg.tif\n",
      "skipped SVDNB_npp_20150101-20151231_75N060E_vcm_v10_c201701311200.cvg.tif\n",
      "unparseable filename README_dnb_composites_v1.txt in tar E:\\Data\\Harry\\Documents\\dataprep\\VIIRS_annual\\20150101-20151231\\SVDNB_npp_20150101-20151231_75N060W_v10_c201701311200.tgz, skipping\n",
      "SVDNB_npp_20150101-20151231_75N060W_vcm-ntl_v10_c201701311200.avg_rade9.tif exists - skipping extraction!\n",
      "skipped SVDNB_npp_20150101-20151231_75N060W_vcm-orm-ntl_v10_c201701311200.avg_rade9.tif\n",
      "skipped SVDNB_npp_20150101-20151231_75N060W_vcm-orm_v10_c201701311200.avg_rade9.tif\n",
      "skipped SVDNB_npp_20150101-20151231_75N060W_vcm_v10_c201701311200.avg_rade9.tif\n",
      "skipped SVDNB_npp_20150101-20151231_75N060W_vcm_v10_c201701311200.cf_cvg.tif\n",
      "skipped SVDNB_npp_20150101-20151231_75N060W_vcm_v10_c201701311200.cvg.tif\n",
      "unparseable filename README_dnb_composites_v1.txt in tar E:\\Data\\Harry\\Documents\\dataprep\\VIIRS_annual\\20150101-20151231\\SVDNB_npp_20150101-20151231_75N180W_v10_c201701311200.tgz, skipping\n",
      "SVDNB_npp_20150101-20151231_75N180W_vcm-ntl_v10_c201701311200.avg_rade9.tif exists - skipping extraction!\n",
      "skipped SVDNB_npp_20150101-20151231_75N180W_vcm-orm-ntl_v10_c201701311200.avg_rade9.tif\n",
      "skipped SVDNB_npp_20150101-20151231_75N180W_vcm-orm_v10_c201701311200.avg_rade9.tif\n",
      "skipped SVDNB_npp_20150101-20151231_75N180W_vcm_v10_c201701311200.avg_rade9.tif\n",
      "skipped SVDNB_npp_20150101-20151231_75N180W_vcm_v10_c201701311200.cf_cvg.tif\n",
      "skipped SVDNB_npp_20150101-20151231_75N180W_vcm_v10_c201701311200.cvg.tif\n",
      "gdalbuildvrt C:\\Temp\\nightlights\\VIIRS.DNB.StrayLightCorrected.20150101-20151231.vrt E:\\Data\\Harry\\Documents\\dataprep\\VIIRS_annual\\20150101-20151231\\SVDNB_npp_20150101-20151231_00N060E_vcm-ntl_v10_c201701311200.avg_rade9.tif E:\\Data\\Harry\\Documents\\dataprep\\VIIRS_annual\\20150101-20151231\\SVDNB_npp_20150101-20151231_00N060W_vcm-ntl_v10_c201701311200.avg_rade9.tif E:\\Data\\Harry\\Documents\\dataprep\\VIIRS_annual\\20150101-20151231\\SVDNB_npp_20150101-20151231_00N180W_vcm-ntl_v10_c201701311200.avg_rade9.tif E:\\Data\\Harry\\Documents\\dataprep\\VIIRS_annual\\20150101-20151231\\SVDNB_npp_20150101-20151231_75N060E_vcm-ntl_v10_c201701311200.avg_rade9.tif E:\\Data\\Harry\\Documents\\dataprep\\VIIRS_annual\\20150101-20151231\\SVDNB_npp_20150101-20151231_75N060W_vcm-ntl_v10_c201701311200.avg_rade9.tif E:\\Data\\Harry\\Documents\\dataprep\\VIIRS_annual\\20150101-20151231\\SVDNB_npp_20150101-20151231_75N180W_vcm-ntl_v10_c201701311200.avg_rade9.tif\n",
      "gdal_translate -of GTiff -co COMPRESS=LZW -co PREDICTOR=2 -co TILED=YES -co SPARSE_OK=TRUE -co BIGTIFF=YES --config GDAL_CACHEMAX 8000 C:\\Temp\\nightlights\\VIIRS.DNB.StrayLightCorrected.20150101-20151231.vrt C:\\Temp\\nightlights\\VIIRS.DNB.StrayLightCorrected.20150101-20151231.tif\n",
      "gdaladdo -ro --config COMPRESS_OVERVIEW LZW --config USE_RRD NO --config TILED YES C:\\Temp\\nightlights\\VIIRS.DNB.StrayLightCorrected.20150101-20151231.tif 2 4 8 16 32 64 128 256 --config GDAL_CACHEMAX 8000\n",
      "gdalinfo -stats C:\\Temp\\nightlights\\VIIRS.DNB.StrayLightCorrected.20150101-20151231.tif >nul\n",
      "Operating in folder E:\\Data\\Harry\\Documents\\dataprep\\VIIRS_annual\\20160101-20161231\n",
      "Already done! Skipping\n"
     ]
    }
   ],
   "source": [
    "outDir = r'C:\\Temp\\nightlights'\n",
    "if not (os.path.isdir(outDir)):\n",
    "    os.makedirs(outDir)\n",
    "variablename = \"vcm-ntl\"\n",
    "for d in sorted(indirs):\n",
    "    translateDir(d, outDir, filecode=variablename)\n"
   ]
  },
  {
   "cell_type": "code",
   "execution_count": 105,
   "metadata": {},
   "outputs": [],
   "source": [
    "t = tarfile.open(r'E:\\Data\\Harry\\Documents\\dataprep\\VIIRS_annual\\20150101-20151231\\SVDNB_npp_20150101-20151231_00N060E_v10_c201701311200.tgz')"
   ]
  },
  {
   "cell_type": "code",
   "execution_count": 107,
   "metadata": {},
   "outputs": [
    {
     "data": {
      "text/plain": [
       "[<TarInfo 'README_dnb_composites_v1.txt' at 0x66098e0>,\n",
       " <TarInfo 'SVDNB_npp_20150101-20151231_00N060E_vcm-ntl_v10_c201701311200.avg_rade9.tif' at 0x66099a8>,\n",
       " <TarInfo 'SVDNB_npp_20150101-20151231_00N060E_vcm-orm-ntl_v10_c201701311200.avg_rade9.tif' at 0x6609688>,\n",
       " <TarInfo 'SVDNB_npp_20150101-20151231_00N060E_vcm-orm_v10_c201701311200.avg_rade9.tif' at 0x6609a70>,\n",
       " <TarInfo 'SVDNB_npp_20150101-20151231_00N060E_vcm_v10_c201701311200.avg_rade9.tif' at 0x6609b38>,\n",
       " <TarInfo 'SVDNB_npp_20150101-20151231_00N060E_vcm_v10_c201701311200.cf_cvg.tif' at 0x6609c00>,\n",
       " <TarInfo 'SVDNB_npp_20150101-20151231_00N060E_vcm_v10_c201701311200.cvg.tif' at 0x6609cc8>]"
      ]
     },
     "execution_count": 107,
     "metadata": {},
     "output_type": "execute_result"
    }
   ],
   "source": [
    "ms = t.getmembers()\n",
    "ms"
   ]
  },
  {
   "cell_type": "code",
   "execution_count": null,
   "metadata": {},
   "outputs": [],
   "source": [
    "fn ms"
   ]
  },
  {
   "cell_type": "code",
   "execution_count": null,
   "metadata": {},
   "outputs": [],
   "source": []
  }
 ],
 "metadata": {
  "kernelspec": {
   "display_name": "Python 3",
   "language": "python",
   "name": "python3"
  },
  "language_info": {
   "codemirror_mode": {
    "name": "ipython",
    "version": 3
   },
   "file_extension": ".py",
   "mimetype": "text/x-python",
   "name": "python",
   "nbconvert_exporter": "python",
   "pygments_lexer": "ipython3",
   "version": "3.6.7"
  }
 },
 "nbformat": 4,
 "nbformat_minor": 2
}
