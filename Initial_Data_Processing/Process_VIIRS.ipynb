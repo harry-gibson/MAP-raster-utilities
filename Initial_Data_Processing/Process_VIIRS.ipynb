{
 "cells": [
  {
   "cell_type": "markdown",
   "metadata": {},
   "source": [
    "# Process VIIRS Night-time lights data\n",
    "\n",
    "The data we use are the monthly DNB (day-night band) composites.\n",
    "\n",
    "Download these from \n",
    "https://www.ngdc.noaa.gov/eog/viirs/download_dnb_composites.html\n",
    "\n",
    "There are 6 tiles for each global monthly image; they are at 500m resolution. They are provided in .tgz files and they are very large due to the resolution and the nature of the data meaning they do not compress well. \n",
    "\n",
    "This notebook helps organise the downloaded files, unzip, and merge them."
   ]
  },
  {
   "cell_type": "code",
   "execution_count": 1,
   "metadata": {
    "collapsed": false
   },
   "outputs": [],
   "source": [
    "import os"
   ]
  },
  {
   "cell_type": "code",
   "execution_count": 2,
   "metadata": {
    "collapsed": false
   },
   "outputs": [],
   "source": [
    "from osgeo import gdal"
   ]
  },
  {
   "cell_type": "code",
   "execution_count": 3,
   "metadata": {
    "collapsed": false
   },
   "outputs": [],
   "source": [
    "import zipfile\n",
    "import tarfile"
   ]
  },
  {
   "cell_type": "code",
   "execution_count": 4,
   "metadata": {
    "collapsed": false
   },
   "outputs": [],
   "source": [
    "import subprocess"
   ]
  },
  {
   "cell_type": "code",
   "execution_count": 5,
   "metadata": {
    "collapsed": false
   },
   "outputs": [],
   "source": [
    "import glob\n",
    "import shutil"
   ]
  },
  {
   "cell_type": "code",
   "execution_count": 11,
   "metadata": {
    "collapsed": false
   },
   "outputs": [],
   "source": [
    "from joblib import Parallel, delayed\n"
   ]
  },
  {
   "cell_type": "code",
   "execution_count": 6,
   "metadata": {
    "collapsed": false
   },
   "outputs": [],
   "source": [
    "indir = r'E:\\Temp\\nightlights'\n"
   ]
  },
  {
   "cell_type": "markdown",
   "metadata": {},
   "source": [
    "Move all the files from a single download folder into subfolders corresponding to the date"
   ]
  },
  {
   "cell_type": "code",
   "execution_count": 7,
   "metadata": {
    "collapsed": false
   },
   "outputs": [],
   "source": [
    "infiles = glob.glob(indir+'\\\\*.tgz')"
   ]
  },
  {
   "cell_type": "code",
   "execution_count": 9,
   "metadata": {
    "collapsed": false
   },
   "outputs": [],
   "source": [
    "for f in infiles:\n",
    "    base = os.path.basename(f)\n",
    "    daterange = base.split('_')[2]\n",
    "    destdir = os.path.join(indir,daterange)\n",
    "    if not os.path.exists(destdir):\n",
    "        os.mkdir(destdir)\n",
    "    shutil.move(f, destdir)\n",
    "    "
   ]
  },
  {
   "cell_type": "code",
   "execution_count": 10,
   "metadata": {
    "collapsed": false
   },
   "outputs": [],
   "source": [
    "indirs = [d for d in glob.glob(indir+\"\\\\*\") if os.path.isdir(d)]\n"
   ]
  },
  {
   "cell_type": "code",
   "execution_count": 12,
   "metadata": {
    "collapsed": false
   },
   "outputs": [
    {
     "data": {
      "text/plain": [
       "['E:\\\\Temp\\\\nightlights\\\\20160501-20160531',\n",
       " 'E:\\\\Temp\\\\nightlights\\\\20160601-20160630',\n",
       " 'E:\\\\Temp\\\\nightlights\\\\20160701-20160731',\n",
       " 'E:\\\\Temp\\\\nightlights\\\\20160801-20160831',\n",
       " 'E:\\\\Temp\\\\nightlights\\\\20160901-20160930']"
      ]
     },
     "execution_count": 12,
     "metadata": {},
     "output_type": "execute_result"
    }
   ],
   "source": [
    "sorted(indirs)"
   ]
  },
  {
   "cell_type": "markdown",
   "metadata": {},
   "source": [
    "Define a function which mosaics, translates, and prepares tiles into a single output tiff. We just do this by shelling out to the gdal command line tools."
   ]
  },
  {
   "cell_type": "code",
   "execution_count": 16,
   "metadata": {
    "collapsed": false
   },
   "outputs": [],
   "source": [
    "vrtcommand = \"gdalbuildvrt {0} {1}\"\n",
    "transcommand = \"gdal_translate -of GTiff -co COMPRESS=LZW \"+\\\n",
    "    \"-co PREDICTOR=2 -co TILED=YES -co SPARSE_OK=TRUE -co BIGTIFF=YES \"+\\\n",
    "    \"--config GDAL_CACHEMAX 8000 {0} {1}\"\n",
    "ovcommand = \"gdaladdo -ro --config COMPRESS_OVERVIEW LZW --config USE_RRD NO \" +\\\n",
    "        \"--config TILED YES {0} 2 4 8 16 32 64 128 256 --config GDAL_CACHEMAX 8000\"\n",
    "statcommand = \"gdalinfo -stats {0} >nul\"\n",
    "def translateDir(dIn, dOut=None):\n",
    "    if dOut is None:\n",
    "        dOut = dIn\n",
    "    print \"Operating in folder \"+dIn\n",
    "    filetag = 'vcmslcfg' # or vcmcfg for stray-light-excluded\n",
    "    tars = glob.glob(dIn+\"\\\\\"+\"*\"+filetag+\"*.tgz\")\n",
    "    if len(tars)<6:\n",
    "        print \"incomplete folder!\"\n",
    "        return\n",
    "    dirTileList = []\n",
    "    subDirName = os.path.basename(dIn)\n",
    "    outFile = os.path.join(dOut, \"VIIRS.DNB.StrayLightCorrected.\"+subDirName)\n",
    "    \n",
    "    if os.path.exists(outFile + \".tif\"):\n",
    "        print \"Already done! Skipping\"\n",
    "        return\n",
    "    #print outFile + \" doesn't exist: running!\"\n",
    "    #return\n",
    "    for t in tars:\n",
    "        if t.find(filetag) == -1:\n",
    "            continue\n",
    "        tar = tarfile.open(t)\n",
    "        #tardir = os.path.dirname(t)\n",
    "        members = tar.members\n",
    "        for m in members:\n",
    "            if m.name.find('avg_rad') != 1:\n",
    "                if os.path.exists(os.path.join(dIn, m.name)):\n",
    "                    print m.name +\" exists - skipping extraction!\"\n",
    "                    continue\n",
    "                print \"Extracting \"+m.name\n",
    "                \n",
    "                tar.extract(m, dIn)\n",
    "                dirTileList.append(os.path.join(dIn, m.name))\n",
    "    \n",
    "    \n",
    "    vrtBuilder = vrtcommand.format(outFile+\".vrt\", os.path.join(dIn,\"*\"+filetag+\"*.tif\"))\n",
    "    print vrtBuilder\n",
    "    subprocess.call(vrtBuilder)\n",
    "        \n",
    "    transBuilder = transcommand.format(outFile+\".vrt\", outFile+\".tif\")\n",
    "    print transBuilder\n",
    "    subprocess.call(transBuilder)\n",
    "    \n",
    "    ovBuilder = ovcommand.format(outFile+\".tif\")\n",
    "    print ovBuilder\n",
    "    subprocess.call(ovBuilder)\n",
    "    \n",
    "    statBuilder = statcommand.format(outFile+\".tif\")\n",
    "    print statBuilder\n",
    "    subprocess.call(statBuilder)\n",
    "    \n",
    "    for f in dirTileList:\n",
    "        os.remove(f)"
   ]
  },
  {
   "cell_type": "markdown",
   "metadata": {
    "collapsed": false
   },
   "source": [
    "now just run it on each subfolder, or some of them, or whatever. Tried using the Parallel library to run multiple at once but it didn't work, or something, I can't remember"
   ]
  },
  {
   "cell_type": "code",
   "execution_count": null,
   "metadata": {
    "collapsed": false
   },
   "outputs": [],
   "source": [
    "#Parallel(n_jobs=4)(delayed(translateDir)(d) for d in indirs)\n",
    "outDir = r'\\\\map-fs1.ndph.ox.ac.uk\\map_data\\mastergrids\\Other_Global_Covariates\\NightTimeLights\\VIIRS_DNB_Monthly'\n",
    "outDir = r'C:\\Temp\\nightlights'\n",
    "for d in sorted(indirs[1:]):\n",
    "    translateDir(d, outDir)"
   ]
  }
 ],
 "metadata": {
  "kernelspec": {
   "display_name": "Python 2",
   "language": "python",
   "name": "python2"
  },
  "language_info": {
   "codemirror_mode": {
    "name": "ipython",
    "version": 2
   },
   "file_extension": ".py",
   "mimetype": "text/x-python",
   "name": "python",
   "nbconvert_exporter": "python",
   "pygments_lexer": "ipython2",
   "version": "2.7.5"
  }
 },
 "nbformat": 4,
 "nbformat_minor": 0
}
