{
 "cells": [
  {
   "cell_type": "markdown",
   "metadata": {},
   "source": [
    "# Convert GPMM IMERG to tiffs\n",
    "\n",
    "The data are downloaded in HDF5 format and are stored in a strange pixel order.\n",
    "Download site is https://gpm1.gesdisc.eosdis.nasa.gov/data/GPM_L3/GPM_3IMERGM.05/ (requires EarthData login)"
   ]
  },
  {
   "cell_type": "code",
   "execution_count": 11,
   "metadata": {
    "collapsed": false
   },
   "outputs": [],
   "source": [
    "import numpy as np\n",
    "from osgeo import gdal\n",
    "import tables\n",
    "import os\n",
    "import glob"
   ]
  },
  {
   "cell_type": "code",
   "execution_count": 12,
   "metadata": {
    "collapsed": false
   },
   "outputs": [],
   "source": [
    "from raster_utilities.io.TiffFile import SingleBandTiffFile, RasterProps"
   ]
  },
  {
   "cell_type": "code",
   "execution_count": 13,
   "metadata": {
    "collapsed": false
   },
   "outputs": [],
   "source": [
    "inDir = r'C:\\Temp\\dataprep\\gpmm'\n",
    "#inDir = r'\\\\path\\to\\GPMM\\Downloaded'\n",
    "outDir = r'C:\\Temp\\dataprep\\gpmm\\Tif'\n",
    "#outDir = r'\\\\path\\to\\GPMM\\tiffs'"
   ]
  },
  {
   "cell_type": "code",
   "execution_count": 19,
   "metadata": {
    "collapsed": false
   },
   "outputs": [],
   "source": [
    "inFiles = glob.glob(os.path.join(inDir,'*.HDF5'))\n"
   ]
  },
  {
   "cell_type": "code",
   "execution_count": 15,
   "metadata": {
    "collapsed": false
   },
   "outputs": [],
   "source": [
    "globalProj = 'GEOGCS[\"WGS 84\",DATUM[\"WGS_1984\",SPHEROID[\"WGS 84\",6378137,298.257223563,AUTHORITY[\"EPSG\",\"7030\"]],AUTHORITY[\"EPSG\",\"6326\"]],PRIMEM[\"Greenwich\",0],UNIT[\"degree\",0.0174532925199433],AUTHORITY[\"EPSG\",\"4326\"]]'\n",
    "globalGT = (-180.0, 0.1, 0.0, 90, 0.0, -0.1)"
   ]
  },
  {
   "cell_type": "code",
   "execution_count": 16,
   "metadata": {
    "collapsed": false
   },
   "outputs": [],
   "source": [
    "hrsPerMonth = [i*24 for i in [31,28,31,30,31,30,31,31,30,31,30,31]]"
   ]
  },
  {
   "cell_type": "code",
   "execution_count": null,
   "metadata": {
    "collapsed": false
   },
   "outputs": [],
   "source": [
    "outDrv = gdal.GetDriverByName('GTiff')\n",
    "outFNBaseTemplate = \"GPMM-IMerg-{0!s}.{1!s}.{2!s}.Data.12km.Data.tif\"\n",
    "outFNTemplate = os.path.join(outDir,outFNBaseTemplate)\n",
    "# the no data value is prob supposed to be =9999.9 but FP error actually makes it\n",
    "dodgyNDV = -9999.90039062\n",
    "properNDV = -9999\n",
    "       \n",
    "for fn in inFiles:\n",
    "    \n",
    "    gpmmFileDate = os.path.basename(fn).split('.')[5][:8]\n",
    "    yr = gpmmFileDate[0:4]\n",
    "    mth = gpmmFileDate[4:6]\n",
    "    gpmmFileVer = os.path.basename(fn).split('.')[6]                                \n",
    "    gpmmFileMonthNum = int(gpmmFileDate[4:6]) - 1\n",
    "    # just hack a check to process beyond a certain point only\n",
    "    #if int(gpmmFileDate) < 20150400:\n",
    "    #    continue\n",
    "        \n",
    "    outFNAvg = outFNTemplate.format(\"v05-MM_Per_Hr\", yr, mth )\n",
    "    outFNTot = outFNTemplate.format(\"v05-MM_Total\", yr, mth )\n",
    "    \n",
    "    if os.path.exists(outFNAvg):\n",
    "        continue\n",
    "    print fn\n",
    "    \n",
    "    # use the tables (hdf5) library to open and read the IMERG file\n",
    "    t = tables.openFile(fn)\n",
    "    precipFile = t.root.Grid.precipitation\n",
    "    # the tables library gives us a virtual view of the data in the file without actually \n",
    "    # reading it; to read it in we need to make a copy\n",
    "    precipMem = np.copy(precipFile)\n",
    "    t.close()\n",
    "    t = None\n",
    "    \n",
    "    precipMem[precipMem==dodgyNDV] = properNDV\n",
    "    \n",
    "    # the HDFs are in a weird order, columns and rows are transposed and columns are backwards\n",
    "    # relative to standard numpy/python/gdal array ordering. So we write a suitably-transposed \n",
    "    # version\n",
    "    tiffOut = SingleBandTiffFile(outFNAvg)\n",
    "    propsOut = RasterProps(gt=globalGT, proj=globalProj, ndv=properNDV,\n",
    "                          width=precipMem.shape[0], height=precipMem.shape[1],\n",
    "                          res=\"6min\", datatype=gdal.GDT_Float32)\n",
    "    tiffOut.SetProperties(propsOut)\n",
    "    tiffOut.Save(precipMem.T[::-1,::1])\n",
    "    \n",
    "    # create a totals one as the average hourly rate * n hours in the month\n",
    "    precipMem[precipMem!=dodgyNDV] *= hrsPerMonth[gpmmFileMonthNum]\n",
    "    tiffOut = SingleBandTiffFile(outFNTot)\n",
    "    tiffOut.SetProperties(propsOut)\n",
    "    tiffOut.Save(precipMem.T[::-1,::1])\n",
    "    \n",
    "    "
   ]
  },
  {
   "cell_type": "markdown",
   "metadata": {},
   "source": [
    "### TRMM data are in HDF4 format\n",
    "\n",
    "HDF4 can be read with GDAL; the dataset name it needs is a concatenation of the variablename within the HDF4 (obtain this with gdalinfo; it is in fact just \"HDF4_SDS:UNKNOWN\") with the filename and a number.\n",
    "\n",
    "These files are also provided in a non-standard pixel order"
   ]
  },
  {
   "cell_type": "code",
   "execution_count": 31,
   "metadata": {
    "collapsed": true
   },
   "outputs": [],
   "source": [
    "trmmInDir = r'C:\\Temp\\dataprep\\TRMM'\n",
    "trmmOutDir = r'C:\\Temp\\dataprep\\TRMM\\tif'\n",
    "trmmInFiles = glob.glob(os.path.join(trmmInDir,'*.HDF'))"
   ]
  },
  {
   "cell_type": "code",
   "execution_count": 32,
   "metadata": {
    "collapsed": true
   },
   "outputs": [],
   "source": [
    "trmmGT = (-180.0, 0.25, 0.0, 50, 0.0, -0.25)"
   ]
  },
  {
   "cell_type": "code",
   "execution_count": 37,
   "metadata": {
    "collapsed": false
   },
   "outputs": [],
   "source": [
    "outFNBaseTemplate = \"TRMM-3B43.{0!s}.{1!s}.Data.30km.Data.tif\"\n",
    "outFNTemplate = os.path.join(trmmOutDir,outFNBaseTemplate)\n",
    "# the no data value is prob supposed to be =9999.9 but FP error actually makes it\n",
    "dodgyNDV = -9999.90039062\n",
    "properNDV = -9999\n",
    "\n",
    "for fn in trmmInFiles:\n",
    "    dsRef = \"\".join([\"HDF4_SDS:UNKNOWN:\",\n",
    "                     fn,\n",
    "                     \":0\"])\n",
    "    \n",
    "    d = gdal.Open(dsRef)\n",
    "    b = d.GetRasterBand(1)\n",
    "    precipMem = b.ReadAsArray()\n",
    "    \n",
    "    precipMem[precipMem==dodgyNDV] = properNDV\n",
    "   \n",
    "    trmmFileDate = os.path.basename(fn).split('.')[1]     \n",
    "    yr = trmmFileDate[0:4]\n",
    "    mth = trmmFileDate[4:6]\n",
    "  \n",
    "    trmmFileVer = os.path.basename(fn).split('.')[2]                                \n",
    "    \n",
    "    outFN = outFNTemplate.format(yr, mth)\n",
    "    trmmProps = RasterProps(gt=trmmGT, proj=globalProj, ndv=properNDV,\n",
    "                           width=precipMem.shape[0], height=precipMem.shape[1],\n",
    "                           res=\"15min\", datatype=gdal.GDT_Float32 )\n",
    "    tiffOut = SingleBandTiffFile(outFN)\n",
    "    tiffOut.SetProperties(trmmProps)\n",
    "    tiffOut.Save(precipMem.T[::-1,::1])\n",
    "    \n"
   ]
  }
 ],
 "metadata": {
  "kernelspec": {
   "display_name": "Python 2",
   "language": "python",
   "name": "python2"
  },
  "language_info": {
   "codemirror_mode": {
    "name": "ipython",
    "version": 2
   },
   "file_extension": ".py",
   "mimetype": "text/x-python",
   "name": "python",
   "nbconvert_exporter": "python",
   "pygments_lexer": "ipython2",
   "version": "2.7.5"
  }
 },
 "nbformat": 4,
 "nbformat_minor": 0
}
