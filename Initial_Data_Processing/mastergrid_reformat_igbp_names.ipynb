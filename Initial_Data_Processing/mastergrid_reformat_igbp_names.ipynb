{
 "cells": [
  {
   "cell_type": "code",
   "execution_count": 1,
   "metadata": {
    "collapsed": true
   },
   "outputs": [],
   "source": [
    "import glob, os, shutil"
   ]
  },
  {
   "cell_type": "code",
   "execution_count": 2,
   "metadata": {
    "collapsed": true
   },
   "outputs": [],
   "source": [
    "outdir = r'G:\\DataPrep\\MCD12Q1_Annual_Landcover\\5km\\Annual'"
   ]
  },
  {
   "cell_type": "markdown",
   "metadata": {},
   "source": [
    "Rename all the class fraction files to the 6-token mastergrid format and move them to a single (Annual) folder. Use the same code to do the same thing for like-adjacency too, just change \"Proportional\" and \"Percentage\" appropriately"
   ]
  },
  {
   "cell_type": "code",
   "execution_count": 23,
   "metadata": {
    "collapsed": false
   },
   "outputs": [],
   "source": [
    "files = glob.glob(r'G:\\DataPrep\\MCD12Q1_Annual_Landcover\\5km\\Proportional\\*.*')\n",
    "for f in files:\n",
    "    parts = os.path.basename(f).split('.')\n",
    "    yr = parts[0]\n",
    "    name = \"IGBP_Landcover_\" + parts[1]\n",
    "    res = parts[2]\n",
    "    stat = parts[3].replace(\"Percentage\", \"percentage\")\n",
    "    remainder = parts[4:]\n",
    "    bits = [name, yr, 'Annual.Data',res,stat]\n",
    "    bits.extend(remainder)\n",
    "    newname = \".\".join(bits)\n",
    "    outname = os.path.join(outdir, newname)\n",
    "    #print outname\n",
    "    os.rename(f, outname)"
   ]
  },
  {
   "cell_type": "markdown",
   "metadata": {},
   "source": [
    "Rename all the majority-class files to the 6-token mastergrid format and move them to the same Annual folder"
   ]
  },
  {
   "cell_type": "code",
   "execution_count": 21,
   "metadata": {
    "collapsed": false
   },
   "outputs": [],
   "source": [
    "files = glob.glob(r'G:\\DataPrep\\MCD12Q1_Annual_Landcover\\5km\\Majority\\*.*')\n",
    "for f in files:\n",
    "    parts = os.path.basename(f).split('.')\n",
    "    yr = parts[0]\n",
    "    name = \"IGBP_Landcover\"\n",
    "    res = parts[2]\n",
    "    stat = parts[3].replace(\"Majority\", \"majority-class\")\n",
    "    remainder = parts[4:]\n",
    "    bits = [name, yr, 'Annual.Data',res,stat]\n",
    "    bits.extend(remainder)\n",
    "    newname = \".\".join(bits)\n",
    "    outname = os.path.join(outdir, newname)\n",
    "    os.rename(f, outname)\n",
    "    #print outname"
   ]
  },
  {
   "cell_type": "markdown",
   "metadata": {},
   "source": [
    "Move the files back out of the single Annual folder into subfolder structures for each \"class\", as under the new naming convention the files in a folder should all be the same variable, determined by the first filename token."
   ]
  },
  {
   "cell_type": "code",
   "execution_count": null,
   "metadata": {
    "collapsed": false
   },
   "outputs": [],
   "source": [
    "files = glob.glob(r'G:\\DataPrep\\MCD12Q1_Annual_Landcover\\5km\\Annual\\*.*')\n",
    "for f in files:\n",
    "    parts = os.path.basename(f).split('.')\n",
    "    variableparts = parts[0].split('_')\n",
    "    if len(variableparts) > 2:\n",
    "        foldername = \"_\".join(variableparts[0:3])\n",
    "    else:\n",
    "        foldername = \"IGBP_Landcover\"\n",
    "    outfolder = os.path.join(\n",
    "        r'G:\\DataPrep\\MCD12Q1_Annual_Landcover', \n",
    "        foldername,\n",
    "        r'5km\\Annual')\n",
    "    print outfolder\n",
    "    if not os.path.isdir(outfolder):\n",
    "        os.makedirs(outfolder)\n",
    "    os.rename(f, os.path.join(outfolder, os.path.basename(f)))"
   ]
  },
  {
   "cell_type": "markdown",
   "metadata": {},
   "source": [
    "Rename the raw (500m) landcover files"
   ]
  },
  {
   "cell_type": "code",
   "execution_count": null,
   "metadata": {
    "collapsed": false
   },
   "outputs": [],
   "source": [
    "files = glob.glob(r'G:\\DataPrep\\MCD12Q1_Annual_Landcover\\500m_Raw\\*.*')\n",
    "outfolder = r'G:\\DataPrep\\MCD12Q1_Annual_Landcover\\IGBP_Landcover\\500m\\Annual'\n",
    "for f in files:\n",
    "    fn = os.path.basename(f)\n",
    "    yr = fn[1:5]\n",
    "    exts = \".\".join(fn.split('.')[1:])\n",
    "    outname = \"IGBP_Landcover.\" + yr + \".Annual.Data.500m.Data.\" + exts\n",
    "    outpath = os.path.join(outfolder, outname)\n",
    "    if not os.path.isdir(outfolder):\n",
    "        os.makedirs(outfolder)\n",
    "    print outpath\n",
    "    os.rename(f, outpath)"
   ]
  }
 ],
 "metadata": {
  "kernelspec": {
   "display_name": "Python 2",
   "language": "python",
   "name": "python2"
  },
  "language_info": {
   "codemirror_mode": {
    "name": "ipython",
    "version": 2
   },
   "file_extension": ".py",
   "mimetype": "text/x-python",
   "name": "python",
   "nbconvert_exporter": "python",
   "pygments_lexer": "ipython2",
   "version": "2.7.5"
  }
 },
 "nbformat": 4,
 "nbformat_minor": 2
}
