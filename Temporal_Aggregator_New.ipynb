{
 "cells": [
  {
   "cell_type": "code",
   "execution_count": 15,
   "metadata": {
    "collapsed": true
   },
   "outputs": [],
   "source": [
    "from General_Raster_Funcs.RasterTiling import getTiles\n",
    "from General_Raster_Funcs.TiffManagement import *"
   ]
  },
  {
   "cell_type": "code",
   "execution_count": 16,
   "metadata": {
    "collapsed": true
   },
   "outputs": [],
   "source": [
    "from raster_aggregation.temporal_aggregation import TemporalAggregator_Dynamic"
   ]
  },
  {
   "cell_type": "code",
   "execution_count": 17,
   "metadata": {
    "collapsed": true
   },
   "outputs": [],
   "source": [
    "import glob\n",
    "import numpy as np\n",
    "from osgeo import gdal\n",
    "import os\n",
    "from collections import defaultdict"
   ]
  },
  {
   "cell_type": "code",
   "execution_count": 18,
   "metadata": {
    "collapsed": true
   },
   "outputs": [],
   "source": [
    "inFilePattern = r'C:\\Temp\\tsmodel\\1km\\local\\martens2_1k_global_fixhr\\out_combined\\*.tif'\n",
    "what = \"TSI-Martens2-Pf\"\n",
    "res = \"1km\""
   ]
  },
  {
   "cell_type": "code",
   "execution_count": 29,
   "metadata": {
    "collapsed": true
   },
   "outputs": [],
   "source": [
    "outDir = r\"C:\\Temp\\tsmodel\\1km\\local\\martens2_1k_global_fixhr\\annual_combined\"\n",
    "tileDir = r\"C:\\Temp\\tsmodel\\1km\\local\\martens2_1k_global_fixhr\\annual_combined\\tiles\""
   ]
  },
  {
   "cell_type": "code",
   "execution_count": 21,
   "metadata": {
    "collapsed": true
   },
   "outputs": [],
   "source": [
    "# Specify the height of each tile - depends on available memory.\n",
    "# The algorithm will work in slices that are this height and full-width,\n",
    "# so the algorithm needs around idealSlice * fullWidth * 80 bytes of RAM\n",
    "# Thus with global 1k images (43200px wide), a slice of 7168 (high) needs \n",
    "# around 25Gb RAM. Choose based on your PC's RAM.\n",
    "\n",
    "# The rasters have tilesize 256 (or a multiple thereof) so pick a size\n",
    "# that is a multiple of this where possible for most efficient access\n",
    "# (not a big deal, though)\n",
    "idealSlice = 7200\n",
    "idealSlice = 8700\n",
    "# alter to suit the images\n",
    "fullWidth = 43200\n",
    "fullHeight = 17400\n",
    "#fullWidth = 8640\n",
    "#fullHeight = 3480\n",
    "\n",
    "# alter output no data value to whatever you want: not required to be the same as the inputs\n",
    "outNdv = -9999\n"
   ]
  },
  {
   "cell_type": "code",
   "execution_count": 22,
   "metadata": {
    "collapsed": true
   },
   "outputs": [],
   "source": [
    "allfiles = glob.glob(inFilePattern)"
   ]
  },
  {
   "cell_type": "code",
   "execution_count": 23,
   "metadata": {
    "collapsed": false
   },
   "outputs": [],
   "source": [
    "allFilesDict = defaultdict(list)\n",
    "for fn in allfiles:\n",
    "    parts = os.path.basename(fn).split('.')\n",
    "    yr = int(parts[1])\n",
    "    allFilesDict[str(yr)].append(fn)"
   ]
  },
  {
   "cell_type": "code",
   "execution_count": 24,
   "metadata": {
    "collapsed": true
   },
   "outputs": [],
   "source": [
    "stats = [\"mean\", \"min\", \"max\", \"sd\"]"
   ]
  },
  {
   "cell_type": "code",
   "execution_count": 25,
   "metadata": {
    "collapsed": true
   },
   "outputs": [],
   "source": [
    "slices = sorted(list(set([s[1] for s in getTiles(fullWidth, fullHeight, idealSlice)])))"
   ]
  },
  {
   "cell_type": "code",
   "execution_count": 27,
   "metadata": {
    "collapsed": false
   },
   "outputs": [
    {
     "data": {
      "text/plain": [
       "[(0, 8700), (8700, 17400)]"
      ]
     },
     "execution_count": 27,
     "metadata": {},
     "output_type": "execute_result"
    }
   ],
   "source": [
    "slices"
   ]
  },
  {
   "cell_type": "code",
   "execution_count": 28,
   "metadata": {
    "collapsed": false
   },
   "outputs": [],
   "source": [
    "def fnGetter(what, when, stat, where):\n",
    "    if where == -1:\n",
    "        return \".\".join([str(what), str(when), str(stat).title(), str(res)]) + \".tif\"\n",
    "    else:\n",
    "        return \".\".join([str(what), str(when), str(stat).title(), str(res), str(where)]) + \".tif\""
   ]
  },
  {
   "cell_type": "code",
   "execution_count": 13,
   "metadata": {
    "collapsed": false
   },
   "outputs": [],
   "source": [
    "def sliceRunner(top, bottom, width, outputNDV, filesDict, stats):\n",
    "    assert (isinstance(bottom,int) and isinstance(top,int)\n",
    "        and bottom > top)\n",
    "    sliceHeight = bottom - top\n",
    "    statsCalculator = TemporalAggregator_Dynamic(sliceHeight, width, outputNDV, stats)\n",
    "    sliceGT = None\n",
    "    sliceProj = None\n",
    "    print str((top, bottom))\n",
    "    isFullFile = False\n",
    "    for timeKey, timeFiles in filesDict.iteritems():\n",
    "        print timeKey\n",
    "        for timeFile in timeFiles:\n",
    "            data, thisGT, thisProj, thisNdv = ReadAOI_PixelLims(timeFile, None, (top, bottom))\n",
    "            if sliceGT is None:\n",
    "                # first time\n",
    "                sliceGT = thisGT\n",
    "                sliceProj = thisProj\n",
    "                props = GetRasterProperties(timeFile)\n",
    "                if sliceHeight == props[\"height\"]:\n",
    "                    isFullFile = True\n",
    "            else:\n",
    "                # fail in a lazy unhelpful way if the files don't all have the same geotransform and projection\n",
    "                assert sliceGT == thisGT\n",
    "                assert sliceProj == thisProj\n",
    "            statsCalculator.addFile(data, thisNdv)\n",
    "        # at end of this period get the intermediate results\n",
    "        periodResults = statsCalculator.emitStep()\n",
    "        if isFullFile:\n",
    "            saveFolder = outDir\n",
    "            where = -1\n",
    "        else:\n",
    "            saveFolder = tileDir\n",
    "            where = top\n",
    "        for stat in stats:\n",
    "            SaveLZWTiff(periodResults[stat], outputNDV, sliceGT, sliceProj, saveFolder,\n",
    "                       fnGetter(what, str(timeKey), stat, where))\n",
    "    overallResults = statsCalculator.emitTotal()\n",
    "    for stat in stats:\n",
    "        if isFullFile:\n",
    "            saveFolder = outDir\n",
    "            where = -1\n",
    "        else:\n",
    "            saveFolder = tileDir\n",
    "            where = top\n",
    "        for stat in stats:\n",
    "            SaveLZWTiff(periodResults[stat], outputNDV, sliceGT, sliceProj, saveFolder,\n",
    "                       fnGetter(what, \"Overall\", stat, where))\n",
    "            \n",
    "            "
   ]
  },
  {
   "cell_type": "code",
   "execution_count": null,
   "metadata": {
    "collapsed": false
   },
   "outputs": [
    {
     "name": "stderr",
     "output_type": "stream",
     "text": [
      "C:\\OSGEO4~1\\apps\\Python27\\lib\\site-packages\\ipykernel\\__main__.py:5: DeprecationWarning: Numeric-style type codes are deprecated and will result in an error in the future.\n"
     ]
    },
    {
     "name": "stdout",
     "output_type": "stream",
     "text": [
      "(0, 8700)\n",
      "2016\n"
     ]
    },
    {
     "name": "stderr",
     "output_type": "stream",
     "text": [
      "C:\\OSGEO4~1\\apps\\Python27\\lib\\site-packages\\ipykernel\\__main__.py:25: DeprecationWarning: Numeric-style type codes are deprecated and will result in an error in the future.\n"
     ]
    }
   ],
   "source": [
    "for t, b in slices:\n",
    "    sliceRunner(t, b, fullWidth, outNdv, allFilesDict, stats)"
   ]
  },
  {
   "cell_type": "code",
   "execution_count": 24,
   "metadata": {
    "collapsed": false
   },
   "outputs": [
    {
     "data": {
      "text/plain": [
       "False"
      ]
     },
     "execution_count": 24,
     "metadata": {},
     "output_type": "execute_result"
    }
   ],
   "source": [
    "73 > np.inf"
   ]
  },
  {
   "cell_type": "code",
   "execution_count": 15,
   "metadata": {
    "collapsed": false
   },
   "outputs": [
    {
     "data": {
      "text/plain": [
       "True"
      ]
     },
     "execution_count": 15,
     "metadata": {},
     "output_type": "execute_result"
    }
   ],
   "source": [
    "\"min\" in stats"
   ]
  },
  {
   "cell_type": "code",
   "execution_count": null,
   "metadata": {
    "collapsed": true
   },
   "outputs": [],
   "source": []
  }
 ],
 "metadata": {
  "kernelspec": {
   "display_name": "Python 2",
   "language": "python",
   "name": "python2"
  },
  "language_info": {
   "codemirror_mode": {
    "name": "ipython",
    "version": 2
   },
   "file_extension": ".py",
   "mimetype": "text/x-python",
   "name": "python",
   "nbconvert_exporter": "python",
   "pygments_lexer": "ipython2",
   "version": "2.7.5"
  }
 },
 "nbformat": 4,
 "nbformat_minor": 2
}
