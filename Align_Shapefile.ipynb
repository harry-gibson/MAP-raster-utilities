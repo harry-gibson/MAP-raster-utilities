{
 "cells": [
  {
   "cell_type": "markdown",
   "metadata": {},
   "source": [
    "## Some code to align a shapefile\n",
    "\n",
    "Shift all features in the shapefile such that the top-left point of their bounding box aligns to the mastergrid or something else.\n",
    "\n",
    "Might need to do this if we've got a bounding box or series of them that someone wants to use to clip mastergrid aligned rasters with predictable clean pixel match-ups."
   ]
  },
  {
   "cell_type": "code",
   "execution_count": 6,
   "metadata": {
    "collapsed": true
   },
   "outputs": [],
   "source": [
    "from raster_utilities.utils.geotransform_calcs import SnapAndAlignGeoTransform, SnapTypes"
   ]
  },
  {
   "cell_type": "code",
   "execution_count": 1,
   "metadata": {
    "collapsed": false
   },
   "outputs": [
    {
     "name": "stdout",
     "output_type": "stream",
     "text": [
      "INFO: Open of `F:\\Shared drives\\ML PR modelling\\Data\\PR_Locations\\PR_Points\\PR_10k_Boxes_Ungrouped.shp'\n",
      "      using driver `ESRI Shapefile' successful.\n",
      "\n",
      "Layer name: PR_10k_Boxes_Ungrouped\n",
      "Metadata:\n",
      "  DBF_DATE_LAST_UPDATE=2019-04-04\n",
      "Geometry: Polygon\n",
      "Feature Count: 43877\n",
      "Extent: (-3504692.107080, -3027616.184459) - (3950520.365058, 3898075.855706)\n",
      "Layer SRS WKT:\n",
      "PROJCS[\"Africa_Sinusoidal\",\n",
      "    GEOGCS[\"GCS_WGS_1984\",\n",
      "        DATUM[\"WGS_1984\",\n",
      "            SPHEROID[\"WGS_84\",6378137.0,298.257223563]],\n",
      "        PRIMEM[\"Greenwich\",0.0],\n",
      "        UNIT[\"Degree\",0.0174532925199433]],\n",
      "    PROJECTION[\"Sinusoidal\"],\n",
      "    PARAMETER[\"False_Easting\",0.0],\n",
      "    PARAMETER[\"False_Northing\",0.0],\n",
      "    PARAMETER[\"longitude_of_center\",15.0],\n",
      "    UNIT[\"Meter\",1.0],\n",
      "    AUTHORITY[\"Esri\",\"102011\"]]\n",
      "ident: String (16.0)\n",
      "Npositive: Integer64 (10.0)\n",
      "Nexamined: Integer64 (10.0)\n",
      "PfPr: Real (31.15)\n",
      "year: Integer (6.0)\n",
      "latitude: Real (31.15)\n",
      "longitude: Real (31.15)\n"
     ]
    }
   ],
   "source": [
    "# get information about the shapefile \n",
    "!ogrinfo -al -so \"F:\\Shared drives\\ML PR modelling\\Data\\PR_Locations\\PR_Points\\PR_10k_Boxes_Ungrouped.shp\""
   ]
  },
  {
   "cell_type": "code",
   "execution_count": 19,
   "metadata": {
    "collapsed": true
   },
   "outputs": [],
   "source": [
    "# get the bounding box of the features \n",
    "# https://pcjericks.github.io/py-gdalogr-cookbook/vector_layers.html\n",
    "inPath = \"F:\\Shared drives\\ML PR modelling\\Data\\PR_Locations\\PR_Points\\PR_10k_Boxes_Ungrouped.shp\"\n",
    "outPath = inPath.replace(\"Ungrouped\", \"Ungrouped_Aligned30m\")\n",
    "from osgeo import ogr\n",
    "d = ogr.Open(inPath)\n",
    "l = d.GetLayerByIndex(0)\n",
    "x_min, x_max, y_min, y_max = l.GetExtent()"
   ]
  },
  {
   "cell_type": "code",
   "execution_count": 20,
   "metadata": {
    "collapsed": false
   },
   "outputs": [
    {
     "data": {
      "text/plain": [
       "'PR_10k_Boxes_Ungrouped'"
      ]
     },
     "execution_count": 20,
     "metadata": {},
     "output_type": "execute_result"
    }
   ],
   "source": []
  },
  {
   "cell_type": "code",
   "execution_count": 3,
   "metadata": {
    "collapsed": true
   },
   "outputs": [],
   "source": [
    "# make a raster geotransform-like object for this extent, given a resolution to align to\n",
    "# here we have a shapefile in projected meters, not a lat/lon system, so say res of 30m\n",
    "alignToMGResolution = 30.0\n",
    "fakeGT = (x_min, alignToMGResolution, 0.0, y_max, 0.0, -alignToMGResolution)"
   ]
  },
  {
   "cell_type": "code",
   "execution_count": 7,
   "metadata": {
    "collapsed": false
   },
   "outputs": [
    {
     "name": "stdout",
     "output_type": "stream",
     "text": [
      "INFO    : | Cellsize already ok, not altering\n",
      "INFO    : | Snapped origin point from (-3504692.107079846, 3898075.8557064408) (x,y) to (-3504690.0, 3898080.0) (x,y)\n"
     ]
    }
   ],
   "source": [
    "# use the MG snapping code to re-position it\n",
    "snappedGT = SnapAndAlignGeoTransform(inGT=fakeGT, fixResolution=True, snapType = SnapTypes.NEAREST)"
   ]
  },
  {
   "cell_type": "code",
   "execution_count": 9,
   "metadata": {
    "collapsed": false
   },
   "outputs": [
    {
     "data": {
      "text/plain": [
       "(2.10707984585315, 4.1442935592494905)"
      ]
     },
     "execution_count": 9,
     "metadata": {},
     "output_type": "execute_result"
    }
   ],
   "source": [
    "# and see what translation this corresponds to\n",
    "translation_X = snappedGT[0] - fakeGT[0]\n",
    "translation_Y = snappedGT[3] - fakeGT[3]\n",
    "(translation_X, translation_Y)"
   ]
  },
  {
   "cell_type": "markdown",
   "metadata": {},
   "source": [
    "Now to actually translate the features we use a bit of a hack, taking advantage of the fact that ogr2ogr lets us run spatial SQL against a shapefile. Idea from:\n",
    "https://gis.stackexchange.com/a/73162/10742"
   ]
  },
  {
   "cell_type": "code",
   "execution_count": 21,
   "metadata": {
    "collapsed": false
   },
   "outputs": [],
   "source": [
    "ogrCommand = 'ogr2ogr \"{}\" \"{}\" -dialect sqlite -sql \"SELECT ShiftCoords(geometry,{},{}) FROM {}\"'.format(\n",
    "    r\"C:\\temp\\test.shp\", inPath, translation_X, translation_Y, l.GetName())"
   ]
  },
  {
   "cell_type": "code",
   "execution_count": 22,
   "metadata": {
    "collapsed": false
   },
   "outputs": [],
   "source": [
    "!{ogrCommand}"
   ]
  },
  {
   "cell_type": "markdown",
   "metadata": {},
   "source": [
    "The extent of the shapefile should now align with a mastergrid of the specified resolution\n",
    "\n",
    "Here's a more brute force way of moving the features (inplace this time)"
   ]
  },
  {
   "cell_type": "code",
   "execution_count": null,
   "metadata": {
    "collapsed": false
   },
   "outputs": [],
   "source": [
    "driver = ogr.GetDriverByName(\"ESRI Shapefile\")\n",
    "dataSource = driver.Open(inPath,1)\n",
    "layer = dataSource.GetLayer(0)\n",
    "for feature in layer:\n",
    "    get_poly = feature.GetGeometryRef()\n",
    "    get_ring = get_poly.GetGeometryRef(0)\n",
    "    points   = get_ring.GetPointCount()\n",
    "    set_ring = ogr.Geometry(ogr.wkbLinearRing)\n",
    "    for p in xrange(points):\n",
    "        x,y,z = get_ring.GetPoint(p)\n",
    "        x += dx\n",
    "        y += dy\n",
    "        z += dz\n",
    "        set_ring.AddPoint(x,y)\n",
    "        print x,y,z\n",
    "set_poly = ogr.Geometry(ogr.wkbPolygon)\n",
    "set_poly.AddGeometry(set_ring)\n",
    "\n",
    "feature.SetGeometry(set_poly)\n",
    "layer.SetFeature(feature)\n",
    "\n",
    "del layer\n",
    "del feature\n",
    "del dataSource   "
   ]
  },
  {
   "cell_type": "code",
   "execution_count": null,
   "metadata": {
    "collapsed": true
   },
   "outputs": [],
   "source": []
  }
 ],
 "metadata": {
  "kernelspec": {
   "display_name": "Python 2",
   "language": "python",
   "name": "python2"
  },
  "language_info": {
   "codemirror_mode": {
    "name": "ipython",
    "version": 2
   },
   "file_extension": ".py",
   "mimetype": "text/x-python",
   "name": "python",
   "nbconvert_exporter": "python",
   "pygments_lexer": "ipython2",
   "version": "2.7.14"
  }
 },
 "nbformat": 4,
 "nbformat_minor": 2
}
